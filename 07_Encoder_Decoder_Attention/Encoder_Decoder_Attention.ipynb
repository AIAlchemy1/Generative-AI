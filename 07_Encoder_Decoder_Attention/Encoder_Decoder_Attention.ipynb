{
  "nbformat": 4,
  "nbformat_minor": 0,
  "metadata": {
    "colab": {
      "provenance": [],
      "machine_shape": "hm",
      "gpuType": "A100",
      "include_colab_link": true
    },
    "kernelspec": {
      "display_name": "Python 3",
      "name": "python3"
    },
    "language_info": {
      "codemirror_mode": {
        "name": "ipython",
        "version": 3
      },
      "file_extension": ".py",
      "mimetype": "text/x-python",
      "name": "python",
      "nbconvert_exporter": "python",
      "pygments_lexer": "ipython3",
      "version": "3.5.2"
    },
    "accelerator": "GPU"
  },
  "cells": [
    {
      "cell_type": "markdown",
      "metadata": {
        "id": "view-in-github",
        "colab_type": "text"
      },
      "source": [
        "<a href=\"https://colab.research.google.com/github/AIAlchemy1/Generative-AI/blob/main/07_Encoder_Decoder_Attention/Encoder_Decoder_Attention.ipynb\" target=\"_parent\"><img src=\"https://colab.research.google.com/assets/colab-badge.svg\" alt=\"Open In Colab\"/></a>"
      ]
    },
    {
      "cell_type": "markdown",
      "metadata": {
        "id": "eBxh6dgyUKkm"
      },
      "source": [
        "### Sequence-to-Sequence Models (Encoder Decoder Attention)"
      ]
    },
    {
      "cell_type": "markdown",
      "metadata": {
        "id": "mqDE6AiEUkRm"
      },
      "source": [
        "In this project, I will take a look at sequence-to-sequence model based on encoder-decoder architecture.\n",
        "\n",
        "Encoder-decoder models are widely used for machine translation. I will train encoder-decoder model for a similar task to transform various formats of dates into unified format."
      ]
    },
    {
      "cell_type": "markdown",
      "source": [
        "![](https://encrypted-tbn0.gstatic.com/images?q=tbn:ANd9GcSAmbScvsx2eaYSIy5r9xZW0ywNzKLILOV76Q&usqp=CAU)"
      ],
      "metadata": {
        "id": "KS_js2ld16DW"
      }
    },
    {
      "cell_type": "code",
      "metadata": {
        "id": "prTwLDAcVqhK"
      },
      "source": [
        "%matplotlib inline"
      ],
      "execution_count": 1,
      "outputs": []
    },
    {
      "cell_type": "code",
      "metadata": {
        "id": "akKnQhiMVqhV"
      },
      "source": [
        "from __future__ import unicode_literals, print_function, division\n",
        "from io import open\n",
        "import unicodedata\n",
        "import string\n",
        "import re\n",
        "import random\n",
        "\n",
        "import torch\n",
        "import torch.nn as nn\n",
        "from torch import optim\n",
        "import torch.nn.functional as F"
      ],
      "execution_count": 2,
      "outputs": []
    },
    {
      "cell_type": "code",
      "metadata": {
        "id": "UU6gPCeaVqhX",
        "outputId": "b94bd7d8-bcf8-4928-cecd-114320d0f0bc",
        "colab": {
          "base_uri": "https://localhost:8080/"
        }
      },
      "source": [
        "device = torch.device(\"cuda\" if torch.cuda.is_available() else \"cpu\")\n",
        "print(device)"
      ],
      "execution_count": 3,
      "outputs": [
        {
          "output_type": "stream",
          "name": "stdout",
          "text": [
            "cuda\n"
          ]
        }
      ]
    },
    {
      "cell_type": "markdown",
      "metadata": {
        "id": "WVQcqR3gVqhZ"
      },
      "source": [
        "### Dataset\n"
      ]
    },
    {
      "cell_type": "markdown",
      "source": [
        "First let's generate a dataset of dates with format templates. Dataset item would contain a pair of dates: a date in one of the input formats and a date in target format. For example:\n",
        "```\n",
        "  18.11.2023   >   18-11-2023\n",
        "\n",
        "  Aug 7th 2022   >   07-08-2022\n",
        "```\n",
        "\n",
        "\n"
      ],
      "metadata": {
        "id": "Xemqe3f4LC3S"
      }
    },
    {
      "cell_type": "code",
      "metadata": {
        "id": "-wcfDHHhTj_n"
      },
      "source": [
        "import datetime\n",
        "from random import randrange\n",
        "from datetime import timedelta"
      ],
      "execution_count": 4,
      "outputs": []
    },
    {
      "cell_type": "code",
      "source": [
        "random.seed(42)\n",
        "torch.manual_seed(42)"
      ],
      "metadata": {
        "colab": {
          "base_uri": "https://localhost:8080/"
        },
        "id": "xv9vmm31aC2W",
        "outputId": "4292534e-df55-4955-9c30-09eaa875db3b"
      },
      "execution_count": 5,
      "outputs": [
        {
          "output_type": "execute_result",
          "data": {
            "text/plain": [
              "<torch._C.Generator at 0x7825f177e270>"
            ]
          },
          "metadata": {},
          "execution_count": 5
        }
      ]
    },
    {
      "cell_type": "code",
      "metadata": {
        "id": "-NlFW6Q8Vqha"
      },
      "source": [
        "def get_random_date(start, end):\n",
        "    delta = end - start\n",
        "    int_delta = (delta.days * 24 * 60 * 60) + delta.seconds\n",
        "    random_second = randrange(int_delta)\n",
        "    return (start + timedelta(seconds=random_second)).replace(hour=0, minute = 0, second=0)\n",
        "\n",
        "\n",
        "FORMATS = ['%d %b %Y', '%d %B %Y', '%B %dth, %Y', '%b %d, %Y',\n",
        "           '%d/%m/%Y', '%d/%m/%y', '%d-%b-%y', '%d.%m.%Y']\n",
        "\n",
        "TARGET_FORMAT = '%d-%m-%Y'\n",
        "\n",
        "def get_dataset(fst_dt, snd_dt, fmt_dt, size=10000):\n",
        "    fst_d = datetime.datetime.strptime(fst_dt, fmt_dt)\n",
        "    snd_d = datetime.datetime.strptime(snd_dt, fmt_dt)\n",
        "    dataset = []\n",
        "    for i in range(size):\n",
        "        date_format = random.choice(FORMATS)\n",
        "        rand_dt = get_random_date(fst_d, snd_d)\n",
        "        t = (datetime.datetime.strftime(rand_dt, date_format),\n",
        "            datetime.datetime.strftime(rand_dt, TARGET_FORMAT))\n",
        "        dataset.append(t)\n",
        "    return dataset\n",
        "\n",
        "dataset = get_dataset('1/1/2022', '1/1/2024', '%m/%d/%Y')"
      ],
      "execution_count": 6,
      "outputs": []
    },
    {
      "cell_type": "code",
      "metadata": {
        "id": "XvcBDa-7Vqhc",
        "outputId": "961b3534-6d9c-46e9-fb50-8c18167e4b81",
        "colab": {
          "base_uri": "https://localhost:8080/"
        }
      },
      "source": [
        "dataset[:10]"
      ],
      "execution_count": 7,
      "outputs": [
        {
          "output_type": "execute_result",
          "data": {
            "text/plain": [
              "[('20 January 2022', '20-01-2022'),\n",
              " ('10/07/2022', '10-07-2022'),\n",
              " ('Apr 19, 2022', '19-04-2022'),\n",
              " ('10 June 2023', '10-06-2023'),\n",
              " ('04 April 2023', '04-04-2023'),\n",
              " ('25-Jan-22', '25-01-2022'),\n",
              " ('14 Mar 2022', '14-03-2022'),\n",
              " ('Jun 30, 2022', '30-06-2022'),\n",
              " ('12 Mar 2023', '12-03-2023'),\n",
              " ('Jul 11, 2023', '11-07-2023')]"
            ]
          },
          "metadata": {},
          "execution_count": 7
        }
      ]
    },
    {
      "cell_type": "markdown",
      "metadata": {
        "id": "1WkshY7UVqhe"
      },
      "source": [
        "I will define additional class to build word-to-index and index-to-word mappings for the dataset.\n",
        "\n"
      ]
    },
    {
      "cell_type": "code",
      "metadata": {
        "id": "NWC8oCvPVqhg"
      },
      "source": [
        "SOS_token = 0\n",
        "EOS_token = 1\n",
        "\n",
        "# word corresponds to character\n",
        "class Lang:\n",
        "    def __init__(self, name):\n",
        "        self.name = name\n",
        "        self.word2index = {}\n",
        "        self.index2word = {0: \"SOS\", 1: \"EOS\"}\n",
        "        self.n_words = 2  # SOS and EOS\n",
        "\n",
        "    def addSentence(self, sentence):\n",
        "        for word in list(sentence):\n",
        "            self.addWord(word)\n",
        "\n",
        "    def addWord(self, word):\n",
        "        if word not in self.word2index:\n",
        "            self.word2index[word] = self.n_words\n",
        "            self.index2word[self.n_words] = word\n",
        "            self.n_words += 1"
      ],
      "execution_count": 8,
      "outputs": []
    },
    {
      "cell_type": "code",
      "metadata": {
        "id": "FeLIOTDiVqhi",
        "outputId": "07010a3f-fdd8-4e88-b5d2-2deadedff233",
        "colab": {
          "base_uri": "https://localhost:8080/"
        }
      },
      "source": [
        "def readLangs(lang1, lang2):\n",
        "    input_lang = Lang(lang1)\n",
        "    output_lang = Lang(lang2)\n",
        "    return input_lang, output_lang\n",
        "\n",
        "\n",
        "def prepareData(lang1, lang2, start_date, end_date, dataset_size=10000):\n",
        "    print(start_date, end_date)\n",
        "    pairs = get_dataset(start_date, end_date, '%m/%d/%Y', dataset_size)\n",
        "    input_lang, output_lang = readLangs(lang1, lang2)\n",
        "    for pair in pairs:\n",
        "        input_lang.addSentence(pair[0])\n",
        "        output_lang.addSentence(pair[1])\n",
        "    print(input_lang.name, input_lang.n_words)\n",
        "    print(output_lang.name, output_lang.n_words)\n",
        "    return input_lang, output_lang, pairs\n",
        "\n",
        "\n",
        "input_lang, output_lang, pairs = prepareData('human', 'iso', '1/1/2022', '1/1/2024')\n",
        "print(random.choice(pairs))"
      ],
      "execution_count": 9,
      "outputs": [
        {
          "output_type": "stream",
          "name": "stdout",
          "text": [
            "1/1/2022 1/1/2024\n",
            "human 43\n",
            "iso 13\n",
            "('Mar 13, 2023', '13-03-2023')\n"
          ]
        }
      ]
    },
    {
      "cell_type": "code",
      "metadata": {
        "id": "TGvNJBurVqhf"
      },
      "source": [
        "# define max_length as (maximum sequence length + 1 special char for EOS)\n",
        "MAX_LENGTH = max(map(lambda x: len(x[0]), dataset)) + 1"
      ],
      "execution_count": 10,
      "outputs": []
    },
    {
      "cell_type": "code",
      "metadata": {
        "id": "3P_oNCxP98bB",
        "outputId": "6e846f55-bee3-4693-9b3d-c26dbdcb3e59",
        "colab": {
          "base_uri": "https://localhost:8080/"
        }
      },
      "source": [
        "print(input_lang.word2index)"
      ],
      "execution_count": 11,
      "outputs": [
        {
          "output_type": "stream",
          "name": "stdout",
          "text": [
            "{'O': 2, 'c': 3, 't': 4, 'o': 5, 'b': 6, 'e': 7, 'r': 8, ' ': 9, '0': 10, '2': 11, 'h': 12, ',': 13, '5': 14, '/': 15, 'M': 16, 'a': 17, 'y': 18, '8': 19, '3': 20, 'J': 21, 'u': 22, 'n': 23, '1': 24, '6': 25, '9': 26, '7': 27, '-': 28, 'N': 29, 'v': 30, '4': 31, 'S': 32, 'p': 33, 'm': 34, '.': 35, 'D': 36, 'l': 37, 'A': 38, 'g': 39, 's': 40, 'i': 41, 'F': 42}\n"
          ]
        }
      ]
    },
    {
      "cell_type": "code",
      "metadata": {
        "id": "-Zsic_08-H8L",
        "outputId": "e3d5b589-d961-49f8-d59d-db064b4cae5f",
        "colab": {
          "base_uri": "https://localhost:8080/"
        }
      },
      "source": [
        "print(output_lang.word2index)"
      ],
      "execution_count": 12,
      "outputs": [
        {
          "output_type": "stream",
          "name": "stdout",
          "text": [
            "{'0': 2, '2': 3, '-': 4, '1': 5, '5': 6, '8': 7, '3': 8, '6': 9, '9': 10, '7': 11, '4': 12}\n"
          ]
        }
      ]
    },
    {
      "cell_type": "markdown",
      "metadata": {
        "id": "lBPwvB_dVqhk"
      },
      "source": [
        "### Encoder\n",
        "The model will consist of RNN encoder and RNN decoder blocks:\n",
        "- Encoder reads a sentence and outputs encoder representation,\n",
        "- Decoder takes encoder's hidden state (also called *context*) as initial hidden vector and generates output sentence.\n",
        "\n",
        "In the end of the input sentence I add `<EOS>` token, encoder hidden state after this token will be passed to decoder.\n",
        "\n",
        "Decoder takes `<SOS>` token as an input and encoder final hidden state as initial hidden state."
      ]
    },
    {
      "cell_type": "markdown",
      "metadata": {
        "id": "Z1Ix9meOitZb"
      },
      "source": [
        "Here is an example of the encoder-decoder architecture applied for machine translation:\n",
        "![seq2seq.png](data:image/png;base64,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)"
      ]
    },
    {
      "cell_type": "markdown",
      "source": [
        "Encoder contains two layers:\n",
        "- Embedding layer transforms ids of input tokens into vector representations,\n",
        "- GRU layer returns encodings of input tokens that would be passed to decoder.  "
      ],
      "metadata": {
        "id": "0VqtODNpOE2U"
      }
    },
    {
      "cell_type": "code",
      "metadata": {
        "id": "f6rfDylHVqhl"
      },
      "source": [
        "class EncoderRNN(nn.Module):\n",
        "    def __init__(self, input_size, hidden_size):\n",
        "        super(EncoderRNN, self).__init__()\n",
        "        self.hidden_size = hidden_size\n",
        "\n",
        "        self.embedding = nn.Embedding(input_size, hidden_size)\n",
        "        self.gru = nn.GRU(hidden_size, hidden_size)\n",
        "\n",
        "    def forward(self, input, hidden):\n",
        "        embedded = self.embedding(input).view(1, 1, -1)\n",
        "        output = embedded\n",
        "        output, hidden = self.gru(output, hidden)\n",
        "        return output, hidden\n",
        "\n",
        "    def initHidden(self):\n",
        "        return torch.zeros(1, 1, self.hidden_size, device=device)"
      ],
      "execution_count": 13,
      "outputs": []
    },
    {
      "cell_type": "markdown",
      "metadata": {
        "id": "ou1WsJ4IVqhp"
      },
      "source": [
        "### Decoder\n",
        "\n"
      ]
    },
    {
      "cell_type": "markdown",
      "source": [
        "Let's start with basic RNN decoder. Simple decoder uses encoder output as initial hidden state and `<SOS>` token as the first token of the output sequence. Then it starts to generate output sequence token by token as language model."
      ],
      "metadata": {
        "id": "2PNr2J9Tcpnw"
      }
    },
    {
      "cell_type": "code",
      "metadata": {
        "id": "63-gaIGcVqho"
      },
      "source": [
        "class DecoderRNN(nn.Module):\n",
        "    def __init__(self, hidden_size, output_size):\n",
        "        super(DecoderRNN, self).__init__()\n",
        "        self.hidden_size = hidden_size\n",
        "\n",
        "        self.embedding = nn.Embedding(output_size, hidden_size)\n",
        "        self.gru = nn.GRU(hidden_size, hidden_size)\n",
        "        self.out = nn.Linear(hidden_size, output_size)\n",
        "\n",
        "    def forward(self, input, hidden):\n",
        "        output = self.embedding(input).view(1, 1, -1)\n",
        "        output = F.relu(output)\n",
        "        output, hidden = self.gru(output, hidden)\n",
        "        output = F.log_softmax(self.out(output[0]), dim=1)\n",
        "        return output, hidden\n"
      ],
      "execution_count": 14,
      "outputs": []
    },
    {
      "cell_type": "markdown",
      "metadata": {
        "id": "5RfXcQE4Vqhs"
      },
      "source": [
        "### Training\n"
      ]
    },
    {
      "cell_type": "code",
      "metadata": {
        "id": "Akw4OZ7MVqhs"
      },
      "source": [
        "# additional functions to add special tokens and transform sentences to tensors\n",
        "def indexesFromSentence(lang, sentence):\n",
        "    return [lang.word2index[word] for word in list(sentence)]\n",
        "\n",
        "\n",
        "def tensorFromSentence(lang, sentence):\n",
        "    indexes = indexesFromSentence(lang, sentence)\n",
        "    indexes.append(EOS_token)\n",
        "    return torch.tensor(indexes, dtype=torch.long, device=device).view(-1, 1)\n",
        "\n",
        "\n",
        "def tensorsFromPair(pair):\n",
        "    input_tensor = tensorFromSentence(input_lang, pair[0])\n",
        "    target_tensor = tensorFromSentence(output_lang, pair[1])\n",
        "    return (input_tensor, target_tensor)"
      ],
      "execution_count": 15,
      "outputs": []
    },
    {
      "cell_type": "markdown",
      "source": [
        "Before I start implementing train function, I need to consider a concept of *teacher forcing* used for sequence generation in decoder. Each step decoder takes input and hiddent state from the previous step and makes prediction for the next element of the sequence. There are two options what I can use as an input for next step of the decoder: token generated by decoder (decoder's output on the previous step) or target token on this position (from ground truth output sequence). Teacher forcing suggests to use target token in the fixed part of cases so that the model could sometimes look at correct previous token to produce next one and the same time use its own predictions for generating process.\n",
        "![](https://mblogthumb-phinf.pstatic.net/MjAyMDAxMzFfMTcg/MDAxNTgwMzk4NTc3MzE2.rfhepBTuNa7UuGl7t4O2AAtVytd3Yd2d731im7KZ_jwg.kO58sY_DL9sBLx1LlZzq5A3hAplPA0gJA-6q4ZDr7Owg.PNG.sooftware/image.png?type=w800)"
      ],
      "metadata": {
        "id": "-eqmhKJgDBAS"
      }
    },
    {
      "cell_type": "code",
      "metadata": {
        "id": "-rnKP7oIVqhu"
      },
      "source": [
        "teacher_forcing_ratio = 0.5\n",
        "\n",
        "def train(input_tensor, target_tensor, encoder, decoder, encoder_optimizer, decoder_optimizer, criterion, max_length=MAX_LENGTH):\n",
        "    encoder_hidden = encoder.initHidden()\n",
        "\n",
        "    encoder_optimizer.zero_grad()\n",
        "    decoder_optimizer.zero_grad()\n",
        "\n",
        "    input_length = input_tensor.size(0)\n",
        "    target_length = target_tensor.size(0)\n",
        "\n",
        "    loss = 0\n",
        "\n",
        "    for ei in range(input_length):\n",
        "        encoder_output, encoder_hidden = encoder(\n",
        "            input_tensor[ei], encoder_hidden)\n",
        "\n",
        "    decoder_input = torch.tensor([[SOS_token]], device=device)\n",
        "\n",
        "    decoder_hidden = encoder_hidden\n",
        "\n",
        "    # use_teacher_forcing = False\n",
        "    use_teacher_forcing = True if random.random() < teacher_forcing_ratio else False\n",
        "\n",
        "    if use_teacher_forcing:\n",
        "      # with teacher forcing use next token from target as next input token\n",
        "        for di in range(target_length):\n",
        "            decoder_output, decoder_hidden = decoder(\n",
        "                decoder_input, decoder_hidden)\n",
        "\n",
        "            loss += criterion(decoder_output, target_tensor[di])\n",
        "            decoder_input = target_tensor[di]\n",
        "\n",
        "    else:\n",
        "        # without teacher forcing use model's prediction as next input token\n",
        "        for di in range(target_length):\n",
        "            decoder_output, decoder_hidden = decoder(\n",
        "                decoder_input, decoder_hidden)\n",
        "            topv, topi = decoder_output.topk(1)\n",
        "            decoder_input = topi.squeeze().detach()  # detach from history as input\n",
        "\n",
        "            loss += criterion(decoder_output, target_tensor[di])\n",
        "            if decoder_input.item() == EOS_token:\n",
        "                break\n",
        "\n",
        "    loss.backward()\n",
        "\n",
        "    encoder_optimizer.step()\n",
        "    decoder_optimizer.step()\n",
        "\n",
        "    return loss.item() / target_length"
      ],
      "execution_count": 16,
      "outputs": []
    },
    {
      "cell_type": "code",
      "metadata": {
        "id": "BDacClKzVqhw"
      },
      "source": [
        "def trainIters(encoder, decoder, n_iters, print_every=1000, plot_every=100, learning_rate=0.01):\n",
        "    plot_losses = []\n",
        "    print_loss_total = 0\n",
        "    plot_loss_total = 0\n",
        "\n",
        "    encoder_optimizer = optim.SGD(encoder.parameters(), lr=learning_rate)\n",
        "    decoder_optimizer = optim.SGD(decoder.parameters(), lr=learning_rate)\n",
        "    training_pairs = [tensorsFromPair(random.choice(pairs))\n",
        "                      for i in range(n_iters)]\n",
        "    criterion = nn.NLLLoss()\n",
        "\n",
        "    for iter in range(1, n_iters + 1):\n",
        "        training_pair = training_pairs[iter - 1]\n",
        "        input_tensor = training_pair[0]\n",
        "        target_tensor = training_pair[1]\n",
        "\n",
        "        loss = train(input_tensor, target_tensor, encoder,\n",
        "                     decoder, encoder_optimizer, decoder_optimizer, criterion)\n",
        "        print_loss_total += loss\n",
        "        plot_loss_total += loss\n",
        "\n",
        "        if iter % print_every == 0:\n",
        "            print_loss_avg = print_loss_total / print_every\n",
        "            print_loss_total = 0\n",
        "            print('(%d %d%%) %.4f' % (iter, iter / n_iters * 100, print_loss_avg))\n",
        "\n",
        "        if iter % plot_every == 0:\n",
        "            plot_loss_avg = plot_loss_total / plot_every\n",
        "            plot_losses.append(plot_loss_avg)\n",
        "            plot_loss_total = 0\n",
        "\n",
        "    showPlot(plot_losses)"
      ],
      "execution_count": 17,
      "outputs": []
    },
    {
      "cell_type": "markdown",
      "metadata": {
        "id": "_h5mjBGkVqhy"
      },
      "source": [
        "Let's add a function to plot the results of training."
      ]
    },
    {
      "cell_type": "code",
      "metadata": {
        "id": "8Cb7nr0tVqhy"
      },
      "source": [
        "import matplotlib.pyplot as plt\n",
        "# plt.switch_backend('agg')\n",
        "import matplotlib.ticker as ticker\n",
        "import numpy as np\n",
        "\n",
        "\n",
        "def showPlot(points):\n",
        "    plt.figure()\n",
        "    fig, ax = plt.subplots()\n",
        "    loc = ticker.MultipleLocator(base=0.2)\n",
        "    ax.yaxis.set_major_locator(loc)\n",
        "    plt.plot(points)"
      ],
      "execution_count": 18,
      "outputs": []
    },
    {
      "cell_type": "markdown",
      "source": [
        "Now I will implement evaluation function to generate transformed sequence for the input using trained encoder and decoder."
      ],
      "metadata": {
        "id": "BX7XvqcTZNsl"
      }
    },
    {
      "cell_type": "code",
      "metadata": {
        "id": "daNldZxdVqh3"
      },
      "source": [
        "def evaluate(encoder, decoder, sentence, max_length=MAX_LENGTH):\n",
        "    with torch.no_grad():\n",
        "        input_tensor = tensorFromSentence(input_lang, sentence)\n",
        "        input_length = input_tensor.size()[0]\n",
        "        encoder_hidden = encoder.initHidden()\n",
        "\n",
        "\n",
        "        for ei in range(input_length):\n",
        "            encoder_output, encoder_hidden = encoder(input_tensor[ei],\n",
        "                                                     encoder_hidden)\n",
        "\n",
        "        decoder_input = torch.tensor([[SOS_token]], device=device)\n",
        "        decoder_hidden = encoder_hidden\n",
        "\n",
        "        decoded_words = []\n",
        "\n",
        "        for di in range(max_length):\n",
        "            decoder_output, decoder_hidden = decoder(\n",
        "                decoder_input, decoder_hidden)\n",
        "\n",
        "            topv, topi = decoder_output.data.topk(1)\n",
        "            if topi.item() == EOS_token:\n",
        "                decoded_words.append('<EOS>')\n",
        "                break\n",
        "            else:\n",
        "                decoded_words.append(output_lang.index2word[topi.item()])\n",
        "\n",
        "            decoder_input = topi.squeeze().detach()\n",
        "\n",
        "        return decoded_words"
      ],
      "execution_count": 19,
      "outputs": []
    },
    {
      "cell_type": "code",
      "metadata": {
        "id": "d5YMQnaSVqh7"
      },
      "source": [
        "# evaluate random pair of sentences from training set\n",
        "def evaluateRandomly(encoder, decoder, n=10):\n",
        "    for i in range(n):\n",
        "        pair = random.choice(pairs)\n",
        "        print('>', pair[0])\n",
        "        print('=', pair[1])\n",
        "        output_words = evaluate(encoder, decoder, pair[0])\n",
        "        output_sentence = ''.join(output_words)\n",
        "        print('<', output_sentence)\n",
        "        print('')"
      ],
      "execution_count": 20,
      "outputs": []
    },
    {
      "cell_type": "code",
      "source": [
        "hidden_size = 256\n",
        "encoder0 = EncoderRNN(input_lang.n_words, hidden_size).to(device)\n",
        "decoder0 = DecoderRNN(hidden_size, output_lang.n_words).to(device)\n",
        "\n",
        "trainIters(encoder0, decoder0, 7000, print_every=500)"
      ],
      "metadata": {
        "colab": {
          "base_uri": "https://localhost:8080/",
          "height": 690
        },
        "id": "aekzUnPja9PV",
        "outputId": "6d71ff6d-5589-409a-d6a5-2ca25fd46792"
      },
      "execution_count": 21,
      "outputs": [
        {
          "output_type": "stream",
          "name": "stdout",
          "text": [
            "(500 7%) 1.1836\n",
            "(1000 14%) 0.7017\n",
            "(1500 21%) 0.6311\n",
            "(2000 28%) 0.6164\n",
            "(2500 35%) 0.5713\n",
            "(3000 42%) 0.5001\n",
            "(3500 50%) 0.4441\n",
            "(4000 57%) 0.3747\n",
            "(4500 64%) 0.3424\n",
            "(5000 71%) 0.2816\n",
            "(5500 78%) 0.2242\n",
            "(6000 85%) 0.1944\n",
            "(6500 92%) 0.1602\n",
            "(7000 100%) 0.1292\n"
          ]
        },
        {
          "output_type": "display_data",
          "data": {
            "text/plain": [
              "<Figure size 640x480 with 0 Axes>"
            ]
          },
          "metadata": {}
        },
        {
          "output_type": "display_data",
          "data": {
            "text/plain": [
              "<Figure size 640x480 with 1 Axes>"
            ],
            "image/png": "[encoded data removed]"
          },
          "metadata": {}
        }
      ]
    },
    {
      "cell_type": "code",
      "source": [
        "evaluateRandomly(encoder0, decoder0)"
      ],
      "metadata": {
        "colab": {
          "base_uri": "https://localhost:8080/"
        },
        "id": "XG5ca9DncCpQ",
        "outputId": "37ae8cf9-fda5-4bda-ad5d-2d5d42ece71e"
      },
      "execution_count": 22,
      "outputs": [
        {
          "output_type": "stream",
          "name": "stdout",
          "text": [
            "> 09/10/22\n",
            "= 09-10-2022\n",
            "< 09-01-2022<EOS>\n",
            "\n",
            "> 16.03.2023\n",
            "= 16-03-2023\n",
            "< 16-03-2023<EOS>\n",
            "\n",
            "> 29.01.2022\n",
            "= 29-01-2022\n",
            "< 29-01-2022<EOS>\n",
            "\n",
            "> 24.09.2023\n",
            "= 24-09-2023\n",
            "< 24-04-2023<EOS>\n",
            "\n",
            "> 16/12/23\n",
            "= 16-12-2023\n",
            "< 16-12-2023<EOS>\n",
            "\n",
            "> 03 March 2022\n",
            "= 03-03-2022\n",
            "< 03-03-2022<EOS>\n",
            "\n",
            "> 11/04/23\n",
            "= 11-04-2023\n",
            "< 11-04-2023<EOS>\n",
            "\n",
            "> Apr 15, 2023\n",
            "= 15-04-2023\n",
            "< 15-04-2023<EOS>\n",
            "\n",
            "> 30.03.2022\n",
            "= 30-03-2022\n",
            "< 30-03-2022<EOS>\n",
            "\n",
            "> 05-Feb-22\n",
            "= 05-02-2022\n",
            "< 05-02-2022<EOS>\n",
            "\n"
          ]
        }
      ]
    },
    {
      "cell_type": "code",
      "source": [
        "''.join(evaluate(encoder0, decoder0, 'Apr 02, 2023'))"
      ],
      "metadata": {
        "colab": {
          "base_uri": "https://localhost:8080/",
          "height": 36
        },
        "id": "M22EboancZ7t",
        "outputId": "08e5e93e-3279-4979-8ea3-3176e713fbe5"
      },
      "execution_count": 23,
      "outputs": [
        {
          "output_type": "execute_result",
          "data": {
            "text/plain": [
              "'04-04-2023<EOS>'"
            ],
            "application/vnd.google.colaboratory.intrinsic+json": {
              "type": "string"
            }
          },
          "metadata": {},
          "execution_count": 23
        }
      ]
    },
    {
      "cell_type": "code",
      "source": [
        "''.join(evaluate(encoder0, decoder0, '08.10.2023'))"
      ],
      "metadata": {
        "colab": {
          "base_uri": "https://localhost:8080/",
          "height": 36
        },
        "id": "6i8zterTcrUA",
        "outputId": "cc338463-6728-4451-e07d-dc7b984c0a15"
      },
      "execution_count": 24,
      "outputs": [
        {
          "output_type": "execute_result",
          "data": {
            "text/plain": [
              "'08-01-2023<EOS>'"
            ],
            "application/vnd.google.colaboratory.intrinsic+json": {
              "type": "string"
            }
          },
          "metadata": {},
          "execution_count": 24
        }
      ]
    },
    {
      "cell_type": "code",
      "source": [
        "''.join(evaluate(encoder0, decoder0, '08/10/23'))"
      ],
      "metadata": {
        "colab": {
          "base_uri": "https://localhost:8080/",
          "height": 36
        },
        "id": "oQPpTiiRcw_Q",
        "outputId": "f320f309-fb74-4839-d10d-a37d859e313e"
      },
      "execution_count": 25,
      "outputs": [
        {
          "output_type": "execute_result",
          "data": {
            "text/plain": [
              "'08-01-2023<EOS>'"
            ],
            "application/vnd.google.colaboratory.intrinsic+json": {
              "type": "string"
            }
          },
          "metadata": {},
          "execution_count": 25
        }
      ]
    },
    {
      "cell_type": "code",
      "source": [
        "''.join(evaluate(encoder0, decoder0, '08/03/23'))"
      ],
      "metadata": {
        "colab": {
          "base_uri": "https://localhost:8080/",
          "height": 36
        },
        "id": "Du3Ytir4c1qq",
        "outputId": "5039d1b2-7dcf-4cf3-bbb7-cf7951f7ee01"
      },
      "execution_count": 26,
      "outputs": [
        {
          "output_type": "execute_result",
          "data": {
            "text/plain": [
              "'08-03-2023<EOS>'"
            ],
            "application/vnd.google.colaboratory.intrinsic+json": {
              "type": "string"
            }
          },
          "metadata": {},
          "execution_count": 26
        }
      ]
    },
    {
      "cell_type": "code",
      "source": [
        "''.join(evaluate(encoder0, decoder0, '08.09.23'))"
      ],
      "metadata": {
        "colab": {
          "base_uri": "https://localhost:8080/",
          "height": 36
        },
        "id": "DchhqJ80c7xz",
        "outputId": "c121f461-ae74-4eac-98a5-8a2ac207d13e"
      },
      "execution_count": 27,
      "outputs": [
        {
          "output_type": "execute_result",
          "data": {
            "text/plain": [
              "'09-08-2023<EOS>'"
            ],
            "application/vnd.google.colaboratory.intrinsic+json": {
              "type": "string"
            }
          },
          "metadata": {},
          "execution_count": 27
        }
      ]
    },
    {
      "cell_type": "code",
      "source": [
        "''.join(evaluate(encoder0, decoder0, '10 June 2022'))"
      ],
      "metadata": {
        "colab": {
          "base_uri": "https://localhost:8080/",
          "height": 36
        },
        "id": "Sq_l-l14dC8L",
        "outputId": "50ddbbdb-6d7c-4f77-8f52-78fde8d64b6e"
      },
      "execution_count": 28,
      "outputs": [
        {
          "output_type": "execute_result",
          "data": {
            "text/plain": [
              "'10-06-2022<EOS>'"
            ],
            "application/vnd.google.colaboratory.intrinsic+json": {
              "type": "string"
            }
          },
          "metadata": {},
          "execution_count": 28
        }
      ]
    },
    {
      "cell_type": "markdown",
      "source": [
        "### Attention Decoder"
      ],
      "metadata": {
        "id": "JkU3DWeTB9Z4"
      }
    },
    {
      "cell_type": "markdown",
      "source": [
        "Attention mechanism allows to consider different positions of the input sentence for generating output at each step of the decoder.\n",
        "\n",
        "- At each decoder step attention score are computed using decoder hidden state and all encoder outputs. The scores show how important is each input token for the current position in decoder.\n",
        "- Softmax is applied to attention scores to get attention weights.\n",
        "- Attention output is calculated as a weighted sum of encoder representations with attention weights.\n"
      ],
      "metadata": {
        "id": "AwPjhRYcCDtB"
      }
    },
    {
      "cell_type": "code",
      "source": [
        "# Luong attention score\n",
        "\n",
        "class AttnDecoderRNN(nn.Module):\n",
        "    def __init__(self, hidden_size, output_size, dropout_p=0.1, max_length=MAX_LENGTH):\n",
        "        super(AttnDecoderRNN, self).__init__()\n",
        "        self.hidden_size = hidden_size\n",
        "        self.output_size = output_size\n",
        "        self.dropout_p = dropout_p\n",
        "        self.max_length = max_length\n",
        "\n",
        "        self.embedding = nn.Embedding(self.output_size, self.hidden_size)\n",
        "        self.attn = nn.Linear(self.hidden_size, self.hidden_size)\n",
        "        self.attn_combine = nn.Linear(self.hidden_size * 2, self.hidden_size)\n",
        "        self.dropout = nn.Dropout(self.dropout_p)\n",
        "        self.gru = nn.GRU(self.hidden_size, self.hidden_size)\n",
        "        self.out = nn.Linear(self.hidden_size, self.output_size)\n",
        "\n",
        "    def general_score(self, hidden, encoder_output):\n",
        "        score = self.attn(encoder_output)\n",
        "        return torch.sum(hidden * score, dim=2)\n",
        "\n",
        "    def forward(self, input, hidden, encoder_outputs):\n",
        "        embedded = self.embedding(input).view(1, 1, -1)\n",
        "        embedded = self.dropout(embedded)\n",
        "\n",
        "        attn_weights = F.softmax(self.general_score(hidden, encoder_outputs), dim=1)\n",
        "        attn_applied = torch.bmm(attn_weights.unsqueeze(0),\n",
        "                                 encoder_outputs.unsqueeze(0))\n",
        "\n",
        "        output = torch.cat((embedded[0], attn_applied[0]), 1)\n",
        "        output = self.attn_combine(output).unsqueeze(0)\n",
        "\n",
        "        output = F.relu(output)\n",
        "        output, hidden = self.gru(output, hidden)\n",
        "\n",
        "        output = F.log_softmax(self.out(output[0]), dim=1)\n",
        "        return output, hidden, attn_weights\n",
        "\n",
        "    def initHidden(self):\n",
        "        return torch.zeros(1, 1, self.hidden_size, device=device)"
      ],
      "metadata": {
        "id": "ho55zQOrB0bL"
      },
      "execution_count": 29,
      "outputs": []
    },
    {
      "cell_type": "code",
      "source": [
        "teacher_forcing_ratio = 0.5\n",
        "\n",
        "def train(input_tensor, target_tensor, encoder, decoder, encoder_optimizer, decoder_optimizer, criterion, max_length=MAX_LENGTH):\n",
        "    encoder_hidden = encoder.initHidden()\n",
        "\n",
        "    encoder_optimizer.zero_grad()\n",
        "    decoder_optimizer.zero_grad()\n",
        "\n",
        "    input_length = input_tensor.size(0)\n",
        "    target_length = target_tensor.size(0)\n",
        "\n",
        "    encoder_outputs = torch.zeros(max_length, encoder.hidden_size, device=device)\n",
        "\n",
        "    loss = 0\n",
        "\n",
        "    for ei in range(input_length):\n",
        "        encoder_output, encoder_hidden = encoder(\n",
        "            input_tensor[ei], encoder_hidden)\n",
        "        encoder_outputs[ei] = encoder_output[0, 0]\n",
        "\n",
        "    decoder_input = torch.tensor([[SOS_token]], device=device)\n",
        "\n",
        "    decoder_hidden = encoder_hidden\n",
        "\n",
        "    use_teacher_forcing = False\n",
        "    use_teacher_forcing = True if random.random() < teacher_forcing_ratio else False\n",
        "\n",
        "    if use_teacher_forcing:\n",
        "      # with teacher forcing use next token from target as next input token\n",
        "        for di in range(target_length):\n",
        "            decoder_output, decoder_hidden, decoder_attention = decoder(\n",
        "                decoder_input, decoder_hidden, encoder_outputs)\n",
        "\n",
        "            loss += criterion(decoder_output, target_tensor[di])\n",
        "            decoder_input = target_tensor[di]\n",
        "\n",
        "    else:\n",
        "        # without teacher forcing use model's prediction as next input token\n",
        "        for di in range(target_length):\n",
        "            decoder_output, decoder_hidden, decoder_attention = decoder(\n",
        "                decoder_input, decoder_hidden, encoder_outputs)\n",
        "            topv, topi = decoder_output.topk(1)\n",
        "            decoder_input = topi.squeeze().detach()  # detach from history as input\n",
        "\n",
        "            loss += criterion(decoder_output, target_tensor[di])\n",
        "            if decoder_input.item() == EOS_token:\n",
        "                break\n",
        "\n",
        "    loss.backward()\n",
        "\n",
        "    encoder_optimizer.step()\n",
        "    decoder_optimizer.step()\n",
        "\n",
        "    return loss.item() / target_length"
      ],
      "metadata": {
        "id": "zQSRzKWoCKzQ"
      },
      "execution_count": 30,
      "outputs": []
    },
    {
      "cell_type": "code",
      "source": [
        "def trainIters(encoder, decoder, n_iters, print_every=1000, plot_every=100, learning_rate=0.01):\n",
        "    plot_losses = []\n",
        "    print_loss_total = 0\n",
        "    plot_loss_total = 0\n",
        "\n",
        "    encoder_optimizer = optim.SGD(encoder.parameters(), lr=learning_rate)\n",
        "    decoder_optimizer = optim.SGD(decoder.parameters(), lr=learning_rate)\n",
        "    training_pairs = [tensorsFromPair(random.choice(pairs))\n",
        "                      for i in range(n_iters)]\n",
        "    criterion = nn.NLLLoss()\n",
        "\n",
        "    for iter in range(1, n_iters + 1):\n",
        "        training_pair = training_pairs[iter - 1]\n",
        "        input_tensor = training_pair[0]\n",
        "        target_tensor = training_pair[1]\n",
        "\n",
        "        loss = train(input_tensor, target_tensor, encoder,\n",
        "                     decoder, encoder_optimizer, decoder_optimizer, criterion)\n",
        "        print_loss_total += loss\n",
        "        plot_loss_total += loss\n",
        "\n",
        "        if iter % print_every == 0:\n",
        "            print_loss_avg = print_loss_total / print_every\n",
        "            print_loss_total = 0\n",
        "            print('(%d %d%%) %.4f' % (iter, iter / n_iters * 100, print_loss_avg))\n",
        "\n",
        "        if iter % plot_every == 0:\n",
        "            plot_loss_avg = plot_loss_total / plot_every\n",
        "            plot_losses.append(plot_loss_avg)\n",
        "            plot_loss_total = 0\n",
        "\n",
        "    showPlot(plot_losses)"
      ],
      "metadata": {
        "id": "QGY_PUNnie7j"
      },
      "execution_count": 31,
      "outputs": []
    },
    {
      "cell_type": "code",
      "source": [
        "def evaluate(encoder, decoder, sentence, max_length=MAX_LENGTH):\n",
        "    with torch.no_grad():\n",
        "        input_tensor = tensorFromSentence(input_lang, sentence)\n",
        "        input_length = input_tensor.size()[0]\n",
        "        encoder_hidden = encoder.initHidden()\n",
        "\n",
        "        encoder_outputs = torch.zeros(max_length, encoder.hidden_size, device=device)\n",
        "\n",
        "        for ei in range(input_length):\n",
        "            encoder_output, encoder_hidden = encoder(input_tensor[ei],\n",
        "                                                     encoder_hidden)\n",
        "            encoder_outputs[ei] += encoder_output[0, 0]\n",
        "\n",
        "        decoder_input = torch.tensor([[SOS_token]], device=device)\n",
        "\n",
        "        decoder_hidden = encoder_hidden\n",
        "\n",
        "        decoded_words = []\n",
        "        decoder_attentions = torch.zeros(max_length, max_length)\n",
        "\n",
        "        for di in range(max_length):\n",
        "            decoder_output, decoder_hidden, decoder_attention = decoder(\n",
        "                decoder_input, decoder_hidden, encoder_outputs)\n",
        "            decoder_attentions[di] = decoder_attention.data\n",
        "            topv, topi = decoder_output.data.topk(1)\n",
        "            if topi.item() == EOS_token:\n",
        "                decoded_words.append('<EOS>')\n",
        "                break\n",
        "            else:\n",
        "                decoded_words.append(output_lang.index2word[topi.item()])\n",
        "\n",
        "            decoder_input = topi.squeeze().detach()\n",
        "\n",
        "        return decoded_words, decoder_attentions[:di + 1]"
      ],
      "metadata": {
        "id": "tF4ocqJXCj00"
      },
      "execution_count": 32,
      "outputs": []
    },
    {
      "cell_type": "code",
      "source": [
        "# evaluate random pair of sentences from training set\n",
        "def evaluateRandomly(encoder, decoder, n=10):\n",
        "    for i in range(n):\n",
        "        pair = random.choice(pairs)\n",
        "        print('>', pair[0])\n",
        "        print('=', pair[1])\n",
        "        output_words, attentions = evaluate(encoder, decoder, pair[0])\n",
        "        output_sentence = ''.join(output_words)\n",
        "        print('<', output_sentence)\n",
        "        print('')"
      ],
      "metadata": {
        "id": "l-8Uh8JYio6M"
      },
      "execution_count": 33,
      "outputs": []
    },
    {
      "cell_type": "code",
      "source": [
        "hidden_size = 256\n",
        "encoder1 = EncoderRNN(input_lang.n_words, hidden_size).to(device)\n",
        "attn_decoder1 = AttnDecoderRNN(hidden_size, output_lang.n_words, dropout_p=0.1).to(device)\n",
        "\n",
        "trainIters(encoder1, attn_decoder1, 7000, print_every=500)"
      ],
      "metadata": {
        "colab": {
          "base_uri": "https://localhost:8080/",
          "height": 690
        },
        "id": "hMPxpRs4C8CW",
        "outputId": "56295367-f243-4a15-b373-ef8987e12bdf"
      },
      "execution_count": 34,
      "outputs": [
        {
          "output_type": "stream",
          "name": "stdout",
          "text": [
            "(500 7%) 1.1923\n",
            "(1000 14%) 0.6829\n",
            "(1500 21%) 0.5398\n",
            "(2000 28%) 0.6819\n",
            "(2500 35%) 0.4869\n",
            "(3000 42%) 0.3623\n",
            "(3500 50%) 0.2778\n",
            "(4000 57%) 0.2044\n",
            "(4500 64%) 0.1694\n",
            "(5000 71%) 0.0965\n",
            "(5500 78%) 0.0556\n",
            "(6000 85%) 0.0347\n",
            "(6500 92%) 0.0244\n",
            "(7000 100%) 0.0197\n"
          ]
        },
        {
          "output_type": "display_data",
          "data": {
            "text/plain": [
              "<Figure size 640x480 with 0 Axes>"
            ]
          },
          "metadata": {}
        },
        {
          "output_type": "display_data",
          "data": {
            "text/plain": [
              "<Figure size 640x480 with 1 Axes>"
            ],
            "image/png": "[encoded data removed]"
          },
          "metadata": {}
        }
      ]
    },
    {
      "cell_type": "code",
      "metadata": {
        "id": "x3gQ3JEZVqiC",
        "outputId": "78ece849-5f6b-429a-e08f-c1919cc8aaf7",
        "colab": {
          "base_uri": "https://localhost:8080/"
        }
      },
      "source": [
        "evaluateRandomly(encoder1, attn_decoder1)"
      ],
      "execution_count": 35,
      "outputs": [
        {
          "output_type": "stream",
          "name": "stdout",
          "text": [
            "> 09/02/22\n",
            "= 09-02-2022\n",
            "< 09-02-2022<EOS>\n",
            "\n",
            "> 27 May 2023\n",
            "= 27-05-2023\n",
            "< 27-05-2023<EOS>\n",
            "\n",
            "> 08 June 2023\n",
            "= 08-06-2023\n",
            "< 08-06-2023<EOS>\n",
            "\n",
            "> 04 February 2023\n",
            "= 04-02-2023\n",
            "< 04-02-2023<EOS>\n",
            "\n",
            "> 04/03/22\n",
            "= 04-03-2022\n",
            "< 04-03-2022<EOS>\n",
            "\n",
            "> 22 Feb 2022\n",
            "= 22-02-2022\n",
            "< 22-02-2022<EOS>\n",
            "\n",
            "> 12/03/22\n",
            "= 12-03-2022\n",
            "< 12-03-2022<EOS>\n",
            "\n",
            "> 29 April 2023\n",
            "= 29-04-2023\n",
            "< 29-04-2023<EOS>\n",
            "\n",
            "> 09 February 2023\n",
            "= 09-02-2023\n",
            "< 09-02-2023<EOS>\n",
            "\n",
            "> 25/06/23\n",
            "= 25-06-2023\n",
            "< 25-06-2023<EOS>\n",
            "\n"
          ]
        }
      ]
    },
    {
      "cell_type": "code",
      "source": [
        "''.join(evaluate(encoder1, attn_decoder1, 'Apr 02, 2023')[0])\n"
      ],
      "metadata": {
        "colab": {
          "base_uri": "https://localhost:8080/",
          "height": 36
        },
        "id": "7PjgONoZeQsU",
        "outputId": "91d452c1-08bf-4f7d-b961-2294943ef0a7"
      },
      "execution_count": 36,
      "outputs": [
        {
          "output_type": "execute_result",
          "data": {
            "text/plain": [
              "'02-04-2023<EOS>'"
            ],
            "application/vnd.google.colaboratory.intrinsic+json": {
              "type": "string"
            }
          },
          "metadata": {},
          "execution_count": 36
        }
      ]
    },
    {
      "cell_type": "code",
      "source": [
        "''.join(evaluate(encoder1, attn_decoder1, '08.10.2023')[0])\n"
      ],
      "metadata": {
        "colab": {
          "base_uri": "https://localhost:8080/",
          "height": 36
        },
        "id": "IWoKvLueew_a",
        "outputId": "800ef3f5-91ef-4750-b186-0996d8f66e19"
      },
      "execution_count": 37,
      "outputs": [
        {
          "output_type": "execute_result",
          "data": {
            "text/plain": [
              "'08-10-2023<EOS>'"
            ],
            "application/vnd.google.colaboratory.intrinsic+json": {
              "type": "string"
            }
          },
          "metadata": {},
          "execution_count": 37
        }
      ]
    },
    {
      "cell_type": "code",
      "source": [
        "''.join(evaluate(encoder1, attn_decoder1, '08/10/23')[0])\n"
      ],
      "metadata": {
        "colab": {
          "base_uri": "https://localhost:8080/",
          "height": 36
        },
        "id": "0a5meoeFe2aB",
        "outputId": "fd47949c-4b4b-464f-ec96-7e69a193c5c8"
      },
      "execution_count": 38,
      "outputs": [
        {
          "output_type": "execute_result",
          "data": {
            "text/plain": [
              "'08-10-2023<EOS>'"
            ],
            "application/vnd.google.colaboratory.intrinsic+json": {
              "type": "string"
            }
          },
          "metadata": {},
          "execution_count": 38
        }
      ]
    },
    {
      "cell_type": "code",
      "source": [
        "''.join(evaluate(encoder1, attn_decoder1, '08.09.23')[0])\n"
      ],
      "metadata": {
        "colab": {
          "base_uri": "https://localhost:8080/",
          "height": 36
        },
        "id": "mTKM25bwe7Px",
        "outputId": "ba3a1404-2686-4de6-a3ee-092578afd079"
      },
      "execution_count": 39,
      "outputs": [
        {
          "output_type": "execute_result",
          "data": {
            "text/plain": [
              "'08-09-2023<EOS>'"
            ],
            "application/vnd.google.colaboratory.intrinsic+json": {
              "type": "string"
            }
          },
          "metadata": {},
          "execution_count": 39
        }
      ]
    },
    {
      "cell_type": "code",
      "source": [
        "''.join(evaluate(encoder1, attn_decoder1, '10 June 2022')[0])\n"
      ],
      "metadata": {
        "colab": {
          "base_uri": "https://localhost:8080/",
          "height": 36
        },
        "id": "FA9vEUcIe_Ye",
        "outputId": "e903536b-7911-45ee-ccfe-eb73e6e13356"
      },
      "execution_count": 40,
      "outputs": [
        {
          "output_type": "execute_result",
          "data": {
            "text/plain": [
              "'10-06-2022<EOS>'"
            ],
            "application/vnd.google.colaboratory.intrinsic+json": {
              "type": "string"
            }
          },
          "metadata": {},
          "execution_count": 40
        }
      ]
    },
    {
      "cell_type": "markdown",
      "metadata": {
        "id": "GM4X_iyyVqiD"
      },
      "source": [
        "### Visualize Attention"
      ]
    },
    {
      "cell_type": "code",
      "metadata": {
        "id": "0K9QqSDOVqiG",
        "outputId": "164bec07-7534-4652-a28a-9c3eb7e496e0",
        "colab": {
          "base_uri": "https://localhost:8080/",
          "height": 454
        }
      },
      "source": [
        "output_words, attentions = evaluate(\n",
        "    encoder1, attn_decoder1, \"05.03.2022\")\n",
        "plt.matshow(attentions.numpy())"
      ],
      "execution_count": 41,
      "outputs": [
        {
          "output_type": "execute_result",
          "data": {
            "text/plain": [
              "<matplotlib.image.AxesImage at 0x7824ceea7340>"
            ]
          },
          "metadata": {},
          "execution_count": 41
        },
        {
          "output_type": "display_data",
          "data": {
            "text/plain": [
              "<Figure size 916.364x480 with 1 Axes>"
            ],
            "image/png": "[encoded data removed]"
          },
          "metadata": {}
        }
      ]
    },
    {
      "cell_type": "code",
      "source": [
        "output_words, attentions = evaluate(\n",
        "    encoder1, attn_decoder1, \"October 5 2022\")\n",
        "plt.matshow(attentions.numpy())"
      ],
      "metadata": {
        "colab": {
          "base_uri": "https://localhost:8080/",
          "height": 454
        },
        "id": "P-AwqNREY-D2",
        "outputId": "ed747622-9fa2-4435-90ea-7d9e47c5ac63"
      },
      "execution_count": 42,
      "outputs": [
        {
          "output_type": "execute_result",
          "data": {
            "text/plain": [
              "<matplotlib.image.AxesImage at 0x7824bd1efa90>"
            ]
          },
          "metadata": {},
          "execution_count": 42
        },
        {
          "output_type": "display_data",
          "data": {
            "text/plain": [
              "<Figure size 916.364x480 with 1 Axes>"
            ],
            "image/png": "[encoded data removed]"
          },
          "metadata": {}
        }
      ]
    },
    {
      "cell_type": "code",
      "source": [
        "output_words, attentions = evaluate(\n",
        "    encoder1, attn_decoder1, \"05/10/22\")\n",
        "plt.matshow(attentions.numpy())"
      ],
      "metadata": {
        "colab": {
          "base_uri": "https://localhost:8080/",
          "height": 454
        },
        "id": "vPYcGMB2t-L2",
        "outputId": "3470ce30-2b61-44da-fb1b-c7b7288b4bfa"
      },
      "execution_count": 43,
      "outputs": [
        {
          "output_type": "execute_result",
          "data": {
            "text/plain": [
              "<matplotlib.image.AxesImage at 0x7824bd274820>"
            ]
          },
          "metadata": {},
          "execution_count": 43
        },
        {
          "output_type": "display_data",
          "data": {
            "text/plain": [
              "<Figure size 916.364x480 with 1 Axes>"
            ],
            "image/png": "[encoded data removed]"
          },
          "metadata": {}
        }
      ]
    },
    {
      "cell_type": "code",
      "metadata": {
        "id": "6SrR3zPUVqiJ"
      },
      "source": [
        "def showAttention(input_sentence, output_words, attentions):\n",
        "    # Set up figure with colorbar\n",
        "\n",
        "    fig = plt.figure()\n",
        "    ax = fig.add_subplot(111)\n",
        "    cax = ax.matshow(attentions.numpy(), cmap='bone')\n",
        "    fig.colorbar(cax)\n",
        "\n",
        "    # Set up axes\n",
        "    ax.set_xticklabels([''] + list(input_sentence) +\n",
        "                       ['<EOS>'], rotation=90)\n",
        "    ax.set_yticklabels([''] + output_words)\n",
        "\n",
        "    # Show label at every tick\n",
        "    ax.xaxis.set_major_locator(ticker.MultipleLocator(1))\n",
        "    ax.yaxis.set_major_locator(ticker.MultipleLocator(1))\n",
        "\n",
        "    plt.show()\n",
        "\n",
        "\n",
        "\n",
        "def evaluateAndShowAttention(input_sentence, encoder, decoder):\n",
        "    output_words, attentions = evaluate(\n",
        "        encoder, decoder, input_sentence)\n",
        "    print('input =', input_sentence)\n",
        "    print('output =', ''.join(list(output_words)))\n",
        "    showAttention(input_sentence, output_words, attentions)"
      ],
      "execution_count": 44,
      "outputs": []
    },
    {
      "cell_type": "code",
      "metadata": {
        "id": "JgkM0CKDTkBz",
        "outputId": "274c00ef-90e9-4375-dcfa-ffc275d4a8be",
        "colab": {
          "base_uri": "https://localhost:8080/",
          "height": 524
        }
      },
      "source": [
        "evaluateAndShowAttention(\"05 October 2022\", encoder1, attn_decoder1)"
      ],
      "execution_count": 45,
      "outputs": [
        {
          "output_type": "stream",
          "name": "stdout",
          "text": [
            "input = 05 October 2022\n",
            "output = 05-10-2022<EOS>\n"
          ]
        },
        {
          "output_type": "stream",
          "name": "stderr",
          "text": [
            "<ipython-input-44-fe05f51e0898>:10: UserWarning: FixedFormatter should only be used together with FixedLocator\n",
            "  ax.set_xticklabels([''] + list(input_sentence) +\n",
            "<ipython-input-44-fe05f51e0898>:12: UserWarning: FixedFormatter should only be used together with FixedLocator\n",
            "  ax.set_yticklabels([''] + output_words)\n"
          ]
        },
        {
          "output_type": "display_data",
          "data": {
            "text/plain": [
              "<Figure size 640x480 with 2 Axes>"
            ],
            "image/png": "[encoded data removed]"
          },
          "metadata": {}
        }
      ]
    },
    {
      "cell_type": "code",
      "metadata": {
        "id": "MBlFTq3STkB_",
        "outputId": "ecece2b0-0fc3-4885-db2a-e8d583d9a58f",
        "colab": {
          "base_uri": "https://localhost:8080/",
          "height": 524
        }
      },
      "source": [
        "evaluateAndShowAttention(\"04/01/2022\", encoder1, attn_decoder1)"
      ],
      "execution_count": 46,
      "outputs": [
        {
          "output_type": "stream",
          "name": "stdout",
          "text": [
            "input = 04/01/2022\n",
            "output = 04-01-2022<EOS>\n"
          ]
        },
        {
          "output_type": "stream",
          "name": "stderr",
          "text": [
            "<ipython-input-44-fe05f51e0898>:10: UserWarning: FixedFormatter should only be used together with FixedLocator\n",
            "  ax.set_xticklabels([''] + list(input_sentence) +\n",
            "<ipython-input-44-fe05f51e0898>:12: UserWarning: FixedFormatter should only be used together with FixedLocator\n",
            "  ax.set_yticklabels([''] + output_words)\n"
          ]
        },
        {
          "output_type": "display_data",
          "data": {
            "text/plain": [
              "<Figure size 640x480 with 2 Axes>"
            ],
            "image/png": "[encoded data removed]"
          },
          "metadata": {}
        }
      ]
    },
    {
      "cell_type": "code",
      "metadata": {
        "id": "0MHN3nTjTkCE",
        "outputId": "5a50857c-13be-4f02-a4f7-a21d1ae09a35",
        "colab": {
          "base_uri": "https://localhost:8080/",
          "height": 524
        }
      },
      "source": [
        "evaluateAndShowAttention(\"December 13th, 2022\", encoder1, attn_decoder1)"
      ],
      "execution_count": 47,
      "outputs": [
        {
          "output_type": "stream",
          "name": "stdout",
          "text": [
            "input = December 13th, 2022\n",
            "output = 13-12-2022<EOS>\n"
          ]
        },
        {
          "output_type": "stream",
          "name": "stderr",
          "text": [
            "<ipython-input-44-fe05f51e0898>:10: UserWarning: FixedFormatter should only be used together with FixedLocator\n",
            "  ax.set_xticklabels([''] + list(input_sentence) +\n",
            "<ipython-input-44-fe05f51e0898>:12: UserWarning: FixedFormatter should only be used together with FixedLocator\n",
            "  ax.set_yticklabels([''] + output_words)\n"
          ]
        },
        {
          "output_type": "display_data",
          "data": {
            "text/plain": [
              "<Figure size 640x480 with 2 Axes>"
            ],
            "image/png": "[encoded data removed]"
          },
          "metadata": {}
        }
      ]
    },
    {
      "cell_type": "code",
      "metadata": {
        "id": "WASvolAhTkCJ",
        "outputId": "cdad2fdb-996a-46c4-eacb-44b06c5b67e4",
        "colab": {
          "base_uri": "https://localhost:8080/",
          "height": 524
        }
      },
      "source": [
        "evaluateAndShowAttention(\"Feb 09, 2022\", encoder1, attn_decoder1)"
      ],
      "execution_count": 48,
      "outputs": [
        {
          "output_type": "stream",
          "name": "stdout",
          "text": [
            "input = Feb 09, 2022\n",
            "output = 09-02-2022<EOS>\n"
          ]
        },
        {
          "output_type": "stream",
          "name": "stderr",
          "text": [
            "<ipython-input-44-fe05f51e0898>:10: UserWarning: FixedFormatter should only be used together with FixedLocator\n",
            "  ax.set_xticklabels([''] + list(input_sentence) +\n",
            "<ipython-input-44-fe05f51e0898>:12: UserWarning: FixedFormatter should only be used together with FixedLocator\n",
            "  ax.set_yticklabels([''] + output_words)\n"
          ]
        },
        {
          "output_type": "display_data",
          "data": {
            "text/plain": [
              "<Figure size 640x480 with 2 Axes>"
            ],
            "image/png": "[encoded data removed]"
          },
          "metadata": {}
        }
      ]
    },
    {
      "cell_type": "markdown",
      "metadata": {
        "id": "oiOPssocVqiL"
      },
      "source": [
        "### Evaluation"
      ]
    },
    {
      "cell_type": "code",
      "metadata": {
        "id": "vBLbx9cLVqiL"
      },
      "source": [
        "dataset_test = get_dataset('1/1/2022', '1/1/2024', '%m/%d/%Y', 100)"
      ],
      "execution_count": 49,
      "outputs": []
    },
    {
      "cell_type": "code",
      "metadata": {
        "id": "GnzH99yATkCT",
        "outputId": "3b0f8cf0-b78c-4285-8926-e11106f9b4c0",
        "colab": {
          "base_uri": "https://localhost:8080/"
        }
      },
      "source": [
        "len(dataset_test)"
      ],
      "execution_count": 50,
      "outputs": [
        {
          "output_type": "execute_result",
          "data": {
            "text/plain": [
              "100"
            ]
          },
          "metadata": {},
          "execution_count": 50
        }
      ]
    },
    {
      "cell_type": "code",
      "metadata": {
        "id": "eImaOuLNVqiO"
      },
      "source": [
        "def accuracy_on_test(encoder, decoder, dataset_test):\n",
        "    i = 0\n",
        "    n = 0\n",
        "    for pair in dataset_test:\n",
        "        pred = []\n",
        "        # pair[1] - target\n",
        "        output_words, attentions = evaluate(encoder, decoder, pair[0])\n",
        "        output_sentence = ''.join(output_words)\n",
        "        # output_sentence - pred\n",
        "        n += 1\n",
        "        i += int(output_sentence[:10]== pair[1][:10])\n",
        "    return i*1. /n\n"
      ],
      "execution_count": 51,
      "outputs": []
    },
    {
      "cell_type": "markdown",
      "metadata": {
        "id": "HAydDhnqqKyt"
      },
      "source": [
        "**BLEU Measure**"
      ]
    },
    {
      "cell_type": "code",
      "metadata": {
        "id": "KjdtG3zdp3os",
        "outputId": "e31f128b-c3e3-480c-f1da-94869f1b345c",
        "colab": {
          "base_uri": "https://localhost:8080/"
        }
      },
      "source": [
        "!pip install sacrebleu"
      ],
      "execution_count": 52,
      "outputs": [
        {
          "output_type": "stream",
          "name": "stdout",
          "text": [
            "Collecting sacrebleu\n",
            "  Downloading sacrebleu-2.4.0-py3-none-any.whl (106 kB)\n",
            "\u001b[?25l     \u001b[90m━━━━━━━━━━━━━━━━━━━━━━━━━━━━━━━━━━━━━━━━\u001b[0m \u001b[32m0.0/106.3 kB\u001b[0m \u001b[31m?\u001b[0m eta \u001b[36m-:--:--\u001b[0m\r\u001b[2K     \u001b[90m━━━━━━━━━━━━━━━━━━━━━━━━━━━━━━━━━━━━━━━━\u001b[0m \u001b[32m106.3/106.3 kB\u001b[0m \u001b[31m3.3 MB/s\u001b[0m eta \u001b[36m0:00:00\u001b[0m\n",
            "\u001b[?25hCollecting portalocker (from sacrebleu)\n",
            "  Downloading portalocker-2.8.2-py3-none-any.whl (17 kB)\n",
            "Requirement already satisfied: regex in /usr/local/lib/python3.10/dist-packages (from sacrebleu) (2023.12.25)\n",
            "Requirement already satisfied: tabulate>=0.8.9 in /usr/local/lib/python3.10/dist-packages (from sacrebleu) (0.9.0)\n",
            "Requirement already satisfied: numpy>=1.17 in /usr/local/lib/python3.10/dist-packages (from sacrebleu) (1.25.2)\n",
            "Collecting colorama (from sacrebleu)\n",
            "  Downloading colorama-0.4.6-py2.py3-none-any.whl (25 kB)\n",
            "Requirement already satisfied: lxml in /usr/local/lib/python3.10/dist-packages (from sacrebleu) (4.9.4)\n",
            "Installing collected packages: portalocker, colorama, sacrebleu\n",
            "Successfully installed colorama-0.4.6 portalocker-2.8.2 sacrebleu-2.4.0\n"
          ]
        }
      ]
    },
    {
      "cell_type": "code",
      "metadata": {
        "id": "VXd5lXOmBqQL"
      },
      "source": [
        "import sacrebleu\n",
        "\n",
        "def bleu_on_test(encoder, decoder, dataset_test):\n",
        "    i = 0\n",
        "    n = 0\n",
        "    translated = []\n",
        "    target = []\n",
        "    for pair in dataset_test:\n",
        "        pred = []\n",
        "        # pair[1] - target\n",
        "        output_words, attentions = evaluate(encoder, decoder, pair[0])\n",
        "        output_sentence = ''.join(output_words)\n",
        "        # output_sentence - pred\n",
        "        translated.append(output_sentence[:10])\n",
        "        target.append(pair[1])\n",
        "    bleu = sacrebleu.corpus_bleu(translated, [target])\n",
        "    return bleu.score"
      ],
      "execution_count": 53,
      "outputs": []
    },
    {
      "cell_type": "code",
      "metadata": {
        "id": "kj9o8m2dVqiR",
        "outputId": "1683a8c0-6745-43e7-d762-41c40e39c779",
        "colab": {
          "base_uri": "https://localhost:8080/"
        }
      },
      "source": [
        "accuracy = accuracy_on_test(encoder1, attn_decoder1, dataset_test)\n",
        "print(accuracy)"
      ],
      "execution_count": 54,
      "outputs": [
        {
          "output_type": "stream",
          "name": "stdout",
          "text": [
            "1.0\n"
          ]
        }
      ]
    },
    {
      "cell_type": "code",
      "metadata": {
        "id": "E0ean8i9DJbp",
        "outputId": "8ad880f4-0038-41b7-c61a-1dee9ff224f4",
        "colab": {
          "base_uri": "https://localhost:8080/"
        }
      },
      "source": [
        "bleu = bleu_on_test(encoder1, attn_decoder1, dataset_test)\n",
        "print(bleu)"
      ],
      "execution_count": 55,
      "outputs": [
        {
          "output_type": "stream",
          "name": "stdout",
          "text": [
            "100.00000000000004\n"
          ]
        }
      ]
    },
    {
      "cell_type": "markdown",
      "metadata": {
        "id": "l9WjHZWBkAqz"
      },
      "source": [
        "### Different Attention Scores"
      ]
    },
    {
      "cell_type": "code",
      "metadata": {
        "id": "ofjjSHU8kyU_"
      },
      "source": [
        "class AttnDecoderRNN(nn.Module):\n",
        "    def __init__(self, hidden_size, output_size, method='general', dropout_p=0.1, max_length=MAX_LENGTH):\n",
        "        super(AttnDecoderRNN, self).__init__()\n",
        "        self.hidden_size = hidden_size\n",
        "        self.output_size = output_size\n",
        "        self.dropout_p = dropout_p\n",
        "        self.max_length = max_length\n",
        "        self.method = method\n",
        "\n",
        "        self.embedding = nn.Embedding(self.output_size, self.hidden_size)\n",
        "        self.attn = nn.Linear(self.hidden_size, self.hidden_size)\n",
        "\n",
        "        self.attn_combine = nn.Linear(self.hidden_size * 2, self.hidden_size)\n",
        "        self.dropout = nn.Dropout(self.dropout_p)\n",
        "        self.gru = nn.GRU(self.hidden_size, self.hidden_size)\n",
        "        self.out = nn.Linear(self.hidden_size, self.output_size)\n",
        "\n",
        "    def dot_score(self, hidden, encoder_output):\n",
        "        return torch.sum(hidden * encoder_output, dim=2)\n",
        "\n",
        "    def general_score(self, hidden, encoder_output):\n",
        "        score = self.attn(encoder_output)\n",
        "        return torch.sum(hidden * score, dim=2)\n",
        "\n",
        "    def forward(self, input, hidden, encoder_outputs):\n",
        "        embedded = self.embedding(input).view(1, 1, -1)\n",
        "        embedded = self.dropout(embedded)\n",
        "\n",
        "        if self.method == 'general':\n",
        "            attn_weights = F.softmax(self.general_score(hidden, encoder_outputs), dim=1)\n",
        "        elif self.method == 'dot':\n",
        "            attn_weights = F.softmax(self.dot_score(hidden, encoder_outputs), dim=1)\n",
        "\n",
        "        attn_applied = torch.bmm(attn_weights.unsqueeze(0),\n",
        "                                 encoder_outputs.unsqueeze(0))\n",
        "\n",
        "        output = torch.cat((embedded[0], attn_applied[0]), 1)\n",
        "        output = self.attn_combine(output).unsqueeze(0)\n",
        "\n",
        "        output = F.relu(output)\n",
        "        output, hidden = self.gru(output, hidden)\n",
        "\n",
        "        output = F.log_softmax(self.out(output[0]), dim=1)\n",
        "        return output, hidden, attn_weights\n",
        "\n",
        "    def initHidden(self):\n",
        "        return torch.zeros(1, 1, self.hidden_size, device=device)"
      ],
      "execution_count": 56,
      "outputs": []
    },
    {
      "cell_type": "markdown",
      "metadata": {
        "id": "VCbwqanMlk3q"
      },
      "source": [
        "Let's train a model with a new version of attention in decoder."
      ]
    },
    {
      "cell_type": "code",
      "metadata": {
        "id": "XaowW6cvlZjr",
        "outputId": "54069c5b-fae5-41cd-d1d1-3829f4306a52",
        "colab": {
          "base_uri": "https://localhost:8080/",
          "height": 694
        }
      },
      "source": [
        "hidden_size = 256\n",
        "encoder1 = EncoderRNN(input_lang.n_words, hidden_size).to(device)\n",
        "attn_decoder1 = AttnDecoderRNN(hidden_size, output_lang.n_words, method='dot',dropout_p=0.1).to(device)\n",
        "\n",
        "trainIters(encoder1, attn_decoder1, 7000, print_every=500)"
      ],
      "execution_count": 57,
      "outputs": [
        {
          "output_type": "stream",
          "name": "stdout",
          "text": [
            "(500 7%) 1.1279\n",
            "(1000 14%) 0.6787\n",
            "(1500 21%) 0.8645\n",
            "(2000 28%) 0.6093\n",
            "(2500 35%) 0.5431\n",
            "(3000 42%) 0.4768\n",
            "(3500 50%) 0.4686\n",
            "(4000 57%) 0.3469\n",
            "(4500 64%) 0.2767\n",
            "(5000 71%) 0.2376\n",
            "(5500 78%) 0.2014\n",
            "(6000 85%) 0.1580\n",
            "(6500 92%) 0.1301\n",
            "(7000 100%) 0.0964\n"
          ]
        },
        {
          "output_type": "display_data",
          "data": {
            "text/plain": [
              "<Figure size 640x480 with 0 Axes>"
            ]
          },
          "metadata": {}
        },
        {
          "output_type": "display_data",
          "data": {
            "text/plain": [
              "<Figure size 640x480 with 1 Axes>"
            ],
            "image/png": "[encoded data removed]"
          },
          "metadata": {}
        }
      ]
    },
    {
      "cell_type": "code",
      "source": [
        "accuracy = accuracy_on_test(encoder1, attn_decoder1, dataset_test)\n",
        "bleu = bleu_on_test(encoder1, attn_decoder1, dataset_test)\n",
        "\n",
        "print(accuracy, bleu)"
      ],
      "metadata": {
        "colab": {
          "base_uri": "https://localhost:8080/"
        },
        "id": "GdxOLbwhtGKU",
        "outputId": "701cf89c-ce1d-4847-f45e-8e9c41382ae2"
      },
      "execution_count": null,
      "outputs": [
        {
          "output_type": "stream",
          "name": "stdout",
          "text": [
            "0.82 90.77265505148486\n"
          ]
        }
      ]
    },
    {
      "cell_type": "markdown",
      "metadata": {
        "id": "cWQoQDVGlpfX"
      },
      "source": [
        "Now we can check how attention weights changed with new decoder.\n",
        "\n"
      ]
    },
    {
      "cell_type": "code",
      "metadata": {
        "id": "e72bJr__ly2U",
        "outputId": "7596fb97-f483-4521-e6e4-e68aa9d0b8d8",
        "colab": {
          "base_uri": "https://localhost:8080/",
          "height": 524
        }
      },
      "source": [
        "evaluateAndShowAttention(\"May 10th, 2022\", encoder1, attn_decoder1)"
      ],
      "execution_count": null,
      "outputs": [
        {
          "output_type": "stream",
          "name": "stdout",
          "text": [
            "input = May 10th, 2022\n",
            "output = 10-05-2022<EOS>\n"
          ]
        },
        {
          "output_type": "stream",
          "name": "stderr",
          "text": [
            "<ipython-input-44-fe05f51e0898>:10: UserWarning: FixedFormatter should only be used together with FixedLocator\n",
            "  ax.set_xticklabels([''] + list(input_sentence) +\n",
            "<ipython-input-44-fe05f51e0898>:12: UserWarning: FixedFormatter should only be used together with FixedLocator\n",
            "  ax.set_yticklabels([''] + output_words)\n"
          ]
        },
        {
          "output_type": "display_data",
          "data": {
            "text/plain": [
              "<Figure size 640x480 with 2 Axes>"
            ],
            "image/png": "[encoded data removed]"
          },
          "metadata": {}
        }
      ]
    },
    {
      "cell_type": "code",
      "source": [],
      "metadata": {
        "id": "thTxej1U4S85"
      },
      "execution_count": null,
      "outputs": []
    }
  ]
}