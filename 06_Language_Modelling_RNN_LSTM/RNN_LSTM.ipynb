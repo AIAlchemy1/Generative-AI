{
  "nbformat": 4,
  "nbformat_minor": 0,
  "metadata": {
    "colab": {
      "provenance": [],
      "gpuType": "A100",
      "machine_shape": "hm",
      "include_colab_link": true
    },
    "kernelspec": {
      "name": "python3",
      "display_name": "Python 3"
    },
    "language_info": {
      "name": "python"
    },
    "accelerator": "GPU",
    "widgets": {
      "application/vnd.jupyter.widget-state+json": {
        "2f765dcd8b364519a4414296f4ce88e5": {
          "model_module": "@jupyter-widgets/controls",
          "model_name": "HBoxModel",
          "model_module_version": "1.5.0",
          "state": {
            "_dom_classes": [],
            "_model_module": "@jupyter-widgets/controls",
            "_model_module_version": "1.5.0",
            "_model_name": "HBoxModel",
            "_view_count": null,
            "_view_module": "@jupyter-widgets/controls",
            "_view_module_version": "1.5.0",
            "_view_name": "HBoxView",
            "box_style": "",
            "children": [
              "IPY_MODEL_d7d273957e6741cdb555c9cbf322aafd",
              "IPY_MODEL_fa20726bc7a747f3a53f7699c9a1b08a",
              "IPY_MODEL_0a66fb0bda464bb9a89129ceb313a35f"
            ],
            "layout": "IPY_MODEL_6a1f91c98b9344269622ec1020538ee1"
          }
        },
        "d7d273957e6741cdb555c9cbf322aafd": {
          "model_module": "@jupyter-widgets/controls",
          "model_name": "HTMLModel",
          "model_module_version": "1.5.0",
          "state": {
            "_dom_classes": [],
            "_model_module": "@jupyter-widgets/controls",
            "_model_module_version": "1.5.0",
            "_model_name": "HTMLModel",
            "_view_count": null,
            "_view_module": "@jupyter-widgets/controls",
            "_view_module_version": "1.5.0",
            "_view_name": "HTMLView",
            "description": "",
            "description_tooltip": null,
            "layout": "IPY_MODEL_a947a56a8f814bcba3f2df17ef91dde2",
            "placeholder": "​",
            "style": "IPY_MODEL_a8f56ea845ee4a1cb3afb127dff3e43b",
            "value": "Downloading readme: 100%"
          }
        },
        "fa20726bc7a747f3a53f7699c9a1b08a": {
          "model_module": "@jupyter-widgets/controls",
          "model_name": "FloatProgressModel",
          "model_module_version": "1.5.0",
          "state": {
            "_dom_classes": [],
            "_model_module": "@jupyter-widgets/controls",
            "_model_module_version": "1.5.0",
            "_model_name": "FloatProgressModel",
            "_view_count": null,
            "_view_module": "@jupyter-widgets/controls",
            "_view_module_version": "1.5.0",
            "_view_name": "ProgressView",
            "bar_style": "success",
            "description": "",
            "description_tooltip": null,
            "layout": "IPY_MODEL_50807e596aac42529f1b45f3feddce2d",
            "max": 7809,
            "min": 0,
            "orientation": "horizontal",
            "style": "IPY_MODEL_a5a3d88f1ce8416095d8065c1f2e6a67",
            "value": 7809
          }
        },
        "0a66fb0bda464bb9a89129ceb313a35f": {
          "model_module": "@jupyter-widgets/controls",
          "model_name": "HTMLModel",
          "model_module_version": "1.5.0",
          "state": {
            "_dom_classes": [],
            "_model_module": "@jupyter-widgets/controls",
            "_model_module_version": "1.5.0",
            "_model_name": "HTMLModel",
            "_view_count": null,
            "_view_module": "@jupyter-widgets/controls",
            "_view_module_version": "1.5.0",
            "_view_name": "HTMLView",
            "description": "",
            "description_tooltip": null,
            "layout": "IPY_MODEL_c1bb699ea5b54058b8e0d020777c0373",
            "placeholder": "​",
            "style": "IPY_MODEL_38a246ed0a774b02bee9db2781de5ce6",
            "value": " 7.81k/7.81k [00:00&lt;00:00, 606kB/s]"
          }
        },
        "6a1f91c98b9344269622ec1020538ee1": {
          "model_module": "@jupyter-widgets/base",
          "model_name": "LayoutModel",
          "model_module_version": "1.2.0",
          "state": {
            "_model_module": "@jupyter-widgets/base",
            "_model_module_version": "1.2.0",
            "_model_name": "LayoutModel",
            "_view_count": null,
            "_view_module": "@jupyter-widgets/base",
            "_view_module_version": "1.2.0",
            "_view_name": "LayoutView",
            "align_content": null,
            "align_items": null,
            "align_self": null,
            "border": null,
            "bottom": null,
            "display": null,
            "flex": null,
            "flex_flow": null,
            "grid_area": null,
            "grid_auto_columns": null,
            "grid_auto_flow": null,
            "grid_auto_rows": null,
            "grid_column": null,
            "grid_gap": null,
            "grid_row": null,
            "grid_template_areas": null,
            "grid_template_columns": null,
            "grid_template_rows": null,
            "height": null,
            "justify_content": null,
            "justify_items": null,
            "left": null,
            "margin": null,
            "max_height": null,
            "max_width": null,
            "min_height": null,
            "min_width": null,
            "object_fit": null,
            "object_position": null,
            "order": null,
            "overflow": null,
            "overflow_x": null,
            "overflow_y": null,
            "padding": null,
            "right": null,
            "top": null,
            "visibility": null,
            "width": null
          }
        },
        "a947a56a8f814bcba3f2df17ef91dde2": {
          "model_module": "@jupyter-widgets/base",
          "model_name": "LayoutModel",
          "model_module_version": "1.2.0",
          "state": {
            "_model_module": "@jupyter-widgets/base",
            "_model_module_version": "1.2.0",
            "_model_name": "LayoutModel",
            "_view_count": null,
            "_view_module": "@jupyter-widgets/base",
            "_view_module_version": "1.2.0",
            "_view_name": "LayoutView",
            "align_content": null,
            "align_items": null,
            "align_self": null,
            "border": null,
            "bottom": null,
            "display": null,
            "flex": null,
            "flex_flow": null,
            "grid_area": null,
            "grid_auto_columns": null,
            "grid_auto_flow": null,
            "grid_auto_rows": null,
            "grid_column": null,
            "grid_gap": null,
            "grid_row": null,
            "grid_template_areas": null,
            "grid_template_columns": null,
            "grid_template_rows": null,
            "height": null,
            "justify_content": null,
            "justify_items": null,
            "left": null,
            "margin": null,
            "max_height": null,
            "max_width": null,
            "min_height": null,
            "min_width": null,
            "object_fit": null,
            "object_position": null,
            "order": null,
            "overflow": null,
            "overflow_x": null,
            "overflow_y": null,
            "padding": null,
            "right": null,
            "top": null,
            "visibility": null,
            "width": null
          }
        },
        "a8f56ea845ee4a1cb3afb127dff3e43b": {
          "model_module": "@jupyter-widgets/controls",
          "model_name": "DescriptionStyleModel",
          "model_module_version": "1.5.0",
          "state": {
            "_model_module": "@jupyter-widgets/controls",
            "_model_module_version": "1.5.0",
            "_model_name": "DescriptionStyleModel",
            "_view_count": null,
            "_view_module": "@jupyter-widgets/base",
            "_view_module_version": "1.2.0",
            "_view_name": "StyleView",
            "description_width": ""
          }
        },
        "50807e596aac42529f1b45f3feddce2d": {
          "model_module": "@jupyter-widgets/base",
          "model_name": "LayoutModel",
          "model_module_version": "1.2.0",
          "state": {
            "_model_module": "@jupyter-widgets/base",
            "_model_module_version": "1.2.0",
            "_model_name": "LayoutModel",
            "_view_count": null,
            "_view_module": "@jupyter-widgets/base",
            "_view_module_version": "1.2.0",
            "_view_name": "LayoutView",
            "align_content": null,
            "align_items": null,
            "align_self": null,
            "border": null,
            "bottom": null,
            "display": null,
            "flex": null,
            "flex_flow": null,
            "grid_area": null,
            "grid_auto_columns": null,
            "grid_auto_flow": null,
            "grid_auto_rows": null,
            "grid_column": null,
            "grid_gap": null,
            "grid_row": null,
            "grid_template_areas": null,
            "grid_template_columns": null,
            "grid_template_rows": null,
            "height": null,
            "justify_content": null,
            "justify_items": null,
            "left": null,
            "margin": null,
            "max_height": null,
            "max_width": null,
            "min_height": null,
            "min_width": null,
            "object_fit": null,
            "object_position": null,
            "order": null,
            "overflow": null,
            "overflow_x": null,
            "overflow_y": null,
            "padding": null,
            "right": null,
            "top": null,
            "visibility": null,
            "width": null
          }
        },
        "a5a3d88f1ce8416095d8065c1f2e6a67": {
          "model_module": "@jupyter-widgets/controls",
          "model_name": "ProgressStyleModel",
          "model_module_version": "1.5.0",
          "state": {
            "_model_module": "@jupyter-widgets/controls",
            "_model_module_version": "1.5.0",
            "_model_name": "ProgressStyleModel",
            "_view_count": null,
            "_view_module": "@jupyter-widgets/base",
            "_view_module_version": "1.2.0",
            "_view_name": "StyleView",
            "bar_color": null,
            "description_width": ""
          }
        },
        "c1bb699ea5b54058b8e0d020777c0373": {
          "model_module": "@jupyter-widgets/base",
          "model_name": "LayoutModel",
          "model_module_version": "1.2.0",
          "state": {
            "_model_module": "@jupyter-widgets/base",
            "_model_module_version": "1.2.0",
            "_model_name": "LayoutModel",
            "_view_count": null,
            "_view_module": "@jupyter-widgets/base",
            "_view_module_version": "1.2.0",
            "_view_name": "LayoutView",
            "align_content": null,
            "align_items": null,
            "align_self": null,
            "border": null,
            "bottom": null,
            "display": null,
            "flex": null,
            "flex_flow": null,
            "grid_area": null,
            "grid_auto_columns": null,
            "grid_auto_flow": null,
            "grid_auto_rows": null,
            "grid_column": null,
            "grid_gap": null,
            "grid_row": null,
            "grid_template_areas": null,
            "grid_template_columns": null,
            "grid_template_rows": null,
            "height": null,
            "justify_content": null,
            "justify_items": null,
            "left": null,
            "margin": null,
            "max_height": null,
            "max_width": null,
            "min_height": null,
            "min_width": null,
            "object_fit": null,
            "object_position": null,
            "order": null,
            "overflow": null,
            "overflow_x": null,
            "overflow_y": null,
            "padding": null,
            "right": null,
            "top": null,
            "visibility": null,
            "width": null
          }
        },
        "38a246ed0a774b02bee9db2781de5ce6": {
          "model_module": "@jupyter-widgets/controls",
          "model_name": "DescriptionStyleModel",
          "model_module_version": "1.5.0",
          "state": {
            "_model_module": "@jupyter-widgets/controls",
            "_model_module_version": "1.5.0",
            "_model_name": "DescriptionStyleModel",
            "_view_count": null,
            "_view_module": "@jupyter-widgets/base",
            "_view_module_version": "1.2.0",
            "_view_name": "StyleView",
            "description_width": ""
          }
        },
        "bf448b9da3344e82af224a241f5e6903": {
          "model_module": "@jupyter-widgets/controls",
          "model_name": "HBoxModel",
          "model_module_version": "1.5.0",
          "state": {
            "_dom_classes": [],
            "_model_module": "@jupyter-widgets/controls",
            "_model_module_version": "1.5.0",
            "_model_name": "HBoxModel",
            "_view_count": null,
            "_view_module": "@jupyter-widgets/controls",
            "_view_module_version": "1.5.0",
            "_view_name": "HBoxView",
            "box_style": "",
            "children": [
              "IPY_MODEL_fa68e137327b473f84715e7fea6d7a47",
              "IPY_MODEL_98f32f2d174441ac88e4e6640db59f5d",
              "IPY_MODEL_0254f501a5ea410f9879147c02c9d16f"
            ],
            "layout": "IPY_MODEL_023180822d4c4167a6aadeca387b1612"
          }
        },
        "fa68e137327b473f84715e7fea6d7a47": {
          "model_module": "@jupyter-widgets/controls",
          "model_name": "HTMLModel",
          "model_module_version": "1.5.0",
          "state": {
            "_dom_classes": [],
            "_model_module": "@jupyter-widgets/controls",
            "_model_module_version": "1.5.0",
            "_model_name": "HTMLModel",
            "_view_count": null,
            "_view_module": "@jupyter-widgets/controls",
            "_view_module_version": "1.5.0",
            "_view_name": "HTMLView",
            "description": "",
            "description_tooltip": null,
            "layout": "IPY_MODEL_2bc9ca26fcc34c38bdffe76a43511447",
            "placeholder": "​",
            "style": "IPY_MODEL_79d2983e54e64c2493f75948f06e8df9",
            "value": "Downloading data: 100%"
          }
        },
        "98f32f2d174441ac88e4e6640db59f5d": {
          "model_module": "@jupyter-widgets/controls",
          "model_name": "FloatProgressModel",
          "model_module_version": "1.5.0",
          "state": {
            "_dom_classes": [],
            "_model_module": "@jupyter-widgets/controls",
            "_model_module_version": "1.5.0",
            "_model_name": "FloatProgressModel",
            "_view_count": null,
            "_view_module": "@jupyter-widgets/controls",
            "_view_module_version": "1.5.0",
            "_view_name": "ProgressView",
            "bar_style": "success",
            "description": "",
            "description_tooltip": null,
            "layout": "IPY_MODEL_b6688c3382634917b46da77149ded046",
            "max": 20979968,
            "min": 0,
            "orientation": "horizontal",
            "style": "IPY_MODEL_90574511e2994217a569015638e2feee",
            "value": 20979968
          }
        },
        "0254f501a5ea410f9879147c02c9d16f": {
          "model_module": "@jupyter-widgets/controls",
          "model_name": "HTMLModel",
          "model_module_version": "1.5.0",
          "state": {
            "_dom_classes": [],
            "_model_module": "@jupyter-widgets/controls",
            "_model_module_version": "1.5.0",
            "_model_name": "HTMLModel",
            "_view_count": null,
            "_view_module": "@jupyter-widgets/controls",
            "_view_module_version": "1.5.0",
            "_view_name": "HTMLView",
            "description": "",
            "description_tooltip": null,
            "layout": "IPY_MODEL_7975207301084673bc9c0f63d201bc85",
            "placeholder": "​",
            "style": "IPY_MODEL_4a005f2001bb445e938e88c6c2fcb0ed",
            "value": " 21.0M/21.0M [00:01&lt;00:00, 23.1MB/s]"
          }
        },
        "023180822d4c4167a6aadeca387b1612": {
          "model_module": "@jupyter-widgets/base",
          "model_name": "LayoutModel",
          "model_module_version": "1.2.0",
          "state": {
            "_model_module": "@jupyter-widgets/base",
            "_model_module_version": "1.2.0",
            "_model_name": "LayoutModel",
            "_view_count": null,
            "_view_module": "@jupyter-widgets/base",
            "_view_module_version": "1.2.0",
            "_view_name": "LayoutView",
            "align_content": null,
            "align_items": null,
            "align_self": null,
            "border": null,
            "bottom": null,
            "display": null,
            "flex": null,
            "flex_flow": null,
            "grid_area": null,
            "grid_auto_columns": null,
            "grid_auto_flow": null,
            "grid_auto_rows": null,
            "grid_column": null,
            "grid_gap": null,
            "grid_row": null,
            "grid_template_areas": null,
            "grid_template_columns": null,
            "grid_template_rows": null,
            "height": null,
            "justify_content": null,
            "justify_items": null,
            "left": null,
            "margin": null,
            "max_height": null,
            "max_width": null,
            "min_height": null,
            "min_width": null,
            "object_fit": null,
            "object_position": null,
            "order": null,
            "overflow": null,
            "overflow_x": null,
            "overflow_y": null,
            "padding": null,
            "right": null,
            "top": null,
            "visibility": null,
            "width": null
          }
        },
        "2bc9ca26fcc34c38bdffe76a43511447": {
          "model_module": "@jupyter-widgets/base",
          "model_name": "LayoutModel",
          "model_module_version": "1.2.0",
          "state": {
            "_model_module": "@jupyter-widgets/base",
            "_model_module_version": "1.2.0",
            "_model_name": "LayoutModel",
            "_view_count": null,
            "_view_module": "@jupyter-widgets/base",
            "_view_module_version": "1.2.0",
            "_view_name": "LayoutView",
            "align_content": null,
            "align_items": null,
            "align_self": null,
            "border": null,
            "bottom": null,
            "display": null,
            "flex": null,
            "flex_flow": null,
            "grid_area": null,
            "grid_auto_columns": null,
            "grid_auto_flow": null,
            "grid_auto_rows": null,
            "grid_column": null,
            "grid_gap": null,
            "grid_row": null,
            "grid_template_areas": null,
            "grid_template_columns": null,
            "grid_template_rows": null,
            "height": null,
            "justify_content": null,
            "justify_items": null,
            "left": null,
            "margin": null,
            "max_height": null,
            "max_width": null,
            "min_height": null,
            "min_width": null,
            "object_fit": null,
            "object_position": null,
            "order": null,
            "overflow": null,
            "overflow_x": null,
            "overflow_y": null,
            "padding": null,
            "right": null,
            "top": null,
            "visibility": null,
            "width": null
          }
        },
        "79d2983e54e64c2493f75948f06e8df9": {
          "model_module": "@jupyter-widgets/controls",
          "model_name": "DescriptionStyleModel",
          "model_module_version": "1.5.0",
          "state": {
            "_model_module": "@jupyter-widgets/controls",
            "_model_module_version": "1.5.0",
            "_model_name": "DescriptionStyleModel",
            "_view_count": null,
            "_view_module": "@jupyter-widgets/base",
            "_view_module_version": "1.2.0",
            "_view_name": "StyleView",
            "description_width": ""
          }
        },
        "b6688c3382634917b46da77149ded046": {
          "model_module": "@jupyter-widgets/base",
          "model_name": "LayoutModel",
          "model_module_version": "1.2.0",
          "state": {
            "_model_module": "@jupyter-widgets/base",
            "_model_module_version": "1.2.0",
            "_model_name": "LayoutModel",
            "_view_count": null,
            "_view_module": "@jupyter-widgets/base",
            "_view_module_version": "1.2.0",
            "_view_name": "LayoutView",
            "align_content": null,
            "align_items": null,
            "align_self": null,
            "border": null,
            "bottom": null,
            "display": null,
            "flex": null,
            "flex_flow": null,
            "grid_area": null,
            "grid_auto_columns": null,
            "grid_auto_flow": null,
            "grid_auto_rows": null,
            "grid_column": null,
            "grid_gap": null,
            "grid_row": null,
            "grid_template_areas": null,
            "grid_template_columns": null,
            "grid_template_rows": null,
            "height": null,
            "justify_content": null,
            "justify_items": null,
            "left": null,
            "margin": null,
            "max_height": null,
            "max_width": null,
            "min_height": null,
            "min_width": null,
            "object_fit": null,
            "object_position": null,
            "order": null,
            "overflow": null,
            "overflow_x": null,
            "overflow_y": null,
            "padding": null,
            "right": null,
            "top": null,
            "visibility": null,
            "width": null
          }
        },
        "90574511e2994217a569015638e2feee": {
          "model_module": "@jupyter-widgets/controls",
          "model_name": "ProgressStyleModel",
          "model_module_version": "1.5.0",
          "state": {
            "_model_module": "@jupyter-widgets/controls",
            "_model_module_version": "1.5.0",
            "_model_name": "ProgressStyleModel",
            "_view_count": null,
            "_view_module": "@jupyter-widgets/base",
            "_view_module_version": "1.2.0",
            "_view_name": "StyleView",
            "bar_color": null,
            "description_width": ""
          }
        },
        "7975207301084673bc9c0f63d201bc85": {
          "model_module": "@jupyter-widgets/base",
          "model_name": "LayoutModel",
          "model_module_version": "1.2.0",
          "state": {
            "_model_module": "@jupyter-widgets/base",
            "_model_module_version": "1.2.0",
            "_model_name": "LayoutModel",
            "_view_count": null,
            "_view_module": "@jupyter-widgets/base",
            "_view_module_version": "1.2.0",
            "_view_name": "LayoutView",
            "align_content": null,
            "align_items": null,
            "align_self": null,
            "border": null,
            "bottom": null,
            "display": null,
            "flex": null,
            "flex_flow": null,
            "grid_area": null,
            "grid_auto_columns": null,
            "grid_auto_flow": null,
            "grid_auto_rows": null,
            "grid_column": null,
            "grid_gap": null,
            "grid_row": null,
            "grid_template_areas": null,
            "grid_template_columns": null,
            "grid_template_rows": null,
            "height": null,
            "justify_content": null,
            "justify_items": null,
            "left": null,
            "margin": null,
            "max_height": null,
            "max_width": null,
            "min_height": null,
            "min_width": null,
            "object_fit": null,
            "object_position": null,
            "order": null,
            "overflow": null,
            "overflow_x": null,
            "overflow_y": null,
            "padding": null,
            "right": null,
            "top": null,
            "visibility": null,
            "width": null
          }
        },
        "4a005f2001bb445e938e88c6c2fcb0ed": {
          "model_module": "@jupyter-widgets/controls",
          "model_name": "DescriptionStyleModel",
          "model_module_version": "1.5.0",
          "state": {
            "_model_module": "@jupyter-widgets/controls",
            "_model_module_version": "1.5.0",
            "_model_name": "DescriptionStyleModel",
            "_view_count": null,
            "_view_module": "@jupyter-widgets/base",
            "_view_module_version": "1.2.0",
            "_view_name": "StyleView",
            "description_width": ""
          }
        },
        "fec6673c68c74024a785eaf603002b24": {
          "model_module": "@jupyter-widgets/controls",
          "model_name": "HBoxModel",
          "model_module_version": "1.5.0",
          "state": {
            "_dom_classes": [],
            "_model_module": "@jupyter-widgets/controls",
            "_model_module_version": "1.5.0",
            "_model_name": "HBoxModel",
            "_view_count": null,
            "_view_module": "@jupyter-widgets/controls",
            "_view_module_version": "1.5.0",
            "_view_name": "HBoxView",
            "box_style": "",
            "children": [
              "IPY_MODEL_e0c83c0391544304acacb5ae328ebd8b",
              "IPY_MODEL_02d11b4cd7fe42aaa72f6eb937c17624",
              "IPY_MODEL_61abddd8807b4961afb5a00337d4cf7b"
            ],
            "layout": "IPY_MODEL_b37da8d668fe482b8f3678a50fdcf412"
          }
        },
        "e0c83c0391544304acacb5ae328ebd8b": {
          "model_module": "@jupyter-widgets/controls",
          "model_name": "HTMLModel",
          "model_module_version": "1.5.0",
          "state": {
            "_dom_classes": [],
            "_model_module": "@jupyter-widgets/controls",
            "_model_module_version": "1.5.0",
            "_model_name": "HTMLModel",
            "_view_count": null,
            "_view_module": "@jupyter-widgets/controls",
            "_view_module_version": "1.5.0",
            "_view_name": "HTMLView",
            "description": "",
            "description_tooltip": null,
            "layout": "IPY_MODEL_c137c28123b643d7b2fab9408d022c8f",
            "placeholder": "​",
            "style": "IPY_MODEL_4bd947b2522743ed8530d08019eb2ec9",
            "value": "Downloading data: 100%"
          }
        },
        "02d11b4cd7fe42aaa72f6eb937c17624": {
          "model_module": "@jupyter-widgets/controls",
          "model_name": "FloatProgressModel",
          "model_module_version": "1.5.0",
          "state": {
            "_dom_classes": [],
            "_model_module": "@jupyter-widgets/controls",
            "_model_module_version": "1.5.0",
            "_model_name": "FloatProgressModel",
            "_view_count": null,
            "_view_module": "@jupyter-widgets/controls",
            "_view_module_version": "1.5.0",
            "_view_name": "ProgressView",
            "bar_style": "success",
            "description": "",
            "description_tooltip": null,
            "layout": "IPY_MODEL_f82b3055bc4c47648ed417779841d7a9",
            "max": 20470363,
            "min": 0,
            "orientation": "horizontal",
            "style": "IPY_MODEL_8432e0b4addd4b6eaf96dbb1bdd83da7",
            "value": 20470363
          }
        },
        "61abddd8807b4961afb5a00337d4cf7b": {
          "model_module": "@jupyter-widgets/controls",
          "model_name": "HTMLModel",
          "model_module_version": "1.5.0",
          "state": {
            "_dom_classes": [],
            "_model_module": "@jupyter-widgets/controls",
            "_model_module_version": "1.5.0",
            "_model_name": "HTMLModel",
            "_view_count": null,
            "_view_module": "@jupyter-widgets/controls",
            "_view_module_version": "1.5.0",
            "_view_name": "HTMLView",
            "description": "",
            "description_tooltip": null,
            "layout": "IPY_MODEL_f4520d2a6c7b4baa8b8399f0c959a650",
            "placeholder": "​",
            "style": "IPY_MODEL_f26ec959efbd4f87b7992d44856e6ab4",
            "value": " 20.5M/20.5M [00:00&lt;00:00, 23.1MB/s]"
          }
        },
        "b37da8d668fe482b8f3678a50fdcf412": {
          "model_module": "@jupyter-widgets/base",
          "model_name": "LayoutModel",
          "model_module_version": "1.2.0",
          "state": {
            "_model_module": "@jupyter-widgets/base",
            "_model_module_version": "1.2.0",
            "_model_name": "LayoutModel",
            "_view_count": null,
            "_view_module": "@jupyter-widgets/base",
            "_view_module_version": "1.2.0",
            "_view_name": "LayoutView",
            "align_content": null,
            "align_items": null,
            "align_self": null,
            "border": null,
            "bottom": null,
            "display": null,
            "flex": null,
            "flex_flow": null,
            "grid_area": null,
            "grid_auto_columns": null,
            "grid_auto_flow": null,
            "grid_auto_rows": null,
            "grid_column": null,
            "grid_gap": null,
            "grid_row": null,
            "grid_template_areas": null,
            "grid_template_columns": null,
            "grid_template_rows": null,
            "height": null,
            "justify_content": null,
            "justify_items": null,
            "left": null,
            "margin": null,
            "max_height": null,
            "max_width": null,
            "min_height": null,
            "min_width": null,
            "object_fit": null,
            "object_position": null,
            "order": null,
            "overflow": null,
            "overflow_x": null,
            "overflow_y": null,
            "padding": null,
            "right": null,
            "top": null,
            "visibility": null,
            "width": null
          }
        },
        "c137c28123b643d7b2fab9408d022c8f": {
          "model_module": "@jupyter-widgets/base",
          "model_name": "LayoutModel",
          "model_module_version": "1.2.0",
          "state": {
            "_model_module": "@jupyter-widgets/base",
            "_model_module_version": "1.2.0",
            "_model_name": "LayoutModel",
            "_view_count": null,
            "_view_module": "@jupyter-widgets/base",
            "_view_module_version": "1.2.0",
            "_view_name": "LayoutView",
            "align_content": null,
            "align_items": null,
            "align_self": null,
            "border": null,
            "bottom": null,
            "display": null,
            "flex": null,
            "flex_flow": null,
            "grid_area": null,
            "grid_auto_columns": null,
            "grid_auto_flow": null,
            "grid_auto_rows": null,
            "grid_column": null,
            "grid_gap": null,
            "grid_row": null,
            "grid_template_areas": null,
            "grid_template_columns": null,
            "grid_template_rows": null,
            "height": null,
            "justify_content": null,
            "justify_items": null,
            "left": null,
            "margin": null,
            "max_height": null,
            "max_width": null,
            "min_height": null,
            "min_width": null,
            "object_fit": null,
            "object_position": null,
            "order": null,
            "overflow": null,
            "overflow_x": null,
            "overflow_y": null,
            "padding": null,
            "right": null,
            "top": null,
            "visibility": null,
            "width": null
          }
        },
        "4bd947b2522743ed8530d08019eb2ec9": {
          "model_module": "@jupyter-widgets/controls",
          "model_name": "DescriptionStyleModel",
          "model_module_version": "1.5.0",
          "state": {
            "_model_module": "@jupyter-widgets/controls",
            "_model_module_version": "1.5.0",
            "_model_name": "DescriptionStyleModel",
            "_view_count": null,
            "_view_module": "@jupyter-widgets/base",
            "_view_module_version": "1.2.0",
            "_view_name": "StyleView",
            "description_width": ""
          }
        },
        "f82b3055bc4c47648ed417779841d7a9": {
          "model_module": "@jupyter-widgets/base",
          "model_name": "LayoutModel",
          "model_module_version": "1.2.0",
          "state": {
            "_model_module": "@jupyter-widgets/base",
            "_model_module_version": "1.2.0",
            "_model_name": "LayoutModel",
            "_view_count": null,
            "_view_module": "@jupyter-widgets/base",
            "_view_module_version": "1.2.0",
            "_view_name": "LayoutView",
            "align_content": null,
            "align_items": null,
            "align_self": null,
            "border": null,
            "bottom": null,
            "display": null,
            "flex": null,
            "flex_flow": null,
            "grid_area": null,
            "grid_auto_columns": null,
            "grid_auto_flow": null,
            "grid_auto_rows": null,
            "grid_column": null,
            "grid_gap": null,
            "grid_row": null,
            "grid_template_areas": null,
            "grid_template_columns": null,
            "grid_template_rows": null,
            "height": null,
            "justify_content": null,
            "justify_items": null,
            "left": null,
            "margin": null,
            "max_height": null,
            "max_width": null,
            "min_height": null,
            "min_width": null,
            "object_fit": null,
            "object_position": null,
            "order": null,
            "overflow": null,
            "overflow_x": null,
            "overflow_y": null,
            "padding": null,
            "right": null,
            "top": null,
            "visibility": null,
            "width": null
          }
        },
        "8432e0b4addd4b6eaf96dbb1bdd83da7": {
          "model_module": "@jupyter-widgets/controls",
          "model_name": "ProgressStyleModel",
          "model_module_version": "1.5.0",
          "state": {
            "_model_module": "@jupyter-widgets/controls",
            "_model_module_version": "1.5.0",
            "_model_name": "ProgressStyleModel",
            "_view_count": null,
            "_view_module": "@jupyter-widgets/base",
            "_view_module_version": "1.2.0",
            "_view_name": "StyleView",
            "bar_color": null,
            "description_width": ""
          }
        },
        "f4520d2a6c7b4baa8b8399f0c959a650": {
          "model_module": "@jupyter-widgets/base",
          "model_name": "LayoutModel",
          "model_module_version": "1.2.0",
          "state": {
            "_model_module": "@jupyter-widgets/base",
            "_model_module_version": "1.2.0",
            "_model_name": "LayoutModel",
            "_view_count": null,
            "_view_module": "@jupyter-widgets/base",
            "_view_module_version": "1.2.0",
            "_view_name": "LayoutView",
            "align_content": null,
            "align_items": null,
            "align_self": null,
            "border": null,
            "bottom": null,
            "display": null,
            "flex": null,
            "flex_flow": null,
            "grid_area": null,
            "grid_auto_columns": null,
            "grid_auto_flow": null,
            "grid_auto_rows": null,
            "grid_column": null,
            "grid_gap": null,
            "grid_row": null,
            "grid_template_areas": null,
            "grid_template_columns": null,
            "grid_template_rows": null,
            "height": null,
            "justify_content": null,
            "justify_items": null,
            "left": null,
            "margin": null,
            "max_height": null,
            "max_width": null,
            "min_height": null,
            "min_width": null,
            "object_fit": null,
            "object_position": null,
            "order": null,
            "overflow": null,
            "overflow_x": null,
            "overflow_y": null,
            "padding": null,
            "right": null,
            "top": null,
            "visibility": null,
            "width": null
          }
        },
        "f26ec959efbd4f87b7992d44856e6ab4": {
          "model_module": "@jupyter-widgets/controls",
          "model_name": "DescriptionStyleModel",
          "model_module_version": "1.5.0",
          "state": {
            "_model_module": "@jupyter-widgets/controls",
            "_model_module_version": "1.5.0",
            "_model_name": "DescriptionStyleModel",
            "_view_count": null,
            "_view_module": "@jupyter-widgets/base",
            "_view_module_version": "1.2.0",
            "_view_name": "StyleView",
            "description_width": ""
          }
        },
        "3244231c5d2d45128861fb2c44aea04a": {
          "model_module": "@jupyter-widgets/controls",
          "model_name": "HBoxModel",
          "model_module_version": "1.5.0",
          "state": {
            "_dom_classes": [],
            "_model_module": "@jupyter-widgets/controls",
            "_model_module_version": "1.5.0",
            "_model_name": "HBoxModel",
            "_view_count": null,
            "_view_module": "@jupyter-widgets/controls",
            "_view_module_version": "1.5.0",
            "_view_name": "HBoxView",
            "box_style": "",
            "children": [
              "IPY_MODEL_8313143813aa457db22684f2dd5359cd",
              "IPY_MODEL_6ecefa1cf300480dac24e50f0e2bf192",
              "IPY_MODEL_ef6aebb7d4e446fbb8bf718ad4c1fc9a"
            ],
            "layout": "IPY_MODEL_73d4d03fc08645a4bfb9ae19c7cf8827"
          }
        },
        "8313143813aa457db22684f2dd5359cd": {
          "model_module": "@jupyter-widgets/controls",
          "model_name": "HTMLModel",
          "model_module_version": "1.5.0",
          "state": {
            "_dom_classes": [],
            "_model_module": "@jupyter-widgets/controls",
            "_model_module_version": "1.5.0",
            "_model_name": "HTMLModel",
            "_view_count": null,
            "_view_module": "@jupyter-widgets/controls",
            "_view_module_version": "1.5.0",
            "_view_name": "HTMLView",
            "description": "",
            "description_tooltip": null,
            "layout": "IPY_MODEL_eaed303b10464865964cdf6a94a08643",
            "placeholder": "​",
            "style": "IPY_MODEL_fabcbfcea80a49ada4ace598d438a837",
            "value": "Downloading data: 100%"
          }
        },
        "6ecefa1cf300480dac24e50f0e2bf192": {
          "model_module": "@jupyter-widgets/controls",
          "model_name": "FloatProgressModel",
          "model_module_version": "1.5.0",
          "state": {
            "_dom_classes": [],
            "_model_module": "@jupyter-widgets/controls",
            "_model_module_version": "1.5.0",
            "_model_name": "FloatProgressModel",
            "_view_count": null,
            "_view_module": "@jupyter-widgets/controls",
            "_view_module_version": "1.5.0",
            "_view_name": "ProgressView",
            "bar_style": "success",
            "description": "",
            "description_tooltip": null,
            "layout": "IPY_MODEL_22685b630f3c4878ac9efd8bf19b8f6e",
            "max": 41996509,
            "min": 0,
            "orientation": "horizontal",
            "style": "IPY_MODEL_cf5d21be4fd84cd89130fa0d70363a9e",
            "value": 41996509
          }
        },
        "ef6aebb7d4e446fbb8bf718ad4c1fc9a": {
          "model_module": "@jupyter-widgets/controls",
          "model_name": "HTMLModel",
          "model_module_version": "1.5.0",
          "state": {
            "_dom_classes": [],
            "_model_module": "@jupyter-widgets/controls",
            "_model_module_version": "1.5.0",
            "_model_name": "HTMLModel",
            "_view_count": null,
            "_view_module": "@jupyter-widgets/controls",
            "_view_module_version": "1.5.0",
            "_view_name": "HTMLView",
            "description": "",
            "description_tooltip": null,
            "layout": "IPY_MODEL_cb3f2950f62f40c79f236e1fe5fe2c86",
            "placeholder": "​",
            "style": "IPY_MODEL_d8e986f4bfce45e68297a640050f40c6",
            "value": " 42.0M/42.0M [00:01&lt;00:00, 22.0MB/s]"
          }
        },
        "73d4d03fc08645a4bfb9ae19c7cf8827": {
          "model_module": "@jupyter-widgets/base",
          "model_name": "LayoutModel",
          "model_module_version": "1.2.0",
          "state": {
            "_model_module": "@jupyter-widgets/base",
            "_model_module_version": "1.2.0",
            "_model_name": "LayoutModel",
            "_view_count": null,
            "_view_module": "@jupyter-widgets/base",
            "_view_module_version": "1.2.0",
            "_view_name": "LayoutView",
            "align_content": null,
            "align_items": null,
            "align_self": null,
            "border": null,
            "bottom": null,
            "display": null,
            "flex": null,
            "flex_flow": null,
            "grid_area": null,
            "grid_auto_columns": null,
            "grid_auto_flow": null,
            "grid_auto_rows": null,
            "grid_column": null,
            "grid_gap": null,
            "grid_row": null,
            "grid_template_areas": null,
            "grid_template_columns": null,
            "grid_template_rows": null,
            "height": null,
            "justify_content": null,
            "justify_items": null,
            "left": null,
            "margin": null,
            "max_height": null,
            "max_width": null,
            "min_height": null,
            "min_width": null,
            "object_fit": null,
            "object_position": null,
            "order": null,
            "overflow": null,
            "overflow_x": null,
            "overflow_y": null,
            "padding": null,
            "right": null,
            "top": null,
            "visibility": null,
            "width": null
          }
        },
        "eaed303b10464865964cdf6a94a08643": {
          "model_module": "@jupyter-widgets/base",
          "model_name": "LayoutModel",
          "model_module_version": "1.2.0",
          "state": {
            "_model_module": "@jupyter-widgets/base",
            "_model_module_version": "1.2.0",
            "_model_name": "LayoutModel",
            "_view_count": null,
            "_view_module": "@jupyter-widgets/base",
            "_view_module_version": "1.2.0",
            "_view_name": "LayoutView",
            "align_content": null,
            "align_items": null,
            "align_self": null,
            "border": null,
            "bottom": null,
            "display": null,
            "flex": null,
            "flex_flow": null,
            "grid_area": null,
            "grid_auto_columns": null,
            "grid_auto_flow": null,
            "grid_auto_rows": null,
            "grid_column": null,
            "grid_gap": null,
            "grid_row": null,
            "grid_template_areas": null,
            "grid_template_columns": null,
            "grid_template_rows": null,
            "height": null,
            "justify_content": null,
            "justify_items": null,
            "left": null,
            "margin": null,
            "max_height": null,
            "max_width": null,
            "min_height": null,
            "min_width": null,
            "object_fit": null,
            "object_position": null,
            "order": null,
            "overflow": null,
            "overflow_x": null,
            "overflow_y": null,
            "padding": null,
            "right": null,
            "top": null,
            "visibility": null,
            "width": null
          }
        },
        "fabcbfcea80a49ada4ace598d438a837": {
          "model_module": "@jupyter-widgets/controls",
          "model_name": "DescriptionStyleModel",
          "model_module_version": "1.5.0",
          "state": {
            "_model_module": "@jupyter-widgets/controls",
            "_model_module_version": "1.5.0",
            "_model_name": "DescriptionStyleModel",
            "_view_count": null,
            "_view_module": "@jupyter-widgets/base",
            "_view_module_version": "1.2.0",
            "_view_name": "StyleView",
            "description_width": ""
          }
        },
        "22685b630f3c4878ac9efd8bf19b8f6e": {
          "model_module": "@jupyter-widgets/base",
          "model_name": "LayoutModel",
          "model_module_version": "1.2.0",
          "state": {
            "_model_module": "@jupyter-widgets/base",
            "_model_module_version": "1.2.0",
            "_model_name": "LayoutModel",
            "_view_count": null,
            "_view_module": "@jupyter-widgets/base",
            "_view_module_version": "1.2.0",
            "_view_name": "LayoutView",
            "align_content": null,
            "align_items": null,
            "align_self": null,
            "border": null,
            "bottom": null,
            "display": null,
            "flex": null,
            "flex_flow": null,
            "grid_area": null,
            "grid_auto_columns": null,
            "grid_auto_flow": null,
            "grid_auto_rows": null,
            "grid_column": null,
            "grid_gap": null,
            "grid_row": null,
            "grid_template_areas": null,
            "grid_template_columns": null,
            "grid_template_rows": null,
            "height": null,
            "justify_content": null,
            "justify_items": null,
            "left": null,
            "margin": null,
            "max_height": null,
            "max_width": null,
            "min_height": null,
            "min_width": null,
            "object_fit": null,
            "object_position": null,
            "order": null,
            "overflow": null,
            "overflow_x": null,
            "overflow_y": null,
            "padding": null,
            "right": null,
            "top": null,
            "visibility": null,
            "width": null
          }
        },
        "cf5d21be4fd84cd89130fa0d70363a9e": {
          "model_module": "@jupyter-widgets/controls",
          "model_name": "ProgressStyleModel",
          "model_module_version": "1.5.0",
          "state": {
            "_model_module": "@jupyter-widgets/controls",
            "_model_module_version": "1.5.0",
            "_model_name": "ProgressStyleModel",
            "_view_count": null,
            "_view_module": "@jupyter-widgets/base",
            "_view_module_version": "1.2.0",
            "_view_name": "StyleView",
            "bar_color": null,
            "description_width": ""
          }
        },
        "cb3f2950f62f40c79f236e1fe5fe2c86": {
          "model_module": "@jupyter-widgets/base",
          "model_name": "LayoutModel",
          "model_module_version": "1.2.0",
          "state": {
            "_model_module": "@jupyter-widgets/base",
            "_model_module_version": "1.2.0",
            "_model_name": "LayoutModel",
            "_view_count": null,
            "_view_module": "@jupyter-widgets/base",
            "_view_module_version": "1.2.0",
            "_view_name": "LayoutView",
            "align_content": null,
            "align_items": null,
            "align_self": null,
            "border": null,
            "bottom": null,
            "display": null,
            "flex": null,
            "flex_flow": null,
            "grid_area": null,
            "grid_auto_columns": null,
            "grid_auto_flow": null,
            "grid_auto_rows": null,
            "grid_column": null,
            "grid_gap": null,
            "grid_row": null,
            "grid_template_areas": null,
            "grid_template_columns": null,
            "grid_template_rows": null,
            "height": null,
            "justify_content": null,
            "justify_items": null,
            "left": null,
            "margin": null,
            "max_height": null,
            "max_width": null,
            "min_height": null,
            "min_width": null,
            "object_fit": null,
            "object_position": null,
            "order": null,
            "overflow": null,
            "overflow_x": null,
            "overflow_y": null,
            "padding": null,
            "right": null,
            "top": null,
            "visibility": null,
            "width": null
          }
        },
        "d8e986f4bfce45e68297a640050f40c6": {
          "model_module": "@jupyter-widgets/controls",
          "model_name": "DescriptionStyleModel",
          "model_module_version": "1.5.0",
          "state": {
            "_model_module": "@jupyter-widgets/controls",
            "_model_module_version": "1.5.0",
            "_model_name": "DescriptionStyleModel",
            "_view_count": null,
            "_view_module": "@jupyter-widgets/base",
            "_view_module_version": "1.2.0",
            "_view_name": "StyleView",
            "description_width": ""
          }
        },
        "52b921308cc443f3b2e3642a804dc3b8": {
          "model_module": "@jupyter-widgets/controls",
          "model_name": "HBoxModel",
          "model_module_version": "1.5.0",
          "state": {
            "_dom_classes": [],
            "_model_module": "@jupyter-widgets/controls",
            "_model_module_version": "1.5.0",
            "_model_name": "HBoxModel",
            "_view_count": null,
            "_view_module": "@jupyter-widgets/controls",
            "_view_module_version": "1.5.0",
            "_view_name": "HBoxView",
            "box_style": "",
            "children": [
              "IPY_MODEL_739d531d001c48e196b50e8eba25283d",
              "IPY_MODEL_e2e94c381177441d96485cca17796838",
              "IPY_MODEL_167f31be0bf64c769bd54d90db00bd57"
            ],
            "layout": "IPY_MODEL_afb68d1db30a4b48be89c5e52a4304fb"
          }
        },
        "739d531d001c48e196b50e8eba25283d": {
          "model_module": "@jupyter-widgets/controls",
          "model_name": "HTMLModel",
          "model_module_version": "1.5.0",
          "state": {
            "_dom_classes": [],
            "_model_module": "@jupyter-widgets/controls",
            "_model_module_version": "1.5.0",
            "_model_name": "HTMLModel",
            "_view_count": null,
            "_view_module": "@jupyter-widgets/controls",
            "_view_module_version": "1.5.0",
            "_view_name": "HTMLView",
            "description": "",
            "description_tooltip": null,
            "layout": "IPY_MODEL_80c89ac7b139405fa79e8f5498c4b5a0",
            "placeholder": "​",
            "style": "IPY_MODEL_907897dae7534a85b3deecc7280fc18a",
            "value": "Generating train split: 100%"
          }
        },
        "e2e94c381177441d96485cca17796838": {
          "model_module": "@jupyter-widgets/controls",
          "model_name": "FloatProgressModel",
          "model_module_version": "1.5.0",
          "state": {
            "_dom_classes": [],
            "_model_module": "@jupyter-widgets/controls",
            "_model_module_version": "1.5.0",
            "_model_name": "FloatProgressModel",
            "_view_count": null,
            "_view_module": "@jupyter-widgets/controls",
            "_view_module_version": "1.5.0",
            "_view_name": "ProgressView",
            "bar_style": "success",
            "description": "",
            "description_tooltip": null,
            "layout": "IPY_MODEL_5107e1bd05984b07b57be1b01f086d05",
            "max": 25000,
            "min": 0,
            "orientation": "horizontal",
            "style": "IPY_MODEL_9e3ceb813adf4493a0a42f675bc8de4d",
            "value": 25000
          }
        },
        "167f31be0bf64c769bd54d90db00bd57": {
          "model_module": "@jupyter-widgets/controls",
          "model_name": "HTMLModel",
          "model_module_version": "1.5.0",
          "state": {
            "_dom_classes": [],
            "_model_module": "@jupyter-widgets/controls",
            "_model_module_version": "1.5.0",
            "_model_name": "HTMLModel",
            "_view_count": null,
            "_view_module": "@jupyter-widgets/controls",
            "_view_module_version": "1.5.0",
            "_view_name": "HTMLView",
            "description": "",
            "description_tooltip": null,
            "layout": "IPY_MODEL_3b4a0e4f77954dd789849bf7feb7c796",
            "placeholder": "​",
            "style": "IPY_MODEL_3052e10723eb4bfd907331d9d9c5468a",
            "value": " 25000/25000 [00:00&lt;00:00, 122748.68 examples/s]"
          }
        },
        "afb68d1db30a4b48be89c5e52a4304fb": {
          "model_module": "@jupyter-widgets/base",
          "model_name": "LayoutModel",
          "model_module_version": "1.2.0",
          "state": {
            "_model_module": "@jupyter-widgets/base",
            "_model_module_version": "1.2.0",
            "_model_name": "LayoutModel",
            "_view_count": null,
            "_view_module": "@jupyter-widgets/base",
            "_view_module_version": "1.2.0",
            "_view_name": "LayoutView",
            "align_content": null,
            "align_items": null,
            "align_self": null,
            "border": null,
            "bottom": null,
            "display": null,
            "flex": null,
            "flex_flow": null,
            "grid_area": null,
            "grid_auto_columns": null,
            "grid_auto_flow": null,
            "grid_auto_rows": null,
            "grid_column": null,
            "grid_gap": null,
            "grid_row": null,
            "grid_template_areas": null,
            "grid_template_columns": null,
            "grid_template_rows": null,
            "height": null,
            "justify_content": null,
            "justify_items": null,
            "left": null,
            "margin": null,
            "max_height": null,
            "max_width": null,
            "min_height": null,
            "min_width": null,
            "object_fit": null,
            "object_position": null,
            "order": null,
            "overflow": null,
            "overflow_x": null,
            "overflow_y": null,
            "padding": null,
            "right": null,
            "top": null,
            "visibility": null,
            "width": null
          }
        },
        "80c89ac7b139405fa79e8f5498c4b5a0": {
          "model_module": "@jupyter-widgets/base",
          "model_name": "LayoutModel",
          "model_module_version": "1.2.0",
          "state": {
            "_model_module": "@jupyter-widgets/base",
            "_model_module_version": "1.2.0",
            "_model_name": "LayoutModel",
            "_view_count": null,
            "_view_module": "@jupyter-widgets/base",
            "_view_module_version": "1.2.0",
            "_view_name": "LayoutView",
            "align_content": null,
            "align_items": null,
            "align_self": null,
            "border": null,
            "bottom": null,
            "display": null,
            "flex": null,
            "flex_flow": null,
            "grid_area": null,
            "grid_auto_columns": null,
            "grid_auto_flow": null,
            "grid_auto_rows": null,
            "grid_column": null,
            "grid_gap": null,
            "grid_row": null,
            "grid_template_areas": null,
            "grid_template_columns": null,
            "grid_template_rows": null,
            "height": null,
            "justify_content": null,
            "justify_items": null,
            "left": null,
            "margin": null,
            "max_height": null,
            "max_width": null,
            "min_height": null,
            "min_width": null,
            "object_fit": null,
            "object_position": null,
            "order": null,
            "overflow": null,
            "overflow_x": null,
            "overflow_y": null,
            "padding": null,
            "right": null,
            "top": null,
            "visibility": null,
            "width": null
          }
        },
        "907897dae7534a85b3deecc7280fc18a": {
          "model_module": "@jupyter-widgets/controls",
          "model_name": "DescriptionStyleModel",
          "model_module_version": "1.5.0",
          "state": {
            "_model_module": "@jupyter-widgets/controls",
            "_model_module_version": "1.5.0",
            "_model_name": "DescriptionStyleModel",
            "_view_count": null,
            "_view_module": "@jupyter-widgets/base",
            "_view_module_version": "1.2.0",
            "_view_name": "StyleView",
            "description_width": ""
          }
        },
        "5107e1bd05984b07b57be1b01f086d05": {
          "model_module": "@jupyter-widgets/base",
          "model_name": "LayoutModel",
          "model_module_version": "1.2.0",
          "state": {
            "_model_module": "@jupyter-widgets/base",
            "_model_module_version": "1.2.0",
            "_model_name": "LayoutModel",
            "_view_count": null,
            "_view_module": "@jupyter-widgets/base",
            "_view_module_version": "1.2.0",
            "_view_name": "LayoutView",
            "align_content": null,
            "align_items": null,
            "align_self": null,
            "border": null,
            "bottom": null,
            "display": null,
            "flex": null,
            "flex_flow": null,
            "grid_area": null,
            "grid_auto_columns": null,
            "grid_auto_flow": null,
            "grid_auto_rows": null,
            "grid_column": null,
            "grid_gap": null,
            "grid_row": null,
            "grid_template_areas": null,
            "grid_template_columns": null,
            "grid_template_rows": null,
            "height": null,
            "justify_content": null,
            "justify_items": null,
            "left": null,
            "margin": null,
            "max_height": null,
            "max_width": null,
            "min_height": null,
            "min_width": null,
            "object_fit": null,
            "object_position": null,
            "order": null,
            "overflow": null,
            "overflow_x": null,
            "overflow_y": null,
            "padding": null,
            "right": null,
            "top": null,
            "visibility": null,
            "width": null
          }
        },
        "9e3ceb813adf4493a0a42f675bc8de4d": {
          "model_module": "@jupyter-widgets/controls",
          "model_name": "ProgressStyleModel",
          "model_module_version": "1.5.0",
          "state": {
            "_model_module": "@jupyter-widgets/controls",
            "_model_module_version": "1.5.0",
            "_model_name": "ProgressStyleModel",
            "_view_count": null,
            "_view_module": "@jupyter-widgets/base",
            "_view_module_version": "1.2.0",
            "_view_name": "StyleView",
            "bar_color": null,
            "description_width": ""
          }
        },
        "3b4a0e4f77954dd789849bf7feb7c796": {
          "model_module": "@jupyter-widgets/base",
          "model_name": "LayoutModel",
          "model_module_version": "1.2.0",
          "state": {
            "_model_module": "@jupyter-widgets/base",
            "_model_module_version": "1.2.0",
            "_model_name": "LayoutModel",
            "_view_count": null,
            "_view_module": "@jupyter-widgets/base",
            "_view_module_version": "1.2.0",
            "_view_name": "LayoutView",
            "align_content": null,
            "align_items": null,
            "align_self": null,
            "border": null,
            "bottom": null,
            "display": null,
            "flex": null,
            "flex_flow": null,
            "grid_area": null,
            "grid_auto_columns": null,
            "grid_auto_flow": null,
            "grid_auto_rows": null,
            "grid_column": null,
            "grid_gap": null,
            "grid_row": null,
            "grid_template_areas": null,
            "grid_template_columns": null,
            "grid_template_rows": null,
            "height": null,
            "justify_content": null,
            "justify_items": null,
            "left": null,
            "margin": null,
            "max_height": null,
            "max_width": null,
            "min_height": null,
            "min_width": null,
            "object_fit": null,
            "object_position": null,
            "order": null,
            "overflow": null,
            "overflow_x": null,
            "overflow_y": null,
            "padding": null,
            "right": null,
            "top": null,
            "visibility": null,
            "width": null
          }
        },
        "3052e10723eb4bfd907331d9d9c5468a": {
          "model_module": "@jupyter-widgets/controls",
          "model_name": "DescriptionStyleModel",
          "model_module_version": "1.5.0",
          "state": {
            "_model_module": "@jupyter-widgets/controls",
            "_model_module_version": "1.5.0",
            "_model_name": "DescriptionStyleModel",
            "_view_count": null,
            "_view_module": "@jupyter-widgets/base",
            "_view_module_version": "1.2.0",
            "_view_name": "StyleView",
            "description_width": ""
          }
        },
        "30d59d80116f4ee8b1e115ef2e7a7351": {
          "model_module": "@jupyter-widgets/controls",
          "model_name": "HBoxModel",
          "model_module_version": "1.5.0",
          "state": {
            "_dom_classes": [],
            "_model_module": "@jupyter-widgets/controls",
            "_model_module_version": "1.5.0",
            "_model_name": "HBoxModel",
            "_view_count": null,
            "_view_module": "@jupyter-widgets/controls",
            "_view_module_version": "1.5.0",
            "_view_name": "HBoxView",
            "box_style": "",
            "children": [
              "IPY_MODEL_96f68a59752d4de090a8b81458f2adb1",
              "IPY_MODEL_4f8b0015f9794cd982d0d9fb9e2c7cf1",
              "IPY_MODEL_ac43182a990a467fbf6d7755ed3e5536"
            ],
            "layout": "IPY_MODEL_b00c5560fd444463b2bc921f73a46a22"
          }
        },
        "96f68a59752d4de090a8b81458f2adb1": {
          "model_module": "@jupyter-widgets/controls",
          "model_name": "HTMLModel",
          "model_module_version": "1.5.0",
          "state": {
            "_dom_classes": [],
            "_model_module": "@jupyter-widgets/controls",
            "_model_module_version": "1.5.0",
            "_model_name": "HTMLModel",
            "_view_count": null,
            "_view_module": "@jupyter-widgets/controls",
            "_view_module_version": "1.5.0",
            "_view_name": "HTMLView",
            "description": "",
            "description_tooltip": null,
            "layout": "IPY_MODEL_a8fb71a75287415ab31578f8d90b8302",
            "placeholder": "​",
            "style": "IPY_MODEL_30dc616244cb4b8e8e7546c524bf3c0c",
            "value": "Generating test split: 100%"
          }
        },
        "4f8b0015f9794cd982d0d9fb9e2c7cf1": {
          "model_module": "@jupyter-widgets/controls",
          "model_name": "FloatProgressModel",
          "model_module_version": "1.5.0",
          "state": {
            "_dom_classes": [],
            "_model_module": "@jupyter-widgets/controls",
            "_model_module_version": "1.5.0",
            "_model_name": "FloatProgressModel",
            "_view_count": null,
            "_view_module": "@jupyter-widgets/controls",
            "_view_module_version": "1.5.0",
            "_view_name": "ProgressView",
            "bar_style": "success",
            "description": "",
            "description_tooltip": null,
            "layout": "IPY_MODEL_28b8c1c061f84b70bbe29ee85598e04a",
            "max": 25000,
            "min": 0,
            "orientation": "horizontal",
            "style": "IPY_MODEL_65e71a3039d44a18a44e5a1b80144ee8",
            "value": 25000
          }
        },
        "ac43182a990a467fbf6d7755ed3e5536": {
          "model_module": "@jupyter-widgets/controls",
          "model_name": "HTMLModel",
          "model_module_version": "1.5.0",
          "state": {
            "_dom_classes": [],
            "_model_module": "@jupyter-widgets/controls",
            "_model_module_version": "1.5.0",
            "_model_name": "HTMLModel",
            "_view_count": null,
            "_view_module": "@jupyter-widgets/controls",
            "_view_module_version": "1.5.0",
            "_view_name": "HTMLView",
            "description": "",
            "description_tooltip": null,
            "layout": "IPY_MODEL_44b33d402ba4468f8d47c750f3ec53cb",
            "placeholder": "​",
            "style": "IPY_MODEL_b6a273b1f7284bf2a95319cf4f087a97",
            "value": " 25000/25000 [00:00&lt;00:00, 150044.68 examples/s]"
          }
        },
        "b00c5560fd444463b2bc921f73a46a22": {
          "model_module": "@jupyter-widgets/base",
          "model_name": "LayoutModel",
          "model_module_version": "1.2.0",
          "state": {
            "_model_module": "@jupyter-widgets/base",
            "_model_module_version": "1.2.0",
            "_model_name": "LayoutModel",
            "_view_count": null,
            "_view_module": "@jupyter-widgets/base",
            "_view_module_version": "1.2.0",
            "_view_name": "LayoutView",
            "align_content": null,
            "align_items": null,
            "align_self": null,
            "border": null,
            "bottom": null,
            "display": null,
            "flex": null,
            "flex_flow": null,
            "grid_area": null,
            "grid_auto_columns": null,
            "grid_auto_flow": null,
            "grid_auto_rows": null,
            "grid_column": null,
            "grid_gap": null,
            "grid_row": null,
            "grid_template_areas": null,
            "grid_template_columns": null,
            "grid_template_rows": null,
            "height": null,
            "justify_content": null,
            "justify_items": null,
            "left": null,
            "margin": null,
            "max_height": null,
            "max_width": null,
            "min_height": null,
            "min_width": null,
            "object_fit": null,
            "object_position": null,
            "order": null,
            "overflow": null,
            "overflow_x": null,
            "overflow_y": null,
            "padding": null,
            "right": null,
            "top": null,
            "visibility": null,
            "width": null
          }
        },
        "a8fb71a75287415ab31578f8d90b8302": {
          "model_module": "@jupyter-widgets/base",
          "model_name": "LayoutModel",
          "model_module_version": "1.2.0",
          "state": {
            "_model_module": "@jupyter-widgets/base",
            "_model_module_version": "1.2.0",
            "_model_name": "LayoutModel",
            "_view_count": null,
            "_view_module": "@jupyter-widgets/base",
            "_view_module_version": "1.2.0",
            "_view_name": "LayoutView",
            "align_content": null,
            "align_items": null,
            "align_self": null,
            "border": null,
            "bottom": null,
            "display": null,
            "flex": null,
            "flex_flow": null,
            "grid_area": null,
            "grid_auto_columns": null,
            "grid_auto_flow": null,
            "grid_auto_rows": null,
            "grid_column": null,
            "grid_gap": null,
            "grid_row": null,
            "grid_template_areas": null,
            "grid_template_columns": null,
            "grid_template_rows": null,
            "height": null,
            "justify_content": null,
            "justify_items": null,
            "left": null,
            "margin": null,
            "max_height": null,
            "max_width": null,
            "min_height": null,
            "min_width": null,
            "object_fit": null,
            "object_position": null,
            "order": null,
            "overflow": null,
            "overflow_x": null,
            "overflow_y": null,
            "padding": null,
            "right": null,
            "top": null,
            "visibility": null,
            "width": null
          }
        },
        "30dc616244cb4b8e8e7546c524bf3c0c": {
          "model_module": "@jupyter-widgets/controls",
          "model_name": "DescriptionStyleModel",
          "model_module_version": "1.5.0",
          "state": {
            "_model_module": "@jupyter-widgets/controls",
            "_model_module_version": "1.5.0",
            "_model_name": "DescriptionStyleModel",
            "_view_count": null,
            "_view_module": "@jupyter-widgets/base",
            "_view_module_version": "1.2.0",
            "_view_name": "StyleView",
            "description_width": ""
          }
        },
        "28b8c1c061f84b70bbe29ee85598e04a": {
          "model_module": "@jupyter-widgets/base",
          "model_name": "LayoutModel",
          "model_module_version": "1.2.0",
          "state": {
            "_model_module": "@jupyter-widgets/base",
            "_model_module_version": "1.2.0",
            "_model_name": "LayoutModel",
            "_view_count": null,
            "_view_module": "@jupyter-widgets/base",
            "_view_module_version": "1.2.0",
            "_view_name": "LayoutView",
            "align_content": null,
            "align_items": null,
            "align_self": null,
            "border": null,
            "bottom": null,
            "display": null,
            "flex": null,
            "flex_flow": null,
            "grid_area": null,
            "grid_auto_columns": null,
            "grid_auto_flow": null,
            "grid_auto_rows": null,
            "grid_column": null,
            "grid_gap": null,
            "grid_row": null,
            "grid_template_areas": null,
            "grid_template_columns": null,
            "grid_template_rows": null,
            "height": null,
            "justify_content": null,
            "justify_items": null,
            "left": null,
            "margin": null,
            "max_height": null,
            "max_width": null,
            "min_height": null,
            "min_width": null,
            "object_fit": null,
            "object_position": null,
            "order": null,
            "overflow": null,
            "overflow_x": null,
            "overflow_y": null,
            "padding": null,
            "right": null,
            "top": null,
            "visibility": null,
            "width": null
          }
        },
        "65e71a3039d44a18a44e5a1b80144ee8": {
          "model_module": "@jupyter-widgets/controls",
          "model_name": "ProgressStyleModel",
          "model_module_version": "1.5.0",
          "state": {
            "_model_module": "@jupyter-widgets/controls",
            "_model_module_version": "1.5.0",
            "_model_name": "ProgressStyleModel",
            "_view_count": null,
            "_view_module": "@jupyter-widgets/base",
            "_view_module_version": "1.2.0",
            "_view_name": "StyleView",
            "bar_color": null,
            "description_width": ""
          }
        },
        "44b33d402ba4468f8d47c750f3ec53cb": {
          "model_module": "@jupyter-widgets/base",
          "model_name": "LayoutModel",
          "model_module_version": "1.2.0",
          "state": {
            "_model_module": "@jupyter-widgets/base",
            "_model_module_version": "1.2.0",
            "_model_name": "LayoutModel",
            "_view_count": null,
            "_view_module": "@jupyter-widgets/base",
            "_view_module_version": "1.2.0",
            "_view_name": "LayoutView",
            "align_content": null,
            "align_items": null,
            "align_self": null,
            "border": null,
            "bottom": null,
            "display": null,
            "flex": null,
            "flex_flow": null,
            "grid_area": null,
            "grid_auto_columns": null,
            "grid_auto_flow": null,
            "grid_auto_rows": null,
            "grid_column": null,
            "grid_gap": null,
            "grid_row": null,
            "grid_template_areas": null,
            "grid_template_columns": null,
            "grid_template_rows": null,
            "height": null,
            "justify_content": null,
            "justify_items": null,
            "left": null,
            "margin": null,
            "max_height": null,
            "max_width": null,
            "min_height": null,
            "min_width": null,
            "object_fit": null,
            "object_position": null,
            "order": null,
            "overflow": null,
            "overflow_x": null,
            "overflow_y": null,
            "padding": null,
            "right": null,
            "top": null,
            "visibility": null,
            "width": null
          }
        },
        "b6a273b1f7284bf2a95319cf4f087a97": {
          "model_module": "@jupyter-widgets/controls",
          "model_name": "DescriptionStyleModel",
          "model_module_version": "1.5.0",
          "state": {
            "_model_module": "@jupyter-widgets/controls",
            "_model_module_version": "1.5.0",
            "_model_name": "DescriptionStyleModel",
            "_view_count": null,
            "_view_module": "@jupyter-widgets/base",
            "_view_module_version": "1.2.0",
            "_view_name": "StyleView",
            "description_width": ""
          }
        },
        "9a29eadbe37e43b39af93032c8da464a": {
          "model_module": "@jupyter-widgets/controls",
          "model_name": "HBoxModel",
          "model_module_version": "1.5.0",
          "state": {
            "_dom_classes": [],
            "_model_module": "@jupyter-widgets/controls",
            "_model_module_version": "1.5.0",
            "_model_name": "HBoxModel",
            "_view_count": null,
            "_view_module": "@jupyter-widgets/controls",
            "_view_module_version": "1.5.0",
            "_view_name": "HBoxView",
            "box_style": "",
            "children": [
              "IPY_MODEL_3f51da39427b41e0b3ff5a714f9157b8",
              "IPY_MODEL_7e0cbfb48e684283ac05930b3aef114f",
              "IPY_MODEL_de18081ece9b46fe928f2d5b2cc9ca2a"
            ],
            "layout": "IPY_MODEL_4be44aeb0da74a2bae79c00dedb589c3"
          }
        },
        "3f51da39427b41e0b3ff5a714f9157b8": {
          "model_module": "@jupyter-widgets/controls",
          "model_name": "HTMLModel",
          "model_module_version": "1.5.0",
          "state": {
            "_dom_classes": [],
            "_model_module": "@jupyter-widgets/controls",
            "_model_module_version": "1.5.0",
            "_model_name": "HTMLModel",
            "_view_count": null,
            "_view_module": "@jupyter-widgets/controls",
            "_view_module_version": "1.5.0",
            "_view_name": "HTMLView",
            "description": "",
            "description_tooltip": null,
            "layout": "IPY_MODEL_2f650dc5b0e34499b2bbb7578de1389e",
            "placeholder": "​",
            "style": "IPY_MODEL_814f4355d0b34ae2a1860b6c463a0b92",
            "value": "Generating unsupervised split: 100%"
          }
        },
        "7e0cbfb48e684283ac05930b3aef114f": {
          "model_module": "@jupyter-widgets/controls",
          "model_name": "FloatProgressModel",
          "model_module_version": "1.5.0",
          "state": {
            "_dom_classes": [],
            "_model_module": "@jupyter-widgets/controls",
            "_model_module_version": "1.5.0",
            "_model_name": "FloatProgressModel",
            "_view_count": null,
            "_view_module": "@jupyter-widgets/controls",
            "_view_module_version": "1.5.0",
            "_view_name": "ProgressView",
            "bar_style": "success",
            "description": "",
            "description_tooltip": null,
            "layout": "IPY_MODEL_fc340a72883549708c26deb5d1e1474a",
            "max": 50000,
            "min": 0,
            "orientation": "horizontal",
            "style": "IPY_MODEL_814ae252a49b4f6ab5f487d2c809cc7c",
            "value": 50000
          }
        },
        "de18081ece9b46fe928f2d5b2cc9ca2a": {
          "model_module": "@jupyter-widgets/controls",
          "model_name": "HTMLModel",
          "model_module_version": "1.5.0",
          "state": {
            "_dom_classes": [],
            "_model_module": "@jupyter-widgets/controls",
            "_model_module_version": "1.5.0",
            "_model_name": "HTMLModel",
            "_view_count": null,
            "_view_module": "@jupyter-widgets/controls",
            "_view_module_version": "1.5.0",
            "_view_name": "HTMLView",
            "description": "",
            "description_tooltip": null,
            "layout": "IPY_MODEL_2f4e852104d1482c9b8f83d970536f15",
            "placeholder": "​",
            "style": "IPY_MODEL_60a7f5c373e84f87af84c3cf058fa30c",
            "value": " 50000/50000 [00:00&lt;00:00, 180009.79 examples/s]"
          }
        },
        "4be44aeb0da74a2bae79c00dedb589c3": {
          "model_module": "@jupyter-widgets/base",
          "model_name": "LayoutModel",
          "model_module_version": "1.2.0",
          "state": {
            "_model_module": "@jupyter-widgets/base",
            "_model_module_version": "1.2.0",
            "_model_name": "LayoutModel",
            "_view_count": null,
            "_view_module": "@jupyter-widgets/base",
            "_view_module_version": "1.2.0",
            "_view_name": "LayoutView",
            "align_content": null,
            "align_items": null,
            "align_self": null,
            "border": null,
            "bottom": null,
            "display": null,
            "flex": null,
            "flex_flow": null,
            "grid_area": null,
            "grid_auto_columns": null,
            "grid_auto_flow": null,
            "grid_auto_rows": null,
            "grid_column": null,
            "grid_gap": null,
            "grid_row": null,
            "grid_template_areas": null,
            "grid_template_columns": null,
            "grid_template_rows": null,
            "height": null,
            "justify_content": null,
            "justify_items": null,
            "left": null,
            "margin": null,
            "max_height": null,
            "max_width": null,
            "min_height": null,
            "min_width": null,
            "object_fit": null,
            "object_position": null,
            "order": null,
            "overflow": null,
            "overflow_x": null,
            "overflow_y": null,
            "padding": null,
            "right": null,
            "top": null,
            "visibility": null,
            "width": null
          }
        },
        "2f650dc5b0e34499b2bbb7578de1389e": {
          "model_module": "@jupyter-widgets/base",
          "model_name": "LayoutModel",
          "model_module_version": "1.2.0",
          "state": {
            "_model_module": "@jupyter-widgets/base",
            "_model_module_version": "1.2.0",
            "_model_name": "LayoutModel",
            "_view_count": null,
            "_view_module": "@jupyter-widgets/base",
            "_view_module_version": "1.2.0",
            "_view_name": "LayoutView",
            "align_content": null,
            "align_items": null,
            "align_self": null,
            "border": null,
            "bottom": null,
            "display": null,
            "flex": null,
            "flex_flow": null,
            "grid_area": null,
            "grid_auto_columns": null,
            "grid_auto_flow": null,
            "grid_auto_rows": null,
            "grid_column": null,
            "grid_gap": null,
            "grid_row": null,
            "grid_template_areas": null,
            "grid_template_columns": null,
            "grid_template_rows": null,
            "height": null,
            "justify_content": null,
            "justify_items": null,
            "left": null,
            "margin": null,
            "max_height": null,
            "max_width": null,
            "min_height": null,
            "min_width": null,
            "object_fit": null,
            "object_position": null,
            "order": null,
            "overflow": null,
            "overflow_x": null,
            "overflow_y": null,
            "padding": null,
            "right": null,
            "top": null,
            "visibility": null,
            "width": null
          }
        },
        "814f4355d0b34ae2a1860b6c463a0b92": {
          "model_module": "@jupyter-widgets/controls",
          "model_name": "DescriptionStyleModel",
          "model_module_version": "1.5.0",
          "state": {
            "_model_module": "@jupyter-widgets/controls",
            "_model_module_version": "1.5.0",
            "_model_name": "DescriptionStyleModel",
            "_view_count": null,
            "_view_module": "@jupyter-widgets/base",
            "_view_module_version": "1.2.0",
            "_view_name": "StyleView",
            "description_width": ""
          }
        },
        "fc340a72883549708c26deb5d1e1474a": {
          "model_module": "@jupyter-widgets/base",
          "model_name": "LayoutModel",
          "model_module_version": "1.2.0",
          "state": {
            "_model_module": "@jupyter-widgets/base",
            "_model_module_version": "1.2.0",
            "_model_name": "LayoutModel",
            "_view_count": null,
            "_view_module": "@jupyter-widgets/base",
            "_view_module_version": "1.2.0",
            "_view_name": "LayoutView",
            "align_content": null,
            "align_items": null,
            "align_self": null,
            "border": null,
            "bottom": null,
            "display": null,
            "flex": null,
            "flex_flow": null,
            "grid_area": null,
            "grid_auto_columns": null,
            "grid_auto_flow": null,
            "grid_auto_rows": null,
            "grid_column": null,
            "grid_gap": null,
            "grid_row": null,
            "grid_template_areas": null,
            "grid_template_columns": null,
            "grid_template_rows": null,
            "height": null,
            "justify_content": null,
            "justify_items": null,
            "left": null,
            "margin": null,
            "max_height": null,
            "max_width": null,
            "min_height": null,
            "min_width": null,
            "object_fit": null,
            "object_position": null,
            "order": null,
            "overflow": null,
            "overflow_x": null,
            "overflow_y": null,
            "padding": null,
            "right": null,
            "top": null,
            "visibility": null,
            "width": null
          }
        },
        "814ae252a49b4f6ab5f487d2c809cc7c": {
          "model_module": "@jupyter-widgets/controls",
          "model_name": "ProgressStyleModel",
          "model_module_version": "1.5.0",
          "state": {
            "_model_module": "@jupyter-widgets/controls",
            "_model_module_version": "1.5.0",
            "_model_name": "ProgressStyleModel",
            "_view_count": null,
            "_view_module": "@jupyter-widgets/base",
            "_view_module_version": "1.2.0",
            "_view_name": "StyleView",
            "bar_color": null,
            "description_width": ""
          }
        },
        "2f4e852104d1482c9b8f83d970536f15": {
          "model_module": "@jupyter-widgets/base",
          "model_name": "LayoutModel",
          "model_module_version": "1.2.0",
          "state": {
            "_model_module": "@jupyter-widgets/base",
            "_model_module_version": "1.2.0",
            "_model_name": "LayoutModel",
            "_view_count": null,
            "_view_module": "@jupyter-widgets/base",
            "_view_module_version": "1.2.0",
            "_view_name": "LayoutView",
            "align_content": null,
            "align_items": null,
            "align_self": null,
            "border": null,
            "bottom": null,
            "display": null,
            "flex": null,
            "flex_flow": null,
            "grid_area": null,
            "grid_auto_columns": null,
            "grid_auto_flow": null,
            "grid_auto_rows": null,
            "grid_column": null,
            "grid_gap": null,
            "grid_row": null,
            "grid_template_areas": null,
            "grid_template_columns": null,
            "grid_template_rows": null,
            "height": null,
            "justify_content": null,
            "justify_items": null,
            "left": null,
            "margin": null,
            "max_height": null,
            "max_width": null,
            "min_height": null,
            "min_width": null,
            "object_fit": null,
            "object_position": null,
            "order": null,
            "overflow": null,
            "overflow_x": null,
            "overflow_y": null,
            "padding": null,
            "right": null,
            "top": null,
            "visibility": null,
            "width": null
          }
        },
        "60a7f5c373e84f87af84c3cf058fa30c": {
          "model_module": "@jupyter-widgets/controls",
          "model_name": "DescriptionStyleModel",
          "model_module_version": "1.5.0",
          "state": {
            "_model_module": "@jupyter-widgets/controls",
            "_model_module_version": "1.5.0",
            "_model_name": "DescriptionStyleModel",
            "_view_count": null,
            "_view_module": "@jupyter-widgets/base",
            "_view_module_version": "1.2.0",
            "_view_name": "StyleView",
            "description_width": ""
          }
        },
        "2d2c355acb924cee877286e1131905dc": {
          "model_module": "@jupyter-widgets/controls",
          "model_name": "HBoxModel",
          "model_module_version": "1.5.0",
          "state": {
            "_dom_classes": [],
            "_model_module": "@jupyter-widgets/controls",
            "_model_module_version": "1.5.0",
            "_model_name": "HBoxModel",
            "_view_count": null,
            "_view_module": "@jupyter-widgets/controls",
            "_view_module_version": "1.5.0",
            "_view_name": "HBoxView",
            "box_style": "",
            "children": [
              "IPY_MODEL_41963333c5b5422d969aef346ab4afc9",
              "IPY_MODEL_b51089004ffc447cb157a119c62b92ae",
              "IPY_MODEL_0339a651ce83421bb8c0bf7f915affb5"
            ],
            "layout": "IPY_MODEL_6be3c8397d3f4a8cbfcb2da229d2df4c"
          }
        },
        "41963333c5b5422d969aef346ab4afc9": {
          "model_module": "@jupyter-widgets/controls",
          "model_name": "HTMLModel",
          "model_module_version": "1.5.0",
          "state": {
            "_dom_classes": [],
            "_model_module": "@jupyter-widgets/controls",
            "_model_module_version": "1.5.0",
            "_model_name": "HTMLModel",
            "_view_count": null,
            "_view_module": "@jupyter-widgets/controls",
            "_view_module_version": "1.5.0",
            "_view_name": "HTMLView",
            "description": "",
            "description_tooltip": null,
            "layout": "IPY_MODEL_e7d1caa6a168490785c7d7c4fc918604",
            "placeholder": "​",
            "style": "IPY_MODEL_0c3e1dc582fe48fa87098a8192b2894a",
            "value": "Map: 100%"
          }
        },
        "b51089004ffc447cb157a119c62b92ae": {
          "model_module": "@jupyter-widgets/controls",
          "model_name": "FloatProgressModel",
          "model_module_version": "1.5.0",
          "state": {
            "_dom_classes": [],
            "_model_module": "@jupyter-widgets/controls",
            "_model_module_version": "1.5.0",
            "_model_name": "FloatProgressModel",
            "_view_count": null,
            "_view_module": "@jupyter-widgets/controls",
            "_view_module_version": "1.5.0",
            "_view_name": "ProgressView",
            "bar_style": "success",
            "description": "",
            "description_tooltip": null,
            "layout": "IPY_MODEL_abb8b4a32ef64fd3b6c05568cbdf35bc",
            "max": 25000,
            "min": 0,
            "orientation": "horizontal",
            "style": "IPY_MODEL_75062dbc2c5545d2a553a6ca75c0c7ca",
            "value": 25000
          }
        },
        "0339a651ce83421bb8c0bf7f915affb5": {
          "model_module": "@jupyter-widgets/controls",
          "model_name": "HTMLModel",
          "model_module_version": "1.5.0",
          "state": {
            "_dom_classes": [],
            "_model_module": "@jupyter-widgets/controls",
            "_model_module_version": "1.5.0",
            "_model_name": "HTMLModel",
            "_view_count": null,
            "_view_module": "@jupyter-widgets/controls",
            "_view_module_version": "1.5.0",
            "_view_name": "HTMLView",
            "description": "",
            "description_tooltip": null,
            "layout": "IPY_MODEL_a3434165a09b46299e5a23527bab1bd3",
            "placeholder": "​",
            "style": "IPY_MODEL_bf83290e860c46cd82a3c9b81baad03c",
            "value": " 25000/25000 [00:44&lt;00:00, 596.85 examples/s]"
          }
        },
        "6be3c8397d3f4a8cbfcb2da229d2df4c": {
          "model_module": "@jupyter-widgets/base",
          "model_name": "LayoutModel",
          "model_module_version": "1.2.0",
          "state": {
            "_model_module": "@jupyter-widgets/base",
            "_model_module_version": "1.2.0",
            "_model_name": "LayoutModel",
            "_view_count": null,
            "_view_module": "@jupyter-widgets/base",
            "_view_module_version": "1.2.0",
            "_view_name": "LayoutView",
            "align_content": null,
            "align_items": null,
            "align_self": null,
            "border": null,
            "bottom": null,
            "display": null,
            "flex": null,
            "flex_flow": null,
            "grid_area": null,
            "grid_auto_columns": null,
            "grid_auto_flow": null,
            "grid_auto_rows": null,
            "grid_column": null,
            "grid_gap": null,
            "grid_row": null,
            "grid_template_areas": null,
            "grid_template_columns": null,
            "grid_template_rows": null,
            "height": null,
            "justify_content": null,
            "justify_items": null,
            "left": null,
            "margin": null,
            "max_height": null,
            "max_width": null,
            "min_height": null,
            "min_width": null,
            "object_fit": null,
            "object_position": null,
            "order": null,
            "overflow": null,
            "overflow_x": null,
            "overflow_y": null,
            "padding": null,
            "right": null,
            "top": null,
            "visibility": null,
            "width": null
          }
        },
        "e7d1caa6a168490785c7d7c4fc918604": {
          "model_module": "@jupyter-widgets/base",
          "model_name": "LayoutModel",
          "model_module_version": "1.2.0",
          "state": {
            "_model_module": "@jupyter-widgets/base",
            "_model_module_version": "1.2.0",
            "_model_name": "LayoutModel",
            "_view_count": null,
            "_view_module": "@jupyter-widgets/base",
            "_view_module_version": "1.2.0",
            "_view_name": "LayoutView",
            "align_content": null,
            "align_items": null,
            "align_self": null,
            "border": null,
            "bottom": null,
            "display": null,
            "flex": null,
            "flex_flow": null,
            "grid_area": null,
            "grid_auto_columns": null,
            "grid_auto_flow": null,
            "grid_auto_rows": null,
            "grid_column": null,
            "grid_gap": null,
            "grid_row": null,
            "grid_template_areas": null,
            "grid_template_columns": null,
            "grid_template_rows": null,
            "height": null,
            "justify_content": null,
            "justify_items": null,
            "left": null,
            "margin": null,
            "max_height": null,
            "max_width": null,
            "min_height": null,
            "min_width": null,
            "object_fit": null,
            "object_position": null,
            "order": null,
            "overflow": null,
            "overflow_x": null,
            "overflow_y": null,
            "padding": null,
            "right": null,
            "top": null,
            "visibility": null,
            "width": null
          }
        },
        "0c3e1dc582fe48fa87098a8192b2894a": {
          "model_module": "@jupyter-widgets/controls",
          "model_name": "DescriptionStyleModel",
          "model_module_version": "1.5.0",
          "state": {
            "_model_module": "@jupyter-widgets/controls",
            "_model_module_version": "1.5.0",
            "_model_name": "DescriptionStyleModel",
            "_view_count": null,
            "_view_module": "@jupyter-widgets/base",
            "_view_module_version": "1.2.0",
            "_view_name": "StyleView",
            "description_width": ""
          }
        },
        "abb8b4a32ef64fd3b6c05568cbdf35bc": {
          "model_module": "@jupyter-widgets/base",
          "model_name": "LayoutModel",
          "model_module_version": "1.2.0",
          "state": {
            "_model_module": "@jupyter-widgets/base",
            "_model_module_version": "1.2.0",
            "_model_name": "LayoutModel",
            "_view_count": null,
            "_view_module": "@jupyter-widgets/base",
            "_view_module_version": "1.2.0",
            "_view_name": "LayoutView",
            "align_content": null,
            "align_items": null,
            "align_self": null,
            "border": null,
            "bottom": null,
            "display": null,
            "flex": null,
            "flex_flow": null,
            "grid_area": null,
            "grid_auto_columns": null,
            "grid_auto_flow": null,
            "grid_auto_rows": null,
            "grid_column": null,
            "grid_gap": null,
            "grid_row": null,
            "grid_template_areas": null,
            "grid_template_columns": null,
            "grid_template_rows": null,
            "height": null,
            "justify_content": null,
            "justify_items": null,
            "left": null,
            "margin": null,
            "max_height": null,
            "max_width": null,
            "min_height": null,
            "min_width": null,
            "object_fit": null,
            "object_position": null,
            "order": null,
            "overflow": null,
            "overflow_x": null,
            "overflow_y": null,
            "padding": null,
            "right": null,
            "top": null,
            "visibility": null,
            "width": null
          }
        },
        "75062dbc2c5545d2a553a6ca75c0c7ca": {
          "model_module": "@jupyter-widgets/controls",
          "model_name": "ProgressStyleModel",
          "model_module_version": "1.5.0",
          "state": {
            "_model_module": "@jupyter-widgets/controls",
            "_model_module_version": "1.5.0",
            "_model_name": "ProgressStyleModel",
            "_view_count": null,
            "_view_module": "@jupyter-widgets/base",
            "_view_module_version": "1.2.0",
            "_view_name": "StyleView",
            "bar_color": null,
            "description_width": ""
          }
        },
        "a3434165a09b46299e5a23527bab1bd3": {
          "model_module": "@jupyter-widgets/base",
          "model_name": "LayoutModel",
          "model_module_version": "1.2.0",
          "state": {
            "_model_module": "@jupyter-widgets/base",
            "_model_module_version": "1.2.0",
            "_model_name": "LayoutModel",
            "_view_count": null,
            "_view_module": "@jupyter-widgets/base",
            "_view_module_version": "1.2.0",
            "_view_name": "LayoutView",
            "align_content": null,
            "align_items": null,
            "align_self": null,
            "border": null,
            "bottom": null,
            "display": null,
            "flex": null,
            "flex_flow": null,
            "grid_area": null,
            "grid_auto_columns": null,
            "grid_auto_flow": null,
            "grid_auto_rows": null,
            "grid_column": null,
            "grid_gap": null,
            "grid_row": null,
            "grid_template_areas": null,
            "grid_template_columns": null,
            "grid_template_rows": null,
            "height": null,
            "justify_content": null,
            "justify_items": null,
            "left": null,
            "margin": null,
            "max_height": null,
            "max_width": null,
            "min_height": null,
            "min_width": null,
            "object_fit": null,
            "object_position": null,
            "order": null,
            "overflow": null,
            "overflow_x": null,
            "overflow_y": null,
            "padding": null,
            "right": null,
            "top": null,
            "visibility": null,
            "width": null
          }
        },
        "bf83290e860c46cd82a3c9b81baad03c": {
          "model_module": "@jupyter-widgets/controls",
          "model_name": "DescriptionStyleModel",
          "model_module_version": "1.5.0",
          "state": {
            "_model_module": "@jupyter-widgets/controls",
            "_model_module_version": "1.5.0",
            "_model_name": "DescriptionStyleModel",
            "_view_count": null,
            "_view_module": "@jupyter-widgets/base",
            "_view_module_version": "1.2.0",
            "_view_name": "StyleView",
            "description_width": ""
          }
        },
        "60556172390a4ad189382c012f65cdc0": {
          "model_module": "@jupyter-widgets/controls",
          "model_name": "HBoxModel",
          "model_module_version": "1.5.0",
          "state": {
            "_dom_classes": [],
            "_model_module": "@jupyter-widgets/controls",
            "_model_module_version": "1.5.0",
            "_model_name": "HBoxModel",
            "_view_count": null,
            "_view_module": "@jupyter-widgets/controls",
            "_view_module_version": "1.5.0",
            "_view_name": "HBoxView",
            "box_style": "",
            "children": [
              "IPY_MODEL_ddd24e3b34eb40b1932cc59dea26be8a",
              "IPY_MODEL_b5c27d418f324ea693afb18097bfb22e",
              "IPY_MODEL_83ccaae064a34609a46fb296a3f498c3"
            ],
            "layout": "IPY_MODEL_b574b82dd3164b1680bbc72fe9e79612"
          }
        },
        "ddd24e3b34eb40b1932cc59dea26be8a": {
          "model_module": "@jupyter-widgets/controls",
          "model_name": "HTMLModel",
          "model_module_version": "1.5.0",
          "state": {
            "_dom_classes": [],
            "_model_module": "@jupyter-widgets/controls",
            "_model_module_version": "1.5.0",
            "_model_name": "HTMLModel",
            "_view_count": null,
            "_view_module": "@jupyter-widgets/controls",
            "_view_module_version": "1.5.0",
            "_view_name": "HTMLView",
            "description": "",
            "description_tooltip": null,
            "layout": "IPY_MODEL_6c5c39295d114ba5be67b620e407762b",
            "placeholder": "​",
            "style": "IPY_MODEL_bfd094e732224f1d90b68aa511e30a47",
            "value": "Downloading data: 100%"
          }
        },
        "b5c27d418f324ea693afb18097bfb22e": {
          "model_module": "@jupyter-widgets/controls",
          "model_name": "FloatProgressModel",
          "model_module_version": "1.5.0",
          "state": {
            "_dom_classes": [],
            "_model_module": "@jupyter-widgets/controls",
            "_model_module_version": "1.5.0",
            "_model_name": "FloatProgressModel",
            "_view_count": null,
            "_view_module": "@jupyter-widgets/controls",
            "_view_module_version": "1.5.0",
            "_view_name": "ProgressView",
            "bar_style": "success",
            "description": "",
            "description_tooltip": null,
            "layout": "IPY_MODEL_dc18b1d4c15c4668ab0c4790b35859be",
            "max": 18585438,
            "min": 0,
            "orientation": "horizontal",
            "style": "IPY_MODEL_138554ec01c44d118a05e9338dec680a",
            "value": 18585438
          }
        },
        "83ccaae064a34609a46fb296a3f498c3": {
          "model_module": "@jupyter-widgets/controls",
          "model_name": "HTMLModel",
          "model_module_version": "1.5.0",
          "state": {
            "_dom_classes": [],
            "_model_module": "@jupyter-widgets/controls",
            "_model_module_version": "1.5.0",
            "_model_name": "HTMLModel",
            "_view_count": null,
            "_view_module": "@jupyter-widgets/controls",
            "_view_module_version": "1.5.0",
            "_view_name": "HTMLView",
            "description": "",
            "description_tooltip": null,
            "layout": "IPY_MODEL_dc07d3f707e84d759dcfa10b80e04a18",
            "placeholder": "​",
            "style": "IPY_MODEL_9c1305d8cce14fc8a2081d625295d148",
            "value": " 18.6M/18.6M [00:01&lt;00:00, 19.3MB/s]"
          }
        },
        "b574b82dd3164b1680bbc72fe9e79612": {
          "model_module": "@jupyter-widgets/base",
          "model_name": "LayoutModel",
          "model_module_version": "1.2.0",
          "state": {
            "_model_module": "@jupyter-widgets/base",
            "_model_module_version": "1.2.0",
            "_model_name": "LayoutModel",
            "_view_count": null,
            "_view_module": "@jupyter-widgets/base",
            "_view_module_version": "1.2.0",
            "_view_name": "LayoutView",
            "align_content": null,
            "align_items": null,
            "align_self": null,
            "border": null,
            "bottom": null,
            "display": null,
            "flex": null,
            "flex_flow": null,
            "grid_area": null,
            "grid_auto_columns": null,
            "grid_auto_flow": null,
            "grid_auto_rows": null,
            "grid_column": null,
            "grid_gap": null,
            "grid_row": null,
            "grid_template_areas": null,
            "grid_template_columns": null,
            "grid_template_rows": null,
            "height": null,
            "justify_content": null,
            "justify_items": null,
            "left": null,
            "margin": null,
            "max_height": null,
            "max_width": null,
            "min_height": null,
            "min_width": null,
            "object_fit": null,
            "object_position": null,
            "order": null,
            "overflow": null,
            "overflow_x": null,
            "overflow_y": null,
            "padding": null,
            "right": null,
            "top": null,
            "visibility": null,
            "width": null
          }
        },
        "6c5c39295d114ba5be67b620e407762b": {
          "model_module": "@jupyter-widgets/base",
          "model_name": "LayoutModel",
          "model_module_version": "1.2.0",
          "state": {
            "_model_module": "@jupyter-widgets/base",
            "_model_module_version": "1.2.0",
            "_model_name": "LayoutModel",
            "_view_count": null,
            "_view_module": "@jupyter-widgets/base",
            "_view_module_version": "1.2.0",
            "_view_name": "LayoutView",
            "align_content": null,
            "align_items": null,
            "align_self": null,
            "border": null,
            "bottom": null,
            "display": null,
            "flex": null,
            "flex_flow": null,
            "grid_area": null,
            "grid_auto_columns": null,
            "grid_auto_flow": null,
            "grid_auto_rows": null,
            "grid_column": null,
            "grid_gap": null,
            "grid_row": null,
            "grid_template_areas": null,
            "grid_template_columns": null,
            "grid_template_rows": null,
            "height": null,
            "justify_content": null,
            "justify_items": null,
            "left": null,
            "margin": null,
            "max_height": null,
            "max_width": null,
            "min_height": null,
            "min_width": null,
            "object_fit": null,
            "object_position": null,
            "order": null,
            "overflow": null,
            "overflow_x": null,
            "overflow_y": null,
            "padding": null,
            "right": null,
            "top": null,
            "visibility": null,
            "width": null
          }
        },
        "bfd094e732224f1d90b68aa511e30a47": {
          "model_module": "@jupyter-widgets/controls",
          "model_name": "DescriptionStyleModel",
          "model_module_version": "1.5.0",
          "state": {
            "_model_module": "@jupyter-widgets/controls",
            "_model_module_version": "1.5.0",
            "_model_name": "DescriptionStyleModel",
            "_view_count": null,
            "_view_module": "@jupyter-widgets/base",
            "_view_module_version": "1.2.0",
            "_view_name": "StyleView",
            "description_width": ""
          }
        },
        "dc18b1d4c15c4668ab0c4790b35859be": {
          "model_module": "@jupyter-widgets/base",
          "model_name": "LayoutModel",
          "model_module_version": "1.2.0",
          "state": {
            "_model_module": "@jupyter-widgets/base",
            "_model_module_version": "1.2.0",
            "_model_name": "LayoutModel",
            "_view_count": null,
            "_view_module": "@jupyter-widgets/base",
            "_view_module_version": "1.2.0",
            "_view_name": "LayoutView",
            "align_content": null,
            "align_items": null,
            "align_self": null,
            "border": null,
            "bottom": null,
            "display": null,
            "flex": null,
            "flex_flow": null,
            "grid_area": null,
            "grid_auto_columns": null,
            "grid_auto_flow": null,
            "grid_auto_rows": null,
            "grid_column": null,
            "grid_gap": null,
            "grid_row": null,
            "grid_template_areas": null,
            "grid_template_columns": null,
            "grid_template_rows": null,
            "height": null,
            "justify_content": null,
            "justify_items": null,
            "left": null,
            "margin": null,
            "max_height": null,
            "max_width": null,
            "min_height": null,
            "min_width": null,
            "object_fit": null,
            "object_position": null,
            "order": null,
            "overflow": null,
            "overflow_x": null,
            "overflow_y": null,
            "padding": null,
            "right": null,
            "top": null,
            "visibility": null,
            "width": null
          }
        },
        "138554ec01c44d118a05e9338dec680a": {
          "model_module": "@jupyter-widgets/controls",
          "model_name": "ProgressStyleModel",
          "model_module_version": "1.5.0",
          "state": {
            "_model_module": "@jupyter-widgets/controls",
            "_model_module_version": "1.5.0",
            "_model_name": "ProgressStyleModel",
            "_view_count": null,
            "_view_module": "@jupyter-widgets/base",
            "_view_module_version": "1.2.0",
            "_view_name": "StyleView",
            "bar_color": null,
            "description_width": ""
          }
        },
        "dc07d3f707e84d759dcfa10b80e04a18": {
          "model_module": "@jupyter-widgets/base",
          "model_name": "LayoutModel",
          "model_module_version": "1.2.0",
          "state": {
            "_model_module": "@jupyter-widgets/base",
            "_model_module_version": "1.2.0",
            "_model_name": "LayoutModel",
            "_view_count": null,
            "_view_module": "@jupyter-widgets/base",
            "_view_module_version": "1.2.0",
            "_view_name": "LayoutView",
            "align_content": null,
            "align_items": null,
            "align_self": null,
            "border": null,
            "bottom": null,
            "display": null,
            "flex": null,
            "flex_flow": null,
            "grid_area": null,
            "grid_auto_columns": null,
            "grid_auto_flow": null,
            "grid_auto_rows": null,
            "grid_column": null,
            "grid_gap": null,
            "grid_row": null,
            "grid_template_areas": null,
            "grid_template_columns": null,
            "grid_template_rows": null,
            "height": null,
            "justify_content": null,
            "justify_items": null,
            "left": null,
            "margin": null,
            "max_height": null,
            "max_width": null,
            "min_height": null,
            "min_width": null,
            "object_fit": null,
            "object_position": null,
            "order": null,
            "overflow": null,
            "overflow_x": null,
            "overflow_y": null,
            "padding": null,
            "right": null,
            "top": null,
            "visibility": null,
            "width": null
          }
        },
        "9c1305d8cce14fc8a2081d625295d148": {
          "model_module": "@jupyter-widgets/controls",
          "model_name": "DescriptionStyleModel",
          "model_module_version": "1.5.0",
          "state": {
            "_model_module": "@jupyter-widgets/controls",
            "_model_module_version": "1.5.0",
            "_model_name": "DescriptionStyleModel",
            "_view_count": null,
            "_view_module": "@jupyter-widgets/base",
            "_view_module_version": "1.2.0",
            "_view_name": "StyleView",
            "description_width": ""
          }
        },
        "bafa045b8f624bf0873a26dc277496dd": {
          "model_module": "@jupyter-widgets/controls",
          "model_name": "HBoxModel",
          "model_module_version": "1.5.0",
          "state": {
            "_dom_classes": [],
            "_model_module": "@jupyter-widgets/controls",
            "_model_module_version": "1.5.0",
            "_model_name": "HBoxModel",
            "_view_count": null,
            "_view_module": "@jupyter-widgets/controls",
            "_view_module_version": "1.5.0",
            "_view_name": "HBoxView",
            "box_style": "",
            "children": [
              "IPY_MODEL_8f38f54c1b4542a084bc11f60951c652",
              "IPY_MODEL_568dd5f4b7e6400099d994a93758969d",
              "IPY_MODEL_965e89a7395e415abee10a8db5afcf6e"
            ],
            "layout": "IPY_MODEL_f9a5725cfe074e0a8c700a4b0d23ffc7"
          }
        },
        "8f38f54c1b4542a084bc11f60951c652": {
          "model_module": "@jupyter-widgets/controls",
          "model_name": "HTMLModel",
          "model_module_version": "1.5.0",
          "state": {
            "_dom_classes": [],
            "_model_module": "@jupyter-widgets/controls",
            "_model_module_version": "1.5.0",
            "_model_name": "HTMLModel",
            "_view_count": null,
            "_view_module": "@jupyter-widgets/controls",
            "_view_module_version": "1.5.0",
            "_view_name": "HTMLView",
            "description": "",
            "description_tooltip": null,
            "layout": "IPY_MODEL_2d9266fcebd3464d96d03485156690ec",
            "placeholder": "​",
            "style": "IPY_MODEL_63a777fffb7c4537baeb7600c7f19892",
            "value": "Downloading data: 100%"
          }
        },
        "568dd5f4b7e6400099d994a93758969d": {
          "model_module": "@jupyter-widgets/controls",
          "model_name": "FloatProgressModel",
          "model_module_version": "1.5.0",
          "state": {
            "_dom_classes": [],
            "_model_module": "@jupyter-widgets/controls",
            "_model_module_version": "1.5.0",
            "_model_name": "FloatProgressModel",
            "_view_count": null,
            "_view_module": "@jupyter-widgets/controls",
            "_view_module_version": "1.5.0",
            "_view_name": "ProgressView",
            "bar_style": "success",
            "description": "",
            "description_tooltip": null,
            "layout": "IPY_MODEL_c36027dff381416b8cf25c9a15a0b617",
            "max": 1234829,
            "min": 0,
            "orientation": "horizontal",
            "style": "IPY_MODEL_f9b8f2ab33164da7a718fa91b698fe88",
            "value": 1234829
          }
        },
        "965e89a7395e415abee10a8db5afcf6e": {
          "model_module": "@jupyter-widgets/controls",
          "model_name": "HTMLModel",
          "model_module_version": "1.5.0",
          "state": {
            "_dom_classes": [],
            "_model_module": "@jupyter-widgets/controls",
            "_model_module_version": "1.5.0",
            "_model_name": "HTMLModel",
            "_view_count": null,
            "_view_module": "@jupyter-widgets/controls",
            "_view_module_version": "1.5.0",
            "_view_name": "HTMLView",
            "description": "",
            "description_tooltip": null,
            "layout": "IPY_MODEL_64e994de33484791b70928854c6cbd0e",
            "placeholder": "​",
            "style": "IPY_MODEL_a17dd62729f14dbc8005c766cd97d899",
            "value": " 1.23M/1.23M [00:00&lt;00:00, 3.42MB/s]"
          }
        },
        "f9a5725cfe074e0a8c700a4b0d23ffc7": {
          "model_module": "@jupyter-widgets/base",
          "model_name": "LayoutModel",
          "model_module_version": "1.2.0",
          "state": {
            "_model_module": "@jupyter-widgets/base",
            "_model_module_version": "1.2.0",
            "_model_name": "LayoutModel",
            "_view_count": null,
            "_view_module": "@jupyter-widgets/base",
            "_view_module_version": "1.2.0",
            "_view_name": "LayoutView",
            "align_content": null,
            "align_items": null,
            "align_self": null,
            "border": null,
            "bottom": null,
            "display": null,
            "flex": null,
            "flex_flow": null,
            "grid_area": null,
            "grid_auto_columns": null,
            "grid_auto_flow": null,
            "grid_auto_rows": null,
            "grid_column": null,
            "grid_gap": null,
            "grid_row": null,
            "grid_template_areas": null,
            "grid_template_columns": null,
            "grid_template_rows": null,
            "height": null,
            "justify_content": null,
            "justify_items": null,
            "left": null,
            "margin": null,
            "max_height": null,
            "max_width": null,
            "min_height": null,
            "min_width": null,
            "object_fit": null,
            "object_position": null,
            "order": null,
            "overflow": null,
            "overflow_x": null,
            "overflow_y": null,
            "padding": null,
            "right": null,
            "top": null,
            "visibility": null,
            "width": null
          }
        },
        "2d9266fcebd3464d96d03485156690ec": {
          "model_module": "@jupyter-widgets/base",
          "model_name": "LayoutModel",
          "model_module_version": "1.2.0",
          "state": {
            "_model_module": "@jupyter-widgets/base",
            "_model_module_version": "1.2.0",
            "_model_name": "LayoutModel",
            "_view_count": null,
            "_view_module": "@jupyter-widgets/base",
            "_view_module_version": "1.2.0",
            "_view_name": "LayoutView",
            "align_content": null,
            "align_items": null,
            "align_self": null,
            "border": null,
            "bottom": null,
            "display": null,
            "flex": null,
            "flex_flow": null,
            "grid_area": null,
            "grid_auto_columns": null,
            "grid_auto_flow": null,
            "grid_auto_rows": null,
            "grid_column": null,
            "grid_gap": null,
            "grid_row": null,
            "grid_template_areas": null,
            "grid_template_columns": null,
            "grid_template_rows": null,
            "height": null,
            "justify_content": null,
            "justify_items": null,
            "left": null,
            "margin": null,
            "max_height": null,
            "max_width": null,
            "min_height": null,
            "min_width": null,
            "object_fit": null,
            "object_position": null,
            "order": null,
            "overflow": null,
            "overflow_x": null,
            "overflow_y": null,
            "padding": null,
            "right": null,
            "top": null,
            "visibility": null,
            "width": null
          }
        },
        "63a777fffb7c4537baeb7600c7f19892": {
          "model_module": "@jupyter-widgets/controls",
          "model_name": "DescriptionStyleModel",
          "model_module_version": "1.5.0",
          "state": {
            "_model_module": "@jupyter-widgets/controls",
            "_model_module_version": "1.5.0",
            "_model_name": "DescriptionStyleModel",
            "_view_count": null,
            "_view_module": "@jupyter-widgets/base",
            "_view_module_version": "1.2.0",
            "_view_name": "StyleView",
            "description_width": ""
          }
        },
        "c36027dff381416b8cf25c9a15a0b617": {
          "model_module": "@jupyter-widgets/base",
          "model_name": "LayoutModel",
          "model_module_version": "1.2.0",
          "state": {
            "_model_module": "@jupyter-widgets/base",
            "_model_module_version": "1.2.0",
            "_model_name": "LayoutModel",
            "_view_count": null,
            "_view_module": "@jupyter-widgets/base",
            "_view_module_version": "1.2.0",
            "_view_name": "LayoutView",
            "align_content": null,
            "align_items": null,
            "align_self": null,
            "border": null,
            "bottom": null,
            "display": null,
            "flex": null,
            "flex_flow": null,
            "grid_area": null,
            "grid_auto_columns": null,
            "grid_auto_flow": null,
            "grid_auto_rows": null,
            "grid_column": null,
            "grid_gap": null,
            "grid_row": null,
            "grid_template_areas": null,
            "grid_template_columns": null,
            "grid_template_rows": null,
            "height": null,
            "justify_content": null,
            "justify_items": null,
            "left": null,
            "margin": null,
            "max_height": null,
            "max_width": null,
            "min_height": null,
            "min_width": null,
            "object_fit": null,
            "object_position": null,
            "order": null,
            "overflow": null,
            "overflow_x": null,
            "overflow_y": null,
            "padding": null,
            "right": null,
            "top": null,
            "visibility": null,
            "width": null
          }
        },
        "f9b8f2ab33164da7a718fa91b698fe88": {
          "model_module": "@jupyter-widgets/controls",
          "model_name": "ProgressStyleModel",
          "model_module_version": "1.5.0",
          "state": {
            "_model_module": "@jupyter-widgets/controls",
            "_model_module_version": "1.5.0",
            "_model_name": "ProgressStyleModel",
            "_view_count": null,
            "_view_module": "@jupyter-widgets/base",
            "_view_module_version": "1.2.0",
            "_view_name": "StyleView",
            "bar_color": null,
            "description_width": ""
          }
        },
        "64e994de33484791b70928854c6cbd0e": {
          "model_module": "@jupyter-widgets/base",
          "model_name": "LayoutModel",
          "model_module_version": "1.2.0",
          "state": {
            "_model_module": "@jupyter-widgets/base",
            "_model_module_version": "1.2.0",
            "_model_name": "LayoutModel",
            "_view_count": null,
            "_view_module": "@jupyter-widgets/base",
            "_view_module_version": "1.2.0",
            "_view_name": "LayoutView",
            "align_content": null,
            "align_items": null,
            "align_self": null,
            "border": null,
            "bottom": null,
            "display": null,
            "flex": null,
            "flex_flow": null,
            "grid_area": null,
            "grid_auto_columns": null,
            "grid_auto_flow": null,
            "grid_auto_rows": null,
            "grid_column": null,
            "grid_gap": null,
            "grid_row": null,
            "grid_template_areas": null,
            "grid_template_columns": null,
            "grid_template_rows": null,
            "height": null,
            "justify_content": null,
            "justify_items": null,
            "left": null,
            "margin": null,
            "max_height": null,
            "max_width": null,
            "min_height": null,
            "min_width": null,
            "object_fit": null,
            "object_position": null,
            "order": null,
            "overflow": null,
            "overflow_x": null,
            "overflow_y": null,
            "padding": null,
            "right": null,
            "top": null,
            "visibility": null,
            "width": null
          }
        },
        "a17dd62729f14dbc8005c766cd97d899": {
          "model_module": "@jupyter-widgets/controls",
          "model_name": "DescriptionStyleModel",
          "model_module_version": "1.5.0",
          "state": {
            "_model_module": "@jupyter-widgets/controls",
            "_model_module_version": "1.5.0",
            "_model_name": "DescriptionStyleModel",
            "_view_count": null,
            "_view_module": "@jupyter-widgets/base",
            "_view_module_version": "1.2.0",
            "_view_name": "StyleView",
            "description_width": ""
          }
        },
        "857c8140f65946b7a1d0402eeab93e3b": {
          "model_module": "@jupyter-widgets/controls",
          "model_name": "HBoxModel",
          "model_module_version": "1.5.0",
          "state": {
            "_dom_classes": [],
            "_model_module": "@jupyter-widgets/controls",
            "_model_module_version": "1.5.0",
            "_model_name": "HBoxModel",
            "_view_count": null,
            "_view_module": "@jupyter-widgets/controls",
            "_view_module_version": "1.5.0",
            "_view_name": "HBoxView",
            "box_style": "",
            "children": [
              "IPY_MODEL_43573930594346739ee54a280b5ba5f6",
              "IPY_MODEL_b89b300e78c842e5be0233745c2e764a",
              "IPY_MODEL_3fbac0f1ad5c4312978740e628c29e4a"
            ],
            "layout": "IPY_MODEL_2cd728aa38c446e5aaddaf48529a2c9a"
          }
        },
        "43573930594346739ee54a280b5ba5f6": {
          "model_module": "@jupyter-widgets/controls",
          "model_name": "HTMLModel",
          "model_module_version": "1.5.0",
          "state": {
            "_dom_classes": [],
            "_model_module": "@jupyter-widgets/controls",
            "_model_module_version": "1.5.0",
            "_model_name": "HTMLModel",
            "_view_count": null,
            "_view_module": "@jupyter-widgets/controls",
            "_view_module_version": "1.5.0",
            "_view_name": "HTMLView",
            "description": "",
            "description_tooltip": null,
            "layout": "IPY_MODEL_1053cf3076cc47f7b8a646bc392b3717",
            "placeholder": "​",
            "style": "IPY_MODEL_bf96a74d20534e9b8768518ae5cfbe4a",
            "value": "Generating train split: 100%"
          }
        },
        "b89b300e78c842e5be0233745c2e764a": {
          "model_module": "@jupyter-widgets/controls",
          "model_name": "FloatProgressModel",
          "model_module_version": "1.5.0",
          "state": {
            "_dom_classes": [],
            "_model_module": "@jupyter-widgets/controls",
            "_model_module_version": "1.5.0",
            "_model_name": "FloatProgressModel",
            "_view_count": null,
            "_view_module": "@jupyter-widgets/controls",
            "_view_module_version": "1.5.0",
            "_view_name": "ProgressView",
            "bar_style": "success",
            "description": "",
            "description_tooltip": null,
            "layout": "IPY_MODEL_226aec04bd8549eb9105ab04113e9822",
            "max": 120000,
            "min": 0,
            "orientation": "horizontal",
            "style": "IPY_MODEL_48a30972a046431693e11df69b2b5a92",
            "value": 120000
          }
        },
        "3fbac0f1ad5c4312978740e628c29e4a": {
          "model_module": "@jupyter-widgets/controls",
          "model_name": "HTMLModel",
          "model_module_version": "1.5.0",
          "state": {
            "_dom_classes": [],
            "_model_module": "@jupyter-widgets/controls",
            "_model_module_version": "1.5.0",
            "_model_name": "HTMLModel",
            "_view_count": null,
            "_view_module": "@jupyter-widgets/controls",
            "_view_module_version": "1.5.0",
            "_view_name": "HTMLView",
            "description": "",
            "description_tooltip": null,
            "layout": "IPY_MODEL_d8d9c4bcb0594c45843f00e00d960c1f",
            "placeholder": "​",
            "style": "IPY_MODEL_f56a5f84441d420dac80c9c502ab6413",
            "value": " 120000/120000 [00:00&lt;00:00, 847722.90 examples/s]"
          }
        },
        "2cd728aa38c446e5aaddaf48529a2c9a": {
          "model_module": "@jupyter-widgets/base",
          "model_name": "LayoutModel",
          "model_module_version": "1.2.0",
          "state": {
            "_model_module": "@jupyter-widgets/base",
            "_model_module_version": "1.2.0",
            "_model_name": "LayoutModel",
            "_view_count": null,
            "_view_module": "@jupyter-widgets/base",
            "_view_module_version": "1.2.0",
            "_view_name": "LayoutView",
            "align_content": null,
            "align_items": null,
            "align_self": null,
            "border": null,
            "bottom": null,
            "display": null,
            "flex": null,
            "flex_flow": null,
            "grid_area": null,
            "grid_auto_columns": null,
            "grid_auto_flow": null,
            "grid_auto_rows": null,
            "grid_column": null,
            "grid_gap": null,
            "grid_row": null,
            "grid_template_areas": null,
            "grid_template_columns": null,
            "grid_template_rows": null,
            "height": null,
            "justify_content": null,
            "justify_items": null,
            "left": null,
            "margin": null,
            "max_height": null,
            "max_width": null,
            "min_height": null,
            "min_width": null,
            "object_fit": null,
            "object_position": null,
            "order": null,
            "overflow": null,
            "overflow_x": null,
            "overflow_y": null,
            "padding": null,
            "right": null,
            "top": null,
            "visibility": null,
            "width": null
          }
        },
        "1053cf3076cc47f7b8a646bc392b3717": {
          "model_module": "@jupyter-widgets/base",
          "model_name": "LayoutModel",
          "model_module_version": "1.2.0",
          "state": {
            "_model_module": "@jupyter-widgets/base",
            "_model_module_version": "1.2.0",
            "_model_name": "LayoutModel",
            "_view_count": null,
            "_view_module": "@jupyter-widgets/base",
            "_view_module_version": "1.2.0",
            "_view_name": "LayoutView",
            "align_content": null,
            "align_items": null,
            "align_self": null,
            "border": null,
            "bottom": null,
            "display": null,
            "flex": null,
            "flex_flow": null,
            "grid_area": null,
            "grid_auto_columns": null,
            "grid_auto_flow": null,
            "grid_auto_rows": null,
            "grid_column": null,
            "grid_gap": null,
            "grid_row": null,
            "grid_template_areas": null,
            "grid_template_columns": null,
            "grid_template_rows": null,
            "height": null,
            "justify_content": null,
            "justify_items": null,
            "left": null,
            "margin": null,
            "max_height": null,
            "max_width": null,
            "min_height": null,
            "min_width": null,
            "object_fit": null,
            "object_position": null,
            "order": null,
            "overflow": null,
            "overflow_x": null,
            "overflow_y": null,
            "padding": null,
            "right": null,
            "top": null,
            "visibility": null,
            "width": null
          }
        },
        "bf96a74d20534e9b8768518ae5cfbe4a": {
          "model_module": "@jupyter-widgets/controls",
          "model_name": "DescriptionStyleModel",
          "model_module_version": "1.5.0",
          "state": {
            "_model_module": "@jupyter-widgets/controls",
            "_model_module_version": "1.5.0",
            "_model_name": "DescriptionStyleModel",
            "_view_count": null,
            "_view_module": "@jupyter-widgets/base",
            "_view_module_version": "1.2.0",
            "_view_name": "StyleView",
            "description_width": ""
          }
        },
        "226aec04bd8549eb9105ab04113e9822": {
          "model_module": "@jupyter-widgets/base",
          "model_name": "LayoutModel",
          "model_module_version": "1.2.0",
          "state": {
            "_model_module": "@jupyter-widgets/base",
            "_model_module_version": "1.2.0",
            "_model_name": "LayoutModel",
            "_view_count": null,
            "_view_module": "@jupyter-widgets/base",
            "_view_module_version": "1.2.0",
            "_view_name": "LayoutView",
            "align_content": null,
            "align_items": null,
            "align_self": null,
            "border": null,
            "bottom": null,
            "display": null,
            "flex": null,
            "flex_flow": null,
            "grid_area": null,
            "grid_auto_columns": null,
            "grid_auto_flow": null,
            "grid_auto_rows": null,
            "grid_column": null,
            "grid_gap": null,
            "grid_row": null,
            "grid_template_areas": null,
            "grid_template_columns": null,
            "grid_template_rows": null,
            "height": null,
            "justify_content": null,
            "justify_items": null,
            "left": null,
            "margin": null,
            "max_height": null,
            "max_width": null,
            "min_height": null,
            "min_width": null,
            "object_fit": null,
            "object_position": null,
            "order": null,
            "overflow": null,
            "overflow_x": null,
            "overflow_y": null,
            "padding": null,
            "right": null,
            "top": null,
            "visibility": null,
            "width": null
          }
        },
        "48a30972a046431693e11df69b2b5a92": {
          "model_module": "@jupyter-widgets/controls",
          "model_name": "ProgressStyleModel",
          "model_module_version": "1.5.0",
          "state": {
            "_model_module": "@jupyter-widgets/controls",
            "_model_module_version": "1.5.0",
            "_model_name": "ProgressStyleModel",
            "_view_count": null,
            "_view_module": "@jupyter-widgets/base",
            "_view_module_version": "1.2.0",
            "_view_name": "StyleView",
            "bar_color": null,
            "description_width": ""
          }
        },
        "d8d9c4bcb0594c45843f00e00d960c1f": {
          "model_module": "@jupyter-widgets/base",
          "model_name": "LayoutModel",
          "model_module_version": "1.2.0",
          "state": {
            "_model_module": "@jupyter-widgets/base",
            "_model_module_version": "1.2.0",
            "_model_name": "LayoutModel",
            "_view_count": null,
            "_view_module": "@jupyter-widgets/base",
            "_view_module_version": "1.2.0",
            "_view_name": "LayoutView",
            "align_content": null,
            "align_items": null,
            "align_self": null,
            "border": null,
            "bottom": null,
            "display": null,
            "flex": null,
            "flex_flow": null,
            "grid_area": null,
            "grid_auto_columns": null,
            "grid_auto_flow": null,
            "grid_auto_rows": null,
            "grid_column": null,
            "grid_gap": null,
            "grid_row": null,
            "grid_template_areas": null,
            "grid_template_columns": null,
            "grid_template_rows": null,
            "height": null,
            "justify_content": null,
            "justify_items": null,
            "left": null,
            "margin": null,
            "max_height": null,
            "max_width": null,
            "min_height": null,
            "min_width": null,
            "object_fit": null,
            "object_position": null,
            "order": null,
            "overflow": null,
            "overflow_x": null,
            "overflow_y": null,
            "padding": null,
            "right": null,
            "top": null,
            "visibility": null,
            "width": null
          }
        },
        "f56a5f84441d420dac80c9c502ab6413": {
          "model_module": "@jupyter-widgets/controls",
          "model_name": "DescriptionStyleModel",
          "model_module_version": "1.5.0",
          "state": {
            "_model_module": "@jupyter-widgets/controls",
            "_model_module_version": "1.5.0",
            "_model_name": "DescriptionStyleModel",
            "_view_count": null,
            "_view_module": "@jupyter-widgets/base",
            "_view_module_version": "1.2.0",
            "_view_name": "StyleView",
            "description_width": ""
          }
        },
        "b5347f1eab4d483d9256102a5726d6b3": {
          "model_module": "@jupyter-widgets/controls",
          "model_name": "HBoxModel",
          "model_module_version": "1.5.0",
          "state": {
            "_dom_classes": [],
            "_model_module": "@jupyter-widgets/controls",
            "_model_module_version": "1.5.0",
            "_model_name": "HBoxModel",
            "_view_count": null,
            "_view_module": "@jupyter-widgets/controls",
            "_view_module_version": "1.5.0",
            "_view_name": "HBoxView",
            "box_style": "",
            "children": [
              "IPY_MODEL_25d630be29a34bd3b6a9051b6557f186",
              "IPY_MODEL_2ec5562ecfb945aab1cdbd129d75ca47",
              "IPY_MODEL_fab816db1b7d47488315e8f98ecadb55"
            ],
            "layout": "IPY_MODEL_9f42e1edfd6a4a07b31deb3bf23e8808"
          }
        },
        "25d630be29a34bd3b6a9051b6557f186": {
          "model_module": "@jupyter-widgets/controls",
          "model_name": "HTMLModel",
          "model_module_version": "1.5.0",
          "state": {
            "_dom_classes": [],
            "_model_module": "@jupyter-widgets/controls",
            "_model_module_version": "1.5.0",
            "_model_name": "HTMLModel",
            "_view_count": null,
            "_view_module": "@jupyter-widgets/controls",
            "_view_module_version": "1.5.0",
            "_view_name": "HTMLView",
            "description": "",
            "description_tooltip": null,
            "layout": "IPY_MODEL_89b6992318b34cb3a75d78ed88dfa125",
            "placeholder": "​",
            "style": "IPY_MODEL_b8518b0d915445a7b928342122e274cd",
            "value": "Generating test split: 100%"
          }
        },
        "2ec5562ecfb945aab1cdbd129d75ca47": {
          "model_module": "@jupyter-widgets/controls",
          "model_name": "FloatProgressModel",
          "model_module_version": "1.5.0",
          "state": {
            "_dom_classes": [],
            "_model_module": "@jupyter-widgets/controls",
            "_model_module_version": "1.5.0",
            "_model_name": "FloatProgressModel",
            "_view_count": null,
            "_view_module": "@jupyter-widgets/controls",
            "_view_module_version": "1.5.0",
            "_view_name": "ProgressView",
            "bar_style": "success",
            "description": "",
            "description_tooltip": null,
            "layout": "IPY_MODEL_a77301dc92484746aba3063f4c601370",
            "max": 7600,
            "min": 0,
            "orientation": "horizontal",
            "style": "IPY_MODEL_c8159bf81f204ebcbc88d48e43eecc5f",
            "value": 7600
          }
        },
        "fab816db1b7d47488315e8f98ecadb55": {
          "model_module": "@jupyter-widgets/controls",
          "model_name": "HTMLModel",
          "model_module_version": "1.5.0",
          "state": {
            "_dom_classes": [],
            "_model_module": "@jupyter-widgets/controls",
            "_model_module_version": "1.5.0",
            "_model_name": "HTMLModel",
            "_view_count": null,
            "_view_module": "@jupyter-widgets/controls",
            "_view_module_version": "1.5.0",
            "_view_name": "HTMLView",
            "description": "",
            "description_tooltip": null,
            "layout": "IPY_MODEL_980da74e49dc4dada5e7770186682bdc",
            "placeholder": "​",
            "style": "IPY_MODEL_5924a404987f4ee79b0f8fc262dcd4be",
            "value": " 7600/7600 [00:00&lt;00:00, 336963.11 examples/s]"
          }
        },
        "9f42e1edfd6a4a07b31deb3bf23e8808": {
          "model_module": "@jupyter-widgets/base",
          "model_name": "LayoutModel",
          "model_module_version": "1.2.0",
          "state": {
            "_model_module": "@jupyter-widgets/base",
            "_model_module_version": "1.2.0",
            "_model_name": "LayoutModel",
            "_view_count": null,
            "_view_module": "@jupyter-widgets/base",
            "_view_module_version": "1.2.0",
            "_view_name": "LayoutView",
            "align_content": null,
            "align_items": null,
            "align_self": null,
            "border": null,
            "bottom": null,
            "display": null,
            "flex": null,
            "flex_flow": null,
            "grid_area": null,
            "grid_auto_columns": null,
            "grid_auto_flow": null,
            "grid_auto_rows": null,
            "grid_column": null,
            "grid_gap": null,
            "grid_row": null,
            "grid_template_areas": null,
            "grid_template_columns": null,
            "grid_template_rows": null,
            "height": null,
            "justify_content": null,
            "justify_items": null,
            "left": null,
            "margin": null,
            "max_height": null,
            "max_width": null,
            "min_height": null,
            "min_width": null,
            "object_fit": null,
            "object_position": null,
            "order": null,
            "overflow": null,
            "overflow_x": null,
            "overflow_y": null,
            "padding": null,
            "right": null,
            "top": null,
            "visibility": null,
            "width": null
          }
        },
        "89b6992318b34cb3a75d78ed88dfa125": {
          "model_module": "@jupyter-widgets/base",
          "model_name": "LayoutModel",
          "model_module_version": "1.2.0",
          "state": {
            "_model_module": "@jupyter-widgets/base",
            "_model_module_version": "1.2.0",
            "_model_name": "LayoutModel",
            "_view_count": null,
            "_view_module": "@jupyter-widgets/base",
            "_view_module_version": "1.2.0",
            "_view_name": "LayoutView",
            "align_content": null,
            "align_items": null,
            "align_self": null,
            "border": null,
            "bottom": null,
            "display": null,
            "flex": null,
            "flex_flow": null,
            "grid_area": null,
            "grid_auto_columns": null,
            "grid_auto_flow": null,
            "grid_auto_rows": null,
            "grid_column": null,
            "grid_gap": null,
            "grid_row": null,
            "grid_template_areas": null,
            "grid_template_columns": null,
            "grid_template_rows": null,
            "height": null,
            "justify_content": null,
            "justify_items": null,
            "left": null,
            "margin": null,
            "max_height": null,
            "max_width": null,
            "min_height": null,
            "min_width": null,
            "object_fit": null,
            "object_position": null,
            "order": null,
            "overflow": null,
            "overflow_x": null,
            "overflow_y": null,
            "padding": null,
            "right": null,
            "top": null,
            "visibility": null,
            "width": null
          }
        },
        "b8518b0d915445a7b928342122e274cd": {
          "model_module": "@jupyter-widgets/controls",
          "model_name": "DescriptionStyleModel",
          "model_module_version": "1.5.0",
          "state": {
            "_model_module": "@jupyter-widgets/controls",
            "_model_module_version": "1.5.0",
            "_model_name": "DescriptionStyleModel",
            "_view_count": null,
            "_view_module": "@jupyter-widgets/base",
            "_view_module_version": "1.2.0",
            "_view_name": "StyleView",
            "description_width": ""
          }
        },
        "a77301dc92484746aba3063f4c601370": {
          "model_module": "@jupyter-widgets/base",
          "model_name": "LayoutModel",
          "model_module_version": "1.2.0",
          "state": {
            "_model_module": "@jupyter-widgets/base",
            "_model_module_version": "1.2.0",
            "_model_name": "LayoutModel",
            "_view_count": null,
            "_view_module": "@jupyter-widgets/base",
            "_view_module_version": "1.2.0",
            "_view_name": "LayoutView",
            "align_content": null,
            "align_items": null,
            "align_self": null,
            "border": null,
            "bottom": null,
            "display": null,
            "flex": null,
            "flex_flow": null,
            "grid_area": null,
            "grid_auto_columns": null,
            "grid_auto_flow": null,
            "grid_auto_rows": null,
            "grid_column": null,
            "grid_gap": null,
            "grid_row": null,
            "grid_template_areas": null,
            "grid_template_columns": null,
            "grid_template_rows": null,
            "height": null,
            "justify_content": null,
            "justify_items": null,
            "left": null,
            "margin": null,
            "max_height": null,
            "max_width": null,
            "min_height": null,
            "min_width": null,
            "object_fit": null,
            "object_position": null,
            "order": null,
            "overflow": null,
            "overflow_x": null,
            "overflow_y": null,
            "padding": null,
            "right": null,
            "top": null,
            "visibility": null,
            "width": null
          }
        },
        "c8159bf81f204ebcbc88d48e43eecc5f": {
          "model_module": "@jupyter-widgets/controls",
          "model_name": "ProgressStyleModel",
          "model_module_version": "1.5.0",
          "state": {
            "_model_module": "@jupyter-widgets/controls",
            "_model_module_version": "1.5.0",
            "_model_name": "ProgressStyleModel",
            "_view_count": null,
            "_view_module": "@jupyter-widgets/base",
            "_view_module_version": "1.2.0",
            "_view_name": "StyleView",
            "bar_color": null,
            "description_width": ""
          }
        },
        "980da74e49dc4dada5e7770186682bdc": {
          "model_module": "@jupyter-widgets/base",
          "model_name": "LayoutModel",
          "model_module_version": "1.2.0",
          "state": {
            "_model_module": "@jupyter-widgets/base",
            "_model_module_version": "1.2.0",
            "_model_name": "LayoutModel",
            "_view_count": null,
            "_view_module": "@jupyter-widgets/base",
            "_view_module_version": "1.2.0",
            "_view_name": "LayoutView",
            "align_content": null,
            "align_items": null,
            "align_self": null,
            "border": null,
            "bottom": null,
            "display": null,
            "flex": null,
            "flex_flow": null,
            "grid_area": null,
            "grid_auto_columns": null,
            "grid_auto_flow": null,
            "grid_auto_rows": null,
            "grid_column": null,
            "grid_gap": null,
            "grid_row": null,
            "grid_template_areas": null,
            "grid_template_columns": null,
            "grid_template_rows": null,
            "height": null,
            "justify_content": null,
            "justify_items": null,
            "left": null,
            "margin": null,
            "max_height": null,
            "max_width": null,
            "min_height": null,
            "min_width": null,
            "object_fit": null,
            "object_position": null,
            "order": null,
            "overflow": null,
            "overflow_x": null,
            "overflow_y": null,
            "padding": null,
            "right": null,
            "top": null,
            "visibility": null,
            "width": null
          }
        },
        "5924a404987f4ee79b0f8fc262dcd4be": {
          "model_module": "@jupyter-widgets/controls",
          "model_name": "DescriptionStyleModel",
          "model_module_version": "1.5.0",
          "state": {
            "_model_module": "@jupyter-widgets/controls",
            "_model_module_version": "1.5.0",
            "_model_name": "DescriptionStyleModel",
            "_view_count": null,
            "_view_module": "@jupyter-widgets/base",
            "_view_module_version": "1.2.0",
            "_view_name": "StyleView",
            "description_width": ""
          }
        },
        "59347846b17047aab5d8a0495d8712b2": {
          "model_module": "@jupyter-widgets/controls",
          "model_name": "HBoxModel",
          "model_module_version": "1.5.0",
          "state": {
            "_dom_classes": [],
            "_model_module": "@jupyter-widgets/controls",
            "_model_module_version": "1.5.0",
            "_model_name": "HBoxModel",
            "_view_count": null,
            "_view_module": "@jupyter-widgets/controls",
            "_view_module_version": "1.5.0",
            "_view_name": "HBoxView",
            "box_style": "",
            "children": [
              "IPY_MODEL_1f650e9737744938b0c7798ef341a3b5",
              "IPY_MODEL_f21a2b53c3674b50a597743b811bd193",
              "IPY_MODEL_a5d2b2a494b04b7ab0f4c9b17b37171f"
            ],
            "layout": "IPY_MODEL_fa876f04bd6c4cdbb5fd637ac573415b"
          }
        },
        "1f650e9737744938b0c7798ef341a3b5": {
          "model_module": "@jupyter-widgets/controls",
          "model_name": "HTMLModel",
          "model_module_version": "1.5.0",
          "state": {
            "_dom_classes": [],
            "_model_module": "@jupyter-widgets/controls",
            "_model_module_version": "1.5.0",
            "_model_name": "HTMLModel",
            "_view_count": null,
            "_view_module": "@jupyter-widgets/controls",
            "_view_module_version": "1.5.0",
            "_view_name": "HTMLView",
            "description": "",
            "description_tooltip": null,
            "layout": "IPY_MODEL_c3804dbcab7a4962bd3b5ddf80f54e96",
            "placeholder": "​",
            "style": "IPY_MODEL_e582d73401374345a286882d99b3fdf1",
            "value": "Map: 100%"
          }
        },
        "f21a2b53c3674b50a597743b811bd193": {
          "model_module": "@jupyter-widgets/controls",
          "model_name": "FloatProgressModel",
          "model_module_version": "1.5.0",
          "state": {
            "_dom_classes": [],
            "_model_module": "@jupyter-widgets/controls",
            "_model_module_version": "1.5.0",
            "_model_name": "FloatProgressModel",
            "_view_count": null,
            "_view_module": "@jupyter-widgets/controls",
            "_view_module_version": "1.5.0",
            "_view_name": "ProgressView",
            "bar_style": "success",
            "description": "",
            "description_tooltip": null,
            "layout": "IPY_MODEL_b4407b85891548b2b0b05971a52eccbe",
            "max": 120000,
            "min": 0,
            "orientation": "horizontal",
            "style": "IPY_MODEL_b9b0cae8d63d40c0b6abb49859b0775a",
            "value": 120000
          }
        },
        "a5d2b2a494b04b7ab0f4c9b17b37171f": {
          "model_module": "@jupyter-widgets/controls",
          "model_name": "HTMLModel",
          "model_module_version": "1.5.0",
          "state": {
            "_dom_classes": [],
            "_model_module": "@jupyter-widgets/controls",
            "_model_module_version": "1.5.0",
            "_model_name": "HTMLModel",
            "_view_count": null,
            "_view_module": "@jupyter-widgets/controls",
            "_view_module_version": "1.5.0",
            "_view_name": "HTMLView",
            "description": "",
            "description_tooltip": null,
            "layout": "IPY_MODEL_241eeccfa6b34a3ea3154211a6f491b5",
            "placeholder": "​",
            "style": "IPY_MODEL_6dd98b85cf424741a1a53df8ae3163c9",
            "value": " 120000/120000 [00:39&lt;00:00, 3139.33 examples/s]"
          }
        },
        "fa876f04bd6c4cdbb5fd637ac573415b": {
          "model_module": "@jupyter-widgets/base",
          "model_name": "LayoutModel",
          "model_module_version": "1.2.0",
          "state": {
            "_model_module": "@jupyter-widgets/base",
            "_model_module_version": "1.2.0",
            "_model_name": "LayoutModel",
            "_view_count": null,
            "_view_module": "@jupyter-widgets/base",
            "_view_module_version": "1.2.0",
            "_view_name": "LayoutView",
            "align_content": null,
            "align_items": null,
            "align_self": null,
            "border": null,
            "bottom": null,
            "display": null,
            "flex": null,
            "flex_flow": null,
            "grid_area": null,
            "grid_auto_columns": null,
            "grid_auto_flow": null,
            "grid_auto_rows": null,
            "grid_column": null,
            "grid_gap": null,
            "grid_row": null,
            "grid_template_areas": null,
            "grid_template_columns": null,
            "grid_template_rows": null,
            "height": null,
            "justify_content": null,
            "justify_items": null,
            "left": null,
            "margin": null,
            "max_height": null,
            "max_width": null,
            "min_height": null,
            "min_width": null,
            "object_fit": null,
            "object_position": null,
            "order": null,
            "overflow": null,
            "overflow_x": null,
            "overflow_y": null,
            "padding": null,
            "right": null,
            "top": null,
            "visibility": null,
            "width": null
          }
        },
        "c3804dbcab7a4962bd3b5ddf80f54e96": {
          "model_module": "@jupyter-widgets/base",
          "model_name": "LayoutModel",
          "model_module_version": "1.2.0",
          "state": {
            "_model_module": "@jupyter-widgets/base",
            "_model_module_version": "1.2.0",
            "_model_name": "LayoutModel",
            "_view_count": null,
            "_view_module": "@jupyter-widgets/base",
            "_view_module_version": "1.2.0",
            "_view_name": "LayoutView",
            "align_content": null,
            "align_items": null,
            "align_self": null,
            "border": null,
            "bottom": null,
            "display": null,
            "flex": null,
            "flex_flow": null,
            "grid_area": null,
            "grid_auto_columns": null,
            "grid_auto_flow": null,
            "grid_auto_rows": null,
            "grid_column": null,
            "grid_gap": null,
            "grid_row": null,
            "grid_template_areas": null,
            "grid_template_columns": null,
            "grid_template_rows": null,
            "height": null,
            "justify_content": null,
            "justify_items": null,
            "left": null,
            "margin": null,
            "max_height": null,
            "max_width": null,
            "min_height": null,
            "min_width": null,
            "object_fit": null,
            "object_position": null,
            "order": null,
            "overflow": null,
            "overflow_x": null,
            "overflow_y": null,
            "padding": null,
            "right": null,
            "top": null,
            "visibility": null,
            "width": null
          }
        },
        "e582d73401374345a286882d99b3fdf1": {
          "model_module": "@jupyter-widgets/controls",
          "model_name": "DescriptionStyleModel",
          "model_module_version": "1.5.0",
          "state": {
            "_model_module": "@jupyter-widgets/controls",
            "_model_module_version": "1.5.0",
            "_model_name": "DescriptionStyleModel",
            "_view_count": null,
            "_view_module": "@jupyter-widgets/base",
            "_view_module_version": "1.2.0",
            "_view_name": "StyleView",
            "description_width": ""
          }
        },
        "b4407b85891548b2b0b05971a52eccbe": {
          "model_module": "@jupyter-widgets/base",
          "model_name": "LayoutModel",
          "model_module_version": "1.2.0",
          "state": {
            "_model_module": "@jupyter-widgets/base",
            "_model_module_version": "1.2.0",
            "_model_name": "LayoutModel",
            "_view_count": null,
            "_view_module": "@jupyter-widgets/base",
            "_view_module_version": "1.2.0",
            "_view_name": "LayoutView",
            "align_content": null,
            "align_items": null,
            "align_self": null,
            "border": null,
            "bottom": null,
            "display": null,
            "flex": null,
            "flex_flow": null,
            "grid_area": null,
            "grid_auto_columns": null,
            "grid_auto_flow": null,
            "grid_auto_rows": null,
            "grid_column": null,
            "grid_gap": null,
            "grid_row": null,
            "grid_template_areas": null,
            "grid_template_columns": null,
            "grid_template_rows": null,
            "height": null,
            "justify_content": null,
            "justify_items": null,
            "left": null,
            "margin": null,
            "max_height": null,
            "max_width": null,
            "min_height": null,
            "min_width": null,
            "object_fit": null,
            "object_position": null,
            "order": null,
            "overflow": null,
            "overflow_x": null,
            "overflow_y": null,
            "padding": null,
            "right": null,
            "top": null,
            "visibility": null,
            "width": null
          }
        },
        "b9b0cae8d63d40c0b6abb49859b0775a": {
          "model_module": "@jupyter-widgets/controls",
          "model_name": "ProgressStyleModel",
          "model_module_version": "1.5.0",
          "state": {
            "_model_module": "@jupyter-widgets/controls",
            "_model_module_version": "1.5.0",
            "_model_name": "ProgressStyleModel",
            "_view_count": null,
            "_view_module": "@jupyter-widgets/base",
            "_view_module_version": "1.2.0",
            "_view_name": "StyleView",
            "bar_color": null,
            "description_width": ""
          }
        },
        "241eeccfa6b34a3ea3154211a6f491b5": {
          "model_module": "@jupyter-widgets/base",
          "model_name": "LayoutModel",
          "model_module_version": "1.2.0",
          "state": {
            "_model_module": "@jupyter-widgets/base",
            "_model_module_version": "1.2.0",
            "_model_name": "LayoutModel",
            "_view_count": null,
            "_view_module": "@jupyter-widgets/base",
            "_view_module_version": "1.2.0",
            "_view_name": "LayoutView",
            "align_content": null,
            "align_items": null,
            "align_self": null,
            "border": null,
            "bottom": null,
            "display": null,
            "flex": null,
            "flex_flow": null,
            "grid_area": null,
            "grid_auto_columns": null,
            "grid_auto_flow": null,
            "grid_auto_rows": null,
            "grid_column": null,
            "grid_gap": null,
            "grid_row": null,
            "grid_template_areas": null,
            "grid_template_columns": null,
            "grid_template_rows": null,
            "height": null,
            "justify_content": null,
            "justify_items": null,
            "left": null,
            "margin": null,
            "max_height": null,
            "max_width": null,
            "min_height": null,
            "min_width": null,
            "object_fit": null,
            "object_position": null,
            "order": null,
            "overflow": null,
            "overflow_x": null,
            "overflow_y": null,
            "padding": null,
            "right": null,
            "top": null,
            "visibility": null,
            "width": null
          }
        },
        "6dd98b85cf424741a1a53df8ae3163c9": {
          "model_module": "@jupyter-widgets/controls",
          "model_name": "DescriptionStyleModel",
          "model_module_version": "1.5.0",
          "state": {
            "_model_module": "@jupyter-widgets/controls",
            "_model_module_version": "1.5.0",
            "_model_name": "DescriptionStyleModel",
            "_view_count": null,
            "_view_module": "@jupyter-widgets/base",
            "_view_module_version": "1.2.0",
            "_view_name": "StyleView",
            "description_width": ""
          }
        }
      }
    }
  },
  "cells": [
    {
      "cell_type": "markdown",
      "metadata": {
        "id": "view-in-github",
        "colab_type": "text"
      },
      "source": [
        "<a href=\"https://colab.research.google.com/github/AIAlchemy1/Generative-AI/blob/main/06_Language_Modelling_RNN_LSTM/RNN_LSTM.ipynb\" target=\"_parent\"><img src=\"https://colab.research.google.com/assets/colab-badge.svg\" alt=\"Open In Colab\"/></a>"
      ]
    },
    {
      "cell_type": "markdown",
      "source": [
        "# Language Modeling With RNN and LSTM\n",
        "\n",
        "Large number of NLP applications today are based on language models. Language modeling aims to predict the next word in a word sequence or estimate the likelihood of a word sequence.\n",
        "\n",
        "Let's train RNN language models and try to use them for text generation."
      ],
      "metadata": {
        "id": "HcHgCOh3bvrl"
      }
    },
    {
      "cell_type": "code",
      "source": [
        "!pip install datasets"
      ],
      "metadata": {
        "id": "kGym-EXuiT6b",
        "colab": {
          "base_uri": "https://localhost:8080/"
        },
        "outputId": "a5bdb45c-455b-45e7-f4ae-0e40f82d55ef"
      },
      "execution_count": 7,
      "outputs": [
        {
          "output_type": "stream",
          "name": "stdout",
          "text": [
            "Collecting datasets\n",
            "  Downloading datasets-2.17.1-py3-none-any.whl (536 kB)\n",
            "\u001b[2K     \u001b[90m━━━━━━━━━━━━━━━━━━━━━━━━━━━━━━━━━━━━━━━━\u001b[0m \u001b[32m536.7/536.7 kB\u001b[0m \u001b[31m11.5 MB/s\u001b[0m eta \u001b[36m0:00:00\u001b[0m\n",
            "\u001b[?25hRequirement already satisfied: filelock in /usr/local/lib/python3.10/dist-packages (from datasets) (3.13.1)\n",
            "Requirement already satisfied: numpy>=1.17 in /usr/local/lib/python3.10/dist-packages (from datasets) (1.25.2)\n",
            "Requirement already satisfied: pyarrow>=12.0.0 in /usr/local/lib/python3.10/dist-packages (from datasets) (14.0.2)\n",
            "Requirement already satisfied: pyarrow-hotfix in /usr/local/lib/python3.10/dist-packages (from datasets) (0.6)\n",
            "Collecting dill<0.3.9,>=0.3.0 (from datasets)\n",
            "  Downloading dill-0.3.8-py3-none-any.whl (116 kB)\n",
            "\u001b[2K     \u001b[90m━━━━━━━━━━━━━━━━━━━━━━━━━━━━━━━━━━━━━━━━\u001b[0m \u001b[32m116.3/116.3 kB\u001b[0m \u001b[31m20.7 MB/s\u001b[0m eta \u001b[36m0:00:00\u001b[0m\n",
            "\u001b[?25hRequirement already satisfied: pandas in /usr/local/lib/python3.10/dist-packages (from datasets) (1.5.3)\n",
            "Requirement already satisfied: requests>=2.19.0 in /usr/local/lib/python3.10/dist-packages (from datasets) (2.31.0)\n",
            "Requirement already satisfied: tqdm>=4.62.1 in /usr/local/lib/python3.10/dist-packages (from datasets) (4.66.2)\n",
            "Requirement already satisfied: xxhash in /usr/local/lib/python3.10/dist-packages (from datasets) (3.4.1)\n",
            "Collecting multiprocess (from datasets)\n",
            "  Downloading multiprocess-0.70.16-py310-none-any.whl (134 kB)\n",
            "\u001b[2K     \u001b[90m━━━━━━━━━━━━━━━━━━━━━━━━━━━━━━━━━━━━━━━━\u001b[0m \u001b[32m134.8/134.8 kB\u001b[0m \u001b[31m22.9 MB/s\u001b[0m eta \u001b[36m0:00:00\u001b[0m\n",
            "\u001b[?25hRequirement already satisfied: fsspec[http]<=2023.10.0,>=2023.1.0 in /usr/local/lib/python3.10/dist-packages (from datasets) (2023.6.0)\n",
            "Requirement already satisfied: aiohttp in /usr/local/lib/python3.10/dist-packages (from datasets) (3.9.3)\n",
            "Requirement already satisfied: huggingface-hub>=0.19.4 in /usr/local/lib/python3.10/dist-packages (from datasets) (0.20.3)\n",
            "Requirement already satisfied: packaging in /usr/local/lib/python3.10/dist-packages (from datasets) (23.2)\n",
            "Requirement already satisfied: pyyaml>=5.1 in /usr/local/lib/python3.10/dist-packages (from datasets) (6.0.1)\n",
            "Requirement already satisfied: aiosignal>=1.1.2 in /usr/local/lib/python3.10/dist-packages (from aiohttp->datasets) (1.3.1)\n",
            "Requirement already satisfied: attrs>=17.3.0 in /usr/local/lib/python3.10/dist-packages (from aiohttp->datasets) (23.2.0)\n",
            "Requirement already satisfied: frozenlist>=1.1.1 in /usr/local/lib/python3.10/dist-packages (from aiohttp->datasets) (1.4.1)\n",
            "Requirement already satisfied: multidict<7.0,>=4.5 in /usr/local/lib/python3.10/dist-packages (from aiohttp->datasets) (6.0.5)\n",
            "Requirement already satisfied: yarl<2.0,>=1.0 in /usr/local/lib/python3.10/dist-packages (from aiohttp->datasets) (1.9.4)\n",
            "Requirement already satisfied: async-timeout<5.0,>=4.0 in /usr/local/lib/python3.10/dist-packages (from aiohttp->datasets) (4.0.3)\n",
            "Requirement already satisfied: typing-extensions>=3.7.4.3 in /usr/local/lib/python3.10/dist-packages (from huggingface-hub>=0.19.4->datasets) (4.10.0)\n",
            "Requirement already satisfied: charset-normalizer<4,>=2 in /usr/local/lib/python3.10/dist-packages (from requests>=2.19.0->datasets) (3.3.2)\n",
            "Requirement already satisfied: idna<4,>=2.5 in /usr/local/lib/python3.10/dist-packages (from requests>=2.19.0->datasets) (3.6)\n",
            "Requirement already satisfied: urllib3<3,>=1.21.1 in /usr/local/lib/python3.10/dist-packages (from requests>=2.19.0->datasets) (2.0.7)\n",
            "Requirement already satisfied: certifi>=2017.4.17 in /usr/local/lib/python3.10/dist-packages (from requests>=2.19.0->datasets) (2024.2.2)\n",
            "Requirement already satisfied: python-dateutil>=2.8.1 in /usr/local/lib/python3.10/dist-packages (from pandas->datasets) (2.8.2)\n",
            "Requirement already satisfied: pytz>=2020.1 in /usr/local/lib/python3.10/dist-packages (from pandas->datasets) (2023.4)\n",
            "Requirement already satisfied: six>=1.5 in /usr/local/lib/python3.10/dist-packages (from python-dateutil>=2.8.1->pandas->datasets) (1.16.0)\n",
            "Installing collected packages: dill, multiprocess, datasets\n",
            "Successfully installed datasets-2.17.1 dill-0.3.8 multiprocess-0.70.16\n"
          ]
        }
      ]
    },
    {
      "cell_type": "markdown",
      "source": [
        "We will train language model based on movie reviews from popular IMDB dataset. The dataset could be downloaded using `datasets` library."
      ],
      "metadata": {
        "id": "KR7y1CQayhKy"
      }
    },
    {
      "cell_type": "code",
      "execution_count": 8,
      "metadata": {
        "id": "ga1JzpMfjgQY"
      },
      "outputs": [],
      "source": [
        "import datasets"
      ]
    },
    {
      "cell_type": "code",
      "source": [
        "from datasets import load_dataset\n",
        "\n",
        "dataset_reviews = load_dataset(\"imdb\", split='train')"
      ],
      "metadata": {
        "id": "JJ4gydFoiAMt",
        "colab": {
          "base_uri": "https://localhost:8080/",
          "height": 365,
          "referenced_widgets": [
            "2f765dcd8b364519a4414296f4ce88e5",
            "d7d273957e6741cdb555c9cbf322aafd",
            "fa20726bc7a747f3a53f7699c9a1b08a",
            "0a66fb0bda464bb9a89129ceb313a35f",
            "6a1f91c98b9344269622ec1020538ee1",
            "a947a56a8f814bcba3f2df17ef91dde2",
            "a8f56ea845ee4a1cb3afb127dff3e43b",
            "50807e596aac42529f1b45f3feddce2d",
            "a5a3d88f1ce8416095d8065c1f2e6a67",
            "c1bb699ea5b54058b8e0d020777c0373",
            "38a246ed0a774b02bee9db2781de5ce6",
            "bf448b9da3344e82af224a241f5e6903",
            "fa68e137327b473f84715e7fea6d7a47",
            "98f32f2d174441ac88e4e6640db59f5d",
            "0254f501a5ea410f9879147c02c9d16f",
            "023180822d4c4167a6aadeca387b1612",
            "2bc9ca26fcc34c38bdffe76a43511447",
            "79d2983e54e64c2493f75948f06e8df9",
            "b6688c3382634917b46da77149ded046",
            "90574511e2994217a569015638e2feee",
            "7975207301084673bc9c0f63d201bc85",
            "4a005f2001bb445e938e88c6c2fcb0ed",
            "fec6673c68c74024a785eaf603002b24",
            "e0c83c0391544304acacb5ae328ebd8b",
            "02d11b4cd7fe42aaa72f6eb937c17624",
            "61abddd8807b4961afb5a00337d4cf7b",
            "b37da8d668fe482b8f3678a50fdcf412",
            "c137c28123b643d7b2fab9408d022c8f",
            "4bd947b2522743ed8530d08019eb2ec9",
            "f82b3055bc4c47648ed417779841d7a9",
            "8432e0b4addd4b6eaf96dbb1bdd83da7",
            "f4520d2a6c7b4baa8b8399f0c959a650",
            "f26ec959efbd4f87b7992d44856e6ab4",
            "3244231c5d2d45128861fb2c44aea04a",
            "8313143813aa457db22684f2dd5359cd",
            "6ecefa1cf300480dac24e50f0e2bf192",
            "ef6aebb7d4e446fbb8bf718ad4c1fc9a",
            "73d4d03fc08645a4bfb9ae19c7cf8827",
            "eaed303b10464865964cdf6a94a08643",
            "fabcbfcea80a49ada4ace598d438a837",
            "22685b630f3c4878ac9efd8bf19b8f6e",
            "cf5d21be4fd84cd89130fa0d70363a9e",
            "cb3f2950f62f40c79f236e1fe5fe2c86",
            "d8e986f4bfce45e68297a640050f40c6",
            "52b921308cc443f3b2e3642a804dc3b8",
            "739d531d001c48e196b50e8eba25283d",
            "e2e94c381177441d96485cca17796838",
            "167f31be0bf64c769bd54d90db00bd57",
            "afb68d1db30a4b48be89c5e52a4304fb",
            "80c89ac7b139405fa79e8f5498c4b5a0",
            "907897dae7534a85b3deecc7280fc18a",
            "5107e1bd05984b07b57be1b01f086d05",
            "9e3ceb813adf4493a0a42f675bc8de4d",
            "3b4a0e4f77954dd789849bf7feb7c796",
            "3052e10723eb4bfd907331d9d9c5468a",
            "30d59d80116f4ee8b1e115ef2e7a7351",
            "96f68a59752d4de090a8b81458f2adb1",
            "4f8b0015f9794cd982d0d9fb9e2c7cf1",
            "ac43182a990a467fbf6d7755ed3e5536",
            "b00c5560fd444463b2bc921f73a46a22",
            "a8fb71a75287415ab31578f8d90b8302",
            "30dc616244cb4b8e8e7546c524bf3c0c",
            "28b8c1c061f84b70bbe29ee85598e04a",
            "65e71a3039d44a18a44e5a1b80144ee8",
            "44b33d402ba4468f8d47c750f3ec53cb",
            "b6a273b1f7284bf2a95319cf4f087a97",
            "9a29eadbe37e43b39af93032c8da464a",
            "3f51da39427b41e0b3ff5a714f9157b8",
            "7e0cbfb48e684283ac05930b3aef114f",
            "de18081ece9b46fe928f2d5b2cc9ca2a",
            "4be44aeb0da74a2bae79c00dedb589c3",
            "2f650dc5b0e34499b2bbb7578de1389e",
            "814f4355d0b34ae2a1860b6c463a0b92",
            "fc340a72883549708c26deb5d1e1474a",
            "814ae252a49b4f6ab5f487d2c809cc7c",
            "2f4e852104d1482c9b8f83d970536f15",
            "60a7f5c373e84f87af84c3cf058fa30c"
          ]
        },
        "outputId": "c9704eee-be4c-4a0b-d497-afd79cac1558"
      },
      "execution_count": 9,
      "outputs": [
        {
          "output_type": "stream",
          "name": "stderr",
          "text": [
            "/usr/local/lib/python3.10/dist-packages/huggingface_hub/utils/_token.py:88: UserWarning: \n",
            "The secret `HF_TOKEN` does not exist in your Colab secrets.\n",
            "To authenticate with the Hugging Face Hub, create a token in your settings tab (https://huggingface.co/settings/tokens), set it as secret in your Google Colab and restart your session.\n",
            "You will be able to reuse this secret in all of your notebooks.\n",
            "Please note that authentication is recommended but still optional to access public models or datasets.\n",
            "  warnings.warn(\n"
          ]
        },
        {
          "output_type": "display_data",
          "data": {
            "text/plain": [
              "Downloading readme:   0%|          | 0.00/7.81k [00:00<?, ?B/s]"
            ],
            "application/vnd.jupyter.widget-view+json": {
              "version_major": 2,
              "version_minor": 0,
              "model_id": "2f765dcd8b364519a4414296f4ce88e5"
            }
          },
          "metadata": {}
        },
        {
          "output_type": "display_data",
          "data": {
            "text/plain": [
              "Downloading data:   0%|          | 0.00/21.0M [00:00<?, ?B/s]"
            ],
            "application/vnd.jupyter.widget-view+json": {
              "version_major": 2,
              "version_minor": 0,
              "model_id": "bf448b9da3344e82af224a241f5e6903"
            }
          },
          "metadata": {}
        },
        {
          "output_type": "display_data",
          "data": {
            "text/plain": [
              "Downloading data:   0%|          | 0.00/20.5M [00:00<?, ?B/s]"
            ],
            "application/vnd.jupyter.widget-view+json": {
              "version_major": 2,
              "version_minor": 0,
              "model_id": "fec6673c68c74024a785eaf603002b24"
            }
          },
          "metadata": {}
        },
        {
          "output_type": "display_data",
          "data": {
            "text/plain": [
              "Downloading data:   0%|          | 0.00/42.0M [00:00<?, ?B/s]"
            ],
            "application/vnd.jupyter.widget-view+json": {
              "version_major": 2,
              "version_minor": 0,
              "model_id": "3244231c5d2d45128861fb2c44aea04a"
            }
          },
          "metadata": {}
        },
        {
          "output_type": "display_data",
          "data": {
            "text/plain": [
              "Generating train split:   0%|          | 0/25000 [00:00<?, ? examples/s]"
            ],
            "application/vnd.jupyter.widget-view+json": {
              "version_major": 2,
              "version_minor": 0,
              "model_id": "52b921308cc443f3b2e3642a804dc3b8"
            }
          },
          "metadata": {}
        },
        {
          "output_type": "display_data",
          "data": {
            "text/plain": [
              "Generating test split:   0%|          | 0/25000 [00:00<?, ? examples/s]"
            ],
            "application/vnd.jupyter.widget-view+json": {
              "version_major": 2,
              "version_minor": 0,
              "model_id": "30d59d80116f4ee8b1e115ef2e7a7351"
            }
          },
          "metadata": {}
        },
        {
          "output_type": "display_data",
          "data": {
            "text/plain": [
              "Generating unsupervised split:   0%|          | 0/50000 [00:00<?, ? examples/s]"
            ],
            "application/vnd.jupyter.widget-view+json": {
              "version_major": 2,
              "version_minor": 0,
              "model_id": "9a29eadbe37e43b39af93032c8da464a"
            }
          },
          "metadata": {}
        }
      ]
    },
    {
      "cell_type": "code",
      "source": [
        "dataset_reviews"
      ],
      "metadata": {
        "colab": {
          "base_uri": "https://localhost:8080/"
        },
        "id": "5fkc0b8sTArr",
        "outputId": "bda3d6c1-1a31-4366-9d96-13a920d6fa9f"
      },
      "execution_count": 10,
      "outputs": [
        {
          "output_type": "execute_result",
          "data": {
            "text/plain": [
              "Dataset({\n",
              "    features: ['text', 'label'],\n",
              "    num_rows: 25000\n",
              "})"
            ]
          },
          "metadata": {},
          "execution_count": 10
        }
      ]
    },
    {
      "cell_type": "markdown",
      "source": [
        "The dataset is labeled for text classification task so is contains texts and corresponding labels but for training a language model we will only need texts."
      ],
      "metadata": {
        "id": "Tz-dVdJBfhvo"
      }
    },
    {
      "cell_type": "code",
      "source": [
        "dataset_reviews['text'][:5]"
      ],
      "metadata": {
        "colab": {
          "base_uri": "https://localhost:8080/"
        },
        "id": "dAQMlfybkBgk",
        "outputId": "87433471-5ae7-4317-bd02-eebc2c28d582"
      },
      "execution_count": 11,
      "outputs": [
        {
          "output_type": "execute_result",
          "data": {
            "text/plain": [
              "['I rented I AM CURIOUS-YELLOW from my video store because of all the controversy that surrounded it when it was first released in 1967. I also heard that at first it was seized by U.S. customs if it ever tried to enter this country, therefore being a fan of films considered \"controversial\" I really had to see this for myself.<br /><br />The plot is centered around a young Swedish drama student named Lena who wants to learn everything she can about life. In particular she wants to focus her attentions to making some sort of documentary on what the average Swede thought about certain political issues such as the Vietnam War and race issues in the United States. In between asking politicians and ordinary denizens of Stockholm about their opinions on politics, she has sex with her drama teacher, classmates, and married men.<br /><br />What kills me about I AM CURIOUS-YELLOW is that 40 years ago, this was considered pornographic. Really, the sex and nudity scenes are few and far between, even then it\\'s not shot like some cheaply made porno. While my countrymen mind find it shocking, in reality sex and nudity are a major staple in Swedish cinema. Even Ingmar Bergman, arguably their answer to good old boy John Ford, had sex scenes in his films.<br /><br />I do commend the filmmakers for the fact that any sex shown in the film is shown for artistic purposes rather than just to shock people and make money to be shown in pornographic theaters in America. I AM CURIOUS-YELLOW is a good film for anyone wanting to study the meat and potatoes (no pun intended) of Swedish cinema. But really, this film doesn\\'t have much of a plot.',\n",
              " '\"I Am Curious: Yellow\" is a risible and pretentious steaming pile. It doesn\\'t matter what one\\'s political views are because this film can hardly be taken seriously on any level. As for the claim that frontal male nudity is an automatic NC-17, that isn\\'t true. I\\'ve seen R-rated films with male nudity. Granted, they only offer some fleeting views, but where are the R-rated films with gaping vulvas and flapping labia? Nowhere, because they don\\'t exist. The same goes for those crappy cable shows: schlongs swinging in the breeze but not a clitoris in sight. And those pretentious indie movies like The Brown Bunny, in which we\\'re treated to the site of Vincent Gallo\\'s throbbing johnson, but not a trace of pink visible on Chloe Sevigny. Before crying (or implying) \"double-standard\" in matters of nudity, the mentally obtuse should take into account one unavoidably obvious anatomical difference between men and women: there are no genitals on display when actresses appears nude, and the same cannot be said for a man. In fact, you generally won\\'t see female genitals in an American film in anything short of porn or explicit erotica. This alleged double-standard is less a double standard than an admittedly depressing ability to come to terms culturally with the insides of women\\'s bodies.',\n",
              " \"If only to avoid making this type of film in the future. This film is interesting as an experiment but tells no cogent story.<br /><br />One might feel virtuous for sitting thru it because it touches on so many IMPORTANT issues but it does so without any discernable motive. The viewer comes away with no new perspectives (unless one comes up with one while one's mind wanders, as it will invariably do during this pointless film).<br /><br />One might better spend one's time staring out a window at a tree growing.<br /><br />\",\n",
              " \"This film was probably inspired by Godard's Masculin, féminin and I urge you to see that film instead.<br /><br />The film has two strong elements and those are, (1) the realistic acting (2) the impressive, undeservedly good, photo. Apart from that, what strikes me most is the endless stream of silliness. Lena Nyman has to be most annoying actress in the world. She acts so stupid and with all the nudity in this film,...it's unattractive. Comparing to Godard's film, intellectuality has been replaced with stupidity. Without going too far on this subject, I would say that follows from the difference in ideals between the French and the Swedish society.<br /><br />A movie of its time, and place. 2/10.\",\n",
              " 'Oh, brother...after hearing about this ridiculous film for umpteen years all I can think of is that old Peggy Lee song..<br /><br />\"Is that all there is??\" ...I was just an early teen when this smoked fish hit the U.S. I was too young to get in the theater (although I did manage to sneak into \"Goodbye Columbus\"). Then a screening at a local film museum beckoned - Finally I could see this film, except now I was as old as my parents were when they schlepped to see it!!<br /><br />The ONLY reason this film was not condemned to the anonymous sands of time was because of the obscenity case sparked by its U.S. release. MILLIONS of people flocked to this stinker, thinking they were going to see a sex film...Instead, they got lots of closeups of gnarly, repulsive Swedes, on-street interviews in bland shopping malls, asinie political pretension...and feeble who-cares simulated sex scenes with saggy, pale actors.<br /><br />Cultural icon, holy grail, historic artifact..whatever this thing was, shred it, burn it, then stuff the ashes in a lead box!<br /><br />Elite esthetes still scrape to find value in its boring pseudo revolutionary political spewings..But if it weren\\'t for the censorship scandal, it would have been ignored, then forgotten.<br /><br />Instead, the \"I Am Blank, Blank\" rhythymed title was repeated endlessly for years as a titilation for porno films (I am Curious, Lavender - for gay films, I Am Curious, Black - for blaxploitation films, etc..) and every ten years or so the thing rises from the dead, to be viewed by a new generation of suckers who want to see that \"naughty sex film\" that \"revolutionized the film industry\"...<br /><br />Yeesh, avoid like the plague..Or if you MUST see it - rent the video and fast forward to the \"dirty\" parts, just to get it over with.<br /><br />']"
            ]
          },
          "metadata": {},
          "execution_count": 11
        }
      ]
    },
    {
      "cell_type": "markdown",
      "source": [
        "## Data Preprocessing"
      ],
      "metadata": {
        "id": "3WQtuXgr49cq"
      }
    },
    {
      "cell_type": "markdown",
      "source": [
        "Language models predict next token in the sequence so we need to split texts into tokens. Token could correspond to a word or a part of word. Transformer-based models use subword tokenization but RNN language models usually work with tokens representing full words or individual characters. We will use word-level tokenization.\n",
        "\n",
        "To implement text preprocessing we can apply tokenizers from `nltk` library. As the result we will get a list of tokens for the input text. Note that preprocessing should keep everything that you would like to see in the generated text (for example, if you filter out punctuation then generated texts would not contain punctiation marks)."
      ],
      "metadata": {
        "id": "JBy4SW2ZENtK"
      }
    },
    {
      "cell_type": "code",
      "source": [
        "import nltk\n",
        "nltk.download('punkt')"
      ],
      "metadata": {
        "colab": {
          "base_uri": "https://localhost:8080/"
        },
        "id": "tQiUgX3LaL5p",
        "outputId": "e58045af-f485-4d32-c908-e5fc5e2c9411"
      },
      "execution_count": 12,
      "outputs": [
        {
          "output_type": "stream",
          "name": "stderr",
          "text": [
            "[nltk_data] Downloading package punkt to /root/nltk_data...\n",
            "[nltk_data]   Unzipping tokenizers/punkt.zip.\n"
          ]
        },
        {
          "output_type": "execute_result",
          "data": {
            "text/plain": [
              "True"
            ]
          },
          "metadata": {},
          "execution_count": 12
        }
      ]
    },
    {
      "cell_type": "code",
      "source": [
        "from nltk.tokenize import word_tokenize\n",
        "\n",
        "def preprocess(item):\n",
        "  tokens = word_tokenize(item['text'].replace('<br />', ' ').replace('\\\\', ' '))\n",
        "  item['tokens'] = tokens\n",
        "  return item\n"
      ],
      "metadata": {
        "id": "cig3XKb7VBEP"
      },
      "execution_count": 13,
      "outputs": []
    },
    {
      "cell_type": "code",
      "source": [
        "tokenized_reviews = dataset_reviews.map(preprocess, remove_columns=['text'])"
      ],
      "metadata": {
        "id": "80aw49zzIU_c",
        "colab": {
          "base_uri": "https://localhost:8080/",
          "height": 49,
          "referenced_widgets": [
            "2d2c355acb924cee877286e1131905dc",
            "41963333c5b5422d969aef346ab4afc9",
            "b51089004ffc447cb157a119c62b92ae",
            "0339a651ce83421bb8c0bf7f915affb5",
            "6be3c8397d3f4a8cbfcb2da229d2df4c",
            "e7d1caa6a168490785c7d7c4fc918604",
            "0c3e1dc582fe48fa87098a8192b2894a",
            "abb8b4a32ef64fd3b6c05568cbdf35bc",
            "75062dbc2c5545d2a553a6ca75c0c7ca",
            "a3434165a09b46299e5a23527bab1bd3",
            "bf83290e860c46cd82a3c9b81baad03c"
          ]
        },
        "outputId": "8d03fb4c-9a6a-45fe-8536-680f7ebec23e"
      },
      "execution_count": 14,
      "outputs": [
        {
          "output_type": "display_data",
          "data": {
            "text/plain": [
              "Map:   0%|          | 0/25000 [00:00<?, ? examples/s]"
            ],
            "application/vnd.jupyter.widget-view+json": {
              "version_major": 2,
              "version_minor": 0,
              "model_id": "2d2c355acb924cee877286e1131905dc"
            }
          },
          "metadata": {}
        }
      ]
    },
    {
      "cell_type": "code",
      "source": [
        "len(tokenized_reviews)"
      ],
      "metadata": {
        "id": "KnqqxWmF5Ytd",
        "colab": {
          "base_uri": "https://localhost:8080/"
        },
        "outputId": "97ab0907-9d1a-48a4-f5b2-2076114fa70b"
      },
      "execution_count": 15,
      "outputs": [
        {
          "output_type": "execute_result",
          "data": {
            "text/plain": [
              "25000"
            ]
          },
          "metadata": {},
          "execution_count": 15
        }
      ]
    },
    {
      "cell_type": "code",
      "source": [
        "tokenized_reviews[0]['tokens'][:25]"
      ],
      "metadata": {
        "colab": {
          "base_uri": "https://localhost:8080/"
        },
        "id": "BFJjQzJkbr-8",
        "outputId": "6a4fc4d8-a9d2-4d54-97b6-6cdd2b984a10"
      },
      "execution_count": 16,
      "outputs": [
        {
          "output_type": "execute_result",
          "data": {
            "text/plain": [
              "['I',\n",
              " 'rented',\n",
              " 'I',\n",
              " 'AM',\n",
              " 'CURIOUS-YELLOW',\n",
              " 'from',\n",
              " 'my',\n",
              " 'video',\n",
              " 'store',\n",
              " 'because',\n",
              " 'of',\n",
              " 'all',\n",
              " 'the',\n",
              " 'controversy',\n",
              " 'that',\n",
              " 'surrounded',\n",
              " 'it',\n",
              " 'when',\n",
              " 'it',\n",
              " 'was',\n",
              " 'first',\n",
              " 'released',\n",
              " 'in',\n",
              " '1967',\n",
              " '.']"
            ]
          },
          "metadata": {},
          "execution_count": 16
        }
      ]
    },
    {
      "cell_type": "markdown",
      "source": [
        "Next step we need to create a custom dataset that will prepare our data for the training of a language model. The model will read the input sequence and produce the next token in a sequence. So training sample should contain sequence of tokens as an input and the same  sequence shifted on one token to the right as an ouput.\n",
        "\n",
        "Input: $x_0, x_1, x_2, ... x_k$\n",
        "\n",
        "Ouput: $x_1, x_2, x_3, ... x_{k+1}$\n",
        "\n",
        "To build a dataset we will join all the tokenized texts together adding special end-of-sequence token `<eos>` in the end of each text. Apart from this token we will add to the vocabulary a special token for unknown words `<unk>`.\n",
        "\n",
        "Dataset class should contain two methods:\n",
        " - `__len__`: to get the size of the dataset,\n",
        " - `__getitem__`: to get an item of the dataset by the item's index.\n",
        "\n",
        "We will also need additional methods to build a vocabulary and collect corpus of dataset's tokenized texts joined together. Then the corpus will be split into dataset's items of fixed length."
      ],
      "metadata": {
        "id": "ti_X5ZDVV_YU"
      }
    },
    {
      "cell_type": "code",
      "source": [
        "import torch\n",
        "\n",
        "class TextsDataset(torch.utils.data.Dataset):\n",
        "    def __init__(\n",
        "        self,\n",
        "        texts,\n",
        "        seq_len,\n",
        "    ):\n",
        "        self.seq_len = seq_len\n",
        "        self.vocab = self.build_vocab(texts)\n",
        "\n",
        "        self.id_to_word = {index: word for index, word in enumerate(self.vocab)}\n",
        "        self.word_to_id = {word: index for index, word in enumerate(self.vocab)}\n",
        "\n",
        "        self.corpus = self.build_corpus(texts)\n",
        "\n",
        "    def build_vocab(self, texts):\n",
        "        return ['<unk>', '<eos>'] + list(set([token for text_tokens in texts for token in text_tokens]))\n",
        "\n",
        "    def build_corpus(self, texts):\n",
        "      corpus = []\n",
        "      for text in texts:\n",
        "        tokens = [self.word_to_id[word] for word in text] + [self.word_to_id['<eos>']]\n",
        "        corpus.extend(tokens)\n",
        "      return corpus\n",
        "\n",
        "    def __len__(self):\n",
        "        return len(self.corpus) // self.seq_len\n",
        "\n",
        "    def __getitem__(self, index):\n",
        "      item_start = index * self.seq_len\n",
        "      return (\n",
        "            torch.tensor(self.corpus[item_start:item_start + self.seq_len]),\n",
        "            torch.tensor(self.corpus[item_start + 1: item_start + self.seq_len + 1]),\n",
        "        )"
      ],
      "metadata": {
        "id": "rQ2ExlouV-kn"
      },
      "execution_count": 17,
      "outputs": []
    },
    {
      "cell_type": "code",
      "source": [
        "# sequence length for dataset item\n",
        "SEQ_LEN = 150\n",
        "reviews_texts_dataset = TextsDataset(tokenized_reviews['tokens'], SEQ_LEN)"
      ],
      "metadata": {
        "id": "SvWS3TlXXwBX"
      },
      "execution_count": 18,
      "outputs": []
    },
    {
      "cell_type": "code",
      "source": [
        "# size of vocabulary\n",
        "len(reviews_texts_dataset.vocab)"
      ],
      "metadata": {
        "colab": {
          "base_uri": "https://localhost:8080/"
        },
        "id": "wIXG8oIk-UHJ",
        "outputId": "6c27383d-4b95-4768-a60d-f28e07e3adf9"
      },
      "execution_count": 19,
      "outputs": [
        {
          "output_type": "execute_result",
          "data": {
            "text/plain": [
              "123381"
            ]
          },
          "metadata": {},
          "execution_count": 19
        }
      ]
    },
    {
      "cell_type": "code",
      "source": [
        "# mapping to get word id\n",
        "reviews_texts_dataset.word_to_id['sport']"
      ],
      "metadata": {
        "colab": {
          "base_uri": "https://localhost:8080/"
        },
        "id": "Du6CfjKY-ftn",
        "outputId": "1779cb4d-600f-4809-a3b8-d651d10c1e82"
      },
      "execution_count": 20,
      "outputs": [
        {
          "output_type": "execute_result",
          "data": {
            "text/plain": [
              "109639"
            ]
          },
          "metadata": {},
          "execution_count": 20
        }
      ]
    },
    {
      "cell_type": "code",
      "source": [
        "reviews_texts_dataset.word_to_id['<eos>']"
      ],
      "metadata": {
        "colab": {
          "base_uri": "https://localhost:8080/"
        },
        "id": "qQ6ijuKZmnJh",
        "outputId": "ea0cf9ed-49d2-40db-fadc-0384c1cf9dcc"
      },
      "execution_count": 21,
      "outputs": [
        {
          "output_type": "execute_result",
          "data": {
            "text/plain": [
              "1"
            ]
          },
          "metadata": {},
          "execution_count": 21
        }
      ]
    },
    {
      "cell_type": "markdown",
      "source": [
        "Here we can see an example of dataset item: pair of tokenized sequences, each element of the second sequence is the next token for this position in the first sequence."
      ],
      "metadata": {
        "id": "JVfoUWm_C09-"
      }
    },
    {
      "cell_type": "code",
      "source": [
        "reviews_texts_dataset[0]"
      ],
      "metadata": {
        "colab": {
          "base_uri": "https://localhost:8080/"
        },
        "id": "BjZqCmsd-qct",
        "outputId": "2fe63f58-2944-4b9e-c597-2e4255bf9dd1"
      },
      "execution_count": 22,
      "outputs": [
        {
          "output_type": "execute_result",
          "data": {
            "text/plain": [
              "(tensor([110556,  95305, 110556,  79584, 118577,  53166,  47218,  11160,  62797,\n",
              "          87345,  78571,  47530,  17949,   5558,  37079,  52541,  73046,  16558,\n",
              "          73046,  12548,  34848,  86244,  79089, 108373,  70460, 110556,  80139,\n",
              "          12849,  37079, 106166,  34848,  73046,  12548,  83782,  47562, 122509,\n",
              "          23121,  19756,  73046,  65026,  63750,   8248,  29559, 101661,  56430,\n",
              "          70141,  81972, 111444, 121475,  90735,  78571,  95626,  86230,  37450,\n",
              "          30161,  37743, 110556,  95373,  66096,   8248,  19869, 101661,  13516,\n",
              "          83384,  70460,  67148,   8710, 104494, 102054,  98867, 121475,  94710,\n",
              "          73253, 116797,  28517,  95686,  68952,  83621,  58376,   8248, 102354,\n",
              "          58562,  42989,  91940,  76376,  51441,  70460,  66994,  61054,  42989,\n",
              "          58376,   8248,  38739, 110072,  13881,   8248,  63916,  34155,  25549,\n",
              "          78571,   5589,  21337,  44890,  17949,  74042, 111813,    215,  76376,\n",
              "          56258, 103624,  59161,  65982,  96005,  17949, 102249,  97365,  26532,\n",
              "          28342,  59161,  79089,  17949,  90053,  87706,  70460,  66994, 104940,\n",
              "          79800,   9417,  26532, 111513,  98264,  78571,  43645,  76376, 101529,\n",
              "          81920,  21337,  43354,  70141,  42989, 119695,  25014,  65870, 110072,\n",
              "         116797,  47631,  70141, 119425,  70141,  26532]),\n",
              " tensor([ 95305, 110556,  79584, 118577,  53166,  47218,  11160,  62797,  87345,\n",
              "          78571,  47530,  17949,   5558,  37079,  52541,  73046,  16558,  73046,\n",
              "          12548,  34848,  86244,  79089, 108373,  70460, 110556,  80139,  12849,\n",
              "          37079, 106166,  34848,  73046,  12548,  83782,  47562, 122509,  23121,\n",
              "          19756,  73046,  65026,  63750,   8248,  29559, 101661,  56430,  70141,\n",
              "          81972, 111444, 121475,  90735,  78571,  95626,  86230,  37450,  30161,\n",
              "          37743, 110556,  95373,  66096,   8248,  19869, 101661,  13516,  83384,\n",
              "          70460,  67148,   8710, 104494, 102054,  98867, 121475,  94710,  73253,\n",
              "         116797,  28517,  95686,  68952,  83621,  58376,   8248, 102354,  58562,\n",
              "          42989,  91940,  76376,  51441,  70460,  66994,  61054,  42989,  58376,\n",
              "           8248,  38739, 110072,  13881,   8248,  63916,  34155,  25549,  78571,\n",
              "           5589,  21337,  44890,  17949,  74042, 111813,    215,  76376,  56258,\n",
              "         103624,  59161,  65982,  96005,  17949, 102249,  97365,  26532,  28342,\n",
              "          59161,  79089,  17949,  90053,  87706,  70460,  66994, 104940,  79800,\n",
              "           9417,  26532, 111513,  98264,  78571,  43645,  76376, 101529,  81920,\n",
              "          21337,  43354,  70141,  42989, 119695,  25014,  65870, 110072, 116797,\n",
              "          47631,  70141, 119425,  70141,  26532,   5199]))"
            ]
          },
          "metadata": {},
          "execution_count": 22
        }
      ]
    },
    {
      "cell_type": "markdown",
      "source": [
        "Let's split the data into train and validation subsets for training and evaluation of the model."
      ],
      "metadata": {
        "id": "U4NcUMYS-AMD"
      }
    },
    {
      "cell_type": "code",
      "source": [
        "from torch.utils.data import random_split\n",
        "reviews_train, reviews_val = random_split(reviews_texts_dataset, [0.8, 0.2])"
      ],
      "metadata": {
        "id": "3XBZXVc8-nIV"
      },
      "execution_count": 23,
      "outputs": []
    },
    {
      "cell_type": "code",
      "source": [
        "len(reviews_texts_dataset)"
      ],
      "metadata": {
        "colab": {
          "base_uri": "https://localhost:8080/"
        },
        "id": "N8MtokXwAD6P",
        "outputId": "7134c76e-748b-400f-e79c-afee1bc5af09"
      },
      "execution_count": 24,
      "outputs": [
        {
          "output_type": "execute_result",
          "data": {
            "text/plain": [
              "44798"
            ]
          },
          "metadata": {},
          "execution_count": 24
        }
      ]
    },
    {
      "cell_type": "code",
      "source": [
        "len(reviews_train), len(reviews_val)"
      ],
      "metadata": {
        "colab": {
          "base_uri": "https://localhost:8080/"
        },
        "id": "2EK-4azf_vFr",
        "outputId": "7248102a-b354-4373-954e-ec7174a3c3d1"
      },
      "execution_count": 25,
      "outputs": [
        {
          "output_type": "execute_result",
          "data": {
            "text/plain": [
              "(35839, 8959)"
            ]
          },
          "metadata": {},
          "execution_count": 25
        }
      ]
    },
    {
      "cell_type": "markdown",
      "source": [
        "## RNN Model"
      ],
      "metadata": {
        "id": "nKkSXYCVLNck"
      }
    },
    {
      "cell_type": "markdown",
      "source": [
        "RNN model processes one token at a time reading an input sequence left to right, and at each step current hidden state vector is passed to the next step.\n",
        "![rnn.png](data:image/png;base64,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)"
      ],
      "metadata": {
        "id": "EAjVpsuaB0rv"
      }
    },
    {
      "cell_type": "markdown",
      "source": [
        "$$x_{1:n} = x_1, x_2, \\ldots, x_n$$\n",
        "\n",
        "$$ h_0 = \\vec 0 ; \\quad h_{t+1} = RNN(x_t, h_t) $$\n",
        "\n",
        "$$ p(x_t \\mid x_0, \\dots, x_{t-1}, \\theta) = dense_{softmax}(h_{t-1}) $$\n"
      ],
      "metadata": {
        "id": "4EBSQtZC9ogX"
      }
    },
    {
      "cell_type": "markdown",
      "source": [
        "RNN model will consist of the following layers:\n",
        "- Embedding layer that transforms the indices of input tokens into vector representations of fixed dimension,\n",
        "- LSTM layers that take embeddings and previous hidden state as an input and return output and new hidden state vector,\n",
        "- Linear layer that takes LSTM output and produces logits for the next token in the sequence.\n",
        "\n",
        "Each step the model aims to score all the tokens of the vocabulary to predict the most probable next token for the sequence. This task could be approached as a classification problem: to predict the score for each of the classes where classes stand for the tokens in the vocabulary. So the model is trained with cross-entropy loss.\n",
        "\n",
        "We also add Dropout after Embedding and LSTM layers. Drouput sets part of the layer's weights to zero while training, which helps to prevent overfitting. The ratio of the weights is defined with `dropout` parameter of the network.\n"
      ],
      "metadata": {
        "id": "7IdZeZcD-df_"
      }
    },
    {
      "cell_type": "code",
      "source": [
        "from torch import nn\n",
        "import math\n",
        "\n",
        "class RNNModel(nn.Module):\n",
        "    def __init__(self, vocab_size, emb_dim, hidden_dim, num_layers, dropout):\n",
        "        super().__init__()\n",
        "        self.vocab_size = vocab_size\n",
        "        self.hidden_dim = hidden_dim\n",
        "        self.emb_dim = emb_dim\n",
        "        self.num_layers = num_layers\n",
        "        self.dropout = dropout\n",
        "\n",
        "        self.embedding = nn.Embedding(self.vocab_size, self.emb_dim)\n",
        "        self.lstm = nn.LSTM(self.emb_dim, self.hidden_dim, num_layers=self.num_layers, dropout=self.dropout, batch_first=True)\n",
        "        self.dropout = nn.Dropout(self.dropout)\n",
        "        self.fc = nn.Linear(self.hidden_dim, self.vocab_size)\n",
        "\n",
        "    def forward(self, src, hidden):\n",
        "        embedding = self.dropout(self.embedding(src))\n",
        "        output, hidden = self.lstm(embedding, hidden)\n",
        "        output = self.dropout(output)\n",
        "        logits = self.fc(output)\n",
        "        return logits, hidden\n",
        "\n",
        "    def init_hidden(self, batch_size, device):\n",
        "        hidden = torch.zeros(self.num_layers, batch_size, self.hidden_dim).to(device)\n",
        "        cell = torch.zeros(self.num_layers, batch_size, self.hidden_dim).to(device)\n",
        "        return hidden, cell"
      ],
      "metadata": {
        "id": "OlhEabNkLXDi"
      },
      "execution_count": 26,
      "outputs": []
    },
    {
      "cell_type": "markdown",
      "source": [
        "Now we need to set the parameters of the model."
      ],
      "metadata": {
        "id": "2yhaCmENESnB"
      }
    },
    {
      "cell_type": "code",
      "source": [
        "VOCAB_SIZE = len(reviews_texts_dataset.vocab) # size of vocabulary (input of embedding layer)\n",
        "EMB_DIM = 100                                 # embedding dimension (output of embedding layer)\n",
        "HIDDEN_DIM = 256                              # hidden state dimension\n",
        "NUM_LAYERS = 2                                # number of LSTM layers\n",
        "DROPOUT = 0.5                                 # dropout probability\n",
        "LR = 1e-3                                     # learning rate"
      ],
      "metadata": {
        "id": "7paVG3MVdpS0"
      },
      "execution_count": 27,
      "outputs": []
    },
    {
      "cell_type": "code",
      "source": [
        "BATCH_SIZE = 32"
      ],
      "metadata": {
        "id": "TM6XpT09e5QL"
      },
      "execution_count": 28,
      "outputs": []
    },
    {
      "cell_type": "markdown",
      "source": [
        "Training models in PyTorch requires the model and the data tensors to be located on the same device. To provide training on the GPU we set device type as `cuda` if it's available or `cpu` otherwise."
      ],
      "metadata": {
        "id": "4hiezix5Fbfn"
      }
    },
    {
      "cell_type": "code",
      "source": [
        "device = torch.device(\"cuda\" if torch.cuda.is_available() else \"cpu\")"
      ],
      "metadata": {
        "id": "UT08Qd2kgDGz"
      },
      "execution_count": 29,
      "outputs": []
    },
    {
      "cell_type": "markdown",
      "source": [
        "Next we initialize the model and set loss function and optimizer for training."
      ],
      "metadata": {
        "id": "PA13aPv3IZLF"
      }
    },
    {
      "cell_type": "code",
      "source": [
        "model = RNNModel(VOCAB_SIZE, EMB_DIM, HIDDEN_DIM, NUM_LAYERS, DROPOUT).to(device)"
      ],
      "metadata": {
        "id": "UQ3niXs5f6nP"
      },
      "execution_count": 30,
      "outputs": []
    },
    {
      "cell_type": "code",
      "source": [
        "import torch.optim as optim\n",
        "\n",
        "criterion = nn.CrossEntropyLoss()\n",
        "optimizer = optim.Adam(model.parameters(), lr=LR)"
      ],
      "metadata": {
        "id": "_ilP3nogevwt"
      },
      "execution_count": 31,
      "outputs": []
    },
    {
      "cell_type": "markdown",
      "source": [
        "We will use `DataLoader` to split the datasets into batches and create iterators for training. Parameter `drop_last` allows to drop the last batch if it contains less examples than batch size."
      ],
      "metadata": {
        "id": "G70BHN8SB5Os"
      }
    },
    {
      "cell_type": "code",
      "source": [
        "from torch.utils.data import DataLoader\n",
        "from torch import nn, optim\n",
        "\n",
        "train_dataloader = DataLoader(\n",
        "        reviews_train,\n",
        "        batch_size=BATCH_SIZE,\n",
        "        shuffle=True,\n",
        "        drop_last=True\n",
        "    )\n",
        "\n",
        "val_dataloader = DataLoader(\n",
        "        reviews_val,\n",
        "        batch_size=BATCH_SIZE,\n",
        "        shuffle=True,\n",
        "        drop_last=True\n",
        "    )"
      ],
      "metadata": {
        "id": "EJHwvbZMB4KL"
      },
      "execution_count": 32,
      "outputs": []
    },
    {
      "cell_type": "code",
      "source": [
        "len(train_dataloader)"
      ],
      "metadata": {
        "colab": {
          "base_uri": "https://localhost:8080/"
        },
        "id": "qwpIsvkE22Xv",
        "outputId": "84c5b66d-7395-4770-b1b3-490705446028"
      },
      "execution_count": 33,
      "outputs": [
        {
          "output_type": "execute_result",
          "data": {
            "text/plain": [
              "1119"
            ]
          },
          "metadata": {},
          "execution_count": 33
        }
      ]
    },
    {
      "cell_type": "markdown",
      "source": [
        "Let's implement functions for training and evaluation on one epoch.\n",
        "\n",
        "Training requires the `train` mode for the model as dropout will be activated only in train mode. Then we initialize hidden state and start interation over batches. Each iteration includes getting output and hidden state for the input and previous hidden state value, gradients calculation and backpropagation step.\n",
        "\n",
        "PyTorch accumulates gradients on backward passes so we need to set gradients to zero with `zero_grad` metod before starting backpropagation on each batch.\n",
        "\n",
        "To process long-term memory dependancies, LSTM network uses cell state in addition to hidden state that stores information from immediately previous events.\n",
        "\n",
        "For evaluation we set the model in `eval` mode, get the model prediction for the input and previous hidden state and calculate loss."
      ],
      "metadata": {
        "id": "VvPNwpSKDLxS"
      }
    },
    {
      "cell_type": "code",
      "source": [
        "def train(model, dataloader):\n",
        "    epoch_loss = 0\n",
        "    model.train()\n",
        "\n",
        "    hidden_state, cell_state = model.init_hidden(BATCH_SIZE, device)\n",
        "\n",
        "    for batch, (x, y) in enumerate(dataloader):\n",
        "\n",
        "      x = x.to(device)\n",
        "      y = y.to(device)\n",
        "\n",
        "      optimizer.zero_grad() # set gradients to zero before batch processing\n",
        "\n",
        "      pred, (hidden_state, cell_state) = model(x, (hidden_state, cell_state))\n",
        "      loss = criterion(pred.transpose(1, 2), y)\n",
        "\n",
        "      hidden_state = hidden_state.detach()\n",
        "      cell_state = cell_state.detach()\n",
        "\n",
        "      loss.backward() # compute loss gradients\n",
        "      optimizer.step() # update parameters in backpropagation\n",
        "      epoch_loss += loss.item()\n",
        "\n",
        "      if batch%200==0:\n",
        "        print({'batch': batch, 'loss': loss.item()})\n",
        "    return epoch_loss / batch\n",
        "\n",
        "def evaluate(model, dataloader):\n",
        "    epoch_loss = 0\n",
        "    model.eval()\n",
        "\n",
        "    hidden_state, cell_state = model.init_hidden(BATCH_SIZE, device)\n",
        "\n",
        "    with torch.no_grad():\n",
        "        for batch, (x, y) in enumerate(dataloader):\n",
        "          hidden_state = hidden_state.detach()\n",
        "          cell_state = cell_state.detach()\n",
        "          x = x.to(device)\n",
        "          y = y.to(device)\n",
        "          pred, (hidden_state, cell_state) = model(x, (hidden_state, cell_state))\n",
        "          loss = criterion(pred.transpose(1, 2), y)\n",
        "\n",
        "          epoch_loss += loss.item()\n",
        "    return epoch_loss / batch"
      ],
      "metadata": {
        "id": "kRm_6qiZeZKU"
      },
      "execution_count": 34,
      "outputs": []
    },
    {
      "cell_type": "markdown",
      "source": [
        "Now we can run training loop for several epochs. Aftre each epoch the model is saved if the new loss on validation dataset was lower then the one in the previous epoch."
      ],
      "metadata": {
        "id": "M6IDpHU2HJUq"
      }
    },
    {
      "cell_type": "code",
      "source": [
        "%%time\n",
        "NUM_EPOCHS = 3\n",
        "best_val_loss = -1\n",
        "\n",
        "for epoch in range(NUM_EPOCHS):\n",
        "    train_loss = train(model, train_dataloader)\n",
        "    val_loss = evaluate(model, val_dataloader)\n",
        "    print({'epoch': epoch, 'train_loss': train_loss, 'val_loss': val_loss})\n",
        "\n",
        "    if best_val_loss < 0 or val_loss < best_val_loss:\n",
        "        best_val_loss = val_loss\n",
        "        torch.save(model.state_dict(), 'rnn_lm.pt')\n",
        "        print('Saving model')\n",
        "\n",
        "    print(f'\\ttrain_perplexity: {math.exp(train_loss):.3f}')\n",
        "    print(f'\\tval_perplexity: {math.exp(val_loss):.3f}')\n"
      ],
      "metadata": {
        "id": "GgYKPiDV00EM",
        "colab": {
          "base_uri": "https://localhost:8080/"
        },
        "outputId": "f3765953-f225-413b-f57c-713920889298"
      },
      "execution_count": 35,
      "outputs": [
        {
          "output_type": "stream",
          "name": "stdout",
          "text": [
            "{'batch': 0, 'loss': 11.728246688842773}\n",
            "{'batch': 200, 'loss': 7.296552658081055}\n",
            "{'batch': 400, 'loss': 7.061327934265137}\n",
            "{'batch': 600, 'loss': 6.94985818862915}\n",
            "{'batch': 800, 'loss': 6.673106670379639}\n",
            "{'batch': 1000, 'loss': 6.509336948394775}\n",
            "{'epoch': 0, 'train_loss': 6.959677505578466, 'val_loss': 6.268871122126956}\n",
            "Saving model\n",
            "\ttrain_perplexity: 1053.294\n",
            "\tval_perplexity: 527.881\n",
            "{'batch': 0, 'loss': 6.526071548461914}\n",
            "{'batch': 200, 'loss': 6.124413967132568}\n",
            "{'batch': 400, 'loss': 6.1075968742370605}\n",
            "{'batch': 600, 'loss': 6.198312759399414}\n",
            "{'batch': 800, 'loss': 6.087850570678711}\n",
            "{'batch': 1000, 'loss': 6.022391319274902}\n",
            "{'epoch': 1, 'train_loss': 6.187027454376221, 'val_loss': 5.9210930059282045}\n",
            "Saving model\n",
            "\ttrain_perplexity: 486.398\n",
            "\tval_perplexity: 372.819\n",
            "{'batch': 0, 'loss': 6.145174503326416}\n",
            "{'batch': 200, 'loss': 5.987916469573975}\n",
            "{'batch': 400, 'loss': 5.88219690322876}\n",
            "{'batch': 600, 'loss': 5.989007949829102}\n",
            "{'batch': 800, 'loss': 5.834740161895752}\n",
            "{'batch': 1000, 'loss': 5.807943344116211}\n",
            "{'epoch': 2, 'train_loss': 5.959790794068884, 'val_loss': 5.769336813645397}\n",
            "Saving model\n",
            "\ttrain_perplexity: 387.529\n",
            "\tval_perplexity: 320.325\n",
            "CPU times: user 23min 50s, sys: 1.79 s, total: 23min 52s\n",
            "Wall time: 23min 47s\n"
          ]
        }
      ]
    },
    {
      "cell_type": "markdown",
      "source": [
        "We can load model from the saved `state_dict` and use it for inference."
      ],
      "metadata": {
        "id": "F0Tpl_UuFc4w"
      }
    },
    {
      "cell_type": "code",
      "source": [
        "PATH = 'rnn_lm.pt'\n",
        "model_loaded = RNNModel(VOCAB_SIZE, EMB_DIM, HIDDEN_DIM, NUM_LAYERS, DROPOUT).to(device)\n",
        "model_loaded.load_state_dict(torch.load(PATH))"
      ],
      "metadata": {
        "id": "t9BaYLa6Ei8c",
        "colab": {
          "base_uri": "https://localhost:8080/"
        },
        "outputId": "a14558af-393c-4feb-acea-b9cda270611f"
      },
      "execution_count": 36,
      "outputs": [
        {
          "output_type": "execute_result",
          "data": {
            "text/plain": [
              "<All keys matched successfully>"
            ]
          },
          "metadata": {},
          "execution_count": 36
        }
      ]
    },
    {
      "cell_type": "markdown",
      "source": [
        "Now we can try to generate text with the model. The model outputs scores for each token of vocabulary, we apply softmax to get probability distribution for the next token. Then we need to add sampling to choose the next token of the sequence. Here we will use random sampling based on the obtained probabilities."
      ],
      "metadata": {
        "id": "TxlPVAdlHuIG"
      }
    },
    {
      "cell_type": "code",
      "source": [
        "import numpy as np\n",
        "\n",
        "def generate(start, max_len, model, id_to_word, word_to_id):\n",
        "    model.eval()\n",
        "    tokens = word_tokenize(start)\n",
        "    unk_id = word_to_id['<unk>']\n",
        "    ids = [word_to_id.get(t, unk_id) for t in tokens]\n",
        "    batch_size = 1\n",
        "    hidden_state, cell_state = model.init_hidden(batch_size, device)\n",
        "    with torch.no_grad():\n",
        "        for i in range(max_len):\n",
        "            x = torch.LongTensor([ids]).to(device)\n",
        "            pred, (hidden_state, cell_state) = model(x, (hidden_state, cell_state))\n",
        "            scores = torch.softmax(pred[:, -1], dim=-1)\n",
        "            output = np.random.choice(np.arange(len(id_to_word)), p=scores.cpu().numpy().ravel())\n",
        "            while output == word_to_id['<unk>']:\n",
        "                output = np.random.choice(np.arange(len(id_to_word)), p=scores.cpu().numpy().ravel())\n",
        "\n",
        "            if output == word_to_id['<eos>']:\n",
        "                break\n",
        "\n",
        "            ids.append(output)\n",
        "\n",
        "    pred_tokens = [id_to_word[id] for id in ids]\n",
        "    return pred_tokens"
      ],
      "metadata": {
        "id": "Ss3vzv4NBcik"
      },
      "execution_count": 38,
      "outputs": []
    },
    {
      "cell_type": "markdown",
      "source": [
        "Let's have a look at some examples of generated texts using different prefixes."
      ],
      "metadata": {
        "id": "SukfuywVvYOj"
      }
    },
    {
      "cell_type": "code",
      "source": [
        "start = 'Imagine'\n",
        "max_len = 50\n",
        "\n",
        "generated = generate(start, max_len, model_loaded, reviews_texts_dataset.id_to_word,\n",
        "                     reviews_texts_dataset.word_to_id)\n",
        "' '.join(generated)"
      ],
      "metadata": {
        "colab": {
          "base_uri": "https://localhost:8080/",
          "height": 53
        },
        "id": "ypJp9oSUFCsc",
        "outputId": "0fa9afff-ec14-41e2-da83-744c27557779"
      },
      "execution_count": 39,
      "outputs": [
        {
          "output_type": "execute_result",
          "data": {
            "text/plain": [
              "\"Imagine correct one tension so if he starts as painfully that kind of lovely for what its total different for favorites and playing he dynamic British Goldwyn family , but watching his Monica secs when Dutch knew are n't unknown . A numerous story thriller off allowed getting remembered . What\""
            ],
            "application/vnd.google.colaboratory.intrinsic+json": {
              "type": "string"
            }
          },
          "metadata": {},
          "execution_count": 39
        }
      ]
    },
    {
      "cell_type": "code",
      "source": [
        "start = 'Music'\n",
        "max_len = 50\n",
        "\n",
        "generated = generate(start, max_len, model_loaded, reviews_texts_dataset.id_to_word,\n",
        "                     reviews_texts_dataset.word_to_id)\n"
      ],
      "metadata": {
        "id": "HBOj7rnWmgSD"
      },
      "execution_count": 40,
      "outputs": []
    },
    {
      "cell_type": "code",
      "source": [
        "' '.join(generated)"
      ],
      "metadata": {
        "colab": {
          "base_uri": "https://localhost:8080/",
          "height": 53
        },
        "id": "6MTcr42lmi3b",
        "outputId": "f550ac93-8ecc-4afa-a960-9e0c540fa3ff"
      },
      "execution_count": 41,
      "outputs": [
        {
          "output_type": "execute_result",
          "data": {
            "text/plain": [
              "\"Music precedes Albert 's so wife Glasses ( William ) the dead too . The BORING tie been , young low-budget , expression , Jon 's own boy Jackson by the supporting . Rosario ? Now , I 'll think the wrong line I will have some interesting stupid minutes ,\""
            ],
            "application/vnd.google.colaboratory.intrinsic+json": {
              "type": "string"
            }
          },
          "metadata": {},
          "execution_count": 41
        }
      ]
    },
    {
      "cell_type": "code",
      "source": [
        "start = 'Global corporations'\n",
        "max_len = 50\n",
        "\n",
        "generated = generate(start, max_len, model_loaded, reviews_texts_dataset.id_to_word,\n",
        "                     reviews_texts_dataset.word_to_id)\n"
      ],
      "metadata": {
        "id": "UjxR_TmYmyC3"
      },
      "execution_count": 42,
      "outputs": []
    },
    {
      "cell_type": "code",
      "source": [
        "' '.join(generated)"
      ],
      "metadata": {
        "colab": {
          "base_uri": "https://localhost:8080/",
          "height": 53
        },
        "id": "zyXyYO_Rm1Qy",
        "outputId": "7ae4add8-6d93-4536-fbca-e59ee47176ef"
      },
      "execution_count": 43,
      "outputs": [
        {
          "output_type": "execute_result",
          "data": {
            "text/plain": [
              "'Global corporations 1960 , if any crazy dialogue . There is the way of people with a intriguing way of the death . One season tolerable , frankly produced ? I think that is scene about striking seemed , at the majority , of Laila they are purely a comedy with them'"
            ],
            "application/vnd.google.colaboratory.intrinsic+json": {
              "type": "string"
            }
          },
          "metadata": {},
          "execution_count": 43
        }
      ]
    },
    {
      "cell_type": "code",
      "source": [
        "start = 'Imagine the story of a man'\n",
        "max_len = 50\n",
        "\n",
        "generated = generate(start, max_len, model_loaded, reviews_texts_dataset.id_to_word,\n",
        "                     reviews_texts_dataset.word_to_id)\n"
      ],
      "metadata": {
        "id": "qIVTVo64lhv1"
      },
      "execution_count": 44,
      "outputs": []
    },
    {
      "cell_type": "code",
      "source": [
        "' '.join(generated)"
      ],
      "metadata": {
        "colab": {
          "base_uri": "https://localhost:8080/",
          "height": 53
        },
        "id": "wZlvwc1Slmi7",
        "outputId": "3b40947a-70e8-4a62-b5e1-4b9f56450665"
      },
      "execution_count": 45,
      "outputs": [
        {
          "output_type": "execute_result",
          "data": {
            "text/plain": [
              "\"Imagine the story of a man and he 's a very serious line and the damage is so of that Christmas Ariel . it is to keep . Run performances is a married Hartley up that the Total mask ( SXSW Baby , though of the possibly Prichard ) , a sense of gross . Moreover\""
            ],
            "application/vnd.google.colaboratory.intrinsic+json": {
              "type": "string"
            }
          },
          "metadata": {},
          "execution_count": 45
        }
      ]
    },
    {
      "cell_type": "code",
      "source": [
        "start = 'Every time I watch this movie'\n",
        "max_len = 50\n",
        "\n",
        "generated = generate(start, max_len, model_loaded, reviews_texts_dataset.id_to_word,\n",
        "                     reviews_texts_dataset.word_to_id)\n"
      ],
      "metadata": {
        "id": "C3OweRROlwcD"
      },
      "execution_count": 46,
      "outputs": []
    },
    {
      "cell_type": "code",
      "source": [
        "' '.join(generated)"
      ],
      "metadata": {
        "colab": {
          "base_uri": "https://localhost:8080/",
          "height": 53
        },
        "id": "XGQO5LrUl614",
        "outputId": "b659ffb1-fb0f-44ca-810a-362ebacf77b0"
      },
      "execution_count": 47,
      "outputs": [
        {
          "output_type": "execute_result",
          "data": {
            "text/plain": [
              "\"Every time I watch this movie in Iran ... or creepy - just bad that she was the time too to all . This is a startling movie . Unfortunately , I think is his best failed example is a thriller who does n't describe the rest she it takes the Magnificent ; starts something of\""
            ],
            "application/vnd.google.colaboratory.intrinsic+json": {
              "type": "string"
            }
          },
          "metadata": {},
          "execution_count": 47
        }
      ]
    },
    {
      "cell_type": "markdown",
      "source": [
        "## Perplexity Evaluation"
      ],
      "metadata": {
        "id": "_z_4zalqsk9j"
      }
    },
    {
      "cell_type": "markdown",
      "source": [
        "To evaluate language model we can use perplexity measure as it allows to estimate how well the model approximates real probability distribution of tokens in the texts. Smaller perplexity means better performance of language model.\n",
        "\n",
        "The perplexity of the text is calculated with the following formlula:\n",
        "\n",
        "$$\n",
        "    {\\mathbb{P}}(w_1 \\dots w_N) = P(w_1, \\dots, w_N)^{-\\frac1N} = \\left( \\prod_t P(w_t \\mid w_{t - n}, \\dots, w_{t - 1})\\right)^{-\\frac1N},\n",
        "$$\n",
        "where $N$ is the number of tokens in the text.\n",
        "Instead of probabilities multiplication we can compute sum of log-probabilities and then take exponent.\n"
      ],
      "metadata": {
        "id": "cU-oj9W1uXCO"
      }
    },
    {
      "cell_type": "code",
      "source": [
        "def calculate_perplexity(text, model, word_to_id):\n",
        "    prob = 0\n",
        "    model.eval()\n",
        "    tokens = word_tokenize(text)\n",
        "    unk_id = word_to_id['<unk>']\n",
        "    ids = [word_to_id.get(t, unk_id) for t in tokens]\n",
        "    batch_size = 1\n",
        "    hidden_state, cell_state = model.init_hidden(batch_size, device)\n",
        "    with torch.no_grad():\n",
        "        for i in range(len(ids)-1):\n",
        "            x = torch.LongTensor([ids[:i+1]]).to(device)\n",
        "            y = ids[i+1]\n",
        "            pred, (hidden_state, cell_state) = model(x, (hidden_state, cell_state))\n",
        "            scores = torch.softmax(pred[:, -1], dim=-1).cpu().numpy()\n",
        "            # print(scores)\n",
        "            y_prob = scores[0][y]\n",
        "            prob += np.log(y_prob)\n",
        "\n",
        "    return np.exp((-1/len(ids)) * prob)"
      ],
      "metadata": {
        "id": "3YFFXM1R0IFK"
      },
      "execution_count": 48,
      "outputs": []
    },
    {
      "cell_type": "code",
      "source": [
        "text = 'Largest annual event in IT consulting will take place in December in Lisbon'\n",
        "perplexity = calculate_perplexity(text, model_loaded, reviews_texts_dataset.word_to_id)\n"
      ],
      "metadata": {
        "id": "Q1WfNoohF60Z"
      },
      "execution_count": 49,
      "outputs": []
    },
    {
      "cell_type": "code",
      "source": [
        "perplexity"
      ],
      "metadata": {
        "colab": {
          "base_uri": "https://localhost:8080/"
        },
        "id": "nnU23h5oF9Co",
        "outputId": "12724ae8-5960-444b-ebcd-2b2a56a38b79"
      },
      "execution_count": 50,
      "outputs": [
        {
          "output_type": "execute_result",
          "data": {
            "text/plain": [
              "2540.238112127088"
            ]
          },
          "metadata": {},
          "execution_count": 50
        }
      ]
    },
    {
      "cell_type": "code",
      "source": [
        "text = 'The story that happened on this event was shown so dramatic and strong.'\n",
        "perplexity = calculate_perplexity(text, model_loaded, reviews_texts_dataset.word_to_id)\n",
        "perplexity\n"
      ],
      "metadata": {
        "colab": {
          "base_uri": "https://localhost:8080/"
        },
        "id": "-lo1sT49F__L",
        "outputId": "be497971-2a9f-4d96-aea3-e3fc439cda94"
      },
      "execution_count": 51,
      "outputs": [
        {
          "output_type": "execute_result",
          "data": {
            "text/plain": [
              "146.2666743596614"
            ]
          },
          "metadata": {},
          "execution_count": 51
        }
      ]
    },
    {
      "cell_type": "markdown",
      "source": [
        "Here we can see that first sentence shows much larger perplexity value because it is less typical for the corpus of movie reviews that was used for training."
      ],
      "metadata": {
        "id": "K80tvFjsv1uj"
      }
    },
    {
      "cell_type": "markdown",
      "source": [
        "## News Language Model"
      ],
      "metadata": {
        "id": "zVbS7IKnlTTY"
      }
    },
    {
      "cell_type": "markdown",
      "source": [
        "The results of text generation will vary depending on the data used for LM model training. Let's train RNN language models on a different text collection and compare texts generated by different models. For the second model we will use news texts from AG dataset."
      ],
      "metadata": {
        "id": "vcIoZWNqwb2o"
      }
    },
    {
      "cell_type": "code",
      "source": [
        "dataset_news = load_dataset(\"ag_news\", split=\"train\")\n",
        "tokenized_news = dataset_news.map(preprocess, remove_columns=['text'])\n"
      ],
      "metadata": {
        "id": "CDr5q7Ni8VaC",
        "colab": {
          "base_uri": "https://localhost:8080/",
          "height": 177,
          "referenced_widgets": [
            "60556172390a4ad189382c012f65cdc0",
            "ddd24e3b34eb40b1932cc59dea26be8a",
            "b5c27d418f324ea693afb18097bfb22e",
            "83ccaae064a34609a46fb296a3f498c3",
            "b574b82dd3164b1680bbc72fe9e79612",
            "6c5c39295d114ba5be67b620e407762b",
            "bfd094e732224f1d90b68aa511e30a47",
            "dc18b1d4c15c4668ab0c4790b35859be",
            "138554ec01c44d118a05e9338dec680a",
            "dc07d3f707e84d759dcfa10b80e04a18",
            "9c1305d8cce14fc8a2081d625295d148",
            "bafa045b8f624bf0873a26dc277496dd",
            "8f38f54c1b4542a084bc11f60951c652",
            "568dd5f4b7e6400099d994a93758969d",
            "965e89a7395e415abee10a8db5afcf6e",
            "f9a5725cfe074e0a8c700a4b0d23ffc7",
            "2d9266fcebd3464d96d03485156690ec",
            "63a777fffb7c4537baeb7600c7f19892",
            "c36027dff381416b8cf25c9a15a0b617",
            "f9b8f2ab33164da7a718fa91b698fe88",
            "64e994de33484791b70928854c6cbd0e",
            "a17dd62729f14dbc8005c766cd97d899",
            "857c8140f65946b7a1d0402eeab93e3b",
            "43573930594346739ee54a280b5ba5f6",
            "b89b300e78c842e5be0233745c2e764a",
            "3fbac0f1ad5c4312978740e628c29e4a",
            "2cd728aa38c446e5aaddaf48529a2c9a",
            "1053cf3076cc47f7b8a646bc392b3717",
            "bf96a74d20534e9b8768518ae5cfbe4a",
            "226aec04bd8549eb9105ab04113e9822",
            "48a30972a046431693e11df69b2b5a92",
            "d8d9c4bcb0594c45843f00e00d960c1f",
            "f56a5f84441d420dac80c9c502ab6413",
            "b5347f1eab4d483d9256102a5726d6b3",
            "25d630be29a34bd3b6a9051b6557f186",
            "2ec5562ecfb945aab1cdbd129d75ca47",
            "fab816db1b7d47488315e8f98ecadb55",
            "9f42e1edfd6a4a07b31deb3bf23e8808",
            "89b6992318b34cb3a75d78ed88dfa125",
            "b8518b0d915445a7b928342122e274cd",
            "a77301dc92484746aba3063f4c601370",
            "c8159bf81f204ebcbc88d48e43eecc5f",
            "980da74e49dc4dada5e7770186682bdc",
            "5924a404987f4ee79b0f8fc262dcd4be",
            "59347846b17047aab5d8a0495d8712b2",
            "1f650e9737744938b0c7798ef341a3b5",
            "f21a2b53c3674b50a597743b811bd193",
            "a5d2b2a494b04b7ab0f4c9b17b37171f",
            "fa876f04bd6c4cdbb5fd637ac573415b",
            "c3804dbcab7a4962bd3b5ddf80f54e96",
            "e582d73401374345a286882d99b3fdf1",
            "b4407b85891548b2b0b05971a52eccbe",
            "b9b0cae8d63d40c0b6abb49859b0775a",
            "241eeccfa6b34a3ea3154211a6f491b5",
            "6dd98b85cf424741a1a53df8ae3163c9"
          ]
        },
        "outputId": "622d9ca2-1f09-403c-ef3d-24a64ab10864"
      },
      "execution_count": 52,
      "outputs": [
        {
          "output_type": "display_data",
          "data": {
            "text/plain": [
              "Downloading data:   0%|          | 0.00/18.6M [00:00<?, ?B/s]"
            ],
            "application/vnd.jupyter.widget-view+json": {
              "version_major": 2,
              "version_minor": 0,
              "model_id": "60556172390a4ad189382c012f65cdc0"
            }
          },
          "metadata": {}
        },
        {
          "output_type": "display_data",
          "data": {
            "text/plain": [
              "Downloading data:   0%|          | 0.00/1.23M [00:00<?, ?B/s]"
            ],
            "application/vnd.jupyter.widget-view+json": {
              "version_major": 2,
              "version_minor": 0,
              "model_id": "bafa045b8f624bf0873a26dc277496dd"
            }
          },
          "metadata": {}
        },
        {
          "output_type": "display_data",
          "data": {
            "text/plain": [
              "Generating train split:   0%|          | 0/120000 [00:00<?, ? examples/s]"
            ],
            "application/vnd.jupyter.widget-view+json": {
              "version_major": 2,
              "version_minor": 0,
              "model_id": "857c8140f65946b7a1d0402eeab93e3b"
            }
          },
          "metadata": {}
        },
        {
          "output_type": "display_data",
          "data": {
            "text/plain": [
              "Generating test split:   0%|          | 0/7600 [00:00<?, ? examples/s]"
            ],
            "application/vnd.jupyter.widget-view+json": {
              "version_major": 2,
              "version_minor": 0,
              "model_id": "b5347f1eab4d483d9256102a5726d6b3"
            }
          },
          "metadata": {}
        },
        {
          "output_type": "display_data",
          "data": {
            "text/plain": [
              "Map:   0%|          | 0/120000 [00:00<?, ? examples/s]"
            ],
            "application/vnd.jupyter.widget-view+json": {
              "version_major": 2,
              "version_minor": 0,
              "model_id": "59347846b17047aab5d8a0495d8712b2"
            }
          },
          "metadata": {}
        }
      ]
    },
    {
      "cell_type": "code",
      "source": [
        "dataset_news['text'][:5]"
      ],
      "metadata": {
        "colab": {
          "base_uri": "https://localhost:8080/"
        },
        "id": "HO3-NxVRGjin",
        "outputId": "44649888-bad1-404d-dcf7-14363a20867d"
      },
      "execution_count": 53,
      "outputs": [
        {
          "output_type": "execute_result",
          "data": {
            "text/plain": [
              "[\"Wall St. Bears Claw Back Into the Black (Reuters) Reuters - Short-sellers, Wall Street's dwindling\\\\band of ultra-cynics, are seeing green again.\",\n",
              " 'Carlyle Looks Toward Commercial Aerospace (Reuters) Reuters - Private investment firm Carlyle Group,\\\\which has a reputation for making well-timed and occasionally\\\\controversial plays in the defense industry, has quietly placed\\\\its bets on another part of the market.',\n",
              " \"Oil and Economy Cloud Stocks' Outlook (Reuters) Reuters - Soaring crude prices plus worries\\\\about the economy and the outlook for earnings are expected to\\\\hang over the stock market next week during the depth of the\\\\summer doldrums.\",\n",
              " 'Iraq Halts Oil Exports from Main Southern Pipeline (Reuters) Reuters - Authorities have halted oil export\\\\flows from the main pipeline in southern Iraq after\\\\intelligence showed a rebel militia could strike\\\\infrastructure, an oil official said on Saturday.',\n",
              " 'Oil prices soar to all-time record, posing new menace to US economy (AFP) AFP - Tearaway world oil prices, toppling records and straining wallets, present a new economic menace barely three months before the US presidential elections.']"
            ]
          },
          "metadata": {},
          "execution_count": 53
        }
      ]
    },
    {
      "cell_type": "code",
      "source": [
        "tokenized_news[0]['tokens']"
      ],
      "metadata": {
        "colab": {
          "base_uri": "https://localhost:8080/"
        },
        "id": "7TS7ZtEPxeAG",
        "outputId": "deeef504-81a7-4e78-fb7c-87872271d0e6"
      },
      "execution_count": 54,
      "outputs": [
        {
          "output_type": "execute_result",
          "data": {
            "text/plain": [
              "['Wall',\n",
              " 'St.',\n",
              " 'Bears',\n",
              " 'Claw',\n",
              " 'Back',\n",
              " 'Into',\n",
              " 'the',\n",
              " 'Black',\n",
              " '(',\n",
              " 'Reuters',\n",
              " ')',\n",
              " 'Reuters',\n",
              " '-',\n",
              " 'Short-sellers',\n",
              " ',',\n",
              " 'Wall',\n",
              " 'Street',\n",
              " \"'s\",\n",
              " 'dwindling',\n",
              " 'band',\n",
              " 'of',\n",
              " 'ultra-cynics',\n",
              " ',',\n",
              " 'are',\n",
              " 'seeing',\n",
              " 'green',\n",
              " 'again',\n",
              " '.']"
            ]
          },
          "metadata": {},
          "execution_count": 54
        }
      ]
    },
    {
      "cell_type": "code",
      "source": [
        "SEQ_LEN = 150\n",
        "news_texts_dataset = TextsDataset(tokenized_news['tokens'], SEQ_LEN)\n",
        "news_train, news_val = random_split(news_texts_dataset, [0.8, 0.2])"
      ],
      "metadata": {
        "id": "xeJpQY_5ntrc"
      },
      "execution_count": 55,
      "outputs": []
    },
    {
      "cell_type": "code",
      "source": [
        "news_train[0]"
      ],
      "metadata": {
        "colab": {
          "base_uri": "https://localhost:8080/"
        },
        "id": "w8ZjwqFBtVdr",
        "outputId": "bf67d405-f4a3-46da-8e45-5d0fc57b8234"
      },
      "execution_count": 56,
      "outputs": [
        {
          "output_type": "execute_result",
          "data": {
            "text/plain": [
              "(tensor([ 67330,   1424,  62048,  33741,  69611,  72535,  18441,  28653,  14146,\n",
              "          32302,  12577,  16656,  55384,  25106,  78188,  41156, 110409,  83321,\n",
              "           4640,  64812,  81937,  47510, 110409,  29006,  65102,      1,  64384,\n",
              "          81899,   7266,  42672,  46557,  14992,  62048,  45706,  97819,  66763,\n",
              "          72535,  52705, 110409, 102366, 112007,  28653,  31402,  72535,  25169,\n",
              "          86977, 101002,  77413,  67470, 101995,   3088,  83321, 106877, 101088,\n",
              "          24575,  80533, 112713,  19689,  60990,  71650,  88713,  50668,  24575,\n",
              "         113677,  65102,      1,  96914,  66643,  64812,  92105,  61926,  84549,\n",
              "          64109,  96914,  50687,  60190,  70691,  93869,  44393,  65881,  91831,\n",
              "          24575,   7581,  12577,  62960,  80847,  37569,  45002,  72535,   7654,\n",
              "          84549,  66562,  65102, 102839,  64812,  92105,  60190,  75297, 112007,\n",
              "          90031,  56573,   7731,  62960,  81975,  34247,  91036,  47420,  50939,\n",
              "          59233,  35881,  11239,  45002,  60890, 112007,  35949,  19689,  60787,\n",
              "          10770,    571,  65102,      1,  33552, 103232,  21009,  72535,  85356,\n",
              "         111752, 113752,  35859,  91650,  19689, 113540,  96342,  34410,  67470,\n",
              "         110409,  95727,  62960,  91267,  29506,  43903,  21009,  72535,  53352,\n",
              "          93842,   9935,  54977, 113752,  68153,  65102]),\n",
              " tensor([  1424,  62048,  33741,  69611,  72535,  18441,  28653,  14146,  32302,\n",
              "          12577,  16656,  55384,  25106,  78188,  41156, 110409,  83321,   4640,\n",
              "          64812,  81937,  47510, 110409,  29006,  65102,      1,  64384,  81899,\n",
              "           7266,  42672,  46557,  14992,  62048,  45706,  97819,  66763,  72535,\n",
              "          52705, 110409, 102366, 112007,  28653,  31402,  72535,  25169,  86977,\n",
              "         101002,  77413,  67470, 101995,   3088,  83321, 106877, 101088,  24575,\n",
              "          80533, 112713,  19689,  60990,  71650,  88713,  50668,  24575, 113677,\n",
              "          65102,      1,  96914,  66643,  64812,  92105,  61926,  84549,  64109,\n",
              "          96914,  50687,  60190,  70691,  93869,  44393,  65881,  91831,  24575,\n",
              "           7581,  12577,  62960,  80847,  37569,  45002,  72535,   7654,  84549,\n",
              "          66562,  65102, 102839,  64812,  92105,  60190,  75297, 112007,  90031,\n",
              "          56573,   7731,  62960,  81975,  34247,  91036,  47420,  50939,  59233,\n",
              "          35881,  11239,  45002,  60890, 112007,  35949,  19689,  60787,  10770,\n",
              "            571,  65102,      1,  33552, 103232,  21009,  72535,  85356, 111752,\n",
              "         113752,  35859,  91650,  19689, 113540,  96342,  34410,  67470, 110409,\n",
              "          95727,  62960,  91267,  29506,  43903,  21009,  72535,  53352,  93842,\n",
              "           9935,  54977, 113752,  68153,  65102,      1]))"
            ]
          },
          "metadata": {},
          "execution_count": 56
        }
      ]
    },
    {
      "cell_type": "code",
      "source": [
        "len(news_texts_dataset.vocab)"
      ],
      "metadata": {
        "colab": {
          "base_uri": "https://localhost:8080/"
        },
        "id": "_cGlWBC9tkl5",
        "outputId": "ad7a7b0b-2fcd-4f18-f577-666dd1036654"
      },
      "execution_count": 57,
      "outputs": [
        {
          "output_type": "execute_result",
          "data": {
            "text/plain": [
              "113785"
            ]
          },
          "metadata": {},
          "execution_count": 57
        }
      ]
    },
    {
      "cell_type": "code",
      "source": [
        "len(news_train), len(news_val)"
      ],
      "metadata": {
        "colab": {
          "base_uri": "https://localhost:8080/"
        },
        "id": "dr7Dos0ho0yN",
        "outputId": "17267047-235d-48f8-f481-fa9a8f66d6cc"
      },
      "execution_count": 58,
      "outputs": [
        {
          "output_type": "execute_result",
          "data": {
            "text/plain": [
              "(28777, 7194)"
            ]
          },
          "metadata": {},
          "execution_count": 58
        }
      ]
    },
    {
      "cell_type": "code",
      "source": [
        "EMB_DIM = 100\n",
        "HIDDEN_DIM = 256\n",
        "NUM_LAYERS = 2\n",
        "DROPOUT = 0.5\n",
        "LR = 1e-3"
      ],
      "metadata": {
        "id": "RfvFlTPjZSDQ"
      },
      "execution_count": 59,
      "outputs": []
    },
    {
      "cell_type": "code",
      "source": [
        "BATCH_SIZE = 32"
      ],
      "metadata": {
        "id": "4cVIK62IZmiv"
      },
      "execution_count": 60,
      "outputs": []
    },
    {
      "cell_type": "code",
      "source": [
        "VOCAB_SIZE = len(news_texts_dataset.vocab)\n",
        "\n",
        "model_news = RNNModel(VOCAB_SIZE, EMB_DIM, HIDDEN_DIM, NUM_LAYERS, DROPOUT).to(device)\n",
        "\n",
        "train_dataloader_news = DataLoader(\n",
        "        news_train,\n",
        "        batch_size=BATCH_SIZE,\n",
        "        shuffle=True,\n",
        "        drop_last=True\n",
        "    )\n",
        "\n",
        "val_dataloader_news = DataLoader(\n",
        "        news_val,\n",
        "        batch_size=BATCH_SIZE,\n",
        "        shuffle=True,\n",
        "        drop_last=True\n",
        "    )\n",
        "\n",
        "criterion = nn.CrossEntropyLoss()\n",
        "optimizer = optim.Adam(model_news.parameters(), lr=LR)\n"
      ],
      "metadata": {
        "id": "WiqvpzXPnti0"
      },
      "execution_count": 61,
      "outputs": []
    },
    {
      "cell_type": "code",
      "source": [
        "len(train_dataloader_news), len(val_dataloader_news)"
      ],
      "metadata": {
        "colab": {
          "base_uri": "https://localhost:8080/"
        },
        "id": "W6cO3oIQpDSI",
        "outputId": "0ac06728-e561-4f34-a0ee-6b5a4a6e2ee7"
      },
      "execution_count": 62,
      "outputs": [
        {
          "output_type": "execute_result",
          "data": {
            "text/plain": [
              "(899, 224)"
            ]
          },
          "metadata": {},
          "execution_count": 62
        }
      ]
    },
    {
      "cell_type": "code",
      "source": [
        "%%time\n",
        "NUM_EPOCHS = 3\n",
        "best_val_loss = -1\n",
        "\n",
        "for epoch in range(NUM_EPOCHS):\n",
        "    train_loss = train(model_news, train_dataloader_news)\n",
        "    val_loss = evaluate(model_news, val_dataloader_news)\n",
        "    print({'epoch': epoch, 'train_loss': train_loss, 'val_loss': val_loss})\n",
        "\n",
        "    if best_val_loss < 0 or val_loss < best_val_loss:\n",
        "        best_val_loss = val_loss\n",
        "        torch.save(model_news.state_dict(), 'rnn_lm_news.pt')\n",
        "        print('Saving model')\n",
        "\n",
        "    print(f'\\ttrain_perplexity: {math.exp(train_loss):.3f}')\n",
        "    print(f'\\tval_perplexity: {math.exp(val_loss):.3f}')\n"
      ],
      "metadata": {
        "colab": {
          "base_uri": "https://localhost:8080/"
        },
        "id": "rmLpwTmpG1uS",
        "outputId": "201891af-2a04-415b-cae6-fa02abfc3992"
      },
      "execution_count": 63,
      "outputs": [
        {
          "output_type": "stream",
          "name": "stdout",
          "text": [
            "{'batch': 0, 'loss': 11.643495559692383}\n",
            "{'batch': 200, 'loss': 7.9226226806640625}\n",
            "{'batch': 400, 'loss': 7.533345699310303}\n",
            "{'batch': 600, 'loss': 7.141965389251709}\n",
            "{'batch': 800, 'loss': 6.9437575340271}\n",
            "{'epoch': 0, 'train_loss': 7.516809876618248, 'val_loss': 6.808912497464852}\n",
            "Saving model\n",
            "\ttrain_perplexity: 1838.692\n",
            "\tval_perplexity: 905.885\n",
            "{'batch': 0, 'loss': 6.923913478851318}\n",
            "{'batch': 200, 'loss': 6.754554271697998}\n",
            "{'batch': 400, 'loss': 6.855508804321289}\n",
            "{'batch': 600, 'loss': 6.742918968200684}\n",
            "{'batch': 800, 'loss': 6.6019158363342285}\n",
            "{'epoch': 1, 'train_loss': 6.688491577560493, 'val_loss': 6.421076047580873}\n",
            "Saving model\n",
            "\ttrain_perplexity: 803.110\n",
            "\tval_perplexity: 614.664\n",
            "{'batch': 0, 'loss': 6.458664894104004}\n",
            "{'batch': 200, 'loss': 6.537103652954102}\n",
            "{'batch': 400, 'loss': 6.362900733947754}\n",
            "{'batch': 600, 'loss': 6.549129009246826}\n",
            "{'batch': 800, 'loss': 6.323345184326172}\n",
            "{'epoch': 2, 'train_loss': 6.404420194753294, 'val_loss': 6.206129662124566}\n",
            "Saving model\n",
            "\ttrain_perplexity: 604.511\n",
            "\tval_perplexity: 495.779\n",
            "CPU times: user 17min 39s, sys: 1.42 s, total: 17min 40s\n",
            "Wall time: 17min 37s\n"
          ]
        }
      ]
    },
    {
      "cell_type": "code",
      "source": [
        "PATH = 'rnn_lm_news.pt'\n",
        "model_news_loaded = RNNModel(VOCAB_SIZE, EMB_DIM, HIDDEN_DIM, NUM_LAYERS, DROPOUT).to(device)\n",
        "model_news_loaded.load_state_dict(torch.load(PATH))"
      ],
      "metadata": {
        "id": "uaJStHO8RD7y",
        "colab": {
          "base_uri": "https://localhost:8080/"
        },
        "outputId": "0629ed16-3a24-4981-e131-c3ac846295cc"
      },
      "execution_count": 64,
      "outputs": [
        {
          "output_type": "execute_result",
          "data": {
            "text/plain": [
              "<All keys matched successfully>"
            ]
          },
          "metadata": {},
          "execution_count": 64
        }
      ]
    },
    {
      "cell_type": "markdown",
      "source": [
        "Now let's have a look at the results of generation with the new model."
      ],
      "metadata": {
        "id": "almuGZgrxEeo"
      }
    },
    {
      "cell_type": "code",
      "source": [
        "start = 'Global corporations'\n",
        "max_len = 50\n",
        "\n",
        "generated = generate(start, max_len, model_news_loaded, news_texts_dataset.id_to_word,\n",
        "                     news_texts_dataset.word_to_id)\n",
        "' '.join(generated)"
      ],
      "metadata": {
        "colab": {
          "base_uri": "https://localhost:8080/",
          "height": 36
        },
        "id": "1rUVOc5eRWWV",
        "outputId": "2df5ad4c-0026-4418-e88c-e491e3c89f02"
      },
      "execution_count": 65,
      "outputs": [
        {
          "output_type": "execute_result",
          "data": {
            "text/plain": [
              "'Global corporations crushing Benitez vs. terrorist jobs .'"
            ],
            "application/vnd.google.colaboratory.intrinsic+json": {
              "type": "string"
            }
          },
          "metadata": {},
          "execution_count": 65
        }
      ]
    },
    {
      "cell_type": "code",
      "source": [
        "start = 'Music'\n",
        "max_len = 50\n",
        "\n",
        "generated = generate(start, max_len, model_news_loaded, news_texts_dataset.id_to_word,\n",
        "                     news_texts_dataset.word_to_id)\n"
      ],
      "metadata": {
        "id": "v5CbXoXr4n2m"
      },
      "execution_count": 66,
      "outputs": []
    },
    {
      "cell_type": "code",
      "source": [
        "' '.join(generated)"
      ],
      "metadata": {
        "colab": {
          "base_uri": "https://localhost:8080/",
          "height": 36
        },
        "id": "VO4zqlv54rNB",
        "outputId": "dfe1e002-8f20-4fed-c224-2c983ec76599"
      },
      "execution_count": 67,
      "outputs": [
        {
          "output_type": "execute_result",
          "data": {
            "text/plain": [
              "'Music Maj a Race voted , a foothold general an message .'"
            ],
            "application/vnd.google.colaboratory.intrinsic+json": {
              "type": "string"
            }
          },
          "metadata": {},
          "execution_count": 67
        }
      ]
    },
    {
      "cell_type": "code",
      "source": [
        "start = 'Crisis'\n",
        "max_len = 50\n",
        "\n",
        "generated = generate(start, max_len, model_news_loaded, news_texts_dataset.id_to_word,\n",
        "                     news_texts_dataset.word_to_id)\n"
      ],
      "metadata": {
        "id": "47SjbSvi4sO8"
      },
      "execution_count": 68,
      "outputs": []
    },
    {
      "cell_type": "code",
      "source": [
        "' '.join(generated)"
      ],
      "metadata": {
        "colab": {
          "base_uri": "https://localhost:8080/",
          "height": 53
        },
        "id": "sSV5uNgv43Bq",
        "outputId": "57615ae6-5e9e-423c-b1b2-170df04ebb90"
      },
      "execution_count": 69,
      "outputs": [
        {
          "output_type": "execute_result",
          "data": {
            "text/plain": [
              "'Crisis farther State ( Us ) has put a apparent contentious . That to prospects it , including results could be given its hopes to flee the beleaguered quarter of Portsmouth .'"
            ],
            "application/vnd.google.colaboratory.intrinsic+json": {
              "type": "string"
            }
          },
          "metadata": {},
          "execution_count": 69
        }
      ]
    },
    {
      "cell_type": "markdown",
      "source": [
        "Now let's check the perplexity of the model for the same texts."
      ],
      "metadata": {
        "id": "z9qSfxW9xdYp"
      }
    },
    {
      "cell_type": "code",
      "source": [
        "text = 'Largest annual event in IT consulting will take place in December in Lisbon'\n",
        "perplexity = calculate_perplexity(text, model_news_loaded, news_texts_dataset.word_to_id)\n"
      ],
      "metadata": {
        "id": "qLS-_Ftc44Rz"
      },
      "execution_count": 70,
      "outputs": []
    },
    {
      "cell_type": "code",
      "source": [
        "perplexity"
      ],
      "metadata": {
        "colab": {
          "base_uri": "https://localhost:8080/"
        },
        "id": "jajfcKh0Rmr8",
        "outputId": "5b722df9-99d3-404a-b2d8-e38a0f8585a4"
      },
      "execution_count": 71,
      "outputs": [
        {
          "output_type": "execute_result",
          "data": {
            "text/plain": [
              "770.0978105912402"
            ]
          },
          "metadata": {},
          "execution_count": 71
        }
      ]
    },
    {
      "cell_type": "code",
      "source": [
        "text = 'The story that happened on this event was shown so dramatic and strong.'\n",
        "perplexity = calculate_perplexity(text, model_news_loaded, news_texts_dataset.word_to_id)\n",
        "perplexity\n"
      ],
      "metadata": {
        "colab": {
          "base_uri": "https://localhost:8080/"
        },
        "id": "ANdL6T7SRqUi",
        "outputId": "7eca6b8b-1c5d-4083-cf0b-8e93e0c16e50"
      },
      "execution_count": 72,
      "outputs": [
        {
          "output_type": "execute_result",
          "data": {
            "text/plain": [
              "510.0816146565349"
            ]
          },
          "metadata": {},
          "execution_count": 72
        }
      ]
    },
    {
      "cell_type": "markdown",
      "source": [
        "Perplexity for the first example is much lower than its value for the movie's model while on the second example perplexity is higher."
      ],
      "metadata": {
        "id": "rjZMMeYtxRbT"
      }
    },
    {
      "cell_type": "code",
      "source": [],
      "metadata": {
        "id": "hN5HpkXSkjMf"
      },
      "execution_count": null,
      "outputs": []
    }
  ]
}