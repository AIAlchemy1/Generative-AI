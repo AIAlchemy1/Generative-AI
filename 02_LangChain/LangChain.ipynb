{
  "cells": [
    {
      "cell_type": "markdown",
      "metadata": {
        "id": "view-in-github",
        "colab_type": "text"
      },
      "source": [
        "<a href=\"https://colab.research.google.com/github/AIAlchemy1/Generative-AI/blob/main/02_LangChain/LangChain.ipynb\" target=\"_parent\"><img src=\"https://colab.research.google.com/assets/colab-badge.svg\" alt=\"Open In Colab\"/></a>"
      ]
    },
    {
      "cell_type": "markdown",
      "source": [
        "In this code we'll learn:\n",
        "\n",
        "- How to use LangChain, one of the most popular library to simplify LLM interaction;\n",
        "- How to add plugins to an LLM with LangChain;\n",
        "- How to interact with a database using an LLM."
      ],
      "metadata": {
        "id": "VUADqJGLqxKm"
      }
    },
    {
      "cell_type": "markdown",
      "metadata": {
        "id": "dCb0dbvH6AQ0"
      },
      "source": [
        "# LangChain\n",
        "\n",
        "LangChain is a handy library which supplies a whole infrastucture around LLMs (both open source and available by API) allowing to quickly establish LLM-powered services. It can help you with many LLM related tasks, from prompt optimisation to creating multi-call LLM agents.\n",
        "\n",
        "Let's see how to use LangChain. First of all, download the library:"
      ]
    },
    {
      "cell_type": "code",
      "source": [
        "import os\n",
        "\n",
        "from google.colab import drive\n",
        "drive.mount('/content/drive')\n",
        "\n",
        "open_ai_api_key = open('/content/drive/MyDrive/.open-ai-api-key.txt').read().strip()\n",
        "os.environ['OPENAI_API_KEY'] = open_ai_api_key"
      ],
      "metadata": {
        "id": "SGGArYZZ32aO",
        "colab": {
          "base_uri": "https://localhost:8080/"
        },
        "outputId": "23405170-ad67-4af9-8c23-147e556c5311"
      },
      "execution_count": 2,
      "outputs": [
        {
          "output_type": "stream",
          "name": "stdout",
          "text": [
            "Mounted at /content/drive\n"
          ]
        }
      ]
    },
    {
      "cell_type": "code",
      "execution_count": 3,
      "metadata": {
        "id": "5dx0eA456AQ0",
        "outputId": "9c55560b-415e-4c22-b717-32d8cdc83571",
        "colab": {
          "base_uri": "https://localhost:8080/"
        }
      },
      "outputs": [
        {
          "output_type": "stream",
          "name": "stdout",
          "text": [
            "Collecting openai\n",
            "  Downloading openai-1.10.0-py3-none-any.whl (225 kB)\n",
            "\u001b[2K     \u001b[90m━━━━━━━━━━━━━━━━━━━━━━━━━━━━━━━━━━━━━━━━\u001b[0m \u001b[32m225.1/225.1 kB\u001b[0m \u001b[31m3.2 MB/s\u001b[0m eta \u001b[36m0:00:00\u001b[0m\n",
            "\u001b[?25hCollecting langchain\n",
            "  Downloading langchain-0.1.4-py3-none-any.whl (803 kB)\n",
            "\u001b[2K     \u001b[90m━━━━━━━━━━━━━━━━━━━━━━━━━━━━━━━━━━━━━━━━\u001b[0m \u001b[32m803.6/803.6 kB\u001b[0m \u001b[31m28.1 MB/s\u001b[0m eta \u001b[36m0:00:00\u001b[0m\n",
            "\u001b[?25hRequirement already satisfied: anyio<5,>=3.5.0 in /usr/local/lib/python3.10/dist-packages (from openai) (3.7.1)\n",
            "Requirement already satisfied: distro<2,>=1.7.0 in /usr/lib/python3/dist-packages (from openai) (1.7.0)\n",
            "Collecting httpx<1,>=0.23.0 (from openai)\n",
            "  Downloading httpx-0.26.0-py3-none-any.whl (75 kB)\n",
            "\u001b[2K     \u001b[90m━━━━━━━━━━━━━━━━━━━━━━━━━━━━━━━━━━━━━━━━\u001b[0m \u001b[32m75.9/75.9 kB\u001b[0m \u001b[31m8.4 MB/s\u001b[0m eta \u001b[36m0:00:00\u001b[0m\n",
            "\u001b[?25hRequirement already satisfied: pydantic<3,>=1.9.0 in /usr/local/lib/python3.10/dist-packages (from openai) (1.10.14)\n",
            "Requirement already satisfied: sniffio in /usr/local/lib/python3.10/dist-packages (from openai) (1.3.0)\n",
            "Requirement already satisfied: tqdm>4 in /usr/local/lib/python3.10/dist-packages (from openai) (4.66.1)\n",
            "Collecting typing-extensions<5,>=4.7 (from openai)\n",
            "  Downloading typing_extensions-4.9.0-py3-none-any.whl (32 kB)\n",
            "Requirement already satisfied: PyYAML>=5.3 in /usr/local/lib/python3.10/dist-packages (from langchain) (6.0.1)\n",
            "Requirement already satisfied: SQLAlchemy<3,>=1.4 in /usr/local/lib/python3.10/dist-packages (from langchain) (2.0.24)\n",
            "Requirement already satisfied: aiohttp<4.0.0,>=3.8.3 in /usr/local/lib/python3.10/dist-packages (from langchain) (3.9.1)\n",
            "Requirement already satisfied: async-timeout<5.0.0,>=4.0.0 in /usr/local/lib/python3.10/dist-packages (from langchain) (4.0.3)\n",
            "Collecting dataclasses-json<0.7,>=0.5.7 (from langchain)\n",
            "  Downloading dataclasses_json-0.6.3-py3-none-any.whl (28 kB)\n",
            "Collecting jsonpatch<2.0,>=1.33 (from langchain)\n",
            "  Downloading jsonpatch-1.33-py2.py3-none-any.whl (12 kB)\n",
            "Collecting langchain-community<0.1,>=0.0.14 (from langchain)\n",
            "  Downloading langchain_community-0.0.16-py3-none-any.whl (1.6 MB)\n",
            "\u001b[2K     \u001b[90m━━━━━━━━━━━━━━━━━━━━━━━━━━━━━━━━━━━━━━━━\u001b[0m \u001b[32m1.6/1.6 MB\u001b[0m \u001b[31m51.4 MB/s\u001b[0m eta \u001b[36m0:00:00\u001b[0m\n",
            "\u001b[?25hCollecting langchain-core<0.2,>=0.1.16 (from langchain)\n",
            "  Downloading langchain_core-0.1.16-py3-none-any.whl (230 kB)\n",
            "\u001b[2K     \u001b[90m━━━━━━━━━━━━━━━━━━━━━━━━━━━━━━━━━━━━━━━━\u001b[0m \u001b[32m230.3/230.3 kB\u001b[0m \u001b[31m25.1 MB/s\u001b[0m eta \u001b[36m0:00:00\u001b[0m\n",
            "\u001b[?25hCollecting langsmith<0.1,>=0.0.83 (from langchain)\n",
            "  Downloading langsmith-0.0.83-py3-none-any.whl (49 kB)\n",
            "\u001b[2K     \u001b[90m━━━━━━━━━━━━━━━━━━━━━━━━━━━━━━━━━━━━━━━━\u001b[0m \u001b[32m49.3/49.3 kB\u001b[0m \u001b[31m6.4 MB/s\u001b[0m eta \u001b[36m0:00:00\u001b[0m\n",
            "\u001b[?25hRequirement already satisfied: numpy<2,>=1 in /usr/local/lib/python3.10/dist-packages (from langchain) (1.23.5)\n",
            "Requirement already satisfied: requests<3,>=2 in /usr/local/lib/python3.10/dist-packages (from langchain) (2.31.0)\n",
            "Requirement already satisfied: tenacity<9.0.0,>=8.1.0 in /usr/local/lib/python3.10/dist-packages (from langchain) (8.2.3)\n",
            "Requirement already satisfied: attrs>=17.3.0 in /usr/local/lib/python3.10/dist-packages (from aiohttp<4.0.0,>=3.8.3->langchain) (23.2.0)\n",
            "Requirement already satisfied: multidict<7.0,>=4.5 in /usr/local/lib/python3.10/dist-packages (from aiohttp<4.0.0,>=3.8.3->langchain) (6.0.4)\n",
            "Requirement already satisfied: yarl<2.0,>=1.0 in /usr/local/lib/python3.10/dist-packages (from aiohttp<4.0.0,>=3.8.3->langchain) (1.9.4)\n",
            "Requirement already satisfied: frozenlist>=1.1.1 in /usr/local/lib/python3.10/dist-packages (from aiohttp<4.0.0,>=3.8.3->langchain) (1.4.1)\n",
            "Requirement already satisfied: aiosignal>=1.1.2 in /usr/local/lib/python3.10/dist-packages (from aiohttp<4.0.0,>=3.8.3->langchain) (1.3.1)\n",
            "Requirement already satisfied: idna>=2.8 in /usr/local/lib/python3.10/dist-packages (from anyio<5,>=3.5.0->openai) (3.6)\n",
            "Requirement already satisfied: exceptiongroup in /usr/local/lib/python3.10/dist-packages (from anyio<5,>=3.5.0->openai) (1.2.0)\n",
            "Collecting marshmallow<4.0.0,>=3.18.0 (from dataclasses-json<0.7,>=0.5.7->langchain)\n",
            "  Downloading marshmallow-3.20.2-py3-none-any.whl (49 kB)\n",
            "\u001b[2K     \u001b[90m━━━━━━━━━━━━━━━━━━━━━━━━━━━━━━━━━━━━━━━━\u001b[0m \u001b[32m49.4/49.4 kB\u001b[0m \u001b[31m5.9 MB/s\u001b[0m eta \u001b[36m0:00:00\u001b[0m\n",
            "\u001b[?25hCollecting typing-inspect<1,>=0.4.0 (from dataclasses-json<0.7,>=0.5.7->langchain)\n",
            "  Downloading typing_inspect-0.9.0-py3-none-any.whl (8.8 kB)\n",
            "Requirement already satisfied: certifi in /usr/local/lib/python3.10/dist-packages (from httpx<1,>=0.23.0->openai) (2023.11.17)\n",
            "Collecting httpcore==1.* (from httpx<1,>=0.23.0->openai)\n",
            "  Downloading httpcore-1.0.2-py3-none-any.whl (76 kB)\n",
            "\u001b[2K     \u001b[90m━━━━━━━━━━━━━━━━━━━━━━━━━━━━━━━━━━━━━━━━\u001b[0m \u001b[32m76.9/76.9 kB\u001b[0m \u001b[31m8.5 MB/s\u001b[0m eta \u001b[36m0:00:00\u001b[0m\n",
            "\u001b[?25hCollecting h11<0.15,>=0.13 (from httpcore==1.*->httpx<1,>=0.23.0->openai)\n",
            "  Downloading h11-0.14.0-py3-none-any.whl (58 kB)\n",
            "\u001b[2K     \u001b[90m━━━━━━━━━━━━━━━━━━━━━━━━━━━━━━━━━━━━━━━━\u001b[0m \u001b[32m58.3/58.3 kB\u001b[0m \u001b[31m7.2 MB/s\u001b[0m eta \u001b[36m0:00:00\u001b[0m\n",
            "\u001b[?25hCollecting jsonpointer>=1.9 (from jsonpatch<2.0,>=1.33->langchain)\n",
            "  Downloading jsonpointer-2.4-py2.py3-none-any.whl (7.8 kB)\n",
            "Requirement already satisfied: packaging<24.0,>=23.2 in /usr/local/lib/python3.10/dist-packages (from langchain-core<0.2,>=0.1.16->langchain) (23.2)\n",
            "Requirement already satisfied: charset-normalizer<4,>=2 in /usr/local/lib/python3.10/dist-packages (from requests<3,>=2->langchain) (3.3.2)\n",
            "Requirement already satisfied: urllib3<3,>=1.21.1 in /usr/local/lib/python3.10/dist-packages (from requests<3,>=2->langchain) (2.0.7)\n",
            "Requirement already satisfied: greenlet!=0.4.17 in /usr/local/lib/python3.10/dist-packages (from SQLAlchemy<3,>=1.4->langchain) (3.0.3)\n",
            "Collecting mypy-extensions>=0.3.0 (from typing-inspect<1,>=0.4.0->dataclasses-json<0.7,>=0.5.7->langchain)\n",
            "  Downloading mypy_extensions-1.0.0-py3-none-any.whl (4.7 kB)\n",
            "Installing collected packages: typing-extensions, mypy-extensions, marshmallow, jsonpointer, h11, typing-inspect, jsonpatch, httpcore, langsmith, httpx, dataclasses-json, openai, langchain-core, langchain-community, langchain\n",
            "  Attempting uninstall: typing-extensions\n",
            "    Found existing installation: typing_extensions 4.5.0\n",
            "    Uninstalling typing_extensions-4.5.0:\n",
            "      Successfully uninstalled typing_extensions-4.5.0\n",
            "\u001b[31mERROR: pip's dependency resolver does not currently take into account all the packages that are installed. This behaviour is the source of the following dependency conflicts.\n",
            "llmx 0.0.15a0 requires cohere, which is not installed.\n",
            "llmx 0.0.15a0 requires tiktoken, which is not installed.\n",
            "tensorflow-probability 0.22.0 requires typing-extensions<4.6.0, but you have typing-extensions 4.9.0 which is incompatible.\u001b[0m\u001b[31m\n",
            "\u001b[0mSuccessfully installed dataclasses-json-0.6.3 h11-0.14.0 httpcore-1.0.2 httpx-0.26.0 jsonpatch-1.33 jsonpointer-2.4 langchain-0.1.4 langchain-community-0.0.16 langchain-core-0.1.16 langsmith-0.0.83 marshmallow-3.20.2 mypy-extensions-1.0.0 openai-1.10.0 typing-extensions-4.9.0 typing-inspect-0.9.0\n"
          ]
        }
      ],
      "source": [
        "!pip install openai langchain"
      ]
    },
    {
      "cell_type": "markdown",
      "source": [
        "The easiest thing you can do with LangChain is just calling an LLM.  We'll do it for OpenAI API:\n",
        "\n",
        "Note: The base model for OpenAI class is `text-davinci-003`, the significance of that will become apparent later"
      ],
      "metadata": {
        "id": "54DvPP6bHeRR"
      }
    },
    {
      "cell_type": "code",
      "execution_count": 4,
      "metadata": {
        "id": "xspBOmsx6AQ1",
        "colab": {
          "base_uri": "https://localhost:8080/"
        },
        "outputId": "02e4d004-e612-4cdc-bfeb-f912e3c678d5"
      },
      "outputs": [
        {
          "output_type": "stream",
          "name": "stderr",
          "text": [
            "/usr/local/lib/python3.10/dist-packages/langchain_core/_api/deprecation.py:117: LangChainDeprecationWarning: The class `langchain_community.llms.openai.OpenAI` was deprecated in langchain-community 0.0.10 and will be removed in 0.2.0. An updated version of the class exists in the langchain-openai package and should be used instead. To use it run `pip install -U langchain-openai` and import as `from langchain_openai import OpenAI`.\n",
            "  warn_deprecated(\n"
          ]
        }
      ],
      "source": [
        "from langchain.llms import OpenAI\n",
        "\n",
        "llm = OpenAI()"
      ]
    },
    {
      "cell_type": "code",
      "execution_count": 5,
      "metadata": {
        "id": "1etZ63Oi6AQ1",
        "outputId": "0dcf6461-d08d-4692-fd1f-ca179a7ff474",
        "colab": {
          "base_uri": "https://localhost:8080/"
        }
      },
      "outputs": [
        {
          "output_type": "stream",
          "name": "stderr",
          "text": [
            "/usr/local/lib/python3.10/dist-packages/langchain_core/_api/deprecation.py:117: LangChainDeprecationWarning: The function `predict` was deprecated in LangChain 0.1.7 and will be removed in 0.2.0. Use invoke instead.\n",
            "  warn_deprecated(\n"
          ]
        },
        {
          "output_type": "stream",
          "name": "stdout",
          "text": [
            " instinct and domestication.\n",
            "\n",
            "Cats and dogs are both popular domesticated pets, but they have several key differences in behavior, physical characteristics, and evolutionary history.\n",
            "\n",
            "Instinct:\n",
            "\n",
            "Cats and dogs have different instincts due to their evolutionary history. Cats are natural hunters and have a strong instinct to stalk and pounce on prey. This instinct is still evident in house cats, who often play with and chase small objects as if they were prey. Dogs, on the other hand, have been domesticated for thousands of years and have a stronger instinct for social hierarchy and pack mentality. This is why dogs are often more obedient and willing to follow commands from their owners.\n",
            "\n",
            "Domestication:\n",
            "\n",
            "Cats and dogs have been domesticated for different reasons and at different times. Cats were first domesticated around 10,000 years ago by ancient civilizations who valued them for their ability to control vermin and pests. Dogs, on the other hand, were domesticated much earlier, around 15,000 years ago, for their skills in hunting and guarding. This longer period of domestication has led to dogs being more dependent on humans and more adaptable to living in a domestic environment.\n",
            "\n",
            "Physical Characteristics:\n",
            "\n",
            "Cats and dogs have distinct physical characteristics that differentiate them. Cats are typically smaller and more agile\n"
          ]
        }
      ],
      "source": [
        "print(llm.predict(\n",
        "    \"What is the difference between cats and dogs? In two words:\"\n",
        "))"
      ]
    },
    {
      "cell_type": "markdown",
      "metadata": {
        "id": "ZsUuk0l56AQ1"
      },
      "source": [
        "As you can see, the interface is already much simpler, compared to writing it on your own.\n",
        "\n",
        "LangChain also destinguishes between LLM's and Chat models.\n",
        "\n",
        "A difference is very subtle and mostly affect the format in which you pass data. LLM's are a pure text completion models, which means they input text and output text. Where is ChatModels work on a list of ChatMessages, which can be AIMessage, HumanMessage or SystemMessage (this difference we covered in week 1) and return an AIMessage.\n",
        "\n",
        "Newer OpenAI only implement chat interface, for example gpt-3.5-turbo, gpt-4, etc. This means, that you cannot use them as an LLM.\n",
        "\n",
        "Default for ChatOpenAI is `gpt-3.5-turbo`"
      ]
    },
    {
      "cell_type": "code",
      "execution_count": 6,
      "metadata": {
        "id": "7mnscJPR6AQ1",
        "outputId": "419c7571-9b31-4c1e-93df-74edb757d92d",
        "colab": {
          "base_uri": "https://localhost:8080/"
        }
      },
      "outputs": [
        {
          "output_type": "stream",
          "name": "stderr",
          "text": [
            "/usr/local/lib/python3.10/dist-packages/langchain_core/_api/deprecation.py:117: LangChainDeprecationWarning: The class `langchain_community.chat_models.openai.ChatOpenAI` was deprecated in langchain-community 0.0.10 and will be removed in 0.2.0. An updated version of the class exists in the langchain-openai package and should be used instead. To use it run `pip install -U langchain-openai` and import as `from langchain_openai import ChatOpenAI`.\n",
            "  warn_deprecated(\n",
            "/usr/local/lib/python3.10/dist-packages/langchain_core/_api/deprecation.py:117: LangChainDeprecationWarning: The function `predict_messages` was deprecated in LangChain 0.1.7 and will be removed in 0.2.0. Use invoke instead.\n",
            "  warn_deprecated(\n"
          ]
        },
        {
          "output_type": "execute_result",
          "data": {
            "text/plain": [
              "AIMessage(content='Behavior and companionship.')"
            ]
          },
          "metadata": {},
          "execution_count": 6
        }
      ],
      "source": [
        "from langchain.chat_models import ChatOpenAI\n",
        "from langchain.schema import (\n",
        "    AIMessage,\n",
        "    HumanMessage,\n",
        "    SystemMessage\n",
        ")\n",
        "\n",
        "chat = ChatOpenAI()\n",
        "chat.predict_messages([\n",
        "    HumanMessage(content=\"In two words what's the difference \"\\\n",
        "        \"between Cats and Dogs?\")\n",
        "])"
      ]
    },
    {
      "cell_type": "markdown",
      "source": [
        "Note: Draw your attention to the fact that we received a `AIMessage` instead of a string"
      ],
      "metadata": {
        "id": "D3pUViKnaDlC"
      }
    },
    {
      "cell_type": "markdown",
      "metadata": {
        "id": "QxQsTqfV6AQ2"
      },
      "source": [
        "### Prompt templates\n",
        "\n",
        "A useful feature of LangChain is Prompt templates.\n",
        "\n",
        "If you need to use the same prompt structure with different parameters, prompt templates can save you from the text duplication. See, for example:"
      ]
    },
    {
      "cell_type": "code",
      "execution_count": 7,
      "metadata": {
        "id": "w8rAkutU6AQ2",
        "outputId": "3c072fba-de23-4641-84a9-1a96b6c22cba",
        "colab": {
          "base_uri": "https://localhost:8080/",
          "height": 35
        }
      },
      "outputs": [
        {
          "output_type": "execute_result",
          "data": {
            "text/plain": [
              "'What is the national cousine of Australia?'"
            ],
            "application/vnd.google.colaboratory.intrinsic+json": {
              "type": "string"
            }
          },
          "metadata": {},
          "execution_count": 7
        }
      ],
      "source": [
        "from langchain.prompts import PromptTemplate\n",
        "\n",
        "prompt = PromptTemplate.from_template(\n",
        "    \"What is the national cousine of {country}?\"\n",
        ")\n",
        "prompt.format(country=\"Australia\")"
      ]
    },
    {
      "cell_type": "markdown",
      "metadata": {
        "id": "XPUcVsiP6AQ2"
      },
      "source": [
        "Now our imaginary user needs only to select a country instead of creating a whole prompt."
      ]
    },
    {
      "cell_type": "markdown",
      "source": [
        "### Chaining\n",
        "\n",
        "One of the main pillars of LangChain is the concept of chaining, that is of combining several LLM calls, external function calls, etc.\n",
        "\n",
        "Much like you combine layers in neural networks, but here we have a much more diverse set of tools.\n",
        "\n",
        "A very basic chain consists of prompt template and an LLM call. It's almost like a \"function\" for an LLM:"
      ],
      "metadata": {
        "id": "xT5bRZBfYfk3"
      }
    },
    {
      "cell_type": "code",
      "execution_count": 8,
      "metadata": {
        "id": "xnP3cxER6AQ2",
        "outputId": "9de28af8-2e5f-4855-8a2b-9ef17855c461",
        "colab": {
          "base_uri": "https://localhost:8080/",
          "height": 194
        }
      },
      "outputs": [
        {
          "output_type": "stream",
          "name": "stderr",
          "text": [
            "/usr/local/lib/python3.10/dist-packages/langchain_core/_api/deprecation.py:117: LangChainDeprecationWarning: The function `run` was deprecated in LangChain 0.1.0 and will be removed in 0.2.0. Use invoke instead.\n",
            "  warn_deprecated(\n"
          ]
        },
        {
          "output_type": "execute_result",
          "data": {
            "text/plain": [
              "'\\nThe national cuisine of Australia is often described as a fusion of Indigenous, European, and Asian influences. Some popular dishes and ingredients include:\\n\\n1. Meat pies: These are small, hand-sized pies filled with meat and gravy, typically made with beef or lamb.\\n\\n2. Seafood: Due to its vast coastline, seafood is a popular part of Australian cuisine. Some common dishes include fish and chips, oysters, and prawns.\\n\\n3. BBQ: Australians are known for their love of BBQ, with popular dishes including grilled meats, sausages, and seafood.\\n\\n4. Vegemite: This iconic spread made from yeast extract is a staple in Australian households and is often spread on toast or used in cooking.\\n\\n5. Lamingtons: These are square-shaped sponge cakes coated in chocolate and coconut, and often served at parties and events.\\n\\n6. Pavlova: This meringue-based dessert topped with fruit and cream is said to have originated in Australia and is a popular dish for special occasions.\\n\\n7. Tim Tams: These chocolate biscuits are a beloved snack in Australia, often eaten with a cup of tea or coffee.\\n\\n8. Barramundi: This is a type of fish native to Australia and is often served grilled, fried, or as fish'"
            ],
            "application/vnd.google.colaboratory.intrinsic+json": {
              "type": "string"
            }
          },
          "metadata": {},
          "execution_count": 8
        }
      ],
      "source": [
        "from langchain.chains import LLMChain\n",
        "\n",
        "chain = LLMChain(llm=llm, prompt=prompt)\n",
        "chain.run(\"Australia\")"
      ]
    },
    {
      "cell_type": "markdown",
      "source": [
        "Note by the way that, although we had a typo in the prompt template (\"cousine\" instead of \"cuisine\"), LLM managed to mitigate with it. You probably shouldn't rely on this too much, but generally LLMs, that are trained on data containing typos as well, can be able to cope with some amount of mistakes in the prompts."
      ],
      "metadata": {
        "id": "9S8kWoDEcZy5"
      }
    },
    {
      "cell_type": "markdown",
      "source": [
        "To combine multiple calls into one function you can use `SimpleSequentialChain`. It allows you to naively pass the output of previous request as an input for another prompt template.  "
      ],
      "metadata": {
        "id": "DPe71TMvacPK"
      }
    },
    {
      "cell_type": "code",
      "source": [
        "from langchain.chains import SimpleSequentialChain\n",
        "\n",
        "first_prompt = PromptTemplate.from_template(\n",
        "    \"What is the capital of {country}?\"\n",
        ")\n",
        "first_chain = LLMChain(llm=llm, prompt=first_prompt)\n",
        "\n",
        "second_prompt = PromptTemplate.from_template(\n",
        "    \"{city} is the capital of which country?\"\n",
        ")\n",
        "second_chain = LLMChain(llm=llm, prompt=second_prompt)\n",
        "\n",
        "simple_sequential_chain = SimpleSequentialChain(\n",
        "    chains=[first_chain, second_chain],\n",
        "    verbose=True\n",
        ")"
      ],
      "metadata": {
        "id": "Cx4X1mCkaXY5"
      },
      "execution_count": 9,
      "outputs": []
    },
    {
      "cell_type": "markdown",
      "source": [
        "Intuitively now we should receive the same thing we inputted, let's try."
      ],
      "metadata": {
        "id": "7pmR19cKb3je"
      }
    },
    {
      "cell_type": "code",
      "source": [
        "simple_sequential_chain.run(\"Israel\")"
      ],
      "metadata": {
        "id": "5Yv8wkEZb_Uj",
        "outputId": "ed60fc7a-2aba-4acc-f753-1512a4dc4845",
        "colab": {
          "base_uri": "https://localhost:8080/",
          "height": 226
        }
      },
      "execution_count": 10,
      "outputs": [
        {
          "output_type": "stream",
          "name": "stdout",
          "text": [
            "\n",
            "\n",
            "\u001b[1m> Entering new SimpleSequentialChain chain...\u001b[0m\n",
            "\u001b[36;1m\u001b[1;3m\n",
            "\n",
            "The capital of Israel is Jerusalem.\u001b[0m\n",
            "\u001b[33;1m\u001b[1;3m\n",
            "\n",
            "Israel\u001b[0m\n",
            "\n",
            "\u001b[1m> Finished chain.\u001b[0m\n"
          ]
        },
        {
          "output_type": "execute_result",
          "data": {
            "text/plain": [
              "'\\n\\nIsrael'"
            ],
            "application/vnd.google.colaboratory.intrinsic+json": {
              "type": "string"
            }
          },
          "metadata": {},
          "execution_count": 10
        }
      ]
    },
    {
      "cell_type": "markdown",
      "source": [
        "If you want to make a more complicated chain with multiple inputs and outputs, you should use `SequentialChain`\n"
      ],
      "metadata": {
        "id": "IAj6rAHzdWod"
      }
    },
    {
      "cell_type": "code",
      "source": [
        "from langchain.chains import SequentialChain\n",
        "\n",
        "first_prompt = PromptTemplate(\n",
        "    input_variables=['country', 'letter'],\n",
        "    template=\"Name a city of {country} starting with {letter}\",\n",
        ")\n",
        "first_chain = LLMChain(\n",
        "    llm=llm,\n",
        "    prompt=first_prompt,\n",
        "    output_key='city'\n",
        ")\n",
        "\n",
        "second_prompt = PromptTemplate(\n",
        "    input_variables=['city'],\n",
        "    template=\"What is the main attraction in {city}?\"\n",
        ")\n",
        "second_chain = LLMChain(\n",
        "    llm=llm,\n",
        "    prompt=second_prompt,\n",
        "    output_key='attraction'\n",
        ")\n",
        "\n",
        "sequential_chain = SequentialChain(\n",
        "    chains=[first_chain, second_chain],\n",
        "    input_variables=[\"country\", \"letter\"],\n",
        "    output_variables=[\"city\", \"attraction\"],\n",
        "    verbose=True\n",
        ")"
      ],
      "metadata": {
        "id": "3zWcl6-ad23j"
      },
      "execution_count": 11,
      "outputs": []
    },
    {
      "cell_type": "markdown",
      "source": [
        "\n",
        "In that case you'll have to pass input arguments as a dict."
      ],
      "metadata": {
        "id": "r7ZVAjufe6Du"
      }
    },
    {
      "cell_type": "code",
      "source": [
        "sequential_chain({\"country\": \"France\", \"letter\": \"P\"})"
      ],
      "metadata": {
        "id": "6zKb6TXRe7B-",
        "outputId": "90944e68-a0b4-4560-8689-441fa25c5338",
        "colab": {
          "base_uri": "https://localhost:8080/"
        }
      },
      "execution_count": 12,
      "outputs": [
        {
          "output_type": "stream",
          "name": "stderr",
          "text": [
            "/usr/local/lib/python3.10/dist-packages/langchain_core/_api/deprecation.py:117: LangChainDeprecationWarning: The function `__call__` was deprecated in LangChain 0.1.0 and will be removed in 0.2.0. Use invoke instead.\n",
            "  warn_deprecated(\n"
          ]
        },
        {
          "output_type": "stream",
          "name": "stdout",
          "text": [
            "\n",
            "\n",
            "\u001b[1m> Entering new SequentialChain chain...\u001b[0m\n",
            "\n",
            "\u001b[1m> Finished chain.\u001b[0m\n"
          ]
        },
        {
          "output_type": "execute_result",
          "data": {
            "text/plain": [
              "{'country': 'France',\n",
              " 'letter': 'P',\n",
              " 'city': '\\n\\nParis',\n",
              " 'attraction': '\\nThe main attraction in Paris is the Eiffel Tower.'}"
            ]
          },
          "metadata": {},
          "execution_count": 12
        }
      ]
    },
    {
      "cell_type": "markdown",
      "metadata": {
        "id": "8b086ZL_6AQ2"
      },
      "source": [
        "# Task 1\n",
        "\n",
        "In this task we'll learn how to rewrite ChatGPT interaction code to LangChain.\n",
        "\n",
        "In the previous code we inplemented translate and summarise function. Rewrite it using `SequentialChain`"
      ]
    },
    {
      "cell_type": "code",
      "source": [
        "from langchain.chains import SequentialChain\n",
        "\n",
        "summarise_prompt = PromptTemplate(\n",
        "    input_variables=['text'],\n",
        "    template=\"Write a short summary of the following text.\\n{text}\"\n",
        ")\n",
        "summarise_chain = LLMChain(\n",
        "    llm=llm,\n",
        "    prompt=summarise_prompt,\n",
        "    output_key='summary'\n",
        ")\n",
        "\n",
        "translate_prompt = PromptTemplate(\n",
        "    input_variables=['summary', 'target_language'],\n",
        "    template=\"Translate the following text to {target_language}:\\n{summary}\"\n",
        ")\n",
        "translate_chain = LLMChain(\n",
        "    llm=llm,\n",
        "    prompt=translate_prompt, output_key='translation'\n",
        ")\n",
        "\n",
        "summarise_and_translate_chain = SequentialChain(\n",
        "    chains=[summarise_chain, translate_chain],\n",
        "    input_variables=[\"text\", \"target_language\"],\n",
        "    output_variables=[\"summary\", \"translation\"],\n",
        "    verbose=True\n",
        ")"
      ],
      "metadata": {
        "id": "VAJ_9prRcqCT"
      },
      "execution_count": 13,
      "outputs": []
    },
    {
      "cell_type": "code",
      "source": [
        "article = open(\"/content/drive/MyDrive/wikipedia_article_japanese.txt\").read()\n",
        "\n",
        "summarise_and_translate_chain(\n",
        "    {'text': article, \"target_language\": \"English\"}\n",
        ")"
      ],
      "metadata": {
        "id": "KlveDg_YgCdX",
        "outputId": "bc60b738-4242-45c9-e9b8-a18312c515a5",
        "colab": {
          "base_uri": "https://localhost:8080/"
        }
      },
      "execution_count": 15,
      "outputs": [
        {
          "output_type": "stream",
          "name": "stdout",
          "text": [
            "\n",
            "\n",
            "\u001b[1m> Entering new SequentialChain chain...\u001b[0m\n",
            "\n",
            "\u001b[1m> Finished chain.\u001b[0m\n"
          ]
        },
        {
          "output_type": "execute_result",
          "data": {
            "text/plain": [
              "{'text': '肉球\\n\\nページ\\nノート\\n閲覧\\n編集\\n履歴表示\\n\\nツール\\n出典: フリー百科事典『ウィキペディア（Wikipedia）』\\n曖昧さ回避\\tこの項目では、ネコ目動物の足裏にある肉球について説明しています。\\nお笑いタレントの肉球については「肉球 (お笑い芸人)」をご覧ください。\\n印鑑・スタンプ類の商標については「にくきう」をご覧ください。\\nアダルトゲームブランドについては「にくきゅう」をご覧ください。\\nQuestion book-4.svg\\nこの記事は検証可能な参考文献や出典が全く示されていないか、不十分です。出典を追加して記事の信頼性向上にご協力ください。（このテンプレートの使い方）\\n出典検索?: \"肉球\" – ニュース · 書籍 · スカラー · CiNii · J-STAGE · NDL · dlib.jp · ジャパンサーチ · TWL（2015年7月）\\n\\nイヌの肉球\\nA.爪\\nB.指球/趾球\\nC.掌球/足底球\\nD.狼爪\\nE.手根球\\n肉球（にくきゅう）とは、主にネコ目（食肉目）の動物の足裏部に見られる、盛り上がった無毛の部分の名称。\\n\\n正式には蹠球（しょきゅう）と言うが、肉球の一部を指す「掌球」との混同を避ける目的もあり一般的に肉球と俗称される。英語では肉球の並んでいる足を指してpaw、個々の肉球をpadと呼び区別する。\\n\\n構造\\n同様の外見・構造をしていても前足と後ろ足で名称が区別される。\\n\\n前足\\n掌球（しょうきゅう、metacarpal pad） - 前足の裏、中央に位置する大きめの肉球。字で分かるように、人間の掌に相当する。\\n指球（しきゅう、digital pad） - 掌球の外側に5つ並んだ肉球。1つは他の4つと離れて位置しており、これが人間の親指に相当する。\\n手根球（しゅこんきゅう、carpal pad） - 掌球の上部、人間の手首に相当する位置にある肉球。後ろ足には類似する肉球は存在しない。\\n後ろ足\\n足底球（そくていきゅう、footpad） - 後ろ足の裏、中央に位置する大きめの肉球。狭義にはこの部分を蹠球と呼ぶ。\\n趾球（しきゅう、digital pad） - 足底球（蹠球）の外側に4つ並んだ肉球。\\n押すとぷにぷにとした独特の触感がある。外側は角質層が厚くなったもので覆われており、地表の突起物による負傷や磨耗から足裏を保護する。表面は顆粒状になっており、平滑面でも滑らずに歩行できる。角質層の下部は、脂肪組織を含んだ弾性線維が網目状になっている。肉球の周囲には大きく発達した汗腺がある。\\n\\n色や模様、形状、柔らかさなどには個体差があり、生息する環境に合わせて変化する。例えば、野生のネコの肉球は、室内で飼育されているネコに比べて厚く、また硬くなっている。また主にネコに多い多指症という奇形の場合は指球が指の数だけ多くなる。\\n\\n怪我をした際、縫うことは非常に困難である。\\n\\n役割\\n獲物に接近する際に気付かれないように足音を消す働きがある。また、歩行時や樹上などから飛び降りる際の衝撃を緩和する役目もある。ネコの手根球の上部には2〜3本の毛が生えており、歩行時に触覚器としての役割をこなす。\\n\\nネコ目の動物の中でもアシカ亜目（鰭脚類）に属するアザラシ、アシカ、セイウチなどの海生哺乳類には肉球がない（そもそも歩行しないので肉球は不要である）。\\n\\n肉球を持つ動物\\nネコ科の動物\\nイヌ科の動物\\nクマ科の動物\\nアライグマ\\nイタチ科の動物\\nネズミ目の動物（一部）\\n有袋類の動物（ウォンバット、フクロミツスイ等）\\n参考画像\\n硬いコンクリート上に着地しているイヌの肉球\\n硬いコンクリート上に着地しているイヌの肉球\\n\\n \\nトラの肉球\\nトラの肉球\\n\\n \\nネコの肉球\\nネコの肉球\\n\\n \\n多指症により7本の指があるネコの後肢の肉球\\n多指症により7本の指があるネコの後肢の肉球\\n\\n意匠としての肉球\\n人間との付き合いが長い動物である故かネコを意匠とする商品は多く存在するが、中にはネコそのものではなく、肉球を主役とした猫の掌部分を意匠として取り入れたものも少なくない。その独特の手触りに「癒やし」を感じる人もおり、そうした感触を再現した玩具なども存在する。',\n",
              " 'target_language': 'English',\n",
              " 'summary': 'また、ネコの掌両側にある手根球は、ネコの手のひらの部分と同じように一見すると、人間の足の裏の肉球のように見えるため、ネコの手根球を意匠とする商品もある。\\n\\n肉球を意匠とした商品の例\\n\\n・ぬいぐるみなどの玩具\\n\\n・キーホルダーやストラップ\\n\\n・雑貨（マグカップ、ポーチ、タオルなど）\\n\\n・アクセサリー（ピアス、リング、ネックレスなど）\\n\\n・靴下やタイツ\\n\\n・衣服・雑貨のデザインに取り入れられたネコの肉球のプリント\\n\\n・ネコの肉球の形状をしたスリッパやクッションなど\\n\\n・肉球の形状をしたクッキ',\n",
              " 'translation': \"ー\\n\\nAlso, the carpal pad on both sides of a cat's paw, at first glance, looks like the meat pads on the soles of a human's feet, so there are also products designed with the cat's carpal pad in mind.\\n\\nExamples of products designed with meat pads in mind:\\n\\n- Toys such as stuffed animals\\n- Keychains and straps\\n- Goods (mugs, pouches, towels, etc.)\\n- Accessories (earrings, rings, necklaces, etc.)\\n- Socks and tights\\n- Prints of cat meat pads incorporated into clothing and goods designs\\n- Slippers and cushions shaped like cat meat pads\\n- Cookies shaped like meat pads.\"}"
            ]
          },
          "metadata": {},
          "execution_count": 15
        }
      ]
    },
    {
      "cell_type": "markdown",
      "metadata": {
        "id": "m-iv_kRr6AQ3"
      },
      "source": [
        "# ChatGPT plugins and conversation memory\n",
        "\n",
        "In this part we'll explore two cool features of LangChain: **Agents** and **Memory**. You will learn how to:\n",
        "\n",
        "- access internet inside a chain;\n",
        "- remember the conversation history and adjust to it.\n",
        "\n",
        "**Agents** allow you to use tooling like web search, calling apis, math, python code etc. (they are known as \"Plugins\" in ChatBPT Web UI) to achive the goal of the given task.\n",
        "\n",
        "**Memory** allows you to keep a state of the conversation, just like what you see in the WebUI of ChatGPT.\n",
        "\n",
        "If you combine the two you can essentially get the same interface as ChatGPT WebUI has with plugins."
      ]
    },
    {
      "cell_type": "markdown",
      "source": [
        "### Web search\n",
        "\n",
        "The are plenty of search engines available. We'll try DuckDuckGo, but feel free to use any other for your projects.\n",
        "\n",
        "Let's install the library."
      ],
      "metadata": {
        "id": "DWi_byUVn4EQ"
      }
    },
    {
      "cell_type": "code",
      "execution_count": 16,
      "metadata": {
        "id": "YvnlZU7i6AQ3",
        "outputId": "3c296ed8-1968-4212-9ebd-594949367980",
        "colab": {
          "base_uri": "https://localhost:8080/"
        }
      },
      "outputs": [
        {
          "output_type": "stream",
          "name": "stdout",
          "text": [
            "Collecting duckduckgo-search\n",
            "  Downloading duckduckgo_search-4.2-py3-none-any.whl (25 kB)\n",
            "Requirement already satisfied: click>=8.1.7 in /usr/local/lib/python3.10/dist-packages (from duckduckgo-search) (8.1.7)\n",
            "Requirement already satisfied: lxml>=4.9.3 in /usr/local/lib/python3.10/dist-packages (from duckduckgo-search) (4.9.4)\n",
            "Collecting curl-cffi>=0.5.10 (from duckduckgo-search)\n",
            "  Downloading curl_cffi-0.5.10-cp37-abi3-manylinux_2_17_x86_64.manylinux2014_x86_64.whl (7.2 MB)\n",
            "\u001b[2K     \u001b[90m━━━━━━━━━━━━━━━━━━━━━━━━━━━━━━━━━━━━━━━━\u001b[0m \u001b[32m7.2/7.2 MB\u001b[0m \u001b[31m17.1 MB/s\u001b[0m eta \u001b[36m0:00:00\u001b[0m\n",
            "\u001b[?25hRequirement already satisfied: cffi>=1.12.0 in /usr/local/lib/python3.10/dist-packages (from curl-cffi>=0.5.10->duckduckgo-search) (1.16.0)\n",
            "Requirement already satisfied: pycparser in /usr/local/lib/python3.10/dist-packages (from cffi>=1.12.0->curl-cffi>=0.5.10->duckduckgo-search) (2.21)\n",
            "Installing collected packages: curl-cffi, duckduckgo-search\n",
            "Successfully installed curl-cffi-0.5.10 duckduckgo-search-4.2\n"
          ]
        }
      ],
      "source": [
        "!pip install duckduckgo-search"
      ]
    },
    {
      "cell_type": "markdown",
      "source": [
        "A search engine is a **tool**. And to use it we need an **agent**:"
      ],
      "metadata": {
        "id": "F6XX-TydoMRa"
      }
    },
    {
      "cell_type": "code",
      "execution_count": 17,
      "metadata": {
        "id": "NbAIf4UF6AQ3",
        "colab": {
          "base_uri": "https://localhost:8080/"
        },
        "outputId": "a8025e0d-5656-4c7b-e942-520d32b3d7a2"
      },
      "outputs": [
        {
          "output_type": "stream",
          "name": "stderr",
          "text": [
            "/usr/local/lib/python3.10/dist-packages/langchain_core/_api/deprecation.py:117: LangChainDeprecationWarning: The function `initialize_agent` was deprecated in LangChain 0.1.0 and will be removed in 0.2.0. Use Use new agent constructor methods like create_react_agent, create_json_agent, create_structured_chat_agent, etc. instead.\n",
            "  warn_deprecated(\n"
          ]
        }
      ],
      "source": [
        "from langchain.agents import AgentType, initialize_agent, load_tools\n",
        "from langchain.llms import OpenAI\n",
        "from langchain.tools import DuckDuckGoSearchRun\n",
        "\n",
        "llm = OpenAI(temperature=0)\n",
        "\n",
        "tools = [DuckDuckGoSearchRun()]\n",
        "\n",
        "agent = initialize_agent(\n",
        "    tools,\n",
        "    llm,\n",
        "    agent=AgentType.ZERO_SHOT_REACT_DESCRIPTION,\n",
        "    verbose=True\n",
        ")\n"
      ]
    },
    {
      "cell_type": "markdown",
      "source": [
        "Now if we push a prompt to the agent, it will perform a well structured multi-step job that includes planning, actions and some more:"
      ],
      "metadata": {
        "id": "gm3f2p3Ro-kP"
      }
    },
    {
      "cell_type": "code",
      "execution_count": 18,
      "metadata": {
        "id": "QwatBzs66AQ3",
        "outputId": "1b63db08-d823-4cd0-f4c1-75c659ebf59f",
        "colab": {
          "base_uri": "https://localhost:8080/",
          "height": 472
        }
      },
      "outputs": [
        {
          "output_type": "stream",
          "name": "stdout",
          "text": [
            "\n",
            "\n",
            "\u001b[1m> Entering new AgentExecutor chain...\u001b[0m\n",
            "\u001b[32;1m\u001b[1;3m I should search for this information online.\n",
            "Action: duckduckgo_search\n",
            "Action Input: \"most famous K-pop bands\"\u001b[0m\n",
            "Observation: \u001b[36;1m\u001b[1;3mWhile famous groups like BTS and Blackpink have achieved global success, there are always rising stars set on becoming the most popular K-pop group ever. Vote up the top K-pop groups of 2021, and then check out how many of these underrated K-pop groups you know! Most divisive: EXO-CBX 1 BTS Big Hit Music (HYBE Labels) 95,988 votes On this list, you'll find famous K-pop groups such as Twice, Stray Kids, Seventeen, ITZY, Aespa, and more! Which of these groups do you think deserves the number one spot? Vote up your favorite K-pop groups, and check back for updates on their 2023 releases and highlights. Most divisive: NCT 127 Photo: JYP Entertainment 1 8,014 votes Stray Kids The Top 20 Most Popular K-Pop Artists Right Now, According To Spotify Did you bias make the list? Lists Bunnie Moreau Yesterday From solo singers to groups, these K-Pop artists receive the most love on Spotify. Check out the top 20 most streamed K-Pop artists on Spotify below. 20. ATEEZ ATEEZ comes in at #20 with 2.017B streams. 19. V 1. BTS BTS (방탄소년단) 'Butter' Official MV There's no talking about K-pop without talking about BTS. Formed in 2013, the band—originally named the Bangtan Boys—has been going strong ever since. 30 JYP Entertainment votes As one of K-pop's most iconic girl groups, Wonder Girls made history with their infectious tunes and captivating visuals while signed to JYP Entertainment. Mega-hits like \"Nobody\" and \"Tell Me\" propeled them to global stardom, earning them multiple Song of the Year awards at major ceremonies.\u001b[0m\n",
            "Thought:\u001b[32;1m\u001b[1;3m It seems like BTS and Blackpink are the most famous K-pop bands, but there are also many other popular groups.\n",
            "Action: duckduckgo_search\n",
            "Action Input: \"top K-pop groups 2021\"\u001b[0m\n",
            "Observation: \u001b[36;1m\u001b[1;3m84,495 votes As one of the biggest K-pop girl groups globally, they've attracted a massive following with their unique style, fusing electronic beats and hip-hop into infectious anthems. From solo singers to groups, these K-Pop artists receive the most love on Spotify. Check out the top 20 most streamed K-Pop artists on Spotify below. 20. ATEEZ. ATEEZ comes in at #20 with 2.017B streams. Based on specific data on streams and sales according to Billboard standards, here are the 10 most influential Kpop groups in the US in the first half of 2021. Next: Best K-pop singers & vocalists to listen to. 4. TWICE. TWICE \"Talk that Talk\" M/V. Girl K-pop band, TWICE, is often referred to as the \"sweethearts of K-pop\" for good reason. The nine-member group is known for an energetic mix of musical styles and their sweet 'bubblegum' sense of fashion. iKon (아이콘) iKon is a K-pop boy group with seven members formed through a survival competition called WIN. As soon as the group debuted, their 1st studio album topped the charts in South Korea. Source: https://www.allkpop.com\u001b[0m\n",
            "Thought:\u001b[32;1m\u001b[1;3m It seems like there are many different opinions on the most famous K-pop bands, and it can vary depending on factors like streaming and sales.\n",
            "Action: duckduckgo_search\n",
            "Action Input: \"influential K-pop groups US 2021\"\u001b[0m\n",
            "Observation: \u001b[36;1m\u001b[1;3mVoting Rules Only featuring groups who are currently active. Who are the biggest K-pop groups right now in 2021? Featuring new rookie groups and older groups making comebacks, this list of the best current boy bands and girl groups only includes artists releasing new music . Which Korean idol groups do you think are dominating the year? Based on specific data on streams and sales according to Billboard standards, here are the 10 most influential Kpop groups in the US in the first half of 2021. In recent years, many K-pop artists have increasingly expanded their operations in the US market. H.O.T. - The Kings of K-pop H.O.T. was one of the most successful and influential K-pop groups of the 1990s, and they are widely considered to be the \"Kings of K-pop.\" Formed in 1996, the quintet quickly rose to prominence with their high-energy dance tracks and charismatic stage presence. A month before Big Hit Entertainment rebranded as HYBE in March 2021, chairman and then-CEO Bang Si-hyuk, alongside Universal Music Group chairman/CEO Lucian Grainge, revealed a strategic... BTS (Bangtan Sonyeondan) Video unavailable Watch on YouTube Watch on BTS, also known as the Bangtan Boys, is the largest K-pop group in the world. They debuted in 2013 and have since taken the world by storm with their electrifying performances, innovative music, and captivating music videos.\u001b[0m\n",
            "Thought:\u001b[32;1m\u001b[1;3m It seems like BTS is consistently mentioned as one of the most influential K-pop groups in the US, and they have a strong presence in the global market.\n",
            "Action: duckduckgo_search\n",
            "Action Input: \"BTS most influential K-pop group\"\u001b[0m\n",
            "Observation: \u001b[36;1m\u001b[1;3mWhile the 2020s have seen the group's seven members — RM, Jin, Jungkook, Suga, J-Hope, Jimin and V — releasing solo projects, smashing records (both as a group and in personal endeavors), going... BTS has tallied seven top 10s as a group on the Billboard 200, including six No. 1s: Love Yourself: Tear, Love Yourself: Answer (both in 2018), Map of the Soul: Persona (2019), Map of the Soul:... Jimin Born in Busan on October 13, 1995, Park Ji-min is one of BTS' main dancers. He took ballet and contemporary dance classes, so he's well-prepared for the challenge. Jin Born on December 4, 1992, Kim Seok-jin majored in film & theatre. He has previously said he loves cooking as well. J-Hope 1. Dynamic Performances Video unavailable Watch on YouTube Watch on BTS is known for their high-energy and dynamic live performances, which showcase their incredible vocals, dance skills, and stage presence. These captivating performances have earned them a reputation as one of the best live acts in K-Pop. 2. Connections with Fans BTS Crowned Most Influential K-pop Group on Social Media Following the survey that was held for two weeks, the \"biggest boy group in the world\" was hailed as No. 1 most influential...\u001b[0m\n",
            "Thought:\u001b[32;1m\u001b[1;3m It seems like BTS is widely considered the most influential K-pop group, with their dynamic performances and strong connection with fans.\n",
            "Thought: I now know the final answer.\n",
            "Final Answer: BTS is widely considered the most famous and influential K-pop group, with a strong presence in the global market and a dedicated fanbase.\u001b[0m\n",
            "\n",
            "\u001b[1m> Finished chain.\u001b[0m\n"
          ]
        },
        {
          "output_type": "execute_result",
          "data": {
            "text/plain": [
              "'BTS is widely considered the most famous and influential K-pop group, with a strong presence in the global market and a dedicated fanbase.'"
            ],
            "application/vnd.google.colaboratory.intrinsic+json": {
              "type": "string"
            }
          },
          "metadata": {},
          "execution_count": 18
        }
      ],
      "source": [
        "agent.run(\"What are the most famous K-pop bands?\")"
      ]
    },
    {
      "cell_type": "markdown",
      "source": [
        "**A tricky question:** where is the LLM used in this chain?\n",
        "\n",
        "We have set the `verbose` parameter of the agent to `True`. This lets us see all the intermediate steps, and this would allow us to debug the process if something goes wrong."
      ],
      "metadata": {
        "id": "NJB_EO9MpRje"
      }
    },
    {
      "cell_type": "markdown",
      "metadata": {
        "id": "7FgQVMGK6AQ3"
      },
      "source": [
        "### Memory\n",
        "\n",
        "Memory allows an agent to memorize the previous interaction with the user and act according to it. Let's try to add memory and make a small conversation."
      ]
    },
    {
      "cell_type": "code",
      "execution_count": 19,
      "metadata": {
        "id": "onLblITM6AQ4"
      },
      "outputs": [],
      "source": [
        "from langchain.agents import ZeroShotAgent, Tool, AgentExecutor\n",
        "from langchain.memory import ConversationBufferMemory\n",
        "from langchain import OpenAI, LLMChain\n",
        "\n",
        "\n",
        "prefix = \"\"\"Have a conversation with a human, answering the following \"\"\"\\\n",
        "    \"\"\"questions as best you can. You have access to the following tools:\"\"\"\n",
        "suffix = \"\"\"Begin!\"\n",
        "\n",
        "{chat_history}\n",
        "Question: {input}\n",
        "{agent_scratchpad}\"\"\"\n",
        "\n",
        "prompt = ZeroShotAgent.create_prompt(\n",
        "    tools,\n",
        "    prefix=prefix,\n",
        "    suffix=suffix,\n",
        "    input_variables=[\"input\", \"chat_history\", \"agent_scratchpad\"],\n",
        ")\n",
        "memory = ConversationBufferMemory(memory_key=\"chat_history\")"
      ]
    },
    {
      "cell_type": "markdown",
      "source": [
        "There are several notable features here. First of all, chat history is explicitly present in the prompt as the `chat_history` variable. Second, there is a mysterious `agent_scratchpad`. Actually, the scratchpad is not something you want to deal with: it's a medium where the artifacts of the agent's \"thought process\" appear.\n",
        "\n",
        "Now, let's define the chain:\n"
      ],
      "metadata": {
        "id": "iMXcj7sRp97q"
      }
    },
    {
      "cell_type": "code",
      "execution_count": 20,
      "metadata": {
        "id": "bPSMLKVO6AQ4",
        "colab": {
          "base_uri": "https://localhost:8080/"
        },
        "outputId": "e3931715-5e46-42f5-e7ee-04f71d4279a6"
      },
      "outputs": [
        {
          "output_type": "stream",
          "name": "stderr",
          "text": [
            "/usr/local/lib/python3.10/dist-packages/langchain_core/_api/deprecation.py:117: LangChainDeprecationWarning: The class `langchain.agents.mrkl.base.ZeroShotAgent` was deprecated in langchain 0.1.0 and will be removed in 0.2.0. Use create_react_agent instead.\n",
            "  warn_deprecated(\n"
          ]
        }
      ],
      "source": [
        "llm_chain = LLMChain(llm=OpenAI(), prompt=prompt)\n",
        "agent = ZeroShotAgent(\n",
        "    llm_chain=llm_chain,\n",
        "    tools=tools,\n",
        "    verbose=True\n",
        ")\n",
        "agent_chain = AgentExecutor.from_agent_and_tools(\n",
        "    agent=agent, tools=tools, verbose=True, memory=memory\n",
        ")"
      ]
    },
    {
      "cell_type": "markdown",
      "source": [
        "And let's try to have a two-step conversation."
      ],
      "metadata": {
        "id": "6UHt1m4zy5QZ"
      }
    },
    {
      "cell_type": "code",
      "execution_count": 21,
      "metadata": {
        "id": "lKP20gyp6AQ4",
        "outputId": "565b2ef0-93a4-4199-cba9-d7165d7713fc",
        "colab": {
          "base_uri": "https://localhost:8080/",
          "height": 402
        }
      },
      "outputs": [
        {
          "output_type": "stream",
          "name": "stdout",
          "text": [
            "\n",
            "\n",
            "\u001b[1m> Entering new AgentExecutor chain...\u001b[0m\n",
            "\u001b[32;1m\u001b[1;3mThought: Getting a pet is a big responsibility and should not be taken lightly.\n",
            "Action: duckduckgo_search\n",
            "Action Input: \"pros and cons of owning a cat\"\u001b[0m\n",
            "Observation: \u001b[36;1m\u001b[1;3m1. They Can Be Low-Maintenance As long as you change their litter box regularly and give them enough food and water, your cat will do fine. This is not to say you shouldn't spend quality time with your purring pal—you should! But cats are independent animals, and they definitely don't need constant supervision. Health Benefits Research has shown that owning a cat can have positive health effects. For example, the presence of a cat in the household can lower stress levels, reduce blood pressure, and... The 13 Pros & Cons of Owning a Cat: Important Things to Consider By Jordin Horn Last updated: Dec 21 2023 There are diehard cat people out there who will convince you that cats are the best, but those people are obviously biased. How can you tell if cats really do make the best pet for you? 1. Cats Are (Somewhat) Low Maintenance At its most basic level, as long as you regularly keep your cat's litter box clean, feed it and do the occasional grooming, most cats will be fine and dandy. A typical cat's life consists mostly of eating and sleeping. Learn more. In this post, we look at seven pros and cons of owning a cat to help you decide if cats are the right pet for you or not. If you are thinking of owning a pet, the thought of getting a 'cat' must have come to your mind. Cats are some of the oldest-known pets and are the second most popular pet in the USA.\u001b[0m\n",
            "Thought:\u001b[32;1m\u001b[1;3m It seems like there are both pros and cons to owning a cat, so it's important to consider all factors before making a decision.\n",
            "Action: duckduckgo_search\n",
            "Action Input: \"how to prepare for owning a cat\"\u001b[0m\n",
            "Observation: \u001b[36;1m\u001b[1;3m01 Planning ahead can make your new cat or kitten's transition into the family seamless. 02 Gather everything you need before bringing your new cat home and pet proof the house to make sure they don't get into something dangerous. 03 You'll always need to make sure you meet their daily needs in terms of food, water, and making sure their environment is clean and enriching, but you don't need to worry about long walks or... The 11 Basic Tips for First-Time Cat Owners. 1. Find a Vet. It's a good idea to start researching vets in your local area before you even bring your cat or kitten home. There's also nothing wrong with contacting a vet to let them know about your feline friend's imminent arrival—this way, you can set up your cat's first vet visit and ... 1. Help Your Cat Settle In Your cat might be a little scared and timid when you first bring them home. The car journey, a new environment, new people, and possibly new animals is a lot of adjustment for a cat. Consider using a Feliway diffuser, which releases \"happy\" pheromones into the environment. 01. It's normal for first-time cat owners to feel a bit anxious when they bring home a new cat. 02. Your cat's main needs can be broken down into five categories: food and water, health care, litter boxes, human interaction, and enrichment. 03. If you're feeling overwhelmed or unsure about what your cat needs, schedule an appointment with your ...\u001b[0m\n",
            "Thought:\u001b[32;1m\u001b[1;3m It's important to be prepared and have all the necessary supplies and information before bringing a cat into your home.\n",
            "Action: duckduckgo_search\n",
            "Action Input: \"costs of owning a cat\"\u001b[0m\n",
            "Observation: \u001b[36;1m\u001b[1;3mAdoption $25 - $200 How much does it cost to adopt a cat? Animal shelters and other rescue organizations typically charge between $50 to $200 in adoption fees. If $50 sounds like a lot, keep your eyes open for special adoption events. Breeder $200-5000 Depending on the cat breed you're interested in, you'll find a huge range of different prices. Even if you choose a more expensive breed, the initial cost of your new kitten... On average, new cat owners in America pay $1,726 in the first year, and some residents will pay up to $2,820. We've divided average cat ownership costs by food, pet insurance, vet visits, vaccines, and neutering/spaying for each state. Read more for details and what to expect with costs for your cat. How Much Does a Cat Cost Per Year? $58 Average monthly cost for cats $46 Spot Compare quotes Via Petted's Website Maximum annual coverage Unlimited Average monthly cost for dogs $59 Average monthly cost for cats Adopting a cat from your local shelter or rescue can cost anywhere from $100 to $500, depending on your location and the organization's fees. Fortunately, many adoption fees include spaying or neutering, up-to-date vaccines, and even microchipping, which can save you money on initial cat parenthood costs. One-time cat adoption costs\u001b[0m\n",
            "Thought:\u001b[32;1m\u001b[1;3m It's important to budget for the costs of owning a cat, including adoption fees, food, vet visits, and potential medical expenses.\n",
            "Thought: I now know the final answer\n",
            "Final Answer: It's important to carefully consider the pros and cons, prepare for ownership, and budget for the costs before deciding to get a cat.\u001b[0m\n",
            "\n",
            "\u001b[1m> Finished chain.\u001b[0m\n"
          ]
        },
        {
          "output_type": "execute_result",
          "data": {
            "text/plain": [
              "\"It's important to carefully consider the pros and cons, prepare for ownership, and budget for the costs before deciding to get a cat.\""
            ],
            "application/vnd.google.colaboratory.intrinsic+json": {
              "type": "string"
            }
          },
          "metadata": {},
          "execution_count": 21
        }
      ],
      "source": [
        "agent_chain.run(\n",
        "    input=\"I want to get a cat, do you think it's a good idea?\"\n",
        ")"
      ]
    },
    {
      "cell_type": "code",
      "execution_count": 22,
      "metadata": {
        "id": "oLnJD7Mz6AQ4",
        "outputId": "4a538f71-cd77-448c-d843-cddeddbddb48",
        "colab": {
          "base_uri": "https://localhost:8080/",
          "height": 315
        }
      },
      "outputs": [
        {
          "output_type": "stream",
          "name": "stdout",
          "text": [
            "\n",
            "\n",
            "\u001b[1m> Entering new AgentExecutor chain...\u001b[0m\n",
            "\u001b[32;1m\u001b[1;3mThought: You should put some thought into the name to make sure it's a good fit for the cat's personality.\n",
            "Action: duckduckgo_search\n",
            "Action Input: \"cat names\"\u001b[0m\n",
            "Observation: \u001b[36;1m\u001b[1;3mMar 25, 2023 11:12 AM EDT Adopt a new cat? Here are names for your new feline companion, ranging from cute to funny, for males and females (or unisex). Photo by Lloyd Dirks on Unsplash What Should I Name My Cat? If you're looking for names for your male or female cat, this list offers more than 400 ideas to choose from. Golden Retriever Australian Shepherd German Shepherd Pomeranian Shih Tzu Border Collie Labrador Retriever Boxer Beagle Dachshund Chihuahua Poodle Yorkshire Terrier Dog Names Best Girl Dog Names Top Boy Dog Names Unique Dog Names Cute Dog Names Best Puppy Names Dog Name Generator Tough Dog Names Food Dog Names Romantic Dog Names Find a name that suits your cat's personality, color, or food-inspired theme from this list of 195 cute cat names. Whether you have a female, male, orange, black, gray, or white cat, you'll find a name that matches their fluff and charm. Find the perfect name for your female cat from a list of over 600 names by color, breed, style, country, and more. Whether you are looking for a cute, cool, famous, or exotic name, you can browse by categories and discover new options for your furry friend. Angel- An angel is an excellent being in the world literature. Alaska- Alaska is an outstanding state of the United States. And you will love it. Alpine- This name is related to something high. Your cat is high in your esteem too. Arctic- The Arctic is a far away place where you can spend the night of your life.\u001b[0m\n",
            "Thought:\u001b[32;1m\u001b[1;3m This is a great resource for cat names, but I want to make sure the name also fits my cat's personality.\n",
            "Action: duckduckgo_search\n",
            "Action Input: \"cat personality traits\"\u001b[0m\n",
            "Observation: \u001b[36;1m\u001b[1;3mIm-paws-ible! No two cats are exactly alike. Cats are extraordinary beings with unique personalities, needs, and preferences. Identifying your cat's temperament will help you provide them with a superior quality of life. Recent scientific research shows us how many personality types cats can have—read on to learn which type your cat is. 1. Skittishness Cats scoring high in skittishness are often anxious and fearful of other cats and humans. They would benefit from a home with plenty of good hiding spots. Owners of cats scoring... Orange Shum Gary / EyeEm via Getty Images Orange tabbies aren't just good-looking; they're good-natured, too. Owners report their ginger cats are friendly, calm, and even more trainable than cats of other colors. We've met several orange tabbies and agree they're all snuggle bugs, but what do you think? Fast Fact Traits: These are characteristic patterns in how a person thinks, feels, and acts. Examples include extroversion, loyalty, and courage. Temperament: This is the innate part of personality, something you are born with. It involves predispositions to act and feel in certain ways. Character: Animals Home Pet Animals Cats Understanding Your Cat: 5 Types of Cats Personalities Advertisement Key Points Cats' behavior may oftentimes come across as unpredictable or strange to their owners, as they are an entirely different species with their own set of social rules and expectations.\u001b[0m\n",
            "Thought:\u001b[32;1m\u001b[1;3m This information will help me choose a name that suits my cat's personality. I now know the final answer.\n",
            "Final Answer: The final answer is to choose a name that fits your cat's personality, whether they are skittish, friendly, calm, or have other unique traits. \u001b[0m\n",
            "\n",
            "\u001b[1m> Finished chain.\u001b[0m\n"
          ]
        },
        {
          "output_type": "execute_result",
          "data": {
            "text/plain": [
              "\"The final answer is to choose a name that fits your cat's personality, whether they are skittish, friendly, calm, or have other unique traits.\""
            ],
            "application/vnd.google.colaboratory.intrinsic+json": {
              "type": "string"
            }
          },
          "metadata": {},
          "execution_count": 22
        }
      ],
      "source": [
        "agent_chain.run(\n",
        "    input=\"I want it, what would be a good name for it?\"\n",
        ")"
      ]
    },
    {
      "cell_type": "markdown",
      "metadata": {
        "id": "_epOxf6g6AQ4"
      },
      "source": [
        "As you can see, now our agents can remember what we said before.\n",
        "\n",
        "You might've noticed that we've used different types of agents in those examples. We will dive deeper into agent creation in homework of this week, but we encourage you to research langchain on your own to discover even more functionality."
      ]
    },
    {
      "cell_type": "markdown",
      "metadata": {
        "id": "PwgrHsor6AQ5"
      },
      "source": [
        "# Database agents\n",
        "\n",
        "One of the promising use cases for LLM agents is interaction with a database through LLM. Imagine that you have an SQL database storing information that is used not only by analysts, but also by people who don't want to learn how to write SQL queries. In this case you could employ LLMs to:\n",
        "\n",
        "- translate English to SQL queries and\n",
        "- SQL output back to English."
      ]
    },
    {
      "cell_type": "markdown",
      "source": [
        "### SQL made easy with LangChain\n",
        "\n",
        "There are several modules for working with SQL in LangChain. In this session we'll use the simplest one, `SQLDatabaseChain`, and we'll look at the more sophisticated modules in the AI Safety session.\n",
        "\n",
        "For experiments we will use the Chinook database, which is frequently used to demonstrate database functionality. We will be using the SQLite version for the simplicity of demonstration"
      ],
      "metadata": {
        "id": "eZkVcFkS4JY1"
      }
    },
    {
      "cell_type": "code",
      "source": [
        "!pip install langchain-experimental"
      ],
      "metadata": {
        "colab": {
          "base_uri": "https://localhost:8080/"
        },
        "id": "il8Pzg43eWUl",
        "outputId": "08068a7c-9328-4110-d28e-646410be2fcb"
      },
      "execution_count": 24,
      "outputs": [
        {
          "output_type": "stream",
          "name": "stdout",
          "text": [
            "Collecting langchain-experimental\n",
            "  Downloading langchain_experimental-0.0.49-py3-none-any.whl (165 kB)\n",
            "\u001b[?25l     \u001b[90m━━━━━━━━━━━━━━━━━━━━━━━━━━━━━━━━━━━━━━━━\u001b[0m \u001b[32m0.0/165.7 kB\u001b[0m \u001b[31m?\u001b[0m eta \u001b[36m-:--:--\u001b[0m\r\u001b[2K     \u001b[91m━━━━━━━━━━━━━━━━━━━━━━━━━━━\u001b[0m\u001b[90m╺\u001b[0m\u001b[90m━━━━━━━━━━━━\u001b[0m \u001b[32m112.6/165.7 kB\u001b[0m \u001b[31m3.1 MB/s\u001b[0m eta \u001b[36m0:00:01\u001b[0m\r\u001b[2K     \u001b[90m━━━━━━━━━━━━━━━━━━━━━━━━━━━━━━━━━━━━━━━━\u001b[0m \u001b[32m165.7/165.7 kB\u001b[0m \u001b[31m3.4 MB/s\u001b[0m eta \u001b[36m0:00:00\u001b[0m\n",
            "\u001b[?25hRequirement already satisfied: langchain<0.2,>=0.1 in /usr/local/lib/python3.10/dist-packages (from langchain-experimental) (0.1.4)\n",
            "Requirement already satisfied: langchain-core<0.2.0,>=0.1.7 in /usr/local/lib/python3.10/dist-packages (from langchain-experimental) (0.1.16)\n",
            "Requirement already satisfied: PyYAML>=5.3 in /usr/local/lib/python3.10/dist-packages (from langchain<0.2,>=0.1->langchain-experimental) (6.0.1)\n",
            "Requirement already satisfied: SQLAlchemy<3,>=1.4 in /usr/local/lib/python3.10/dist-packages (from langchain<0.2,>=0.1->langchain-experimental) (2.0.24)\n",
            "Requirement already satisfied: aiohttp<4.0.0,>=3.8.3 in /usr/local/lib/python3.10/dist-packages (from langchain<0.2,>=0.1->langchain-experimental) (3.9.1)\n",
            "Requirement already satisfied: async-timeout<5.0.0,>=4.0.0 in /usr/local/lib/python3.10/dist-packages (from langchain<0.2,>=0.1->langchain-experimental) (4.0.3)\n",
            "Requirement already satisfied: dataclasses-json<0.7,>=0.5.7 in /usr/local/lib/python3.10/dist-packages (from langchain<0.2,>=0.1->langchain-experimental) (0.6.3)\n",
            "Requirement already satisfied: jsonpatch<2.0,>=1.33 in /usr/local/lib/python3.10/dist-packages (from langchain<0.2,>=0.1->langchain-experimental) (1.33)\n",
            "Requirement already satisfied: langchain-community<0.1,>=0.0.14 in /usr/local/lib/python3.10/dist-packages (from langchain<0.2,>=0.1->langchain-experimental) (0.0.16)\n",
            "Requirement already satisfied: langsmith<0.1,>=0.0.83 in /usr/local/lib/python3.10/dist-packages (from langchain<0.2,>=0.1->langchain-experimental) (0.0.83)\n",
            "Requirement already satisfied: numpy<2,>=1 in /usr/local/lib/python3.10/dist-packages (from langchain<0.2,>=0.1->langchain-experimental) (1.23.5)\n",
            "Requirement already satisfied: pydantic<3,>=1 in /usr/local/lib/python3.10/dist-packages (from langchain<0.2,>=0.1->langchain-experimental) (1.10.14)\n",
            "Requirement already satisfied: requests<3,>=2 in /usr/local/lib/python3.10/dist-packages (from langchain<0.2,>=0.1->langchain-experimental) (2.31.0)\n",
            "Requirement already satisfied: tenacity<9.0.0,>=8.1.0 in /usr/local/lib/python3.10/dist-packages (from langchain<0.2,>=0.1->langchain-experimental) (8.2.3)\n",
            "Requirement already satisfied: anyio<5,>=3 in /usr/local/lib/python3.10/dist-packages (from langchain-core<0.2.0,>=0.1.7->langchain-experimental) (3.7.1)\n",
            "Requirement already satisfied: packaging<24.0,>=23.2 in /usr/local/lib/python3.10/dist-packages (from langchain-core<0.2.0,>=0.1.7->langchain-experimental) (23.2)\n",
            "Requirement already satisfied: attrs>=17.3.0 in /usr/local/lib/python3.10/dist-packages (from aiohttp<4.0.0,>=3.8.3->langchain<0.2,>=0.1->langchain-experimental) (23.2.0)\n",
            "Requirement already satisfied: multidict<7.0,>=4.5 in /usr/local/lib/python3.10/dist-packages (from aiohttp<4.0.0,>=3.8.3->langchain<0.2,>=0.1->langchain-experimental) (6.0.4)\n",
            "Requirement already satisfied: yarl<2.0,>=1.0 in /usr/local/lib/python3.10/dist-packages (from aiohttp<4.0.0,>=3.8.3->langchain<0.2,>=0.1->langchain-experimental) (1.9.4)\n",
            "Requirement already satisfied: frozenlist>=1.1.1 in /usr/local/lib/python3.10/dist-packages (from aiohttp<4.0.0,>=3.8.3->langchain<0.2,>=0.1->langchain-experimental) (1.4.1)\n",
            "Requirement already satisfied: aiosignal>=1.1.2 in /usr/local/lib/python3.10/dist-packages (from aiohttp<4.0.0,>=3.8.3->langchain<0.2,>=0.1->langchain-experimental) (1.3.1)\n",
            "Requirement already satisfied: idna>=2.8 in /usr/local/lib/python3.10/dist-packages (from anyio<5,>=3->langchain-core<0.2.0,>=0.1.7->langchain-experimental) (3.6)\n",
            "Requirement already satisfied: sniffio>=1.1 in /usr/local/lib/python3.10/dist-packages (from anyio<5,>=3->langchain-core<0.2.0,>=0.1.7->langchain-experimental) (1.3.0)\n",
            "Requirement already satisfied: exceptiongroup in /usr/local/lib/python3.10/dist-packages (from anyio<5,>=3->langchain-core<0.2.0,>=0.1.7->langchain-experimental) (1.2.0)\n",
            "Requirement already satisfied: marshmallow<4.0.0,>=3.18.0 in /usr/local/lib/python3.10/dist-packages (from dataclasses-json<0.7,>=0.5.7->langchain<0.2,>=0.1->langchain-experimental) (3.20.2)\n",
            "Requirement already satisfied: typing-inspect<1,>=0.4.0 in /usr/local/lib/python3.10/dist-packages (from dataclasses-json<0.7,>=0.5.7->langchain<0.2,>=0.1->langchain-experimental) (0.9.0)\n",
            "Requirement already satisfied: jsonpointer>=1.9 in /usr/local/lib/python3.10/dist-packages (from jsonpatch<2.0,>=1.33->langchain<0.2,>=0.1->langchain-experimental) (2.4)\n",
            "Requirement already satisfied: typing-extensions>=4.2.0 in /usr/local/lib/python3.10/dist-packages (from pydantic<3,>=1->langchain<0.2,>=0.1->langchain-experimental) (4.9.0)\n",
            "Requirement already satisfied: charset-normalizer<4,>=2 in /usr/local/lib/python3.10/dist-packages (from requests<3,>=2->langchain<0.2,>=0.1->langchain-experimental) (3.3.2)\n",
            "Requirement already satisfied: urllib3<3,>=1.21.1 in /usr/local/lib/python3.10/dist-packages (from requests<3,>=2->langchain<0.2,>=0.1->langchain-experimental) (2.0.7)\n",
            "Requirement already satisfied: certifi>=2017.4.17 in /usr/local/lib/python3.10/dist-packages (from requests<3,>=2->langchain<0.2,>=0.1->langchain-experimental) (2023.11.17)\n",
            "Requirement already satisfied: greenlet!=0.4.17 in /usr/local/lib/python3.10/dist-packages (from SQLAlchemy<3,>=1.4->langchain<0.2,>=0.1->langchain-experimental) (3.0.3)\n",
            "Requirement already satisfied: mypy-extensions>=0.3.0 in /usr/local/lib/python3.10/dist-packages (from typing-inspect<1,>=0.4.0->dataclasses-json<0.7,>=0.5.7->langchain<0.2,>=0.1->langchain-experimental) (1.0.0)\n",
            "Installing collected packages: langchain-experimental\n",
            "Successfully installed langchain-experimental-0.0.49\n"
          ]
        }
      ]
    },
    {
      "cell_type": "code",
      "source": [
        "import requests\n",
        "database_response = requests.get(\n",
        "    \"https://raw.githubusercontent.com/lerocha/chinook-database/master/ChinookDatabase/DataSources/Chinook_Sqlite.sqlite\"\n",
        ")\n",
        "with open(\"Chinook_Sqlite.sqlite\", \"wb\") as database_file:\n",
        "    database_file.write(database_response.content)"
      ],
      "metadata": {
        "id": "ujFQYSXxdF_y"
      },
      "execution_count": 25,
      "outputs": []
    },
    {
      "cell_type": "markdown",
      "source": [
        "Now the database is ready, and we will call an SQL agent. Note that we set `temperature` to zero because we want concise answers without any creativity."
      ],
      "metadata": {
        "id": "j-CIOb4I5CBj"
      }
    },
    {
      "cell_type": "code",
      "execution_count": 26,
      "metadata": {
        "id": "sBv3f_pw6AQ5"
      },
      "outputs": [],
      "source": [
        "from langchain.utilities import SQLDatabase\n",
        "from langchain.llms import OpenAI\n",
        "from langchain_experimental.sql import SQLDatabaseChain\n",
        "\n",
        "db = SQLDatabase.from_uri(\"sqlite:///Chinook_Sqlite.sqlite\")\n",
        "llm = OpenAI(temperature=0, verbose=True)\n",
        "\n",
        "db_chain = SQLDatabaseChain.from_llm(\n",
        "    llm,\n",
        "    db,\n",
        "    verbose=True,\n",
        "    use_query_checker=True\n",
        ")"
      ]
    },
    {
      "cell_type": "code",
      "execution_count": 27,
      "metadata": {
        "id": "AD4UqdIG6AQ5",
        "outputId": "2d62c711-c7c0-4c08-c198-363b1d5de39d",
        "colab": {
          "base_uri": "https://localhost:8080/",
          "height": 211
        }
      },
      "outputs": [
        {
          "output_type": "stream",
          "name": "stdout",
          "text": [
            "\n",
            "\n",
            "\u001b[1m> Entering new SQLDatabaseChain chain...\u001b[0m\n",
            "What tables does the database have?\n",
            "SQLQuery:\u001b[32;1m\u001b[1;3mSELECT name FROM sqlite_master WHERE type='table'\u001b[0m\n",
            "SQLResult: \u001b[33;1m\u001b[1;3m[('Album',), ('Artist',), ('Customer',), ('Employee',), ('Genre',), ('Invoice',), ('InvoiceLine',), ('MediaType',), ('Playlist',), ('PlaylistTrack',), ('Track',)]\u001b[0m\n",
            "Answer:\u001b[32;1m\u001b[1;3mThe database has the following tables: Album, Artist, Customer, Employee, Genre, Invoice, InvoiceLine, MediaType, Playlist, PlaylistTrack, and Track.\u001b[0m\n",
            "\u001b[1m> Finished chain.\u001b[0m\n"
          ]
        },
        {
          "output_type": "execute_result",
          "data": {
            "text/plain": [
              "'The database has the following tables: Album, Artist, Customer, Employee, Genre, Invoice, InvoiceLine, MediaType, Playlist, PlaylistTrack, and Track.'"
            ],
            "application/vnd.google.colaboratory.intrinsic+json": {
              "type": "string"
            }
          },
          "metadata": {},
          "execution_count": 27
        }
      ],
      "source": [
        "db_chain.run(\"What tables does the database have?\")"
      ]
    },
    {
      "cell_type": "markdown",
      "metadata": {
        "id": "8cF39iqc6AQ5"
      },
      "source": [
        "It is that easy. Now you can you this agent to convert natural language to database quiries."
      ]
    },
    {
      "cell_type": "code",
      "execution_count": 28,
      "metadata": {
        "id": "EK7Dz3fN6AQ5",
        "outputId": "d036273f-a57c-4ca0-e68c-3c7f66832e26",
        "colab": {
          "base_uri": "https://localhost:8080/",
          "height": 330
        }
      },
      "outputs": [
        {
          "output_type": "stream",
          "name": "stdout",
          "text": [
            "\n",
            "\n",
            "\u001b[1m> Entering new SQLDatabaseChain chain...\u001b[0m\n",
            "Calculate the amount of sales for every artist and select top 1 from each genre\n",
            "SQLQuery:\u001b[32;1m\u001b[1;3mSELECT Artist.Name, SUM(Invoice.Total) AS \"Total Sales\"\n",
            "FROM Artist\n",
            "INNER JOIN Album ON Artist.ArtistId = Album.ArtistId\n",
            "INNER JOIN Track ON Album.AlbumId = Track.AlbumId\n",
            "INNER JOIN InvoiceLine ON Track.TrackId = InvoiceLine.TrackId\n",
            "INNER JOIN Invoice ON InvoiceLine.InvoiceId = Invoice.InvoiceId\n",
            "WHERE Artist.Name NOT NULL\n",
            "GROUP BY Artist.Name\n",
            "ORDER BY \"Total Sales\" DESC\n",
            "LIMIT 1\u001b[0m\n",
            "SQLResult: \u001b[33;1m\u001b[1;3m[('Iron Maiden', 1233.5400000000025)]\u001b[0m\n",
            "Answer:\u001b[32;1m\u001b[1;3mIron Maiden\u001b[0m\n",
            "\u001b[1m> Finished chain.\u001b[0m\n"
          ]
        },
        {
          "output_type": "execute_result",
          "data": {
            "text/plain": [
              "'Iron Maiden'"
            ],
            "application/vnd.google.colaboratory.intrinsic+json": {
              "type": "string"
            }
          },
          "metadata": {},
          "execution_count": 28
        }
      ],
      "source": [
        "db_chain.run(\"Calculate the amount of sales for every artist \"\\\n",
        "    \"and select top 1 from each genre\")"
      ]
    },
    {
      "cell_type": "markdown",
      "metadata": {
        "id": "cMHxKeJ36AQ6"
      },
      "source": [
        "As you see, the chain works as follows:\n",
        "- an LLM creates an SQL query that would give whatever the prompt asks;\n",
        "- the query is pushed to the databased;\n",
        "- an LLM reformulates the SQL result as a nice answer in natural language.\n",
        "\n",
        "It's not always perfect, but it's still impressive how it can make a complex query from text."
      ]
    },
    {
      "cell_type": "markdown",
      "source": [
        "# Vector stores"
      ],
      "metadata": {
        "id": "al5Njtut6hgK"
      }
    },
    {
      "cell_type": "code",
      "source": [
        "from IPython.display import Image\n",
        "Image(\"/content/drive/MyDrive/langchain_vectorstore.png\", width=600)"
      ],
      "metadata": {
        "id": "0L3fkDRC6O3R",
        "outputId": "c8631a4b-a87a-48a9-ccf2-2240848357a9",
        "colab": {
          "base_uri": "https://localhost:8080/",
          "height": 355
        }
      },
      "execution_count": 32,
      "outputs": [
        {
          "output_type": "execute_result",
          "data": {
            "image/png": "[encoded data removed]",
            "text/plain": [
              "<IPython.core.display.Image object>"
            ]
          },
          "metadata": {
            "image/png": {
              "width": 600
            }
          },
          "execution_count": 32
        }
      ]
    },
    {
      "cell_type": "markdown",
      "source": [
        "One of the goals of this week is to create your own RAG-based app. **RAG** (**R**etrieval **A**ugmented **G**eneration) is a concept of supporting a generative model with some kind of a retrieval tool which allows to get more faithful results and less hallucinations. This is crucial when we need to supply our users with facts, for example, if we're creating a navigation tool for a company's internal wiki.\n",
        "\n",
        "Actually, we already touched upon RAG when we used DuckDuckGo. This time we'll retrieve data from a specific type of database - **vector store**.\n",
        "\n",
        "The idea behind vector storages is to represent data items as **embeddings** (real vectors). When we receive a search query, we also somehow make it into an embedding and look for its nearest neighbors in the vector space which can be done rather quickly if somewhat approximately. If your embedding model produces vectors with strong semantic information embedded into it, you can have very high quality retrieval.\n",
        "\n",
        "Vector storages emerged long before transformers, but because transformer models offer exceptional text understanding capabilities, using them to construct embeddings for vector storage systems is very popular. A typical AI-powered vector database query tool works like that:\n",
        "\n",
        "- An LLM reformulates user's prompt into a vector store query;\n",
        "- An embedding model is used to map the query into the database vector space;\n",
        "- Vector store returns several items whose embeddings are nearest neighbors of the query's embedding;\n",
        "- An LLM is used to process search results into a nice human readable output.\n",
        "\n",
        "In this practice session you'll getting acquainted with vector databases, and in the homework you'll assemble all the pipline using LangChain.\n"
      ],
      "metadata": {
        "id": "B-kZXHDXxJFn"
      }
    },
    {
      "cell_type": "markdown",
      "source": [
        "There are quite a few vector stores available. We will employ the system called [Faiss](https://github.com/facebookresearch/faiss). It is a state-of-the-art library made by Meta for creating vector databases, which is used by a lot of production solutions.\n",
        "\n",
        "We will use an IELTS essay dataset as a source of long texts, we want to search through."
      ],
      "metadata": {
        "id": "gR-55q0DBY1V"
      }
    },
    {
      "cell_type": "markdown",
      "source": [
        "Please make sure to put your credentials in an appropriate location following the instruction here https://github.com/Kaggle/kaggle-api#api-credentials"
      ],
      "metadata": {
        "id": "aVtCbFzmhe5h"
      }
    },
    {
      "cell_type": "code",
      "source": [
        "!pip install kaggle faiss-cpu tiktoken"
      ],
      "metadata": {
        "colab": {
          "base_uri": "https://localhost:8080/"
        },
        "id": "9MRe2lUhg7gI",
        "outputId": "4b4f8eb2-39ea-42a9-8f9d-5197b40ad127"
      },
      "execution_count": 33,
      "outputs": [
        {
          "output_type": "stream",
          "name": "stdout",
          "text": [
            "Requirement already satisfied: kaggle in /usr/local/lib/python3.10/dist-packages (1.5.16)\n",
            "Collecting faiss-cpu\n",
            "  Downloading faiss_cpu-1.7.4-cp310-cp310-manylinux_2_17_x86_64.manylinux2014_x86_64.whl (17.6 MB)\n",
            "\u001b[2K     \u001b[90m━━━━━━━━━━━━━━━━━━━━━━━━━━━━━━━━━━━━━━━━\u001b[0m \u001b[32m17.6/17.6 MB\u001b[0m \u001b[31m36.4 MB/s\u001b[0m eta \u001b[36m0:00:00\u001b[0m\n",
            "\u001b[?25hCollecting tiktoken\n",
            "  Downloading tiktoken-0.5.2-cp310-cp310-manylinux_2_17_x86_64.manylinux2014_x86_64.whl (2.0 MB)\n",
            "\u001b[2K     \u001b[90m━━━━━━━━━━━━━━━━━━━━━━━━━━━━━━━━━━━━━━━━\u001b[0m \u001b[32m2.0/2.0 MB\u001b[0m \u001b[31m50.5 MB/s\u001b[0m eta \u001b[36m0:00:00\u001b[0m\n",
            "\u001b[?25hRequirement already satisfied: six>=1.10 in /usr/local/lib/python3.10/dist-packages (from kaggle) (1.16.0)\n",
            "Requirement already satisfied: certifi in /usr/local/lib/python3.10/dist-packages (from kaggle) (2023.11.17)\n",
            "Requirement already satisfied: python-dateutil in /usr/local/lib/python3.10/dist-packages (from kaggle) (2.8.2)\n",
            "Requirement already satisfied: requests in /usr/local/lib/python3.10/dist-packages (from kaggle) (2.31.0)\n",
            "Requirement already satisfied: tqdm in /usr/local/lib/python3.10/dist-packages (from kaggle) (4.66.1)\n",
            "Requirement already satisfied: python-slugify in /usr/local/lib/python3.10/dist-packages (from kaggle) (8.0.1)\n",
            "Requirement already satisfied: urllib3 in /usr/local/lib/python3.10/dist-packages (from kaggle) (2.0.7)\n",
            "Requirement already satisfied: bleach in /usr/local/lib/python3.10/dist-packages (from kaggle) (6.1.0)\n",
            "Requirement already satisfied: regex>=2022.1.18 in /usr/local/lib/python3.10/dist-packages (from tiktoken) (2023.6.3)\n",
            "Requirement already satisfied: charset-normalizer<4,>=2 in /usr/local/lib/python3.10/dist-packages (from requests->kaggle) (3.3.2)\n",
            "Requirement already satisfied: idna<4,>=2.5 in /usr/local/lib/python3.10/dist-packages (from requests->kaggle) (3.6)\n",
            "Requirement already satisfied: webencodings in /usr/local/lib/python3.10/dist-packages (from bleach->kaggle) (0.5.1)\n",
            "Requirement already satisfied: text-unidecode>=1.3 in /usr/local/lib/python3.10/dist-packages (from python-slugify->kaggle) (1.3)\n",
            "Installing collected packages: faiss-cpu, tiktoken\n",
            "\u001b[31mERROR: pip's dependency resolver does not currently take into account all the packages that are installed. This behaviour is the source of the following dependency conflicts.\n",
            "llmx 0.0.15a0 requires cohere, which is not installed.\u001b[0m\u001b[31m\n",
            "\u001b[0mSuccessfully installed faiss-cpu-1.7.4 tiktoken-0.5.2\n"
          ]
        }
      ]
    },
    {
      "cell_type": "code",
      "source": [
        "!export KAGGLE_CONFIG_DIR=\"/content/drive/MyDrive/\" && kaggle datasets download mazlumi/ielts-writing-scored-essays-dataset"
      ],
      "metadata": {
        "colab": {
          "base_uri": "https://localhost:8080/"
        },
        "id": "KjMhdBS9hBTN",
        "outputId": "42ed7b1b-7dac-443a-8d23-554c5d63b899"
      },
      "execution_count": 36,
      "outputs": [
        {
          "output_type": "stream",
          "name": "stdout",
          "text": [
            "Downloading ielts-writing-scored-essays-dataset.zip to /content\n",
            "\r  0% 0.00/674k [00:00<?, ?B/s]\n",
            "\r100% 674k/674k [00:00<00:00, 102MB/s]\n"
          ]
        }
      ]
    },
    {
      "cell_type": "code",
      "source": [
        "!unzip ielts-writing-scored-essays-dataset.zip"
      ],
      "metadata": {
        "colab": {
          "base_uri": "https://localhost:8080/"
        },
        "id": "9SnJW885iRan",
        "outputId": "9bd8cec7-8120-439a-f2ca-e0bf044b3379"
      },
      "execution_count": 37,
      "outputs": [
        {
          "output_type": "stream",
          "name": "stdout",
          "text": [
            "Archive:  ielts-writing-scored-essays-dataset.zip\n",
            "  inflating: ielts_writing_dataset.csv  \n"
          ]
        }
      ]
    },
    {
      "cell_type": "markdown",
      "source": [
        "Let's look at the data:"
      ],
      "metadata": {
        "id": "YHlDfhDaB22Q"
      }
    },
    {
      "cell_type": "code",
      "source": [
        "import pandas"
      ],
      "metadata": {
        "id": "lGGip06Wnybv"
      },
      "execution_count": 38,
      "outputs": []
    },
    {
      "cell_type": "code",
      "source": [
        "pandas.options.display.max_colwidth = 100\n",
        "reviews = pandas.read_csv(\"ielts_writing_dataset.csv\")\n",
        "reviews.head(2).dropna(axis=1)"
      ],
      "metadata": {
        "colab": {
          "base_uri": "https://localhost:8080/",
          "height": 146
        },
        "id": "H8ZiLTYS2oFt",
        "outputId": "767f5b21-7310-441d-e9f6-b5710dcd4303"
      },
      "execution_count": 39,
      "outputs": [
        {
          "output_type": "execute_result",
          "data": {
            "text/plain": [
              "   Task_Type  \\\n",
              "0          1   \n",
              "1          2   \n",
              "\n",
              "                                                                                              Question  \\\n",
              "0  The bar chart below describes some changes about the percentage of people were born in Australia...   \n",
              "1  Rich countries often give money to poorer countries, but it does not solve poverty. Therefore, d...   \n",
              "\n",
              "                                                                                                 Essay  \\\n",
              "0  Between 1995 and 2010, a study was conducted representing the percentages of people born in Aust...   \n",
              "1  Poverty represents a worldwide crisis. It is the ugliest epidemic in a region, which could infec...   \n",
              "\n",
              "   Overall  \n",
              "0      5.5  \n",
              "1      6.5  "
            ],
            "text/html": [
              "\n",
              "  <div id=\"df-fa9460d4-dc94-4780-8e64-8ce2d03e2a0f\" class=\"colab-df-container\">\n",
              "    <div>\n",
              "<style scoped>\n",
              "    .dataframe tbody tr th:only-of-type {\n",
              "        vertical-align: middle;\n",
              "    }\n",
              "\n",
              "    .dataframe tbody tr th {\n",
              "        vertical-align: top;\n",
              "    }\n",
              "\n",
              "    .dataframe thead th {\n",
              "        text-align: right;\n",
              "    }\n",
              "</style>\n",
              "<table border=\"1\" class=\"dataframe\">\n",
              "  <thead>\n",
              "    <tr style=\"text-align: right;\">\n",
              "      <th></th>\n",
              "      <th>Task_Type</th>\n",
              "      <th>Question</th>\n",
              "      <th>Essay</th>\n",
              "      <th>Overall</th>\n",
              "    </tr>\n",
              "  </thead>\n",
              "  <tbody>\n",
              "    <tr>\n",
              "      <th>0</th>\n",
              "      <td>1</td>\n",
              "      <td>The bar chart below describes some changes about the percentage of people were born in Australia...</td>\n",
              "      <td>Between 1995 and 2010, a study was conducted representing the percentages of people born in Aust...</td>\n",
              "      <td>5.5</td>\n",
              "    </tr>\n",
              "    <tr>\n",
              "      <th>1</th>\n",
              "      <td>2</td>\n",
              "      <td>Rich countries often give money to poorer countries, but it does not solve poverty. Therefore, d...</td>\n",
              "      <td>Poverty represents a worldwide crisis. It is the ugliest epidemic in a region, which could infec...</td>\n",
              "      <td>6.5</td>\n",
              "    </tr>\n",
              "  </tbody>\n",
              "</table>\n",
              "</div>\n",
              "    <div class=\"colab-df-buttons\">\n",
              "\n",
              "  <div class=\"colab-df-container\">\n",
              "    <button class=\"colab-df-convert\" onclick=\"convertToInteractive('df-fa9460d4-dc94-4780-8e64-8ce2d03e2a0f')\"\n",
              "            title=\"Convert this dataframe to an interactive table.\"\n",
              "            style=\"display:none;\">\n",
              "\n",
              "  <svg xmlns=\"http://www.w3.org/2000/svg\" height=\"24px\" viewBox=\"0 -960 960 960\">\n",
              "    <path d=\"M120-120v-720h720v720H120Zm60-500h600v-160H180v160Zm220 220h160v-160H400v160Zm0 220h160v-160H400v160ZM180-400h160v-160H180v160Zm440 0h160v-160H620v160ZM180-180h160v-160H180v160Zm440 0h160v-160H620v160Z\"/>\n",
              "  </svg>\n",
              "    </button>\n",
              "\n",
              "  <style>\n",
              "    .colab-df-container {\n",
              "      display:flex;\n",
              "      gap: 12px;\n",
              "    }\n",
              "\n",
              "    .colab-df-convert {\n",
              "      background-color: #E8F0FE;\n",
              "      border: none;\n",
              "      border-radius: 50%;\n",
              "      cursor: pointer;\n",
              "      display: none;\n",
              "      fill: #1967D2;\n",
              "      height: 32px;\n",
              "      padding: 0 0 0 0;\n",
              "      width: 32px;\n",
              "    }\n",
              "\n",
              "    .colab-df-convert:hover {\n",
              "      background-color: #E2EBFA;\n",
              "      box-shadow: 0px 1px 2px rgba(60, 64, 67, 0.3), 0px 1px 3px 1px rgba(60, 64, 67, 0.15);\n",
              "      fill: #174EA6;\n",
              "    }\n",
              "\n",
              "    .colab-df-buttons div {\n",
              "      margin-bottom: 4px;\n",
              "    }\n",
              "\n",
              "    [theme=dark] .colab-df-convert {\n",
              "      background-color: #3B4455;\n",
              "      fill: #D2E3FC;\n",
              "    }\n",
              "\n",
              "    [theme=dark] .colab-df-convert:hover {\n",
              "      background-color: #434B5C;\n",
              "      box-shadow: 0px 1px 3px 1px rgba(0, 0, 0, 0.15);\n",
              "      filter: drop-shadow(0px 1px 2px rgba(0, 0, 0, 0.3));\n",
              "      fill: #FFFFFF;\n",
              "    }\n",
              "  </style>\n",
              "\n",
              "    <script>\n",
              "      const buttonEl =\n",
              "        document.querySelector('#df-fa9460d4-dc94-4780-8e64-8ce2d03e2a0f button.colab-df-convert');\n",
              "      buttonEl.style.display =\n",
              "        google.colab.kernel.accessAllowed ? 'block' : 'none';\n",
              "\n",
              "      async function convertToInteractive(key) {\n",
              "        const element = document.querySelector('#df-fa9460d4-dc94-4780-8e64-8ce2d03e2a0f');\n",
              "        const dataTable =\n",
              "          await google.colab.kernel.invokeFunction('convertToInteractive',\n",
              "                                                    [key], {});\n",
              "        if (!dataTable) return;\n",
              "\n",
              "        const docLinkHtml = 'Like what you see? Visit the ' +\n",
              "          '<a target=\"_blank\" href=https://colab.research.google.com/notebooks/data_table.ipynb>data table notebook</a>'\n",
              "          + ' to learn more about interactive tables.';\n",
              "        element.innerHTML = '';\n",
              "        dataTable['output_type'] = 'display_data';\n",
              "        await google.colab.output.renderOutput(dataTable, element);\n",
              "        const docLink = document.createElement('div');\n",
              "        docLink.innerHTML = docLinkHtml;\n",
              "        element.appendChild(docLink);\n",
              "      }\n",
              "    </script>\n",
              "  </div>\n",
              "\n",
              "\n",
              "<div id=\"df-b2740261-3b56-466d-b055-0d95091d88d2\">\n",
              "  <button class=\"colab-df-quickchart\" onclick=\"quickchart('df-b2740261-3b56-466d-b055-0d95091d88d2')\"\n",
              "            title=\"Suggest charts\"\n",
              "            style=\"display:none;\">\n",
              "\n",
              "<svg xmlns=\"http://www.w3.org/2000/svg\" height=\"24px\"viewBox=\"0 0 24 24\"\n",
              "     width=\"24px\">\n",
              "    <g>\n",
              "        <path d=\"M19 3H5c-1.1 0-2 .9-2 2v14c0 1.1.9 2 2 2h14c1.1 0 2-.9 2-2V5c0-1.1-.9-2-2-2zM9 17H7v-7h2v7zm4 0h-2V7h2v10zm4 0h-2v-4h2v4z\"/>\n",
              "    </g>\n",
              "</svg>\n",
              "  </button>\n",
              "\n",
              "<style>\n",
              "  .colab-df-quickchart {\n",
              "      --bg-color: #E8F0FE;\n",
              "      --fill-color: #1967D2;\n",
              "      --hover-bg-color: #E2EBFA;\n",
              "      --hover-fill-color: #174EA6;\n",
              "      --disabled-fill-color: #AAA;\n",
              "      --disabled-bg-color: #DDD;\n",
              "  }\n",
              "\n",
              "  [theme=dark] .colab-df-quickchart {\n",
              "      --bg-color: #3B4455;\n",
              "      --fill-color: #D2E3FC;\n",
              "      --hover-bg-color: #434B5C;\n",
              "      --hover-fill-color: #FFFFFF;\n",
              "      --disabled-bg-color: #3B4455;\n",
              "      --disabled-fill-color: #666;\n",
              "  }\n",
              "\n",
              "  .colab-df-quickchart {\n",
              "    background-color: var(--bg-color);\n",
              "    border: none;\n",
              "    border-radius: 50%;\n",
              "    cursor: pointer;\n",
              "    display: none;\n",
              "    fill: var(--fill-color);\n",
              "    height: 32px;\n",
              "    padding: 0;\n",
              "    width: 32px;\n",
              "  }\n",
              "\n",
              "  .colab-df-quickchart:hover {\n",
              "    background-color: var(--hover-bg-color);\n",
              "    box-shadow: 0 1px 2px rgba(60, 64, 67, 0.3), 0 1px 3px 1px rgba(60, 64, 67, 0.15);\n",
              "    fill: var(--button-hover-fill-color);\n",
              "  }\n",
              "\n",
              "  .colab-df-quickchart-complete:disabled,\n",
              "  .colab-df-quickchart-complete:disabled:hover {\n",
              "    background-color: var(--disabled-bg-color);\n",
              "    fill: var(--disabled-fill-color);\n",
              "    box-shadow: none;\n",
              "  }\n",
              "\n",
              "  .colab-df-spinner {\n",
              "    border: 2px solid var(--fill-color);\n",
              "    border-color: transparent;\n",
              "    border-bottom-color: var(--fill-color);\n",
              "    animation:\n",
              "      spin 1s steps(1) infinite;\n",
              "  }\n",
              "\n",
              "  @keyframes spin {\n",
              "    0% {\n",
              "      border-color: transparent;\n",
              "      border-bottom-color: var(--fill-color);\n",
              "      border-left-color: var(--fill-color);\n",
              "    }\n",
              "    20% {\n",
              "      border-color: transparent;\n",
              "      border-left-color: var(--fill-color);\n",
              "      border-top-color: var(--fill-color);\n",
              "    }\n",
              "    30% {\n",
              "      border-color: transparent;\n",
              "      border-left-color: var(--fill-color);\n",
              "      border-top-color: var(--fill-color);\n",
              "      border-right-color: var(--fill-color);\n",
              "    }\n",
              "    40% {\n",
              "      border-color: transparent;\n",
              "      border-right-color: var(--fill-color);\n",
              "      border-top-color: var(--fill-color);\n",
              "    }\n",
              "    60% {\n",
              "      border-color: transparent;\n",
              "      border-right-color: var(--fill-color);\n",
              "    }\n",
              "    80% {\n",
              "      border-color: transparent;\n",
              "      border-right-color: var(--fill-color);\n",
              "      border-bottom-color: var(--fill-color);\n",
              "    }\n",
              "    90% {\n",
              "      border-color: transparent;\n",
              "      border-bottom-color: var(--fill-color);\n",
              "    }\n",
              "  }\n",
              "</style>\n",
              "\n",
              "  <script>\n",
              "    async function quickchart(key) {\n",
              "      const quickchartButtonEl =\n",
              "        document.querySelector('#' + key + ' button');\n",
              "      quickchartButtonEl.disabled = true;  // To prevent multiple clicks.\n",
              "      quickchartButtonEl.classList.add('colab-df-spinner');\n",
              "      try {\n",
              "        const charts = await google.colab.kernel.invokeFunction(\n",
              "            'suggestCharts', [key], {});\n",
              "      } catch (error) {\n",
              "        console.error('Error during call to suggestCharts:', error);\n",
              "      }\n",
              "      quickchartButtonEl.classList.remove('colab-df-spinner');\n",
              "      quickchartButtonEl.classList.add('colab-df-quickchart-complete');\n",
              "    }\n",
              "    (() => {\n",
              "      let quickchartButtonEl =\n",
              "        document.querySelector('#df-b2740261-3b56-466d-b055-0d95091d88d2 button');\n",
              "      quickchartButtonEl.style.display =\n",
              "        google.colab.kernel.accessAllowed ? 'block' : 'none';\n",
              "    })();\n",
              "  </script>\n",
              "</div>\n",
              "    </div>\n",
              "  </div>\n"
            ]
          },
          "metadata": {},
          "execution_count": 39
        }
      ]
    },
    {
      "cell_type": "markdown",
      "source": [
        "## Text splitters\n",
        "\n",
        "The length of the documents that we could store in a vector storage is limited by the context length of your models. The texts we work with are often longer, so we need need **Text Splitters** to cut the texts into pieces.\n",
        "\n",
        "First of all, let's check out how big our documents are:"
      ],
      "metadata": {
        "id": "3kwgiluki-jD"
      }
    },
    {
      "cell_type": "code",
      "source": [
        "# no truncation of text\n",
        "pandas.options.display.max_colwidth = 100_000_000"
      ],
      "metadata": {
        "id": "wbXyMhrJqx_D"
      },
      "execution_count": 40,
      "outputs": []
    },
    {
      "cell_type": "code",
      "source": [
        "import tiktoken\n",
        "import re\n",
        "enc = tiktoken.get_encoding(\"cl100k_base\")"
      ],
      "metadata": {
        "id": "tkMFYx88jg9X"
      },
      "execution_count": 41,
      "outputs": []
    },
    {
      "cell_type": "code",
      "source": [
        "rows_as_single_string = reviews.apply(\n",
        "    lambda row: (re.sub(' +', ' ', row.to_string().replace(\"\\n\", \" \"))),\n",
        "    axis=1\n",
        ")\n",
        "max(map(lambda text: len(enc.encode(text)), rows_as_single_string))"
      ],
      "metadata": {
        "id": "fKB2-2kojQIL",
        "outputId": "55de47cb-2974-4673-d6de-f44e8439dd26",
        "colab": {
          "base_uri": "https://localhost:8080/"
        }
      },
      "execution_count": 42,
      "outputs": [
        {
          "output_type": "execute_result",
          "data": {
            "text/plain": [
              "772"
            ]
          },
          "metadata": {},
          "execution_count": 42
        }
      ]
    },
    {
      "cell_type": "markdown",
      "source": [
        "Even though this is less then 4096 max ChatGPT tokens, models typically don't undrestand long texts well enough, so it's better to split this item."
      ],
      "metadata": {
        "id": "tD5DesJhtTnW"
      }
    },
    {
      "cell_type": "markdown",
      "source": [
        "Let's create a document list for our database"
      ],
      "metadata": {
        "id": "7lVTnn9T29ul"
      }
    },
    {
      "cell_type": "code",
      "source": [
        "documents = rows_as_single_string.tolist()"
      ],
      "metadata": {
        "id": "xfFIKnJOusJU"
      },
      "execution_count": 43,
      "outputs": []
    },
    {
      "cell_type": "markdown",
      "source": [
        "Let's look at a simple splitter called `CharacterTextSplitter`. It splits text on `separator` then gathers chunks based on `chunk size` as measured by a `length_function`. `chunk_overlap` controlls how much of the previous chunk we want to include in the next one for continuity.\n",
        "\n",
        "Let's see an example."
      ],
      "metadata": {
        "id": "Uj1ulK1txH0G"
      }
    },
    {
      "cell_type": "code",
      "source": [
        "from langchain.text_splitter import CharacterTextSplitter\n",
        "\n",
        "text_splitter = CharacterTextSplitter(\n",
        "    separator=\" \",\n",
        "    chunk_size=32,\n",
        "    chunk_overlap=4,\n",
        "    length_function=lambda text: len(enc.encode(text)),\n",
        ")"
      ],
      "metadata": {
        "id": "USA1UNLMxhq2"
      },
      "execution_count": 44,
      "outputs": []
    },
    {
      "cell_type": "code",
      "source": [
        "from IPython.display import display\n",
        "\n",
        "texts = text_splitter.create_documents(documents)\n",
        "display(texts[0])\n",
        "display(texts[1])\n",
        "display(texts[2])"
      ],
      "metadata": {
        "colab": {
          "base_uri": "https://localhost:8080/",
          "height": 86
        },
        "id": "tUdFxZ5Pxpj-",
        "outputId": "a6dc5f7a-c4be-408d-80c1-48ce3a6dc6d7"
      },
      "execution_count": 45,
      "outputs": [
        {
          "output_type": "stream",
          "name": "stderr",
          "text": [
            "WARNING:langchain.text_splitter:Created a chunk of size 108, which is longer than the specified 32\n"
          ]
        },
        {
          "output_type": "display_data",
          "data": {
            "text/plain": [
              "Document(page_content='Task_Type 1 Question The bar chart below describes some changes about the percentage of people')"
            ]
          },
          "metadata": {}
        },
        {
          "output_type": "display_data",
          "data": {
            "text/plain": [
              "Document(page_content='of people were born in Australia and who were born outside Australia living in urban,')"
            ]
          },
          "metadata": {}
        },
        {
          "output_type": "display_data",
          "data": {
            "text/plain": [
              "Document(page_content='in urban, rural and town between 1995 and 2010.Summarise the information by')"
            ]
          },
          "metadata": {}
        }
      ]
    },
    {
      "cell_type": "markdown",
      "source": [
        "`RecursiveCharacterTextSplitter` is very similar to `CharacterTextSplitter`, except for the splitting and gathering logic. It inputs a list of `separators` (the default is [\"\\n\\n\", \"\\n\", \" \", \"\"]), which it then used in the same order as in the list. That means that first we split paragraphs, then if they are bigger than `chunk_size` we split on sentences, and so on. This helps the chunks to be a bit more cohesive."
      ],
      "metadata": {
        "id": "wbPbrYHbwkql"
      }
    },
    {
      "cell_type": "code",
      "source": [
        "from langchain.text_splitter import RecursiveCharacterTextSplitter\n",
        "\n",
        "text_splitter = RecursiveCharacterTextSplitter(\n",
        "    chunk_size=32,\n",
        "    chunk_overlap=4,\n",
        "    length_function=lambda text: len(enc.encode(text)),\n",
        "    add_start_index=True,\n",
        ")"
      ],
      "metadata": {
        "id": "0Hxas7VStTGg"
      },
      "execution_count": 46,
      "outputs": []
    },
    {
      "cell_type": "code",
      "source": [
        "texts = text_splitter.create_documents(documents)\n",
        "display(texts[0])\n",
        "display(texts[1])\n",
        "display(texts[2])"
      ],
      "metadata": {
        "colab": {
          "base_uri": "https://localhost:8080/",
          "height": 121
        },
        "id": "eO3jYEO7uJ-z",
        "outputId": "db42af62-0bbc-4c2d-c58a-13aaf2748d9c"
      },
      "execution_count": 47,
      "outputs": [
        {
          "output_type": "display_data",
          "data": {
            "text/plain": [
              "Document(page_content='Task_Type 1 Question The bar chart below describes some changes about the percentage of people were born in Australia and who were born outside Australia living in urban, rural', metadata={'start_index': 0})"
            ]
          },
          "metadata": {}
        },
        {
          "output_type": "display_data",
          "data": {
            "text/plain": [
              "Document(page_content='in urban, rural and town between 1995 and 2010.Summarise the information by selecting and reporting the main features and make comparisons where relevant.', metadata={'start_index': 161})"
            ]
          },
          "metadata": {}
        },
        {
          "output_type": "display_data",
          "data": {
            "text/plain": [
              "Document(page_content='comparisons where relevant. Essay Between 1995 and 2010, a study was conducted representing the percentages of people born in Australia, versus people born outside', metadata={'start_index': 288})"
            ]
          },
          "metadata": {}
        }
      ]
    },
    {
      "cell_type": "markdown",
      "source": [
        "Probably the most reasonable way to split is not by characters but by tokens using the model's tokenizer. LangChain supports creating a text splitter directly from tiktoken."
      ],
      "metadata": {
        "id": "LiQwGHMlyZZH"
      }
    },
    {
      "cell_type": "code",
      "source": [
        "text_splitter = RecursiveCharacterTextSplitter.from_tiktoken_encoder(\n",
        "    chunk_size=32,\n",
        "    chunk_overlap=4,\n",
        "    add_start_index=True\n",
        ")"
      ],
      "metadata": {
        "id": "bbmEZFUyx9KJ"
      },
      "execution_count": 48,
      "outputs": []
    },
    {
      "cell_type": "code",
      "source": [
        "texts = text_splitter.create_documents(documents)\n",
        "display(texts[0])\n",
        "display(texts[1])\n",
        "display(texts[2])"
      ],
      "metadata": {
        "colab": {
          "base_uri": "https://localhost:8080/",
          "height": 121
        },
        "id": "ze5hzd1ZyS0r",
        "outputId": "920e1862-8e73-4f2d-c2c0-e3f5ba7cc6da"
      },
      "execution_count": 49,
      "outputs": [
        {
          "output_type": "display_data",
          "data": {
            "text/plain": [
              "Document(page_content='Task_Type 1 Question The bar chart below describes some changes about the percentage of people were born in Australia and who were born outside Australia living in urban, rural', metadata={'start_index': 0})"
            ]
          },
          "metadata": {}
        },
        {
          "output_type": "display_data",
          "data": {
            "text/plain": [
              "Document(page_content='in urban, rural and town between 1995 and 2010.Summarise the information by selecting and reporting the main features and make comparisons where relevant. Essay Between', metadata={'start_index': 161})"
            ]
          },
          "metadata": {}
        },
        {
          "output_type": "display_data",
          "data": {
            "text/plain": [
              "Document(page_content='Essay Between 1995 and 2010, a study was conducted representing the percentages of people born in Australia, versus people born outside Australia, living in urban, rural,', metadata={'start_index': 316})"
            ]
          },
          "metadata": {}
        }
      ]
    },
    {
      "cell_type": "markdown",
      "source": [
        "## Vector database creation\n",
        "\n",
        "Let's create a database of segments of IELTS essays and examinator comments."
      ],
      "metadata": {
        "id": "seeLrywj3gq5"
      }
    },
    {
      "cell_type": "code",
      "source": [
        "from langchain.docstore.document import Document\n",
        "from langchain.embeddings.openai import OpenAIEmbeddings\n",
        "from langchain.text_splitter import RecursiveCharacterTextSplitter\n",
        "from langchain.vectorstores import FAISS\n",
        "\n",
        "# Load the document, split it into chunks, embed each chunk and load it into the vector store.\n",
        "text_splitter = RecursiveCharacterTextSplitter.from_tiktoken_encoder(\n",
        "    chunk_size=256,\n",
        "    chunk_overlap=16,\n",
        "    add_start_index=True\n",
        ")\n",
        "splitted_documents = text_splitter.create_documents(documents)\n",
        "db = FAISS.from_documents(splitted_documents, OpenAIEmbeddings())"
      ],
      "metadata": {
        "id": "jdvev55b39hT",
        "colab": {
          "base_uri": "https://localhost:8080/"
        },
        "outputId": "e715dea0-2531-43a5-d33d-6324ba88a167"
      },
      "execution_count": 50,
      "outputs": [
        {
          "output_type": "stream",
          "name": "stderr",
          "text": [
            "/usr/local/lib/python3.10/dist-packages/langchain_core/_api/deprecation.py:117: LangChainDeprecationWarning: The class `langchain_community.embeddings.openai.OpenAIEmbeddings` was deprecated in langchain-community 0.1.0 and will be removed in 0.2.0. An updated version of the class exists in the langchain-openai package and should be used instead. To use it run `pip install -U langchain-openai` and import as `from langchain_openai import OpenAIEmbeddings`.\n",
            "  warn_deprecated(\n"
          ]
        }
      ]
    },
    {
      "cell_type": "markdown",
      "source": [
        "Now we can perform similarity search using our embeddings"
      ],
      "metadata": {
        "id": "z5XatzjE4ovm"
      }
    },
    {
      "cell_type": "code",
      "source": [
        "query = \"An awesome essay about bar charts\"\n",
        "docs = db.similarity_search(query)\n",
        "docs[0].page_content"
      ],
      "metadata": {
        "colab": {
          "base_uri": "https://localhost:8080/",
          "height": 139
        },
        "id": "FeErhxd_4F_n",
        "outputId": "ac7202ad-f7b6-45d4-d9fc-c449fcbe1344"
      },
      "execution_count": 51,
      "outputs": [
        {
          "output_type": "execute_result",
          "data": {
            "text/plain": [
              "\"Task_Type 1 Question The bar charts below shows the number of visits to a community website in the first and second year of use.Summarize the information by selecting and reporting the main features and mae comparisons with relevant. Essay The bar chart illustrates the quantity of visits by the thousands paid to a community website within the first two years of use.\\\\nOverall, there is a greater upward trend from the second year of use compared to the first year of use. In addition to that, in both years the website undergoes a drastic fluctuation in numbers. It can be observed that initially in the month of September, number of visits in the first year of use are lower than second year of use, but numbers of the former subsequently surpasses the latter in the final month of August.\\\\nIn regards to the first year of use, quantity of visits increases from about 2000 visits in September to 10000 visits within 2 months and remains constant for another month. Following that, numbers plummet from December to February, reaching a low-point of less than approximately 500 visits. The numbers rise gradually from February onwards until it reaches it's highest at 15000 by August.\\\\nOn the other hand, during the second year of use, the number of visits rises sharply\""
            ],
            "application/vnd.google.colaboratory.intrinsic+json": {
              "type": "string"
            }
          },
          "metadata": {},
          "execution_count": 51
        }
      ]
    },
    {
      "cell_type": "code",
      "source": [
        "query = \"A poorly written essay\"\n",
        "docs = db.similarity_search(query)\n",
        "docs[0].page_content"
      ],
      "metadata": {
        "colab": {
          "base_uri": "https://localhost:8080/",
          "height": 70
        },
        "id": "nb0o2tO_5gcf",
        "outputId": "8a25d0f4-bdce-4c49-a1f9-16659beacb92"
      },
      "execution_count": 52,
      "outputs": [
        {
          "output_type": "execute_result",
          "data": {
            "text/plain": [
              "'but you must offer more arguments regarding why you agree or disagree. There are many spelling, punctuation and article errors. The essay is easy to follow but has the appearance of the writer running short of time. Task_Response NaN Coherence_Cohesion NaN Lexical_Resource NaN Range_Accuracy NaN Overall 5.0'"
            ],
            "application/vnd.google.colaboratory.intrinsic+json": {
              "type": "string"
            }
          },
          "metadata": {},
          "execution_count": 52
        }
      ]
    },
    {
      "cell_type": "markdown",
      "source": [
        "In this code we've learned:\n",
        "- How to use LangChain library.\n",
        "- How to add plugins to an help an LLM excel in more complex tasks.\n",
        "- How to interact with a database with an LLM.\n",
        "- How to create a vector database and how to interact with it."
      ],
      "metadata": {
        "id": "w-O2uAyrrTUd"
      }
    }
  ],
  "metadata": {
    "kernelspec": {
      "display_name": "Python 3",
      "name": "python3"
    },
    "language_info": {
      "codemirror_mode": {
        "name": "ipython",
        "version": 3
      },
      "file_extension": ".py",
      "mimetype": "text/x-python",
      "name": "python",
      "nbconvert_exporter": "python",
      "pygments_lexer": "ipython3",
      "version": "3.9.12"
    },
    "orig_nbformat": 4,
    "colab": {
      "provenance": [],
      "include_colab_link": true
    }
  },
  "nbformat": 4,
  "nbformat_minor": 0
}